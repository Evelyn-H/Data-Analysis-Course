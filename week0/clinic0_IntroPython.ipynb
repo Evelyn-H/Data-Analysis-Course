{
 "cells": [
  {
   "cell_type": "markdown",
   "metadata": {},
   "source": [
    "# KEN3450: Data Analysis (Spring 2019)\n",
    "\n",
    "## Clinic 0.1: Introduction to Python\n",
    "---"
   ]
  },
  {
   "cell_type": "markdown",
   "metadata": {},
   "source": [
    "## Programming Expectations\n",
    "All assignments for this class will use Python and the browser-based iPython notebook format you are currently viewing. Python experience is not a prerequisite for this course, as long as you are comfortable learning on your own as needed. The programming component of this course is straightforward, however not much time will be devoted to teaching programming or Python syntax. \n",
    "\n",
    "References to the Python 3 [documentation](https://docs.python.org/3/) in this clinic and throughout the course.  There are also many introductory tutorials to help build programming skills, which we are listed in the last section of this notebook."
   ]
  },
  {
   "cell_type": "markdown",
   "metadata": {},
   "source": [
    "## Table of Contents \n",
    "<ol start=\"0\">\n",
    "<li> Learning Goals </li>\n",
    "<li> Getting Started</li>\n",
    "<li> Lists </li>\n",
    "<li> Strings and Listiness </li>\n",
    "<li> Dictionaries </li>\n",
    "<li> Functions </li>\n",
    "    <li> Numpy </li>\n",
    "<li> Text Analysis of Hamlet </li>\n",
    "<li> References </li>\n",
    "</ol>"
   ]
  },
  {
   "cell_type": "markdown",
   "metadata": {},
   "source": [
    "## Part 0:  Learning Goals \n",
    "This introductory lab is a condensed tutorial in Python programming.  By the end of this lab, you will feel more comfortable:\n",
    "\n",
    "- Writing short Python code using functions, loops, arrays, dictionaries, strings,  if statements.\n",
    "\n",
    "- Manipulating Python lists and recognizing the listy properties of other Python containers.\n",
    "\n",
    "- Learning and reading Python documentation.  "
   ]
  },
  {
   "cell_type": "markdown",
   "metadata": {},
   "source": [
    "## Part 1: Getting Started"
   ]
  },
  {
   "cell_type": "markdown",
   "metadata": {},
   "source": [
    "### Importing modules\n",
    "All notebooks should begin with code that imports *modules*, collections of built-in, commonly-used Python functions.  Below we import the Numpy module, a fast numerical programming library for scientific computing.  Future clinics will require additional modules, which we'll import with the same `import MODULE_NAME as MODULE_NICKNAME` syntax."
   ]
  },
  {
   "cell_type": "code",
   "execution_count": 40,
   "metadata": {},
   "outputs": [],
   "source": [
    "import numpy as np #imports a fast numerical programming library\n",
    "import matplotlib\n",
    "import matplotlib.pyplot as plt\n",
    "%matplotlib inline"
   ]
  },
  {
   "cell_type": "markdown",
   "metadata": {},
   "source": [
    "Now that Numpy has been imported, we can access some useful functions.  For example, we can use `mean` to calculate the mean of a set of numbers."
   ]
  },
  {
   "cell_type": "code",
   "execution_count": 2,
   "metadata": {},
   "outputs": [
    {
     "data": {
      "text/plain": [
       "2.1666666666666665"
      ]
     },
     "execution_count": 2,
     "metadata": {},
     "output_type": "execute_result"
    }
   ],
   "source": [
    "np.mean([1.2, 2, 3.3])"
   ]
  },
  {
   "cell_type": "markdown",
   "metadata": {},
   "source": [
    "to calculate the mean of 1.2, 2, and 3.3."
   ]
  },
  {
   "cell_type": "markdown",
   "metadata": {},
   "source": [
    "The code above is not particularly efficient, and efficiency will be important for you when dealing with large data sets. In Clinic 1 we will see more efficient options."
   ]
  },
  {
   "cell_type": "markdown",
   "metadata": {},
   "source": [
    "### Calculations and variables"
   ]
  },
  {
   "cell_type": "markdown",
   "metadata": {},
   "source": [
    "At the most basic level we can use Python as a simple calculator."
   ]
  },
  {
   "cell_type": "code",
   "execution_count": 3,
   "metadata": {},
   "outputs": [
    {
     "data": {
      "text/plain": [
       "3"
      ]
     },
     "execution_count": 3,
     "metadata": {},
     "output_type": "execute_result"
    }
   ],
   "source": [
    "1 + 2"
   ]
  },
  {
   "cell_type": "markdown",
   "metadata": {},
   "source": [
    "Notice integer division (//) and floating-point error below"
   ]
  },
  {
   "cell_type": "code",
   "execution_count": 4,
   "metadata": {},
   "outputs": [
    {
     "data": {
      "text/plain": [
       "(0.5, 0, 0.5, 9.600000000000001)"
      ]
     },
     "execution_count": 4,
     "metadata": {},
     "output_type": "execute_result"
    }
   ],
   "source": [
    "1/2, 1//2, 1.0/2.0, 3*3.2"
   ]
  },
  {
   "cell_type": "markdown",
   "metadata": {},
   "source": [
    "The last line in a cell is returned as the output value, as above.  For cells with multiple lines of results, we can display results using ``print``, as can be seen below."
   ]
  },
  {
   "cell_type": "code",
   "execution_count": 5,
   "metadata": {},
   "outputs": [
    {
     "name": "stdout",
     "output_type": "stream",
     "text": [
      "4.0 \n",
      " 9 7\n"
     ]
    },
    {
     "data": {
      "text/plain": [
       "1.6666666666666667"
      ]
     },
     "execution_count": 5,
     "metadata": {},
     "output_type": "execute_result"
    }
   ],
   "source": [
    "print(1 + 3.0, \"\\n\", 9, 7)\n",
    "5/3"
   ]
  },
  {
   "cell_type": "markdown",
   "metadata": {},
   "source": [
    "We can store integer or floating point values as variables.  The other basic Python data types -- booleans, strings, lists -- can also be stored as variables. "
   ]
  },
  {
   "cell_type": "code",
   "execution_count": 6,
   "metadata": {},
   "outputs": [],
   "source": [
    "a = 1\n",
    "b = 2.0"
   ]
  },
  {
   "cell_type": "markdown",
   "metadata": {},
   "source": [
    "Here is the storing of a list:"
   ]
  },
  {
   "cell_type": "code",
   "execution_count": 7,
   "metadata": {},
   "outputs": [],
   "source": [
    "a = [1, 2, 3]"
   ]
  },
  {
   "cell_type": "markdown",
   "metadata": {},
   "source": [
    "Lists are saved as references, i.e. think of a variable as a label for a value, not a box in which you put the value\n",
    "\n",
    "![](images/sticksnotboxes.png)\n",
    "\n",
    "(image taken from Fluent Python by Luciano Ramalho)"
   ]
  },
  {
   "cell_type": "code",
   "execution_count": 8,
   "metadata": {},
   "outputs": [
    {
     "data": {
      "text/plain": [
       "[1, 2, 3]"
      ]
     },
     "execution_count": 8,
     "metadata": {},
     "output_type": "execute_result"
    }
   ],
   "source": [
    "b = a\n",
    "b"
   ]
  },
  {
   "cell_type": "markdown",
   "metadata": {},
   "source": [
    "This DOES NOT create a new copy of `a`. It merely puts a new label on the memory at a, as can be seen by the following code:"
   ]
  },
  {
   "cell_type": "code",
   "execution_count": 9,
   "metadata": {},
   "outputs": [
    {
     "name": "stdout",
     "output_type": "stream",
     "text": [
      "a [1, 2, 3]\n",
      "b [1, 2, 3]\n",
      "a after change [1, 7, 3]\n",
      "b after change [1, 7, 3]\n"
     ]
    }
   ],
   "source": [
    "print(\"a\", a)\n",
    "print(\"b\", b)\n",
    "a[1] = 7\n",
    "print(\"a after change\", a)\n",
    "print(\"b after change\", b)"
   ]
  },
  {
   "cell_type": "markdown",
   "metadata": {},
   "source": [
    "Multiple items on one line in the interface are returned as a *tuple*, an immutable sequence of Python objects.\n",
    "\n",
    "**Notice the difference between lists and tuples**"
   ]
  },
  {
   "cell_type": "code",
   "execution_count": 10,
   "metadata": {},
   "outputs": [
    {
     "data": {
      "text/plain": [
       "(2, -1.0, 4.0, 10)"
      ]
     },
     "execution_count": 10,
     "metadata": {},
     "output_type": "execute_result"
    }
   ],
   "source": [
    "a = 1\n",
    "b = 2.0\n",
    "a + a, a - b, b * b, 10*a"
   ]
  },
  {
   "cell_type": "markdown",
   "metadata": {},
   "source": [
    "We can obtain the type of a variable, and use boolean comparisons to test these types. "
   ]
  },
  {
   "cell_type": "code",
   "execution_count": 11,
   "metadata": {},
   "outputs": [
    {
     "data": {
      "text/plain": [
       "False"
      ]
     },
     "execution_count": 11,
     "metadata": {},
     "output_type": "execute_result"
    }
   ],
   "source": [
    "type(a) == float"
   ]
  },
  {
   "cell_type": "code",
   "execution_count": 12,
   "metadata": {},
   "outputs": [
    {
     "data": {
      "text/plain": [
       "True"
      ]
     },
     "execution_count": 12,
     "metadata": {},
     "output_type": "execute_result"
    }
   ],
   "source": [
    "type(a) == int"
   ]
  },
  {
   "cell_type": "markdown",
   "metadata": {},
   "source": [
    "For reference, below are common arithmetic and comparison operations.\n",
    "\n",
    "<img src=\"images/ops1_v2.png\" alt=\"Drawing\" style=\"width: 600px;\"/>\n",
    "\n",
    "<img src=\"images/ops2_v2.png\" alt=\"Drawing\" style=\"width: 650px;\"/>"
   ]
  },
  {
   "cell_type": "markdown",
   "metadata": {},
   "source": [
    ">**EXERCISE**:  Create two elements, one integer of your choice and one float of your choice.\n",
    ">\n",
    "> Then, create a tuple called `tup` with the following seven objects:\n",
    ">\n",
    "> - The first element is the integer of your choice\n",
    "> - The second element is the float of your choice  \n",
    "> - The third element is the sum of the first two elements\n",
    "> - The fourth element is the difference of the first two elements\n",
    "> - The fifth element is first element divided by the second element\n",
    ">\n",
    "> Display the output of `tup`.  What is the type of the variable `tup`? What happens if you try and chage an item in the tuple? \n",
    ">\n",
    "> What would it change if it was a list?"
   ]
  },
  {
   "cell_type": "code",
   "execution_count": 13,
   "metadata": {},
   "outputs": [
    {
     "data": {
      "text/plain": [
       "tuple"
      ]
     },
     "execution_count": 13,
     "metadata": {},
     "output_type": "execute_result"
    }
   ],
   "source": [
    "# your code here\n",
    "a = 5\n",
    "b = 3.3\n",
    "tup = (a, b, a+b, abs(a-b), a/b)\n",
    "tup\n",
    "type(tup)"
   ]
  },
  {
   "cell_type": "markdown",
   "metadata": {},
   "source": [
    "## Part 2: Lists\n",
    "\n",
    "Much of Python is based on the notion of a list.  In Python, a list is a sequence of items separated by commas, all within square brackets.  The items can be integers, floating points, or another type.  Unlike in Java arrays, items in a Python list can be different types, so Python lists are more versatile than traditional arrays in Java or in other languages. \n",
    "\n",
    "Let's start out by creating a few lists.  "
   ]
  },
  {
   "cell_type": "code",
   "execution_count": 14,
   "metadata": {},
   "outputs": [
    {
     "name": "stdout",
     "output_type": "stream",
     "text": [
      "[]\n",
      "[1, 2, 3, 4, 5, 6, 7, 8, 9, 10]\n",
      "[1, 2.0, 3, 4.0, 5] [1.0, 3.0, 5.0, 4.0, 2.0]\n"
     ]
    }
   ],
   "source": [
    "empty_list = []\n",
    "float_list = [1., 3., 5., 4., 2.]\n",
    "int_list = [1, 2, 3, 4, 5, 6, 7, 8, 9, 10]\n",
    "mixed_list = [1, 2., 3, 4., 5]\n",
    "print(empty_list)\n",
    "print(int_list)\n",
    "print(mixed_list, float_list)"
   ]
  },
  {
   "cell_type": "markdown",
   "metadata": {},
   "source": [
    "Lists in Python are zero-indexed, as in Java.  The first entry of the list has index 0, the second has index 1, and so on."
   ]
  },
  {
   "cell_type": "code",
   "execution_count": 15,
   "metadata": {},
   "outputs": [
    {
     "name": "stdout",
     "output_type": "stream",
     "text": [
      "1\n",
      "3.0\n"
     ]
    }
   ],
   "source": [
    "print(int_list[0])\n",
    "print(float_list[1])"
   ]
  },
  {
   "cell_type": "markdown",
   "metadata": {},
   "source": [
    "What happens if we try to use an index that doesn't exist for that list?  Python will complain!"
   ]
  },
  {
   "cell_type": "code",
   "execution_count": 16,
   "metadata": {},
   "outputs": [
    {
     "ename": "IndexError",
     "evalue": "list index out of range",
     "output_type": "error",
     "traceback": [
      "\u001b[1;31m---------------------------------------------------------------------------\u001b[0m",
      "\u001b[1;31mIndexError\u001b[0m                                Traceback (most recent call last)",
      "\u001b[1;32m<ipython-input-16-0138b2c321c5>\u001b[0m in \u001b[0;36m<module>\u001b[1;34m()\u001b[0m\n\u001b[1;32m----> 1\u001b[1;33m \u001b[0mprint\u001b[0m\u001b[1;33m(\u001b[0m\u001b[0mfloat_list\u001b[0m\u001b[1;33m[\u001b[0m\u001b[1;36m10\u001b[0m\u001b[1;33m]\u001b[0m\u001b[1;33m)\u001b[0m\u001b[1;33m\u001b[0m\u001b[0m\n\u001b[0m",
      "\u001b[1;31mIndexError\u001b[0m: list index out of range"
     ]
    }
   ],
   "source": [
    "print(float_list[10])"
   ]
  },
  {
   "cell_type": "markdown",
   "metadata": {},
   "source": [
    "A list has a length at any given point in the execution of the code, which we can find using the `len` function."
   ]
  },
  {
   "cell_type": "code",
   "execution_count": null,
   "metadata": {},
   "outputs": [],
   "source": [
    "print(float_list)\n",
    "len(float_list)"
   ]
  },
  {
   "cell_type": "markdown",
   "metadata": {},
   "source": [
    "### Indexing on lists"
   ]
  },
  {
   "cell_type": "markdown",
   "metadata": {},
   "source": [
    "And since Python is zero-indexed, the last element of `float_list` is"
   ]
  },
  {
   "cell_type": "code",
   "execution_count": null,
   "metadata": {},
   "outputs": [],
   "source": [
    "float_list[len(float_list)-1]"
   ]
  },
  {
   "cell_type": "markdown",
   "metadata": {},
   "source": [
    "It is more idiomatic in python to use -1 for the last element, -2 for the second last, and so on"
   ]
  },
  {
   "cell_type": "code",
   "execution_count": null,
   "metadata": {},
   "outputs": [],
   "source": [
    "float_list[-1]"
   ]
  },
  {
   "cell_type": "markdown",
   "metadata": {},
   "source": [
    "We can use the ``:`` operator to access a subset of the list.  This is called *slicing.* "
   ]
  },
  {
   "cell_type": "code",
   "execution_count": null,
   "metadata": {},
   "outputs": [],
   "source": [
    "print(float_list[1:5])\n",
    "print(float_list[0:2])"
   ]
  },
  {
   "cell_type": "markdown",
   "metadata": {},
   "source": [
    "Below is a summary of list slicing operations:\n",
    "\n",
    "<img src=\"images/ops3_v2.png\" alt=\"Drawing\" style=\"width: 600px;\"/>"
   ]
  },
  {
   "cell_type": "markdown",
   "metadata": {},
   "source": [
    "You can slice \"backwards\" as well:"
   ]
  },
  {
   "cell_type": "code",
   "execution_count": null,
   "metadata": {},
   "outputs": [],
   "source": [
    "float_list[:-2] # up to second last"
   ]
  },
  {
   "cell_type": "code",
   "execution_count": null,
   "metadata": {},
   "outputs": [],
   "source": [
    "float_list[:4] # up to but not including 5th element"
   ]
  },
  {
   "cell_type": "markdown",
   "metadata": {},
   "source": [
    "You can also slice with a stride:"
   ]
  },
  {
   "cell_type": "code",
   "execution_count": null,
   "metadata": {},
   "outputs": [],
   "source": [
    "float_list[:4:2] # above but skipping every second element"
   ]
  },
  {
   "cell_type": "markdown",
   "metadata": {},
   "source": [
    "We can iterate through a list using a loop.  Here's a for loop."
   ]
  },
  {
   "cell_type": "code",
   "execution_count": null,
   "metadata": {},
   "outputs": [],
   "source": [
    "for ele in float_list:\n",
    "    print(ele)"
   ]
  },
  {
   "cell_type": "markdown",
   "metadata": {},
   "source": [
    "Or, if we like, we can iterate through a list using the indices using a for loop with  `in range`. This is not idiomatic and is not recommended, but accomplishes the same thing as above."
   ]
  },
  {
   "cell_type": "code",
   "execution_count": null,
   "metadata": {},
   "outputs": [],
   "source": [
    "for i in range(len(float_list)):\n",
    "    print(float_list[i])"
   ]
  },
  {
   "cell_type": "markdown",
   "metadata": {},
   "source": [
    "What if you wanted the index as well?"
   ]
  },
  {
   "cell_type": "markdown",
   "metadata": {},
   "source": [
    "Python has other useful functions such as `enumerate`,  which can be used to create a list of tuples with each tuple of the form `(index, value)`. "
   ]
  },
  {
   "cell_type": "code",
   "execution_count": null,
   "metadata": {
    "scrolled": true
   },
   "outputs": [],
   "source": [
    "for i, ele in enumerate(float_list):\n",
    "    print(i,ele)"
   ]
  },
  {
   "cell_type": "code",
   "execution_count": null,
   "metadata": {},
   "outputs": [],
   "source": [
    "list(enumerate(float_list))"
   ]
  },
  {
   "cell_type": "markdown",
   "metadata": {},
   "source": [
    "This is an example of an *iterator*, something that can be used to set up an iteration. When you call `enumerate`, a list if tuples is not created. Rather an object is created, which when iterated over (or when the `list` function is called using it as an argument), acts like you are in a loop, outputting one tuple at a time."
   ]
  },
  {
   "cell_type": "markdown",
   "metadata": {},
   "source": [
    "### Appending and deleting"
   ]
  },
  {
   "cell_type": "markdown",
   "metadata": {},
   "source": [
    "We can also append items to the end of the list using the `+` operator or with `append`."
   ]
  },
  {
   "cell_type": "code",
   "execution_count": null,
   "metadata": {},
   "outputs": [],
   "source": [
    "float_list + [.333]"
   ]
  },
  {
   "cell_type": "code",
   "execution_count": null,
   "metadata": {},
   "outputs": [],
   "source": [
    "float_list.append(.444)"
   ]
  },
  {
   "cell_type": "code",
   "execution_count": null,
   "metadata": {},
   "outputs": [],
   "source": [
    "print(float_list)\n",
    "len(float_list)"
   ]
  },
  {
   "cell_type": "markdown",
   "metadata": {},
   "source": [
    "Go and run the cell with `float_list.append` a second time.  Then run the next line.  What happens?  \n",
    "\n",
    "To remove an item from the list, use `del.`"
   ]
  },
  {
   "cell_type": "code",
   "execution_count": null,
   "metadata": {},
   "outputs": [],
   "source": [
    "del(float_list[2])\n",
    "print(float_list)"
   ]
  },
  {
   "cell_type": "markdown",
   "metadata": {},
   "source": [
    "### List Comprehensions\n",
    "\n",
    "Lists can be constructed in a compact way using a *list comprehension*.  Here's a simple example."
   ]
  },
  {
   "cell_type": "code",
   "execution_count": null,
   "metadata": {},
   "outputs": [],
   "source": [
    "squaredlist = [i*i for i in int_list]\n",
    "squaredlist"
   ]
  },
  {
   "cell_type": "markdown",
   "metadata": {},
   "source": [
    "And here's a more complicated one, requiring a conditional."
   ]
  },
  {
   "cell_type": "code",
   "execution_count": null,
   "metadata": {},
   "outputs": [],
   "source": [
    "comp_list1 = [2*i for i in squaredlist if i % 2 == 0]\n",
    "print(comp_list1)"
   ]
  },
  {
   "cell_type": "markdown",
   "metadata": {},
   "source": [
    "This is entirely equivalent to creating `comp_list1` using a loop with a conditional, as below:"
   ]
  },
  {
   "cell_type": "code",
   "execution_count": null,
   "metadata": {},
   "outputs": [],
   "source": [
    "comp_list2 = []\n",
    "for i in squaredlist:\n",
    "    if i % 2 == 0:\n",
    "        comp_list2.append(2*i)\n",
    "        \n",
    "comp_list2"
   ]
  },
  {
   "cell_type": "markdown",
   "metadata": {},
   "source": [
    "The list comprehension syntax\n",
    "\n",
    "```\n",
    "[expression for item in list if conditional]\n",
    "\n",
    "```\n",
    "\n",
    "is equivalent to the syntax\n",
    "\n",
    "```\n",
    "for item in list:\n",
    "    if conditional:\n",
    "        expression\n",
    "```"
   ]
  },
  {
   "cell_type": "markdown",
   "metadata": {},
   "source": [
    ">**EXERCISE**:  Build a list that contains every prime number between 1 and 100, in two different ways:\n",
    "1.  Using for loops and conditional if statements.\n",
    "2.  *(Stretch Goal!)* Using a list comprehension.  You should be able to do this in one line of code, and it may be helpful to look up the function `all` in the documentation."
   ]
  },
  {
   "cell_type": "code",
   "execution_count": null,
   "metadata": {},
   "outputs": [],
   "source": [
    "# your code here\n",
    "n_list = []\n",
    "for i in range(1,100):\n",
    "    count = 0\n",
    "    for j in  range(2,i):\n",
    "        if (i%j) == 0:\n",
    "            count += 1\n",
    "    \n",
    "    if count == 0: \n",
    "        n_list.append(i)\n",
    "print(n_list)\n",
    "    "
   ]
  },
  {
   "cell_type": "code",
   "execution_count": null,
   "metadata": {},
   "outputs": [],
   "source": [
    "# your code here\n",
    "p = [i for i in range(100) if all([0 for j in range(2,i) if i%j==0])]\n",
    "print(p)"
   ]
  },
  {
   "cell_type": "markdown",
   "metadata": {},
   "source": [
    "## Part 3:  Strings and listiness"
   ]
  },
  {
   "cell_type": "markdown",
   "metadata": {},
   "source": [
    "A list is a container that holds a bunch of objects.  We're particularly interested in Python lists because many other containers in Python, like strings, dictionaries, numpy arrays, pandas series and dataframes, and iterators like `enumerate`, have list-like properties.  This is known as [duck](https://en.wikipedia.org/wiki/Duck_typing) typing, a term coined by Alex Martelli, which refers to the notion that  *if it quacks like a duck, it is a duck*.  We'll soon see that these  containers quack like lists, so for practical purposes we can think of these containers as lists!  They are listy!\n",
    "\n",
    "Containers that are listy have a set length, can be sliced, and can be iterated over with a loop.  Let's look at some listy containers now."
   ]
  },
  {
   "cell_type": "markdown",
   "metadata": {},
   "source": [
    "### Strings\n",
    "We claim that strings are listy.  Here's a string."
   ]
  },
  {
   "cell_type": "code",
   "execution_count": null,
   "metadata": {},
   "outputs": [],
   "source": [
    "astring = \"kevin\""
   ]
  },
  {
   "cell_type": "markdown",
   "metadata": {},
   "source": [
    "Like lists, this string has a set length, the number of characters in the string."
   ]
  },
  {
   "cell_type": "code",
   "execution_count": null,
   "metadata": {},
   "outputs": [],
   "source": [
    "len(astring)"
   ]
  },
  {
   "cell_type": "markdown",
   "metadata": {},
   "source": [
    "Like lists, we can slice the string."
   ]
  },
  {
   "cell_type": "code",
   "execution_count": null,
   "metadata": {},
   "outputs": [],
   "source": [
    "print(astring[0:2])     #take characters from 0 till 2\n",
    "print(astring[0:6:2])   #take characters from 0 till 6 with step 2\n",
    "print(astring[-1])      #take the last character"
   ]
  },
  {
   "cell_type": "markdown",
   "metadata": {},
   "source": [
    "And we can iterate through the string with a loop.  Below is a while loop:"
   ]
  },
  {
   "cell_type": "code",
   "execution_count": null,
   "metadata": {},
   "outputs": [],
   "source": [
    "i = 0\n",
    "while i < len(astring):\n",
    "    print(astring[i])\n",
    "    i = i + 1"
   ]
  },
  {
   "cell_type": "markdown",
   "metadata": {},
   "source": [
    "This is equivalent to the for loop:"
   ]
  },
  {
   "cell_type": "code",
   "execution_count": null,
   "metadata": {},
   "outputs": [],
   "source": [
    "for character in astring:\n",
    "    print(character)"
   ]
  },
  {
   "cell_type": "markdown",
   "metadata": {},
   "source": [
    "So strings are listy.  \n",
    "\n",
    "How are strings different from lists?  While lists are mutable, strings are immutable.  Note that an error occurs when we try to change the second element of `string_list` from 1 to b."
   ]
  },
  {
   "cell_type": "code",
   "execution_count": null,
   "metadata": {},
   "outputs": [],
   "source": [
    "print(float_list)\n",
    "float_list[1] = 2.09\n",
    "print(float_list)\n",
    "print(astring)\n",
    "astring[1] = 'b'\n",
    "print(astring)"
   ]
  },
  {
   "cell_type": "markdown",
   "metadata": {},
   "source": [
    "We can't use `append` but we can concatenate with `+`. Why is this?"
   ]
  },
  {
   "cell_type": "code",
   "execution_count": null,
   "metadata": {},
   "outputs": [],
   "source": [
    "astring = astring + ', pavlos, ' + 'rahul, ' + 'margo'\n",
    "print(astring)\n",
    "type(astring)"
   ]
  },
  {
   "cell_type": "markdown",
   "metadata": {},
   "source": [
    "What is happening here is that we are creating a new string in memory when we do `astring + ', pavlos, ' + 'rahul, ' + 'margo'`. Then we are relabelling this string with the old lavel `astring`. This means that the old memory that `astring` labelled is forgotten."
   ]
  },
  {
   "cell_type": "markdown",
   "metadata": {},
   "source": [
    "Or we could use `join`.  See below for a summary of common string operations.  "
   ]
  },
  {
   "cell_type": "markdown",
   "metadata": {},
   "source": [
    "<img src=\"images/ops4_v3.png\" alt=\"Drawing\" style=\"width: 600px;\"/>"
   ]
  },
  {
   "cell_type": "markdown",
   "metadata": {},
   "source": [
    "To summarize this section, for  practical purposes all containers that are listy have the following properties:\n",
    "\n",
    "1.  Have a set length, which you can find using `len`\n",
    "2.  Are iterable (via a loop)\n",
    "3.  Are sliceable via : operations\n",
    "\n",
    "We will encounter other listy containers soon."
   ]
  },
  {
   "cell_type": "markdown",
   "metadata": {},
   "source": [
    ">**EXERCISE**: Make three strings, called `first`, `middle`, and `last`, with your first, middle, and last names, respectively.  If you don't have a middle name, make up a middle name!  \n",
    "\n",
    ">Then create a string called `full_name` that joins your first, middle, and last name, with a space separating your first, middle, and last names.  \n",
    "\n",
    ">Finally make a string called `full_name_rev` which takes `full_name` and reverses the letters.  For example, if `full_name` is `Jane Beth Doe`, then `full_name_rev` is `eoD hteB enaJ`.\n",
    "\n"
   ]
  },
  {
   "cell_type": "code",
   "execution_count": null,
   "metadata": {},
   "outputs": [],
   "source": [
    "list(range(-1, -5))\n",
    "\n",
    "first = \"Eric\"\n",
    "middle = \"Leonardo\"\n",
    "last = \"Risbakk\"\n",
    "\n",
    "full_name = first + \" \" + middle + \" \" + last\n",
    "print(full_name)\n",
    "print(full_name[::-1])\n",
    "f_name_rev = full_name[::-1]\n",
    "f_name_rev"
   ]
  },
  {
   "cell_type": "code",
   "execution_count": null,
   "metadata": {},
   "outputs": [],
   "source": [
    "# your code here\n"
   ]
  },
  {
   "cell_type": "markdown",
   "metadata": {},
   "source": [
    "## Part 4: Dictionaries\n",
    "A dictionary is another storage container.  Like a list, a dictionary is a sequence of items.  Unlike a list, a dictionary is unordered and its items are accessed with keys and not integer positions.  \n",
    "\n",
    "Dictionaries are the closest container we have to a database.\n",
    "\n",
    "Let's make a dictionary with a few courses and their corresponding enrollment numbers."
   ]
  },
  {
   "cell_type": "code",
   "execution_count": 26,
   "metadata": {},
   "outputs": [
    {
     "data": {
      "text/plain": [
       "{'KEN1120': 180, 'KEN3450': 48, 'KEN4131': 85, 'KEN1420': 169, 'KEN4231': 27}"
      ]
     },
     "execution_count": 26,
     "metadata": {},
     "output_type": "execute_result"
    }
   ],
   "source": [
    "enroll2016_dict = {'KEN1120': 180, 'KEN3450': 48, 'KEN4131': 85, 'KEN1420': 169, 'KEN4231': 27}\n",
    "enroll2016_dict"
   ]
  },
  {
   "cell_type": "code",
   "execution_count": 27,
   "metadata": {},
   "outputs": [
    {
     "data": {
      "text/plain": [
       "dict_values([180, 48, 85, 169, 27])"
      ]
     },
     "execution_count": 27,
     "metadata": {},
     "output_type": "execute_result"
    }
   ],
   "source": [
    "enroll2016_dict.values()"
   ]
  },
  {
   "cell_type": "code",
   "execution_count": 31,
   "metadata": {},
   "outputs": [
    {
     "data": {
      "text/plain": [
       "[('KEN1120', 180),\n",
       " ('KEN3450', 48),\n",
       " ('KEN4131', 85),\n",
       " ('KEN1420', 169),\n",
       " ('KEN4231', 27)]"
      ]
     },
     "execution_count": 31,
     "metadata": {},
     "output_type": "execute_result"
    }
   ],
   "source": [
    "list(enroll2016_dict.items())"
   ]
  },
  {
   "cell_type": "code",
   "execution_count": 29,
   "metadata": {},
   "outputs": [
    {
     "name": "stdout",
     "output_type": "stream",
     "text": [
      "KEN1120: 180\n",
      "KEN3450: 48\n",
      "KEN4131: 85\n",
      "KEN1420: 169\n",
      "KEN4231: 27\n"
     ]
    }
   ],
   "source": [
    "for key, value in enroll2016_dict.items():\n",
    "    print(\"%s: %d\" %(key, value))"
   ]
  },
  {
   "cell_type": "markdown",
   "metadata": {},
   "source": [
    "Simply iterating over a dictionary gives us the keys. This is useful when we want to do something with each item:"
   ]
  },
  {
   "cell_type": "code",
   "execution_count": null,
   "metadata": {},
   "outputs": [],
   "source": [
    "second_dict={}\n",
    "for key in enroll2016_dict:\n",
    "    second_dict[key] = enroll2016_dict[key]\n",
    "second_dict"
   ]
  },
  {
   "cell_type": "markdown",
   "metadata": {},
   "source": [
    "The above is an actual copy to another part of memory, unlike, `second_dict = enroll2016_dict` which would have made both variables label the same meory location."
   ]
  },
  {
   "cell_type": "markdown",
   "metadata": {},
   "source": [
    "In this example, the keys are strings corresponding to course names.  Keys don't have to be strings though.  \n",
    "\n",
    "Like lists, you can construct dictionaries using a *dictionary comprehension*, which is similar to a list comprehension. Notice the brackets {} and the use of `zip`, which is another iterator that combines two lists together."
   ]
  },
  {
   "cell_type": "code",
   "execution_count": null,
   "metadata": {},
   "outputs": [],
   "source": [
    "my_dict = {k:v for (k, v) in zip(int_list, float_list)}\n",
    "my_dict"
   ]
  },
  {
   "cell_type": "markdown",
   "metadata": {},
   "source": [
    "You can also create dictionaries nicely using the *constructor* function `dict`."
   ]
  },
  {
   "cell_type": "code",
   "execution_count": null,
   "metadata": {},
   "outputs": [],
   "source": [
    "dict(a = 1, b = 2)"
   ]
  },
  {
   "cell_type": "markdown",
   "metadata": {},
   "source": [
    "While dictionaries have some similarity to lists, they are not listy.  They do have a set length, and the can be iterated through with a loop, but they cannot be sliced, since they have no sense of an order. In technical terms, they satisfy, along with lists and strings, Python's *Sequence* protocol, which is a higher abstraction than that of a list."
   ]
  },
  {
   "cell_type": "markdown",
   "metadata": {},
   "source": [
    "### A cautionary word on iterators (read carefully)\n",
    "\n",
    "Iterators are a bit different from lists in the sense that they can be \"exhausted\". Perhaps its best to explain with an example"
   ]
  },
  {
   "cell_type": "code",
   "execution_count": null,
   "metadata": {},
   "outputs": [],
   "source": [
    "an_iterator = enumerate(astring)"
   ]
  },
  {
   "cell_type": "code",
   "execution_count": null,
   "metadata": {},
   "outputs": [],
   "source": [
    "type(an_iterator)"
   ]
  },
  {
   "cell_type": "code",
   "execution_count": null,
   "metadata": {},
   "outputs": [],
   "source": [
    "for i, c in an_iterator:\n",
    "    print(i,c)"
   ]
  },
  {
   "cell_type": "code",
   "execution_count": null,
   "metadata": {},
   "outputs": [],
   "source": [
    "for i, c in an_iterator:\n",
    "    print(i,c)"
   ]
  },
  {
   "cell_type": "markdown",
   "metadata": {},
   "source": [
    "What happens, you get nothing when you run this again! This is because the iterator has been \"exhausted\", ie, all its items are used up. I have had answers go wrong for me because I wasn't careful about this. You must either track the state of the iterator or bypass this problem by not storing `enumerate(BLA)` in a variable, so that you dont inadvertantly \"use that variable\" twice."
   ]
  },
  {
   "cell_type": "markdown",
   "metadata": {},
   "source": [
    "## Part 5: Functions\n",
    "\n",
    "A *function* is a reusable block of code that does a specfic task.  Functions are all over Python, either on their own or on objects.  \n",
    "\n",
    "We've seen built-in Python functions and methods.  For example, `len` and `print` are built-in Python functions.  And at the beginning of the lab, you called `np.mean` to calculate the mean of three numbers, where `mean` is a function in the numpy module and numpy was abbreviated as `np`. This syntax allow us to have multiple \"mean\" functions\" in different modules; calling this one as `np.mean` guarantees that we will pick up numpy's mean function.\n",
    "\n",
    "### Methods\n",
    "\n",
    "A function that belongs to an object is called a *method*. An example of this is `append` on an **existing** list. In other words, a *method* is a function on an **instance** of a type of object (also called **class**, here the list type)."
   ]
  },
  {
   "cell_type": "code",
   "execution_count": null,
   "metadata": {},
   "outputs": [],
   "source": [
    "print(float_list)\n",
    "float_list.append(56.7) \n",
    "float_list"
   ]
  },
  {
   "cell_type": "markdown",
   "metadata": {},
   "source": [
    "### User-defined functions\n",
    "\n",
    "We'll now learn to write our own user-defined functions.  Below is the syntax for defining a basic function with one input argument and one output. You can also define functions with no input or output arguments, or multiple input or output arguments.\n",
    "\n",
    "```\n",
    "def name_of_function(arg):\n",
    "    ...\n",
    "    return(output)\n",
    "```"
   ]
  },
  {
   "cell_type": "markdown",
   "metadata": {},
   "source": [
    "The simplest function has no arguments whatsoever."
   ]
  },
  {
   "cell_type": "code",
   "execution_count": null,
   "metadata": {},
   "outputs": [],
   "source": [
    "def print_greeting():\n",
    "    print(\"Hello, welcome to Data Analysis Hell!\")\n",
    "    \n",
    "print_greeting()"
   ]
  },
  {
   "cell_type": "markdown",
   "metadata": {},
   "source": [
    "We can write functions with one input and one output argument.  Here are two such functions."
   ]
  },
  {
   "cell_type": "code",
   "execution_count": null,
   "metadata": {},
   "outputs": [],
   "source": [
    "def square(x):\n",
    "    x_sqr = x*x\n",
    "    return(x_sqr)\n",
    "\n",
    "def cube(x):\n",
    "    x_cub = x*x*x\n",
    "    return(x_cub)\n",
    "\n",
    "square(5),cube(5)"
   ]
  },
  {
   "cell_type": "markdown",
   "metadata": {},
   "source": [
    "### Lambda functions\n",
    "\n",
    "Often we define a mathematical function with a quick one-line function called a *lambda*. No return statement is needed.\n",
    "\n",
    "The big use of lambda functions in data science is for mathematical functions."
   ]
  },
  {
   "cell_type": "code",
   "execution_count": null,
   "metadata": {},
   "outputs": [],
   "source": [
    "square = lambda x: x*x\n",
    "print(square(3))\n",
    "\n",
    "\n",
    "hypotenuse = lambda x, y: x*x + y*y\n",
    "\n",
    "## Same as\n",
    "\n",
    "# def hypotenuse(x, y):\n",
    "#     return(x*x + y*y)\n",
    "\n",
    "hypotenuse(3,4)"
   ]
  },
  {
   "cell_type": "markdown",
   "metadata": {},
   "source": [
    "### Refactoring using functions\n",
    "\n",
    ">**EXERCISE**: Write a function called `isprime` that takes in a positive integer $N$, and determines whether or not it is prime.  Return the $N$ if it's prime and return nothing if it isn't.  You may want to reuse part of your code from the exercise in Part 2.  \n",
    "\n",
    "> Then, using a list comprehension and `isprime`, create a list `myprimes` that contains all the prime numbers less than 100.  "
   ]
  },
  {
   "cell_type": "code",
   "execution_count": null,
   "metadata": {},
   "outputs": [],
   "source": [
    "# your code here\n",
    "def isPrime(x):\n",
    "    for i in range(2,x):\n",
    "        if x%i == 0:\n",
    "            return None\n",
    "    return x\n",
    "\n",
    "myprimes = [i for i in range(1,100) if isPrime(i) != None]\n",
    "myprimes"
   ]
  },
  {
   "cell_type": "markdown",
   "metadata": {},
   "source": [
    "Notice that what you just did is a **refactoring** of the algorithm you used earlier to find primes smaller than 100. This implementation reads much cleaner, and the function `isprime` which containes the \"kernel\" of the functionality of the algorithm can be **re-used** in other places. You should endeavor to write code like this."
   ]
  },
  {
   "cell_type": "markdown",
   "metadata": {},
   "source": [
    "### Default Arguments\n",
    "\n",
    "Functions may also have *default* argument values.  Functions with default values are used extensively in many libraries.  "
   ]
  },
  {
   "cell_type": "code",
   "execution_count": null,
   "metadata": {},
   "outputs": [],
   "source": [
    "# This function can be called with x and y, in which case it will return x*y;\n",
    "# or it can be called with x only, in which case it will return x*1.\n",
    "def get_multiple(x, y = 1):\n",
    "    return x*y\n",
    "\n",
    "print(\"With x and y:\", get_multiple(10, 2))\n",
    "print(\"With x only:\", get_multiple(10))"
   ]
  },
  {
   "cell_type": "markdown",
   "metadata": {},
   "source": [
    "We can have multiple default values. "
   ]
  },
  {
   "cell_type": "code",
   "execution_count": null,
   "metadata": {},
   "outputs": [],
   "source": [
    "def print_special_greeting(name, leaving = False, condition = \"nice\"):\n",
    "    print(\"Hi\", name)\n",
    "    print(\"How are you doing on this\", condition, \"day?\")\n",
    "    if leaving:\n",
    "        print(\"Please come back! \")\n",
    "\n",
    "# Use all the default arguments.\n",
    "print_special_greeting(\"Jerry\")"
   ]
  },
  {
   "cell_type": "markdown",
   "metadata": {},
   "source": [
    "Or change all the default arguments:"
   ]
  },
  {
   "cell_type": "code",
   "execution_count": null,
   "metadata": {},
   "outputs": [],
   "source": [
    "print_special_greeting(\"Jerry\", True, \"rainy\")"
   ]
  },
  {
   "cell_type": "markdown",
   "metadata": {},
   "source": [
    "Or use the first default argument but change the second one."
   ]
  },
  {
   "cell_type": "code",
   "execution_count": null,
   "metadata": {},
   "outputs": [],
   "source": [
    "print_special_greeting(\"Jerry\", condition=\"horrible\")"
   ]
  },
  {
   "cell_type": "markdown",
   "metadata": {},
   "source": [
    "### Positional and keyword arguments \n",
    "\n",
    "These allow for even more flexibility.  \n",
    "\n",
    "*Positional* arguments are used when you don't know how many input arguments your function be given.  Notice the single asterisk before the second argument name."
   ]
  },
  {
   "cell_type": "code",
   "execution_count": null,
   "metadata": {},
   "outputs": [],
   "source": [
    "def print_siblings(name, *siblings):\n",
    "    print(name, \"has the following siblings:\")\n",
    "    for sibling in siblings:\n",
    "        print(sibling)\n",
    "    print()\n",
    "print_siblings(\"John\", \"Ashley\", \"Lauren\", \"Arthur\")\n",
    "print_siblings(\"Mike\", \"John\")\n",
    "print_siblings(\"Terry\")        "
   ]
  },
  {
   "cell_type": "markdown",
   "metadata": {},
   "source": [
    "In the function above, arguments after the first input will go into a list called siblings. We can then process that list to extract the names.\n",
    "\n",
    "*Keyword* arguments mix the named argument and positional properties.  Notice the double asterisks before the second argument name."
   ]
  },
  {
   "cell_type": "code",
   "execution_count": null,
   "metadata": {},
   "outputs": [],
   "source": [
    "def print_brothers_sisters(name, **siblings):\n",
    "    print(name, \"has the following siblings:\")\n",
    "    for sibling in siblings:\n",
    "        print(sibling, \":\", siblings[sibling])\n",
    "    print()\n",
    "    \n",
    "print_brothers_sisters(\"John\", Ashley=\"sister\", Lauren=\"sister\", Arthur=\"brother\")"
   ]
  },
  {
   "cell_type": "markdown",
   "metadata": {},
   "source": [
    "### Putting things together\n",
    "\n",
    "Finally, when putting all those things together one must follow a certain order:\n",
    "Below is a more general function definition.  The ordering of the inputs is key: arguments, default, positional, keyword arguments.\n",
    "```\n",
    "def name_of_function(arg1, arg2, opt1=True, opt2=\"KEN3450\", *args, **kwargs):\n",
    "    ...\n",
    "    return(output1, output2, ...)\n",
    "```\n",
    "\n",
    "Positional arguments are stored in a tuple, and keyword arguments in a dictionary."
   ]
  },
  {
   "cell_type": "code",
   "execution_count": null,
   "metadata": {},
   "outputs": [],
   "source": [
    "def f(a, b, c=5, *tupleargs, **dictargs):\n",
    "    print(\"got\", a, b, c, tupleargs, dictargs)\n",
    "    return a\n",
    "print(f(1,3))\n",
    "print(f(1, 3, c=4, d=1, e=3))\n",
    "print(f(1, 3, 9, 11, d=1, e=3)) # try calling with c = 9 to see what happens!"
   ]
  },
  {
   "cell_type": "markdown",
   "metadata": {},
   "source": [
    "### Functions are first class\n",
    "\n",
    "Python functions are *first class*, meaning that we can pass functions to other functions, built-in or user-defined. "
   ]
  },
  {
   "cell_type": "code",
   "execution_count": null,
   "metadata": {},
   "outputs": [],
   "source": [
    "def sum_of_anything(x, y, f):\n",
    "    print(x, y, f)\n",
    "    return(f(x) + f(y))\n",
    "sum_of_anything(3,4,square)"
   ]
  },
  {
   "cell_type": "markdown",
   "metadata": {},
   "source": [
    "Finally, it's important to note that any name defined in this notebook is done at the *global* scope.  This means if you define your own `len` function, you will overshadow the system `len.`"
   ]
  },
  {
   "cell_type": "markdown",
   "metadata": {},
   "source": [
    ">**EXERCISE:** Create a dictionary, called `ps_dict`, that contains with the primes less than 100 and their corresponding squares."
   ]
  },
  {
   "cell_type": "code",
   "execution_count": null,
   "metadata": {},
   "outputs": [],
   "source": [
    "# your code here\n",
    "ps_dict ={}\n",
    "for p in myprimes:\n",
    "    ps_dict[p] = square(p)\n",
    "\n",
    "ps_dict"
   ]
  },
  {
   "cell_type": "markdown",
   "metadata": {},
   "source": [
    "## Part 6. Numpy\n",
    "Scientific Python code uses a fast array structure, called the numpy array. Those who have worked in Matlab will find this very natural. Let's make a numpy array."
   ]
  },
  {
   "cell_type": "code",
   "execution_count": null,
   "metadata": {},
   "outputs": [],
   "source": [
    "my_array = np.array([1, 2, 3, 4])\n",
    "my_array"
   ]
  },
  {
   "cell_type": "markdown",
   "metadata": {},
   "source": [
    "Numpy arrays are listy. Below we compute length, slice, and iterate. But these are very bad ideas, for efficiency reasons."
   ]
  },
  {
   "cell_type": "code",
   "execution_count": null,
   "metadata": {},
   "outputs": [],
   "source": [
    "print(len(my_array))\n",
    "print(my_array[2:4])\n",
    "for ele in my_array:\n",
    "    print(ele)"
   ]
  },
  {
   "cell_type": "markdown",
   "metadata": {},
   "source": [
    "In general you should manipulate numpy arrays by using numpy module functions (`np.mean`, for example). You can calculate the mean of the array elements either by calling the method `.mean` on a numpy array or by applying the function np.mean with the numpy array as an argument."
   ]
  },
  {
   "cell_type": "code",
   "execution_count": null,
   "metadata": {},
   "outputs": [],
   "source": [
    "print(my_array.mean())\n",
    "print(np.mean(my_array))"
   ]
  },
  {
   "cell_type": "markdown",
   "metadata": {},
   "source": [
    "You can construct a normal distribution with mean0 and standard deviation 1 by doing:"
   ]
  },
  {
   "cell_type": "code",
   "execution_count": null,
   "metadata": {},
   "outputs": [],
   "source": [
    "normal_array = np.random.randn(1000)\n",
    "print(\"The sample mean and standard devation are %f and %f, respectively.\" %(np.mean(normal_array), np.std(normal_array)))"
   ]
  },
  {
   "cell_type": "markdown",
   "metadata": {},
   "source": [
    "Numpy supports a concept known as broadcasting, which dictates how arrays of different sizes are combined together. There are too many rules to list here, but importantly, multiplying an array by a number multiplies each element by the number. Adding a number adds the number to each element.\n",
    "This means that if you wanted the distribution $N(5, 7)$ you could do:"
   ]
  },
  {
   "cell_type": "code",
   "execution_count": null,
   "metadata": {},
   "outputs": [],
   "source": [
    "normal_5_7 = 5 + 7*normal_array\n",
    "np.mean(normal_5_7), np.std(normal_5_7)"
   ]
  },
  {
   "cell_type": "markdown",
   "metadata": {},
   "source": [
    "## Part 7: Text Analysis of Hamlet (try it at home)\n",
    "\n",
    "Below we'll walk you through an exercise analyzing the word distribution of the play *Hamlet* using what we learned in this lab.  \n",
    "\n",
    "First we need to read the file into Python.  If you haven't done so already, please download `hamlet.txt` from the portal and save it in the `data` subfolder."
   ]
  },
  {
   "cell_type": "markdown",
   "metadata": {},
   "source": [
    ">**EXERCISE**:  Read the [documentation](https://docs.python.org/3/) on reading and writing files.  Open and read in and save `hamlet.txt` as `hamlettext`.  Then close the file."
   ]
  },
  {
   "cell_type": "code",
   "execution_count": 17,
   "metadata": {},
   "outputs": [
    {
     "data": {
      "text/plain": [
       "\"ï»¿XXXX\\nHAMLET, PRINCE OF DENMARK\\n\\nby William Shakespeare\\n\\n\\n\\n\\nPERSONS REPRESENTED.\\n\\nClaudius, King of Denmark.\\nHamlet, Son to the former, and Nephew to the present King.\\nPolonius, Lord Chamberlain.\\nHoratio, Friend to Hamlet.\\nLaertes, Son to Polonius.\\nVoltimand, Courtier.\\nCornelius, Courtier.\\nRosencrantz, Courtier.\\nGuildenstern, Courtier.\\nOsric, Courtier.\\nA Gentleman, Courtier.\\nA Priest.\\nMarcellus, Officer.\\nBernardo, Officer.\\nFrancisco, a Soldier\\nReynaldo, Servant to Polonius.\\nPlayers.\\nTwo Clowns, Grave-diggers.\\nFortinbras, Prince of Norway.\\nA Captain.\\nEnglish Ambassadors.\\nGhost of Hamlet's Father.\\n\\nGertrude, Queen of Denmark, and Mother of Hamlet.\\nOphelia, Daughter to Polonius.\\n\\nLords, Ladies, Officers, Soldiers, Sailors, Messengers, and other\\nAttendants.\\n\\nSCENE. Elsinore.\\n\\n\\n\\nACT I.\\n\\nScene I. Elsinore. A platform before the Castle.\\n\\n[Francisco at his post. Enter to him Bernardo.]\\n\\nBer.\\nWho's there?\\n\\nFran.\\nNay, answer me: stand, and unfold yourself.\\n\\nBer.\\nLong live the king!\\n\\nFran.\\nBernardo?\\n\\nBer.\\nHe.\\n\\nFran.\\nYou come most carefully upon your hour.\\n\\nBer.\\n'Tis now struck twelve. Get thee to bed, Francisco.\\n\\nFran.\\nFor this relief much thanks: 'tis bitter cold,\\nAnd I am sick at heart.\\n\\nBer.\\nHave you had quiet guard?\\n\\nFran.\\nNot a mouse stirring.\\n\\nBer.\\nWell, good night.\\nIf you do meet Horatio and Marcellus,\\nThe rivals of my watch, bid them make haste.\\n\\nFran.\\nI think I hear them.--Stand, ho! Who is there?\\n\\n[Enter Horatio and Marcellus.]\\n\\nHor.\\nFriends to this ground.\\n\\nMar.\\nAnd liegemen to the Dane.\\n\\nFran.\\nGive you good-night.\\n\\nMar.\\nO, farewell, honest soldier;\\nWho hath reliev'd you?\\n\\nFran.\\nBernardo has my place.\\nGive you good-night.\\n\\n[Exit.]\\n\\nMar.\\nHolla! Bernardo!\\n\\nBer.\\nSay.\\nWhat, is Horatio there?\\n\\nHor.\\nA piece of him.\\n\\nBer.\\nWelcome, Horatio:--Welcome, good Marcellus.\\n\\nMar.\\nWhat, has this thing appear'd again to-night?\\n\\nBer.\\nI have seen nothing.\\n\\nMar.\\nHoratio says 'tis but our fantasy,\\nAnd will not let belief take hold of him\\nTouching this dreaded sight, twice seen of us:\\nTherefore I have entreated him along\\nWith us to watch the minutes of this night;\\nThat, if again this apparition come\\nHe may approve our eyes and speak to it.\\n\\nHor.\\nTush, tush, 'twill not appear.\\n\\nBer.\\nSit down awhile,\\nAnd let us once again assail your ears,\\nThat are so fortified against our story,\\nWhat we two nights have seen.\\n\\nHor.\\nWell, sit we down,\\nAnd let us hear Bernardo speak of this.\\n\\nBer.\\nLast night of all,\\nWhen yond same star that's westward from the pole\\nHad made his course to illume that part of heaven\\nWhere now it burns, Marcellus and myself,\\nThe bell then beating one,--\\n\\nMar.\\nPeace, break thee off; look where it comes again!\\n\\n[Enter Ghost, armed.]\\n\\nBer.\\nIn the same figure, like the king that's dead.\\n\\nMar.\\nThou art a scholar; speak to it, Horatio.\\n\\nBer.\\nLooks it not like the King? mark it, Horatio.\\n\\nHor.\\nMost like:--it harrows me with fear and wonder.\\n\\nBer.\\nIt would be spoke to.\\n\\nMar.\\nQuestion it, Horatio.\\n\\nHor.\\nWhat art thou, that usurp'st this time of night,\\nTogether with that fair and warlike form\\nIn which the majesty of buried Denmark\\nDid sometimes march? By heaven I charge thee, speak!\\n\\nMar.\\nIt is offended.\\n\\nBer.\\nSee, it stalks away!\\n\\nHor.\\nStay! speak, speak! I charge thee speak!\\n\\n[Exit Ghost.]\\n\\nMar.\\n'Tis gone, and will not answer.\\n\\nBer.\\nHow now, Horatio! You tremble and look pale:\\nIs not this something more than fantasy?\\nWhat think you on't?\\n\\nHor.\\nBefore my God, I might not this believe\\nWithout the sensible and true avouch\\nOf mine own eyes.\\n\\nMar.\\nIs it not like the King?\\n\\nHor.\\nAs thou art to thyself:\\nSuch was the very armour he had on\\nWhen he the ambitious Norway combated;\\nSo frown'd he once when, in an angry parle,\\nHe smote the sledded Polacks on the ice.\\n'Tis strange.\\n\\nMar.\\nThus twice before, and jump at this dead hour,\\nWith martial stalk hath he gone by our watch.\\n\\nHor.\\nIn what particular thought to work I know not;\\nBut, in the gross and scope of my opinion,\\nThis bodes some strange eruption to our state.\\n\\nMar.\\nGood now, sit down, and tell me, he that knows,\\nWhy this same strict and most observant watch\\nSo nightly toils the subject of the land;\\nAnd why such daily cast of brazen cannon,\\nAnd foreign mart for implements of war;\\nWhy such impress of shipwrights, whose sore task\\nDoes not divide the Sunday from the week;\\nWhat might be toward, that this sweaty haste\\nDoth make the night joint-labourer with the day:\\nWho is't that can inform me?\\n\\nHor.\\nThat can I;\\nAt least, the whisper goes so. Our last king,\\nWhose image even but now appear'd to us,\\nWas, as you know, by Fortinbras of Norway,\\nThereto prick'd on by a most emulate pride,\\nDar'd to the combat; in which our valiant Hamlet,--\\nFor so this side of our known world esteem'd him,--\\nDid slay this Fortinbras; who, by a seal'd compact,\\nWell ratified by law and heraldry,\\nDid forfeit, with his life, all those his lands,\\nWhich he stood seiz'd of, to the conqueror:\\nAgainst the which, a moiety competent\\nWas gaged by our king; which had return'd\\nTo the inheritance of Fortinbras,\\nHad he been vanquisher; as by the same cov'nant,\\nAnd carriage of the article design'd,\\nHis fell to Hamlet. Now, sir, young Fortinbras,\\nOf unimproved mettle hot and full,\\nHath in the skirts of Norway, here and there,\\nShark'd up a list of lawless resolutes,\\nFor food and diet, to some enterprise\\nThat hath a stomach in't; which is no other,--\\nAs it doth well appear unto our state,--\\nBut to recover of us, by strong hand,\\nAnd terms compulsatory, those foresaid lands\\nSo by his father lost: and this, I take it,\\nIs the main motive of our preparations,\\nThe source of this our watch, and the chief head\\nOf this post-haste and romage in the land.\\n\\nBer.\\nI think it be no other but e'en so:\\nWell may it sort, that this portentous figure\\nComes armed through our watch; so like the king\\nThat was and is the question of these wars.\\n\\nHor.\\nA mote it is to trouble the mind's eye.\\nIn the most high and palmy state of Rome,\\nA little ere the mightiest Julius fell,\\nThe graves stood tenantless, and the sheeted dead\\nDid squeak and gibber in the Roman streets;\\nAs, stars with trains of fire and dews of blood,\\nDisasters in the sun; and the moist star,\\nUpon whose influence Neptune's empire stands,\\nWas sick almost to doomsday with eclipse:\\nAnd even the like precurse of fierce events,--\\nAs harbingers preceding still the fates,\\nAnd prologue to the omen coming on,--\\nHave heaven and earth together demonstrated\\nUnto our climature and countrymen.--\\nBut, soft, behold! lo, where it comes again!\\n\\n[Re-enter Ghost.]\\n\\nI'll cross it, though it blast me.--Stay, illusion!\\nIf thou hast any sound, or use of voice,\\nSpeak to me:\\nIf there be any good thing to be done,\\nThat may to thee do ease, and, race to me,\\nSpeak to me:\\nIf thou art privy to thy country's fate,\\nWhich, happily, foreknowing may avoid,\\nO, speak!\\nOr if thou hast uphoarded in thy life\\nExtorted treasure in the womb of earth,\\nFor which, they say, you spirits oft walk in death,\\n[The cock crows.]\\nSpeak of it:--stay, and speak!--Stop it, Marcellus!\\n\\nMar.\\nShall I strike at it with my partisan?\\n\\nHor.\\nDo, if it will not stand.\\n\\nBer.\\n'Tis here!\\n\\nHor.\\n'Tis here!\\n\\nMar.\\n'Tis gone!\\n\\n[Exit Ghost.]\\n\\nWe do it wrong, being so majestical,\\nTo offer it the show of violence;\\nFor it is, as the air, invulnerable,\\nAnd our vain blows malicious mockery.\\n\\nBer.\\nIt was about to speak, when the cock crew.\\n\\nHor.\\nAnd then it started, like a guilty thing\\nUpon a fearful summons. I have heard\\nThe cock, that is the trumpet to the morn,\\nDoth with his lofty and shrill-sounding throat\\nAwake the god of day; and at his warning,\\nWhether in sea or fire, in earth or air,\\nThe extravagant and erring spirit hies\\nTo his confine: and of the truth herein\\nThis present object made probation.\\n\\nMar.\\nIt faded on the crowing of the cock.\\nSome say that ever 'gainst that season comes\\nWherein our Saviour's birth is celebrated,\\nThe bird of dawning singeth all night long;\\nAnd then, they say, no spirit dare stir abroad;\\nThe nights are wholesome; then no planets strike,\\nNo fairy takes, nor witch hath power to charm;\\nSo hallow'd and so gracious is the time.\\n\\nHor.\\nSo have I heard, and do in part believe it.\\nBut, look, the morn, in russet mantle clad,\\nWalks o'er the dew of yon high eastward hill:\\nBreak we our watch up: and by my advice,\\nLet us impart what we have seen to-night\\nUnto young Hamlet; for, upon my life,\\nThis spirit, dumb to us, will speak to him:\\nDo you consent we shall acquaint him with it,\\nAs needful in our loves, fitting our duty?\\n\\nMar.\\nLet's do't, I pray; and I this morning know\\nWhere we shall find him most conveniently.\\n\\n[Exeunt.]\\n\\n\\n\\nScene II. Elsinore. A room of state in the Castle.\\n\\n[Enter the King, Queen, Hamlet, Polonius, Laertes, Voltimand,\\nCornelius, Lords, and Attendant.]\\n\\nKing.\\nThough yet of Hamlet our dear brother's death\\nThe memory be green, and that it us befitted\\nTo bear our hearts in grief, and our whole kingdom\\nTo be contracted in one brow of woe;\\nYet so far hath discretion fought with nature\\nThat we with wisest sorrow think on him,\\nTogether with remembrance of ourselves.\\nTherefore our sometime sister, now our queen,\\nTh' imperial jointress to this warlike state,\\nHave we, as 'twere with a defeated joy,--\\nWith an auspicious and one dropping eye,\\nWith mirth in funeral, and with dirge in marriage,\\nIn equal scale weighing delight and dole,--\\nTaken to wife; nor have we herein barr'd\\nYour better wisdoms, which have freely gone\\nWith this affair along:--or all, our thanks.\\nNow follows, that you know, young Fortinbras,\\nHolding a weak supposal of our worth,\\nOr thinking by our late dear brother's death\\nOur state to be disjoint and out of frame,\\nColleagued with this dream of his advantage,\\nHe hath not fail'd to pester us with message,\\nImporting the surrender of those lands\\nLost by his father, with all bonds of law,\\nTo our most valiant brother. So much for him,--\\nNow for ourself and for this time of meeting:\\nThus much the business is:--we have here writ\\nTo Norway, uncle of young Fortinbras,--\\nWho, impotent and bed-rid, scarcely hears\\nOf this his nephew's purpose,--to suppress\\nHis further gait herein; in that the levies,\\nThe lists, and full proportions are all made\\nOut of his subject:--and we here dispatch\\nYou, good Cornelius, and you, Voltimand,\\nFor bearers of this greeting to old Norway;\\nGiving to you no further personal power\\nTo business with the king, more than the scope\\nOf these dilated articles allow.\\nFarewell; and let your haste commend your duty.\\n\\nCor. and Volt.\\nIn that and all things will we show our duty.\\n\\nKing.\\nWe doubt it nothing: heartily farewell.\\n\\n[Exeunt Voltimand and Cornelius.]\\n\\nAnd now, Laertes, what's the news with you?\\nYou told us of some suit; what is't, Laertes?\\nYou cannot speak of reason to the Dane,\\nAnd lose your voice: what wouldst thou beg, Laertes,\\nThat shall not be my offer, not thy asking?\\nThe head is not more native to the heart,\\nThe hand more instrumental to the mouth,\\nThan is the throne of Denmark to thy father.\\nWhat wouldst thou have, Laertes?\\n\\nLaer.\\nDread my lord,\\nYour leave and favour to return to France;\\nFrom whence though willingly I came to Denmark,\\nTo show my duty in your coronation;\\nYet now, I must confess, that duty done,\\nMy thoughts and wishes bend again toward France,\\nAnd bow them to your gracious leave and pardon.\\n\\nKing.\\nHave you your father's leave? What says Polonius?\\n\\nPol.\\nHe hath, my lord, wrung from me my slow leave\\nBy laboursome petition; and at last\\nUpon his will I seal'd my hard consent:\\nI do beseech you, give him leave to go.\\n\\nKing.\\nTake thy fair hour, Laertes; time be thine,\\nAnd thy best graces spend it at thy will!--\\nBut now, my cousin Hamlet, and my son--\\n\\nHam.\\n[Aside.] A little more than kin, and less than kind!\\n\\nKing.\\nHow is it that the clouds still hang on you?\\n\\nHam.\\nNot so, my lord; I am too much i' the sun.\\n\\nQueen.\\nGood Hamlet, cast thy nighted colour off,\\nAnd let thine eye look like a friend on Denmark.\\nDo not for ever with thy vailed lids\\nSeek for thy noble father in the dust:\\nThou know'st 'tis common,--all that lives must die,\\nPassing through nature to eternity.\\n\\nHam.\\nAy, madam, it is common.\\n\\nQueen.\\nIf it be,\\nWhy seems it so particular with thee?\\n\\nHam.\\nSeems, madam! Nay, it is; I know not seems.\\n'Tis not alone my inky cloak, good mother,\\nNor customary suits of solemn black,\\nNor windy suspiration of forc'd breath,\\nNo, nor the fruitful river in the eye,\\nNor the dejected 'havior of the visage,\\nTogether with all forms, moods, shows of grief,\\nThat can denote me truly: these, indeed, seem;\\nFor they are actions that a man might play;\\nBut I have that within which passeth show;\\nThese but the trappings and the suits of woe.\\n\\nKing.\\n'Tis sweet and commendable in your nature, Hamlet,\\nTo give these mourning duties to your father;\\nBut, you must know, your father lost a father;\\nThat father lost, lost his; and the survivor bound,\\nIn filial obligation, for some term\\nTo do obsequious sorrow: but to persevere\\nIn obstinate condolement is a course\\nOf impious stubbornness; 'tis unmanly grief;\\nIt shows a will most incorrect to heaven;\\nA heart unfortified, a mind impatient;\\nAn understanding simple and unschool'd;\\nFor what we know must be, and is as common\\nAs any the most vulgar thing to sense,\\nWhy should we, in our peevish opposition,\\nTake it to heart? Fie! 'tis a fault to heaven,\\nA fault against the dead, a fault to nature,\\nTo reason most absurd; whose common theme\\nIs death of fathers, and who still hath cried,\\nFrom the first corse till he that died to-day,\\n'This must be so.' We pray you, throw to earth\\nThis unprevailing woe; and think of us\\nAs of a father: for let the world take note\\nYou are the most immediate to our throne;\\nAnd with no less nobility of love\\nThan that which dearest father bears his son\\nDo I impart toward you. For your intent\\nIn going back to school in Wittenberg,\\nIt is most retrograde to our desire:\\nAnd we beseech you bend you to remain\\nHere in the cheer and comfort of our eye,\\nOur chiefest courtier, cousin, and our son.\\n\\nQueen.\\nLet not thy mother lose her prayers, Hamlet:\\nI pray thee stay with us; go not to Wittenberg.\\n\\nHam.\\nI shall in all my best obey you, madam.\\n\\nKing.\\nWhy, 'tis a loving and a fair reply:\\nBe as ourself in Denmark.--Madam, come;\\nThis gentle and unforc'd accord of Hamlet\\nSits smiling to my heart: in grace whereof,\\nNo jocund health that Denmark drinks to-day\\nBut the great cannon to the clouds shall tell;\\nAnd the king's rouse the heaven shall bruit again,\\nRe-speaking earthly thunder. Come away.\\n\\n[Exeunt all but Hamlet.]\\n\\nHam.\\nO that this too too solid flesh would melt,\\nThaw, and resolve itself into a dew!\\nOr that the Everlasting had not fix'd\\nHis canon 'gainst self-slaughter! O God! O God!\\nHow weary, stale, flat, and unprofitable\\nSeem to me all the uses of this world!\\nFie on't! O fie! 'tis an unweeded garden,\\nThat grows to seed; things rank and gross in nature\\nPossess it merely. That it should come to this!\\nBut two months dead!--nay, not so much, not two:\\nSo excellent a king; that was, to this,\\nHyperion to a satyr; so loving to my mother,\\nThat he might not beteem the winds of heaven\\nVisit her face too roughly. Heaven and earth!\\nMust I remember? Why, she would hang on him\\nAs if increase of appetite had grown\\nBy what it fed on: and yet, within a month,--\\nLet me not think on't,--Frailty, thy name is woman!--\\nA little month; or ere those shoes were old\\nWith which she followed my poor father's body\\nLike Niobe, all tears;--why she, even she,--\\nO God! a beast that wants discourse of reason,\\nWould have mourn'd longer,--married with mine uncle,\\nMy father's brother; but no more like my father\\nThan I to Hercules: within a month;\\nEre yet the salt of most unrighteous tears\\nHad left the flushing in her galled eyes,\\nShe married:-- O, most wicked speed, to post\\nWith such dexterity to incestuous sheets!\\nIt is not, nor it cannot come to good;\\nBut break my heart,--for I must hold my tongue!\\n\\n[Enter Horatio, Marcellus, and Bernardo.]\\n\\nHor.\\nHail to your lordship!\\n\\nHam.\\nI am glad to see you well:\\nHoratio,--or I do forget myself.\\n\\nHor.\\nThe same, my lord, and your poor servant ever.\\n\\nHam.\\nSir, my good friend; I'll change that name with you:\\nAnd what make you from Wittenberg, Horatio?--\\nMarcellus?\\n\\nMar.\\nMy good lord,--\\n\\nHam.\\nI am very glad to see you.--Good even, sir.--\\nBut what, in faith, make you from Wittenberg?\\n\\nHor.\\nA truant disposition, good my lord.\\n\\nHam.\\nI would not hear your enemy say so;\\nNor shall you do my ear that violence,\\nTo make it truster of your own report\\nAgainst yourself: I know you are no truant.\\nBut what is your affair in Elsinore?\\nWe'll teach you to drink deep ere you depart.\\n\\nHor.\\nMy lord, I came to see your father's funeral.\\n\\nHam.\\nI prithee do not mock me, fellow-student.\\nI think it was to see my mother's wedding.\\n\\nHor.\\nIndeed, my lord, it follow'd hard upon.\\n\\nHam.\\nThrift, thrift, Horatio! The funeral bak'd meats\\nDid coldly furnish forth the marriage tables.\\nWould I had met my dearest foe in heaven\\nOr ever I had seen that day, Horatio!--\\nMy father,--methinks I see my father.\\n\\nHor.\\nWhere, my lord?\\n\\nHam.\\nIn my mind's eye, Horatio.\\n\\nHor.\\nI saw him once; he was a goodly king.\\n\\nHam.\\nHe was a man, take him for all in all,\\nI shall not look upon his like again.\\n\\nHor.\\nMy lord, I think I saw him yesternight.\\n\\nHam.\\nSaw who?\\n\\nHor.\\nMy lord, the king your father.\\n\\nHam.\\nThe King my father!\\n\\nHor.\\nSeason your admiration for awhile\\nWith an attent ear, till I may deliver,\\nUpon the witness of these gentlemen,\\nThis marvel to you.\\n\\nHam.\\nFor God's love let me hear.\\n\\nHor.\\nTwo nights together had these gentlemen,\\nMarcellus and Bernardo, on their watch\\nIn the dead vast and middle of the night,\\nBeen thus encounter'd. A figure like your father,\\nArmed at point exactly, cap-a-pe,\\nAppears before them and with solemn march\\nGoes slow and stately by them: thrice he walk'd\\nBy their oppress'd and fear-surprised eyes,\\nWithin his truncheon's length; whilst they, distill'd\\nAlmost to jelly with the act of fear,\\nStand dumb, and speak not to him. This to me\\nIn dreadful secrecy impart they did;\\nAnd I with them the third night kept the watch:\\nWhere, as they had deliver'd, both in time,\\nForm of the thing, each word made true and good,\\nThe apparition comes: I knew your father;\\nThese hands are not more like.\\n\\nHam.\\nBut where was this?\\n\\nMar.\\nMy lord, upon the platform where we watch'd.\\n\\nHam.\\nDid you not speak to it?\\n\\nHor.\\nMy lord, I did;\\nBut answer made it none: yet once methought\\nIt lifted up it head, and did address\\nItself to motion, like as it would speak:\\nBut even then the morning cock crew loud,\\nAnd at the sound it shrunk in haste away,\\nAnd vanish'd from our sight.\\n\\nHam.\\n'Tis very strange.\\n\\nHor.\\nAs I do live, my honour'd lord, 'tis true;\\nAnd we did think it writ down in our duty\\nTo let you know of it.\\n\\nHam.\\nIndeed, indeed, sirs, but this troubles me.\\nHold you the watch to-night?\\n\\nMar. and Ber.\\nWe do, my lord.\\n\\nHam.\\nArm'd, say you?\\n\\nBoth.\\nArm'd, my lord.\\n\\nHam.\\nFrom top to toe?\\n\\nBoth.\\nMy lord, from head to foot.\\n\\nHam.\\nThen saw you not his face?\\n\\nHor.\\nO, yes, my lord: he wore his beaver up.\\n\\nHam.\\nWhat, look'd he frowningly?\\n\\nHor.\\nA countenance more in sorrow than in anger.\\n\\nHam.\\nPale or red?\\n\\nHor.\\nNay, very pale.\\n\\nHam.\\nAnd fix'd his eyes upon you?\\n\\nHor.\\nMost constantly.\\n\\nHam.\\nI would I had been there.\\n\\nHor.\\nIt would have much amaz'd you.\\n\\nHam.\\nVery like, very like. Stay'd it long?\\n\\nHor.\\nWhile one with moderate haste might tell a hundred.\\n\\nMar. and Ber.\\nLonger, longer.\\n\\nHor.\\nNot when I saw't.\\n\\nHam.\\nHis beard was grizzled,--no?\\n\\nHor.\\nIt was, as I have seen it in his life,\\nA sable silver'd.\\n\\nHam.\\nI will watch to-night;\\nPerchance 'twill walk again.\\n\\nHor.\\nI warr'nt it will.\\n\\nHam.\\nIf it assume my noble father's person,\\nI'll speak to it, though hell itself should gape\\nAnd bid me hold my peace. I pray you all,\\nIf you have hitherto conceal'd this sight,\\nLet it be tenable in your silence still;\\nAnd whatsoever else shall hap to-night,\\nGive it an understanding, but no tongue:\\nI will requite your loves. So, fare ye well:\\nUpon the platform, 'twixt eleven and twelve,\\nI'll visit you.\\n\\nAll.\\nOur duty to your honour.\\n\\nHam.\\nYour loves, as mine to you: farewell.\\n\\n[Exeunt Horatio, Marcellus, and Bernardo.]\\n\\nMy father's spirit in arms! All is not well;\\nI doubt some foul play: would the night were come!\\nTill then sit still, my soul: foul deeds will rise,\\nThough all the earth o'erwhelm them, to men's eyes.\\n\\n[Exit.]\\n\\n\\n\\nScene III. A room in Polonius's house.\\n\\n[Enter Laertes and Ophelia.]\\n\\nLaer.\\nMy necessaries are embark'd: farewell:\\nAnd, sister, as the winds give benefit\\nAnd convoy is assistant, do not sleep,\\nBut let me hear from you.\\n\\nOph.\\nDo you doubt that?\\n\\nLaer.\\nFor Hamlet, and the trifling of his favour,\\nHold it a fashion, and a toy in blood:\\nA violet in the youth of primy nature,\\nForward, not permanent, sweet, not lasting;\\nThe perfume and suppliance of a minute;\\nNo more.\\n\\nOph.\\nNo more but so?\\n\\nLaer.\\nThink it no more:\\nFor nature, crescent, does not grow alone\\nIn thews and bulk; but as this temple waxes,\\nThe inward service of the mind and soul\\nGrows wide withal. Perhaps he loves you now;\\nAnd now no soil nor cautel doth besmirch\\nThe virtue of his will: but you must fear,\\nHis greatness weigh'd, his will is not his own;\\nFor he himself is subject to his birth:\\nHe may not, as unvalu'd persons do,\\nCarve for himself; for on his choice depends\\nThe safety and health of this whole state;\\nAnd therefore must his choice be circumscrib'd\\nUnto the voice and yielding of that body\\nWhereof he is the head. Then if he says he loves you,\\nIt fits your wisdom so far to believe it\\nAs he in his particular act and place\\nMay give his saying deed; which is no further\\nThan the main voice of Denmark goes withal.\\nThen weigh what loss your honour may sustain\\nIf with too credent ear you list his songs,\\nOr lose your heart, or your chaste treasure open\\nTo his unmaster'd importunity.\\nFear it, Ophelia, fear it, my dear sister;\\nAnd keep you in the rear of your affection,\\nOut of the shot and danger of desire.\\nThe chariest maid is prodigal enough\\nIf she unmask her beauty to the moon:\\nVirtue itself scopes not calumnious strokes:\\nThe canker galls the infants of the spring\\nToo oft before their buttons be disclos'd:\\nAnd in the morn and liquid dew of youth\\nContagious blastments are most imminent.\\nBe wary then; best safety lies in fear:\\nYouth to itself rebels, though none else near.\\n\\nOph.\\nI shall th' effect of this good lesson keep\\nAs watchman to my heart. But, good my brother,\\nDo not, as some ungracious pastors do,\\nShow me the steep and thorny way to heaven;\\nWhilst, like a puff'd and reckless libertine,\\nHimself the primrose path of dalliance treads\\nAnd recks not his own read.\\n\\nLaer.\\nO, fear me not.\\nI stay too long:--but here my father comes.\\n\\n[Enter Polonius.]\\n\\nA double blessing is a double grace;\\nOccasion smiles upon a second leave.\\n\\nPol.\\nYet here, Laertes! aboard, aboard, for shame!\\nThe wind sits in the shoulder of your sail,\\nAnd you are stay'd for. There,--my blessing with thee!\\n\\n[Laying his hand on Laertes's head.]\\n\\nAnd these few precepts in thy memory\\nLook thou character. Give thy thoughts no tongue,\\nNor any unproportion'd thought his act.\\nBe thou familiar, but by no means vulgar.\\nThose friends thou hast, and their adoption tried,\\nGrapple them unto thy soul with hoops of steel;\\nBut do not dull thy palm with entertainment\\nOf each new-hatch'd, unfledg'd comrade. Beware\\nOf entrance to a quarrel; but, being in,\\nBear't that the opposed may beware of thee.\\nGive every man thine ear, but few thy voice:\\nTake each man's censure, but reserve thy judgment.\\nCostly thy habit as thy purse can buy,\\nBut not express'd in fancy; rich, not gaudy:\\nFor the apparel oft proclaims the man;\\nAnd they in France of the best rank and station\\nAre most select and generous chief in that.\\nNeither a borrower nor a lender be:\\nFor loan oft loses both itself and friend;\\nAnd borrowing dulls the edge of husbandry.\\nThis above all,--to thine own self be true;\\nAnd it must follow, as the night the day,\\nThou canst not then be false to any man.\\nFarewell: my blessing season this in thee!\\n\\nLaer.\\nMost humbly do I take my leave, my lord.\\n\\nPol.\\nThe time invites you; go, your servants tend.\\n\\nLaer.\\nFarewell, Ophelia; and remember well\\nWhat I have said to you.\\n\\nOph.\\n'Tis in my memory lock'd,\\nAnd you yourself shall keep the key of it.\\n\\nLaer.\\nFarewell.\\n\\n[Exit.]\\n\\nPol.\\nWhat is't, Ophelia, he hath said to you?\\n\\nOph.\\nSo please you, something touching the Lord Hamlet.\\n\\nPol.\\nMarry, well bethought:\\n'Tis told me he hath very oft of late\\nGiven private time to you; and you yourself\\nHave of your audience been most free and bounteous;\\nIf it be so,--as so 'tis put on me,\\nAnd that in way of caution,--I must tell you\\nYou do not understand yourself so clearly\\nAs it behooves my daughter and your honour.\\nWhat is between you? give me up the truth.\\n\\nOph.\\nHe hath, my lord, of late made many tenders\\nOf his affection to me.\\n\\nPol.\\nAffection! pooh! you speak like a green girl,\\nUnsifted in such perilous circumstance.\\nDo you believe his tenders, as you call them?\\n\\nOph.\\nI do not know, my lord, what I should think.\\n\\nPol.\\nMarry, I'll teach you: think yourself a baby;\\nThat you have ta'en these tenders for true pay,\\nWhich are not sterling. Tender yourself more dearly;\\nOr,--not to crack the wind of the poor phrase,\\nWronging it thus,--you'll tender me a fool.\\n\\nOph.\\nMy lord, he hath importun'd me with love\\nIn honourable fashion.\\n\\nPol.\\nAy, fashion you may call it; go to, go to.\\n\\nOph.\\nAnd hath given countenance to his speech, my lord,\\nWith almost all the holy vows of heaven.\\n\\nPol.\\nAy, springes to catch woodcocks. I do know,\\nWhen the blood burns, how prodigal the soul\\nLends the tongue vows: these blazes, daughter,\\nGiving more light than heat,--extinct in both,\\nEven in their promise, as it is a-making,--\\nYou must not take for fire. From this time\\nBe something scanter of your maiden presence;\\nSet your entreatments at a higher rate\\nThan a command to parley. For Lord Hamlet,\\nBelieve so much in him, that he is young;\\nAnd with a larger tether may he walk\\nThan may be given you: in few, Ophelia,\\nDo not believe his vows; for they are brokers,--\\nNot of that dye which their investments show,\\nBut mere implorators of unholy suits,\\nBreathing like sanctified and pious bawds,\\nThe better to beguile. This is for all,--\\nI would not, in plain terms, from this time forth\\nHave you so slander any moment leisure\\nAs to give words or talk with the Lord Hamlet.\\nLook to't, I charge you; come your ways.\\n\\nOph.\\nI shall obey, my lord.\\n\\n[Exeunt.]\\n\\n\\n\\nScene IV. The platform.\\n\\n[Enter Hamlet, Horatio, and Marcellus.]\\n\\nHam.\\nThe air bites shrewdly; it is very cold.\\n\\nHor.\\nIt is a nipping and an eager air.\\n\\nHam.\\nWhat hour now?\\n\\nHor.\\nI think it lacks of twelve.\\n\\nMar.\\nNo, it is struck.\\n\\nHor.\\nIndeed? I heard it not: then draws near the season\\nWherein the spirit held his wont to walk.\\n\\n[A flourish of trumpets, and ordnance shot off within.]\\n\\nWhat does this mean, my lord?\\n\\nHam.\\nThe King doth wake to-night and takes his rouse,\\nKeeps wassail, and the swaggering up-spring reels;\\nAnd, as he drains his draughts of Rhenish down,\\nThe kettle-drum and trumpet thus bray out\\nThe triumph of his pledge.\\n\\nHor.\\nIs it a custom?\\n\\nHam.\\nAy, marry, is't;\\nBut to my mind,--though I am native here,\\nAnd to the manner born,--it is a custom\\nMore honour'd in the breach than the observance.\\nThis heavy-headed revel east and west\\nMakes us traduc'd and tax'd of other nations:\\nThey clepe us drunkards, and with swinish phrase\\nSoil our addition; and, indeed, it takes\\nFrom our achievements, though perform'd at height,\\nThe pith and marrow of our attribute.\\nSo oft it chances in particular men\\nThat, for some vicious mole of nature in them,\\nAs in their birth,--wherein they are not guilty,\\nSince nature cannot choose his origin,--\\nBy the o'ergrowth of some complexion,\\nOft breaking down the pales and forts of reason;\\nOr by some habit, that too much o'er-leavens\\nThe form of plausive manners;--that these men,--\\nCarrying, I say, the stamp of one defect,\\nBeing nature's livery, or fortune's star,--\\nTheir virtues else,--be they as pure as grace,\\nAs infinite as man may undergo,--\\nShall in the general censure take corruption\\nFrom that particular fault: the dram of eale\\nDoth all the noble substance often doubt\\nTo his own scandal.\\n\\nHor.\\nLook, my lord, it comes!\\n\\n[Enter Ghost.]\\n\\nHam.\\nAngels and ministers of grace defend us!--\\nBe thou a spirit of health or goblin damn'd,\\nBring with thee airs from heaven or blasts from hell,\\nBe thy intents wicked or charitable,\\nThou com'st in such a questionable shape\\nThat I will speak to thee: I'll call thee Hamlet,\\nKing, father, royal Dane; O, answer me!\\nLet me not burst in ignorance; but tell\\nWhy thy canoniz'd bones, hearsed in death,\\nHave burst their cerements; why the sepulchre,\\nWherein we saw thee quietly in-urn'd,\\nHath op'd his ponderous and marble jaws\\nTo cast thee up again! What may this mean,\\nThat thou, dead corse, again in complete steel,\\nRevisit'st thus the glimpses of the moon,\\nMaking night hideous, and we fools of nature\\nSo horridly to shake our disposition\\nWith thoughts beyond the reaches of our souls?\\nSay, why is this? wherefore? what should we do?\\n\\n[Ghost beckons Hamlet.]\\n\\nHor.\\nIt beckons you to go away with it,\\nAs if it some impartment did desire\\nTo you alone.\\n\\nMar.\\nLook with what courteous action\\nIt waves you to a more removed ground:\\nBut do not go with it!\\n\\nHor.\\nNo, by no means.\\n\\nHam.\\nIt will not speak; then will I follow it.\\n\\nHor.\\nDo not, my lord.\\n\\nHam.\\nWhy, what should be the fear?\\nI do not set my life at a pin's fee;\\nAnd for my soul, what can it do to that,\\nBeing a thing immortal as itself?\\nIt waves me forth again;--I'll follow it.\\n\\nHor.\\nWhat if it tempt you toward the flood, my lord,\\nOr to the dreadful summit of the cliff\\nThat beetles o'er his base into the sea,\\nAnd there assume some other horrible form\\nWhich might deprive your sovereignty of reason,\\nAnd draw you into madness? think of it:\\nThe very place puts toys of desperation,\\nWithout more motive, into every brain\\nThat looks so many fadoms to the sea\\nAnd hears it roar beneath.\\n\\nHam.\\nIt waves me still.--\\nGo on; I'll follow thee.\\n\\nMar.\\nYou shall not go, my lord.\\n\\nHam.\\nHold off your hands.\\n\\nHor.\\nBe rul'd; you shall not go.\\n\\nHam.\\nMy fate cries out,\\nAnd makes each petty artery in this body\\nAs hardy as the Nemean lion's nerve.--\\n\\n[Ghost beckons.]\\n\\nStill am I call'd;--unhand me, gentlemen;--\\n\\n[Breaking free from them.]\\n\\nBy heaven, I'll make a ghost of him that lets me!--\\nI say, away!--Go on; I'll follow thee.\\n\\n[Exeunt Ghost and Hamlet.]\\n\\nHor.\\nHe waxes desperate with imagination.\\n\\nMar.\\nLet's follow; 'tis not fit thus to obey him.\\n\\nHor.\\nHave after.--To what issue will this come?\\n\\nMar.\\nSomething is rotten in the state of Denmark.\\n\\nHor.\\nHeaven will direct it.\\n\\nMar.\\nNay, let's follow him.\\n\\n[Exeunt.]\\n\\n\\n\\nScene V. A more remote part of the Castle.\\n\\n[Enter Ghost and Hamlet.]\\n\\nHam.\\nWhither wilt thou lead me? speak! I'll go no further.\\n\\nGhost.\\nMark me.\\n\\nHam.\\nI will.\\n\\nGhost.\\nMy hour is almost come,\\nWhen I to sulph'uous and tormenting flames\\nMust render up myself.\\n\\nHam.\\nAlas, poor ghost!\\n\\nGhost.\\nPity me not, but lend thy serious hearing\\nTo what I shall unfold.\\n\\nHam.\\nSpeak; I am bound to hear.\\n\\nGhost.\\nSo art thou to revenge, when thou shalt hear.\\n\\nHam.\\nWhat?\\n\\nGhost.\\nI am thy father's spirit;\\nDoom'd for a certain term to walk the night,\\nAnd for the day confin'd to wastein fires,\\nTill the foul crimes done in my days of nature\\nAre burnt and purg'd away. But that I am forbid\\nTo tell the secrets of my prison-house,\\nI could a tale unfold whose lightest word\\nWould harrow up thy soul; freeze thy young blood;\\nMake thy two eyes, like stars, start from their spheres;\\nThy knotted and combined locks to part,\\nAnd each particular hair to stand on end\\nLike quills upon the fretful porcupine:\\nBut this eternal blazon must not be\\nTo ears of flesh and blood.--List, list, O, list!--\\nIf thou didst ever thy dear father love--\\n\\nHam.\\nO God!\\n\\nGhost.\\nRevenge his foul and most unnatural murder.\\n\\nHam.\\nMurder!\\n\\nGhost.\\nMurder most foul, as in the best it is;\\nBut this most foul, strange, and unnatural.\\n\\nHam.\\nHaste me to know't, that I, with wings as swift\\nAs meditation or the thoughts of love,\\nMay sweep to my revenge.\\n\\nGhost.\\nI find thee apt;\\nAnd duller shouldst thou be than the fat weed\\nThat rots itself in ease on Lethe wharf,\\nWouldst thou not stir in this. Now, Hamlet, hear.\\n'Tis given out that, sleeping in my orchard,\\nA serpent stung me; so the whole ear of Denmark\\nIs by a forged process of my death\\nRankly abus'd; but know, thou noble youth,\\nThe serpent that did sting thy father's life\\nNow wears his crown.\\n\\nHam.\\nO my prophetic soul!\\nMine uncle!\\n\\nGhost.\\nAy, that incestuous, that adulterate beast,\\nWith witchcraft of his wit, with traitorous gifts,--\\nO wicked wit and gifts, that have the power\\nSo to seduce!--won to his shameful lust\\nThe will of my most seeming-virtuous queen:\\nO Hamlet, what a falling-off was there!\\nFrom me, whose love was of that dignity\\nThat it went hand in hand even with the vow\\nI made to her in marriage; and to decline\\nUpon a wretch whose natural gifts were poor\\nTo those of mine!\\nBut virtue, as it never will be mov'd,\\nThough lewdness court it in a shape of heaven;\\nSo lust, though to a radiant angel link'd,\\nWill sate itself in a celestial bed\\nAnd prey on garbage.\\nBut soft! methinks I scent the morning air;\\nBrief let me be.--Sleeping within my orchard,\\nMy custom always of the afternoon,\\nUpon my secure hour thy uncle stole,\\nWith juice of cursed hebenon in a vial,\\nAnd in the porches of my ears did pour\\nThe leperous distilment; whose effect\\nHolds such an enmity with blood of man\\nThat, swift as quicksilver, it courses through\\nThe natural gates and alleys of the body;\\nAnd with a sudden vigour it doth posset\\nAnd curd, like eager droppings into milk,\\nThe thin and wholesome blood; so did it mine;\\nAnd a most instant tetter bark'd about,\\nMost lazar-like, with vile and loathsome crust\\nAll my smooth body.\\nThus was I, sleeping, by a brother's hand,\\nOf life, of crown, of queen, at once dispatch'd:\\nCut off even in the blossoms of my sin,\\nUnhous'led, disappointed, unanel'd;\\nNo reckoning made, but sent to my account\\nWith all my imperfections on my head:\\nO, horrible! O, horrible! most horrible!\\nIf thou hast nature in thee, bear it not;\\nLet not the royal bed of Denmark be\\nA couch for luxury and damned incest.\\nBut, howsoever thou pursu'st this act,\\nTaint not thy mind, nor let thy soul contrive\\nAgainst thy mother aught: leave her to heaven,\\nAnd to those thorns that in her bosom lodge,\\nTo prick and sting her. Fare thee well at once!\\nThe glowworm shows the matin to be near,\\nAnd 'gins to pale his uneffectual fire:\\nAdieu, adieu! Hamlet, remember me.\\n\\n[Exit.]\\n\\nHam.\\nO all you host of heaven! O earth! what else?\\nAnd shall I couple hell? O, fie!--Hold, my heart;\\nAnd you, my sinews, grow not instant old,\\nBut bear me stiffly up.--Remember thee!\\nAy, thou poor ghost, while memory holds a seat\\nIn this distracted globe. Remember thee!\\nYea, from the table of my memory\\nI'll wipe away all trivial fond records,\\nAll saws of books, all forms, all pressures past,\\nThat youth and observation copied there;\\nAnd thy commandment all alone shall live\\nWithin the book and volume of my brain,\\nUnmix'd with baser matter: yes, by heaven!--\\nO most pernicious woman!\\nO villain, villain, smiling, damned villain!\\nMy tables,--meet it is I set it down,\\nThat one may smile, and smile, and be a villain;\\nAt least, I am sure, it may be so in Denmark:\\n\\n[Writing.]\\n\\nSo, uncle, there you are. Now to my word;\\nIt is 'Adieu, adieu! remember me:'\\nI have sworn't.\\n\\nHor.\\n[Within.] My lord, my lord,--\\n\\nMar.\\n[Within.] Lord Hamlet,--\\n\\nHor.\\n[Within.] Heaven secure him!\\n\\nHam.\\nSo be it!\\n\\nMar.\\n[Within.] Illo, ho, ho, my lord!\\n\\nHam.\\nHillo, ho, ho, boy! Come, bird, come.\\n\\n[Enter Horatio and Marcellus.]\\n\\nMar.\\nHow is't, my noble lord?\\n\\nHor.\\nWhat news, my lord?\\n\\nHam.\\nO, wonderful!\\n\\nHor.\\nGood my lord, tell it.\\n\\nHam.\\nNo; you'll reveal it.\\n\\nHor.\\nNot I, my lord, by heaven.\\n\\nMar.\\nNor I, my lord.\\n\\nHam.\\nHow say you then; would heart of man once think it?--\\nBut you'll be secret?\\n\\nHor. and Mar.\\nAy, by heaven, my lord.\\n\\nHam.\\nThere's ne'er a villain dwelling in all Denmark\\nBut he's an arrant knave.\\n\\nHor.\\nThere needs no ghost, my lord, come from the grave\\nTo tell us this.\\n\\nHam.\\nWhy, right; you are i' the right;\\nAnd so, without more circumstance at all,\\nI hold it fit that we shake hands and part:\\nYou, as your business and desires shall point you,--\\nFor every man hath business and desire,\\nSuch as it is;--and for my own poor part,\\nLook you, I'll go pray.\\n\\nHor.\\nThese are but wild and whirling words, my lord.\\n\\nHam.\\nI'm sorry they offend you, heartily;\\nYes, faith, heartily.\\n\\nHor.\\nThere's no offence, my lord.\\n\\nHam.\\nYes, by Saint Patrick, but there is, Horatio,\\nAnd much offence too. Touching this vision here,--\\nIt is an honest ghost, that let me tell you:\\nFor your desire to know what is between us,\\nO'ermaster't as you may. And now, good friends,\\nAs you are friends, scholars, and soldiers,\\nGive me one poor request.\\n\\nHor.\\nWhat is't, my lord? we will.\\n\\nHam.\\nNever make known what you have seen to-night.\\n\\nHor. and Mar.\\nMy lord, we will not.\\n\\nHam.\\nNay, but swear't.\\n\\nHor.\\nIn faith,\\nMy lord, not I.\\n\\nMar.\\nNor I, my lord, in faith.\\n\\nHam.\\nUpon my sword.\\n\\nMar.\\nWe have sworn, my lord, already.\\n\\nHam.\\nIndeed, upon my sword, indeed.\\n\\nGhost.\\n[Beneath.] Swear.\\n\\nHam.\\nHa, ha boy! say'st thou so? art thou there, truepenny?--\\nCome on!--you hear this fellow in the cellarage,--\\nConsent to swear.\\n\\nHor.\\nPropose the oath, my lord.\\n\\nHam.\\nNever to speak of this that you have seen,\\nSwear by my sword.\\n\\nGhost.\\n[Beneath.] Swear.\\n\\nHam.\\nHic et ubique? then we'll shift our ground.--\\nCome hither, gentlemen,\\nAnd lay your hands again upon my sword:\\nNever to speak of this that you have heard,\\nSwear by my sword.\\n\\nGhost.\\n[Beneath.] Swear.\\n\\nHam.\\nWell said, old mole! canst work i' the earth so fast?\\nA worthy pioner!--Once more remove, good friends.\\n\\nHor.\\nO day and night, but this is wondrous strange!\\n\\nHam.\\nAnd therefore as a stranger give it welcome.\\nThere are more things in heaven and earth, Horatio,\\nThan are dreamt of in your philosophy.\\nBut come;--\\nHere, as before, never, so help you mercy,\\nHow strange or odd soe'er I bear myself,--\\nAs I, perchance, hereafter shall think meet\\nTo put an antic disposition on,--\\nThat you, at such times seeing me, never shall,\\nWith arms encumber'd thus, or this head-shake,\\nOr by pronouncing of some doubtful phrase,\\nAs 'Well, well, we know'; or 'We could, an if we would';--\\nOr 'If we list to speak'; or 'There be, an if they might';--\\nOr such ambiguous giving out, to note\\nThat you know aught of me:--this is not to do,\\nSo grace and mercy at your most need help you,\\nSwear.\\n\\nGhost.\\n[Beneath.] Swear.\\n\\nHam.\\nRest, rest, perturbed spirit!--So, gentlemen,\\nWith all my love I do commend me to you:\\nAnd what so poor a man as Hamlet is\\nMay do, to express his love and friending to you,\\nGod willing, shall not lack. Let us go in together;\\nAnd still your fingers on your lips, I pray.\\nThe time is out of joint:--O cursed spite,\\nThat ever I was born to set it right!--\\nNay, come, let's go together.\\n\\n[Exeunt.]\\n\\n\\n\\nAct II.\\n\\nScene I. A room in Polonius's house.\\n\\n[Enter Polonius and Reynaldo.]\\n\\nPol.\\nGive him this money and these notes, Reynaldo.\\n\\nRey.\\nI will, my lord.\\n\\nPol.\\nYou shall do marvellous wisely, good Reynaldo,\\nBefore You visit him, to make inquiry\\nOf his behaviour.\\n\\nRey.\\nMy lord, I did intend it.\\n\\nPol.\\nMarry, well said; very well said. Look you, sir,\\nEnquire me first what Danskers are in Paris;\\nAnd how, and who, what means, and where they keep,\\nWhat company, at what expense; and finding,\\nBy this encompassment and drift of question,\\nThat they do know my son, come you more nearer\\nThan your particular demands will touch it:\\nTake you, as 'twere, some distant knowledge of him;\\nAs thus, 'I know his father and his friends,\\nAnd in part him;--do you mark this, Reynaldo?\\n\\nRey.\\nAy, very well, my lord.\\n\\nPol.\\n'And in part him;--but,' you may say, 'not well:\\nBut if't be he I mean, he's very wild;\\nAddicted so and so;' and there put on him\\nWhat forgeries you please; marry, none so rank\\nAs may dishonour him; take heed of that;\\nBut, sir, such wanton, wild, and usual slips\\nAs are companions noted and most known\\nTo youth and liberty.\\n\\nRey.\\nAs gaming, my lord.\\n\\nPol.\\nAy, or drinking, fencing, swearing, quarrelling,\\nDrabbing:--you may go so far.\\n\\nRey.\\nMy lord, that would dishonour him.\\n\\nPol.\\nFaith, no; as you may season it in the charge.\\nYou must not put another scandal on him,\\nThat he is open to incontinency;\\nThat's not my meaning: but breathe his faults so quaintly\\nThat they may seem the taints of liberty;\\nThe flash and outbreak of a fiery mind;\\nA savageness in unreclaimed blood,\\nOf general assault.\\n\\nRey.\\nBut, my good lord,--\\n\\nPol.\\nWherefore should you do this?\\n\\nRey.\\nAy, my lord,\\nI would know that.\\n\\nPol.\\nMarry, sir, here's my drift;\\nAnd I believe it is a fetch of warrant:\\nYou laying these slight sullies on my son\\nAs 'twere a thing a little soil'd i' the working,\\nMark you,\\nYour party in converse, him you would sound,\\nHaving ever seen in the prenominate crimes\\nThe youth you breathe of guilty, be assur'd\\nHe closes with you in this consequence;\\n'Good sir,' or so; or 'friend,' or 'gentleman'--\\nAccording to the phrase or the addition\\nOf man and country.\\n\\nRey.\\nVery good, my lord.\\n\\nPol.\\nAnd then, sir, does he this,--he does--What was I about to say?--\\nBy the mass, I was about to say something:--Where did I leave?\\n\\nRey.\\nAt 'closes in the consequence,' at 'friend or so,' and\\ngentleman.'\\n\\nPol.\\nAt--closes in the consequence'--ay, marry!\\nHe closes with you thus:--'I know the gentleman;\\nI saw him yesterday, or t'other day,\\nOr then, or then; with such, or such; and, as you say,\\nThere was he gaming; there o'ertook in's rouse;\\nThere falling out at tennis': or perchance,\\n'I saw him enter such a house of sale,'--\\nVidelicet, a brothel,--or so forth.--\\nSee you now;\\nYour bait of falsehood takes this carp of truth:\\nAnd thus do we of wisdom and of reach,\\nWith windlaces, and with assays of bias,\\nBy indirections find directions out:\\nSo, by my former lecture and advice,\\nShall you my son. You have me, have you not?\\n\\nRey.\\nMy lord, I have.\\n\\nPol.\\nGod b' wi' you, fare you well.\\n\\nRey.\\nGood my lord!\\n\\nPol.\\nObserve his inclination in yourself.\\n\\nRey.\\nI shall, my lord.\\n\\nPol.\\nAnd let him ply his music.\\n\\nRey.\\nWell, my lord.\\n\\nPol.\\nFarewell!\\n\\n[Exit Reynaldo.]\\n\\n[Enter Ophelia.]\\n\\nHow now, Ophelia! what's the matter?\\n\\nOph.\\nAlas, my lord, I have been so affrighted!\\n\\nPol.\\nWith what, i' the name of God?\\n\\nOph.\\nMy lord, as I was sewing in my chamber,\\nLord Hamlet,--with his doublet all unbrac'd;\\nNo hat upon his head; his stockings foul'd,\\nUngart'red, and down-gyved to his ankle;\\nPale as his shirt; his knees knocking each other;\\nAnd with a look so piteous in purport\\nAs if he had been loosed out of hell\\nTo speak of horrors,--he comes before me.\\n\\nPol.\\nMad for thy love?\\n\\nOph.\\nMy lord, I do not know;\\nBut truly I do fear it.\\n\\nPol.\\nWhat said he?\\n\\nOph.\\nHe took me by the wrist, and held me hard;\\nThen goes he to the length of all his arm;\\nAnd with his other hand thus o'er his brow,\\nHe falls to such perusal of my face\\nAs he would draw it. Long stay'd he so;\\nAt last,--a little shaking of mine arm,\\nAnd thrice his head thus waving up and down,--\\nHe rais'd a sigh so piteous and profound\\nAs it did seem to shatter all his bulk\\nAnd end his being: that done, he lets me go:\\nAnd, with his head over his shoulder turn'd\\nHe seem'd to find his way without his eyes;\\nFor out o' doors he went without their help,\\nAnd to the last bended their light on me.\\n\\nPol.\\nCome, go with me: I will go seek the king.\\nThis is the very ecstasy of love;\\nWhose violent property fordoes itself,\\nAnd leads the will to desperate undertakings,\\nAs oft as any passion under heaven\\nThat does afflict our natures. I am sorry,--\\nWhat, have you given him any hard words of late?\\n\\nOph.\\nNo, my good lord; but, as you did command,\\nI did repel his letters and denied\\nHis access to me.\\n\\nPol.\\nThat hath made him mad.\\nI am sorry that with better heed and judgment\\nI had not quoted him: I fear'd he did but trifle,\\nAnd meant to wreck thee; but beshrew my jealousy!\\nIt seems it as proper to our age\\nTo cast beyond ourselves in our opinions\\nAs it is common for the younger sort\\nTo lack discretion. Come, go we to the king:\\nThis must be known; which, being kept close, might move\\nMore grief to hide than hate to utter love.\\n\\n[Exeunt.]\\n\\n\\n\\nScene II. A room in the Castle.\\n\\n[Enter King, Rosencrantz, Guildenstern, and Attendants.]\\n\\nKing.\\nWelcome, dear Rosencrantz and Guildenstern!\\nMoreover that we much did long to see you,\\nThe need we have to use you did provoke\\nOur hasty sending. Something have you heard\\nOf Hamlet's transformation; so I call it,\\nSince nor the exterior nor the inward man\\nResembles that it was. What it should be,\\nMore than his father's death, that thus hath put him\\nSo much from the understanding of himself,\\nI cannot dream of: I entreat you both\\nThat, being of so young days brought up with him,\\nAnd since so neighbour'd to his youth and humour,\\nThat you vouchsafe your rest here in our court\\nSome little time: so by your companies\\nTo draw him on to pleasures, and to gather,\\nSo much as from occasion you may glean,\\nWhether aught, to us unknown, afflicts him thus,\\nThat, open'd, lies within our remedy.\\n\\nQueen.\\nGood gentlemen, he hath much talk'd of you,\\nAnd sure I am two men there are not living\\nTo whom he more adheres. If it will please you\\nTo show us so much gentry and good-will\\nAs to expend your time with us awhile,\\nFor the supply and profit of our hope,\\nYour visitation shall receive such thanks\\nAs fits a king's remembrance.\\n\\nRos.\\nBoth your majesties\\nMight, by the sovereign power you have of us,\\nPut your dread pleasures more into command\\nThan to entreaty.\\n\\nGuil.\\nWe both obey,\\nAnd here give up ourselves, in the full bent,\\nTo lay our service freely at your feet,\\nTo be commanded.\\n\\nKing.\\nThanks, Rosencrantz and gentle Guildenstern.\\n\\nQueen.\\nThanks, Guildenstern and gentle Rosencrantz:\\nAnd I beseech you instantly to visit\\nMy too-much-changed son.--Go, some of you,\\nAnd bring these gentlemen where Hamlet is.\\n\\nGuil.\\nHeavens make our presence and our practices\\nPleasant and helpful to him!\\n\\nQueen.\\nAy, amen!\\n\\n[Exeunt Rosencrantz, Guildenstern, and some Attendants].\\n\\n[Enter Polonius.]\\n\\nPol.\\nTh' ambassadors from Norway, my good lord,\\nAre joyfully return'd.\\n\\nKing.\\nThou still hast been the father of good news.\\n\\nPol.\\nHave I, my lord? Assure you, my good liege,\\nI hold my duty, as I hold my soul,\\nBoth to my God and to my gracious king:\\nAnd I do think,--or else this brain of mine\\nHunts not the trail of policy so sure\\nAs it hath us'd to do,--that I have found\\nThe very cause of Hamlet's lunacy.\\n\\nKing.\\nO, speak of that; that do I long to hear.\\n\\nPol.\\nGive first admittance to the ambassadors;\\nMy news shall be the fruit to that great feast.\\n\\nKing.\\nThyself do grace to them, and bring them in.\\n\\n[Exit Polonius.]\\n\\nHe tells me, my sweet queen, he hath found\\nThe head and source of all your son's distemper.\\n\\nQueen.\\nI doubt it is no other but the main,--\\nHis father's death and our o'erhasty marriage.\\n\\nKing.\\nWell, we shall sift him.\\n\\n[Enter Polonius, with Voltimand and Cornelius.]\\n\\nWelcome, my good friends!\\nSay, Voltimand, what from our brother Norway?\\n\\nVolt.\\nMost fair return of greetings and desires.\\nUpon our first, he sent out to suppress\\nHis nephew's levies; which to him appear'd\\nTo be a preparation 'gainst the Polack;\\nBut, better look'd into, he truly found\\nIt was against your highness; whereat griev'd,--\\nThat so his sickness, age, and impotence\\nWas falsely borne in hand,--sends out arrests\\nOn Fortinbras; which he, in brief, obeys;\\nReceives rebuke from Norway; and, in fine,\\nMakes vow before his uncle never more\\nTo give th' assay of arms against your majesty.\\nWhereon old Norway, overcome with joy,\\nGives him three thousand crowns in annual fee;\\nAnd his commission to employ those soldiers,\\nSo levied as before, against the Polack:\\nWith an entreaty, herein further shown,\\n[Gives a paper.]\\nThat it might please you to give quiet pass\\nThrough your dominions for this enterprise,\\nOn such regards of safety and allowance\\nAs therein are set down.\\n\\nKing.\\nIt likes us well;\\nAnd at our more consider'd time we'll read,\\nAnswer, and think upon this business.\\nMeantime we thank you for your well-took labour:\\nGo to your rest; at night we'll feast together:\\nMost welcome home!\\n\\n[Exeunt Voltimand and Cornelius.]\\n\\nPol.\\nThis business is well ended.--\\nMy liege, and madam,--to expostulate\\nWhat majesty should be, what duty is,\\nWhy day is day, night is night, and time is time.\\nWere nothing but to waste night, day, and time.\\nTherefore, since brevity is the soul of wit,\\nAnd tediousness the limbs and outward flourishes,\\nI will be brief:--your noble son is mad:\\nMad call I it; for to define true madness,\\nWhat is't but to be nothing else but mad?\\nBut let that go.\\n\\nQueen.\\nMore matter, with less art.\\n\\nPol.\\nMadam, I swear I use no art at all.\\nThat he is mad, 'tis true: 'tis true 'tis pity;\\nAnd pity 'tis 'tis true: a foolish figure;\\nBut farewell it, for I will use no art.\\nMad let us grant him then: and now remains\\nThat we find out the cause of this effect;\\nOr rather say, the cause of this defect,\\nFor this effect defective comes by cause:\\nThus it remains, and the remainder thus.\\nPerpend.\\nI have a daughter,--have whilst she is mine,--\\nWho, in her duty and obedience, mark,\\nHath given me this: now gather, and surmise.\\n[Reads.]\\n'To the celestial, and my soul's idol, the most beautified\\nOphelia,'--\\nThat's an ill phrase, a vile phrase; 'beautified' is a vile\\nphrase: but you shall hear. Thus:\\n[Reads.]\\n'In her excellent white bosom, these, &c.'\\n\\nQueen.\\nCame this from Hamlet to her?\\n\\nPol.\\nGood madam, stay awhile; I will be faithful.\\n[Reads.]\\n  'Doubt thou the stars are fire;\\n     Doubt that the sun doth move;\\n   Doubt truth to be a liar;\\n     But never doubt I love.\\n'O dear Ophelia, I am ill at these numbers; I have not art to\\nreckon my groans: but that I love thee best, O most best, believe\\nit. Adieu.\\n  'Thine evermore, most dear lady, whilst this machine is to him,\\n     HAMLET.'\\nThis, in obedience, hath my daughter show'd me;\\nAnd more above, hath his solicitings,\\nAs they fell out by time, by means, and place,\\nAll given to mine ear.\\n\\nKing.\\nBut how hath she\\nReceiv'd his love?\\n\\nPol.\\nWhat do you think of me?\\n\\nKing.\\nAs of a man faithful and honourable.\\n\\nPol.\\nI would fain prove so. But what might you think,\\nWhen I had seen this hot love on the wing,--\\nAs I perceiv'd it, I must tell you that,\\nBefore my daughter told me,-- what might you,\\nOr my dear majesty your queen here, think,\\nIf I had play'd the desk or table-book,\\nOr given my heart a winking, mute and dumb;\\nOr look'd upon this love with idle sight;--\\nWhat might you think? No, I went round to work,\\nAnd my young mistress thus I did bespeak:\\n'Lord Hamlet is a prince, out of thy sphere;\\nThis must not be:' and then I precepts gave her,\\nThat she should lock herself from his resort,\\nAdmit no messengers, receive no tokens.\\nWhich done, she took the fruits of my advice;\\nAnd he, repulsed,--a short tale to make,--\\nFell into a sadness; then into a fast;\\nThence to a watch; thence into a weakness;\\nThence to a lightness; and, by this declension,\\nInto the madness wherein now he raves,\\nAnd all we wail for.\\n\\nKing.\\nDo you think 'tis this?\\n\\nQueen.\\nIt may be, very likely.\\n\\nPol.\\nHath there been such a time,--I'd fain know that--\\nThat I have positively said ''Tis so,'\\nWhen it prov'd otherwise?\\n\\nKing.\\nNot that I know.\\n\\nPol.\\nTake this from this, if this be otherwise:\\n[Points to his head and shoulder.]\\nIf circumstances lead me, I will find\\nWhere truth is hid, though it were hid indeed\\nWithin the centre.\\n\\nKing.\\nHow may we try it further?\\n\\nPol.\\nYou know sometimes he walks for hours together\\nHere in the lobby.\\n\\nQueen.\\nSo he does indeed.\\n\\nPol.\\nAt such a time I'll loose my daughter to him:\\nBe you and I behind an arras then;\\nMark the encounter: if he love her not,\\nAnd he not from his reason fall'n thereon\\nLet me be no assistant for a state,\\nBut keep a farm and carters.\\n\\nKing.\\nWe will try it.\\n\\nQueen.\\nBut look where sadly the poor wretch comes reading.\\n\\nPol.\\nAway, I do beseech you, both away\\nI'll board him presently:--O, give me leave.\\n\\n[Exeunt King, Queen, and Attendants.]\\n\\n[Enter Hamlet, reading.]\\n\\nHow does my good Lord Hamlet?\\n\\nHam.\\nWell, God-a-mercy.\\n\\nPol.\\nDo you know me, my lord?\\n\\nHam.\\nExcellent well; you're a fishmonger.\\n\\nPol.\\nNot I, my lord.\\n\\nHam.\\nThen I would you were so honest a man.\\n\\nPol.\\nHonest, my lord!\\n\\nHam.\\nAy, sir; to be honest, as this world goes, is to be one man\\npicked out of ten thousand.\\n\\nPol.\\nThat's very true, my lord.\\n\\nHam.\\nFor if the sun breed maggots in a dead dog, being a god-kissing\\ncarrion,--Have you a daughter?\\n\\nPol.\\nI have, my lord.\\n\\nHam.\\nLet her not walk i' the sun: conception is a blessing, but not\\nas your daughter may conceive:--friend, look to't.\\n\\nPol.\\nHow say you by that?--[Aside.] Still harping on my daughter:--yet\\nhe knew me not at first; he said I was a fishmonger: he is far\\ngone, far gone: and truly in my youth I suffered much extremity\\nfor love; very near this. I'll speak to him again.--What do you\\nread, my lord?\\n\\nHam.\\nWords, words, words.\\n\\nPol.\\nWhat is the matter, my lord?\\n\\nHam.\\nBetween who?\\n\\nPol.\\nI mean, the matter that you read, my lord.\\n\\nHam.\\nSlanders, sir: for the satirical slave says here that old men\\nhave grey beards; that their faces are wrinkled; their eyes\\npurging thick amber and plum-tree gum; and that they have a\\nplentiful lack of wit, together with most weak hams: all which,\\nsir, though I most powerfully and potently believe, yet I hold it\\nnot honesty to have it thus set down; for you yourself, sir,\\nshould be old as I am, if, like a crab, you could go backward.\\n\\nPol.\\n[Aside.] Though this be madness, yet there is a method in't.--\\nWill you walk out of the air, my lord?\\n\\nHam.\\nInto my grave?\\n\\nPol.\\nIndeed, that is out o' the air. [Aside.] How pregnant sometimes\\nhis replies are! a happiness that often madness hits on, which\\nreason and sanity could not so prosperously be delivered of. I\\nwill leave him and suddenly contrive the means of meeting between\\nhim and my daughter.--My honourable lord, I will most humbly take\\nmy leave of you.\\n\\nHam.\\nYou cannot, sir, take from me anything that I will more\\nwillingly part withal,--except my life, except my life, except my\\nlife.\\n\\nPol.\\nFare you well, my lord.\\n\\nHam.\\nThese tedious old fools!\\n\\n[Enter Rosencrantz and Guildenstern.]\\n\\nPol.\\nYou go to seek the Lord Hamlet; there he is.\\n\\nRos.\\n[To Polonius.] God save you, sir!\\n\\n[Exit Polonius.]\\n\\nGuil.\\nMy honoured lord!\\n\\nRos.\\nMy most dear lord!\\n\\nHam.\\nMy excellent good friends! How dost thou, Guildenstern? Ah,\\nRosencrantz! Good lads, how do ye both?\\n\\nRos.\\nAs the indifferent children of the earth.\\n\\nGuil.\\nHappy in that we are not over-happy;\\nOn fortune's cap we are not the very button.\\n\\nHam.\\nNor the soles of her shoe?\\n\\nRos.\\nNeither, my lord.\\n\\nHam.\\nThen you live about her waist, or in the middle of her\\nfavours?\\n\\nGuil.\\nFaith, her privates we.\\n\\nHam.\\nIn the secret parts of fortune? O, most true; she is a\\nstrumpet. What's the news?\\n\\nRos.\\nNone, my lord, but that the world's grown honest.\\n\\nHam.\\nThen is doomsday near; but your news is not true. Let me\\nquestion more in particular: what have you, my good friends,\\ndeserved at the hands of fortune, that she sends you to prison\\nhither?\\n\\nGuil.\\nPrison, my lord!\\n\\nHam.\\nDenmark's a prison.\\n\\nRos.\\nThen is the world one.\\n\\nHam.\\nA goodly one; in which there are many confines, wards, and\\ndungeons, Denmark being one o' the worst.\\n\\nRos.\\nWe think not so, my lord.\\n\\nHam.\\nWhy, then 'tis none to you; for there is nothing either good\\nor bad but thinking makes it so: to me it is a prison.\\n\\nRos.\\nWhy, then, your ambition makes it one; 'tis too narrow for your\\nmind.\\n\\nHam.\\nO God, I could be bounded in a nutshell, and count myself a\\nking of infinite space, were it not that I have bad dreams.\\n\\nGuil.\\nWhich dreams, indeed, are ambition; for the very substance of\\nthe ambitious is merely the shadow of a dream.\\n\\nHam.\\nA dream itself is but a shadow.\\n\\nRos.\\nTruly, and I hold ambition of so airy and light a quality that\\nit is but a shadow's shadow.\\n\\nHam.\\nThen are our beggars bodies, and our monarchs and outstretch'd\\nheroes the beggars' shadows. Shall we to the court? for, by my\\nfay, I cannot reason.\\n\\nRos. and Guild.\\nWe'll wait upon you.\\n\\nHam.\\nNo such matter: I will not sort you with the rest of my\\nservants; for, to speak to you like an honest man, I am most\\ndreadfully attended. But, in the beaten way of friendship, what\\nmake you at Elsinore?\\n\\nRos.\\nTo visit you, my lord; no other occasion.\\n\\nHam.\\nBeggar that I am, I am even poor in thanks; but I thank you:\\nand sure, dear friends, my thanks are too dear a halfpenny. Were\\nyou not sent for? Is it your own inclining? Is it a free\\nvisitation? Come, deal justly with me: come, come; nay, speak.\\n\\nGuil.\\nWhat should we say, my lord?\\n\\nHam.\\nWhy, anything--but to the purpose. You were sent for; and\\nthere is a kind of confession in your looks, which your modesties\\nhave not craft enough to colour: I know the good king and queen\\nhave sent for you.\\n\\nRos.\\nTo what end, my lord?\\n\\nHam.\\nThat you must teach me. But let me conjure you, by the rights\\nof our fellowship, by the consonancy of our youth, by the\\nobligation of our ever-preserved love, and by what more dear a\\nbetter proposer could charge you withal, be even and direct with\\nme, whether you were sent for or no.\\n\\nRos.\\n[To Guildenstern.] What say you?\\n\\nHam.\\n[Aside.] Nay, then, I have an eye of you.--If you love me, hold\\nnot off.\\n\\nGuil.\\nMy lord, we were sent for.\\n\\nHam.\\nI will tell you why; so shall my anticipation prevent your\\ndiscovery, and your secrecy to the king and queen moult no\\nfeather. I have of late,--but wherefore I know not,--lost all my\\nmirth, forgone all custom of exercises; and indeed, it goes so\\nheavily with my disposition that this goodly frame, the earth,\\nseems to me a sterile promontory; this most excellent canopy, the\\nair, look you, this brave o'erhanging firmament, this majestical\\nroof fretted with golden fire,--why, it appears no other thing\\nto me than a foul and pestilent congregation of vapours. What a\\npiece of work is man! How noble in reason! how infinite in\\nfaculties! in form and moving, how express and admirable! in\\naction how like an angel! in apprehension, how like a god! the\\nbeauty of the world! the paragon of animals! And yet, to me, what\\nis this quintessence of dust? Man delights not me; no, nor woman\\nneither, though by your smiling you seem to say so.\\n\\nRos.\\nMy lord, there was no such stuff in my thoughts.\\n\\nHam.\\nWhy did you laugh then, when I said 'Man delights not me'?\\n\\nRos.\\nTo think, my lord, if you delight not in man, what lenten\\nentertainment the players shall receive from you: we coted them\\non the way; and hither are they coming to offer you service.\\n\\nHam.\\nHe that plays the king shall be welcome,--his majesty shall\\nhave tribute of me; the adventurous knight shall use his foil and\\ntarget; the lover shall not sigh gratis; the humorous man shall\\nend his part in peace; the clown shall make those laugh whose\\nlungs are tickle o' the sere; and the lady shall say her mind\\nfreely, or the blank verse shall halt for't. What players are\\nthey?\\n\\nRos.\\nEven those you were wont to take such delight in,--the\\ntragedians of the city.\\n\\nHam.\\nHow chances it they travel? their residence, both in\\nreputation and profit, was better both ways.\\n\\nRos.\\nI think their inhibition comes by the means of the late\\ninnovation.\\n\\nHam.\\nDo they hold the same estimation they did when I was in the\\ncity? Are they so followed?\\n\\nRos.\\nNo, indeed, are they not.\\n\\nHam.\\nHow comes it? do they grow rusty?\\n\\nRos.\\nNay, their endeavour keeps in the wonted pace: but there is,\\nsir, an aery of children, little eyases, that cry out on the top\\nof question, and are most tyrannically clapped for't: these are\\nnow the fashion; and so berattle the common stages,--so they call\\nthem,--that many wearing rapiers are afraid of goose-quills and\\ndare scarce come thither.\\n\\nHam.\\nWhat, are they children? who maintains 'em? How are they\\nescoted? Will they pursue the quality no longer than they can\\nsing? will they not say afterwards, if they should grow\\nthemselves to common players,--as it is most like, if their means\\nare no better,--their writers do them wrong to make them exclaim\\nagainst their own succession?\\n\\nRos.\\nFaith, there has been much to do on both sides; and the nation\\nholds it no sin to tarre them to controversy: there was, for\\nawhile, no money bid for argument unless the poet and the player\\nwent to cuffs in the question.\\n\\nHam.\\nIs't possible?\\n\\nGuil.\\nO, there has been much throwing about of brains.\\n\\nHam.\\nDo the boys carry it away?\\n\\nRos.\\nAy, that they do, my lord; Hercules and his load too.\\n\\nHam.\\nIt is not very strange; for my uncle is king of Denmark, and\\nthose that would make mouths at him while my father lived, give\\ntwenty, forty, fifty, a hundred ducats a-piece for his picture in\\nlittle. 'Sblood, there is something in this more than natural, if\\nphilosophy could find it out.\\n\\n[Flourish of trumpets within.]\\n\\nGuil.\\nThere are the players.\\n\\nHam.\\nGentlemen, you are welcome to Elsinore. Your hands, come: the\\nappurtenance of welcome is fashion and ceremony: let me comply\\nwith you in this garb; lest my extent to the players, which I\\ntell you must show fairly outward, should more appear like\\nentertainment than yours. You are welcome: but my uncle-father\\nand aunt-mother are deceived.\\n\\nGuil.\\nIn what, my dear lord?\\n\\nHam.\\nI am but mad north-north-west: when the wind is southerly I\\nknow a hawk from a handsaw.\\n\\n[Enter Polonius.]\\n\\nPol.\\nWell be with you, gentlemen!\\n\\nHam.\\nHark you, Guildenstern;--and you too;--at each ear a hearer: that\\ngreat baby you see there is not yet out of his swaddling clouts.\\n\\nRos.\\nHappily he's the second time come to them; for they say an old\\nman is twice a child.\\n\\nHam.\\nI will prophesy he comes to tell me of the players; mark it.--You\\nsay right, sir: o' Monday morning; 'twas so indeed.\\n\\nPol.\\nMy lord, I have news to tell you.\\n\\nHam.\\nMy lord, I have news to tell you. When Roscius was an actor in\\nRome,--\\n\\nPol.\\nThe actors are come hither, my lord.\\n\\nHam.\\nBuzz, buzz!\\n\\nPol.\\nUpon my honour,--\\n\\nHam.\\nThen came each actor on his ass,--\\n\\nPol.\\nThe best actors in the world, either for tragedy, comedy,\\nhistory, pastoral, pastoral-comical, historical-pastoral,\\ntragical-historical, tragical-comical-historical-pastoral, scene\\nindividable, or poem unlimited: Seneca cannot be too heavy nor\\nPlautus too light. For the law of writ and the liberty, these are\\nthe only men.\\n\\nHam.\\nO Jephthah, judge of Israel, what a treasure hadst thou!\\n\\nPol.\\nWhat treasure had he, my lord?\\n\\nHam.\\nWhy--\\n   'One fair daughter, and no more,\\n   The which he loved passing well.'\\n\\n\\nPol.\\n[Aside.] Still on my daughter.\\n\\nHam.\\nAm I not i' the right, old Jephthah?\\n\\nPol.\\nIf you call me Jephthah, my lord, I have a daughter that I\\nlove passing well.\\n\\nHam.\\nNay, that follows not.\\n\\nPol.\\nWhat follows, then, my lord?\\n\\nHam.\\nWhy--\\n   'As by lot, God wot,'\\nand then, you know,\\n   'It came to pass, as most like it was--'\\nThe first row of the pious chanson will show you more; for look\\nwhere my abridgment comes.\\n\\n[Enter four or five Players.]\\n\\nYou are welcome, masters; welcome, all:--I am glad to see thee\\nwell.--welcome, good friends.--O, my old friend! Thy face is\\nvalanc'd since I saw thee last; comest thou to beard me in\\nDenmark?--What, my young lady and mistress! By'r lady, your\\nladyship is nearer to heaven than when I saw you last, by the\\naltitude of a chopine. Pray God, your voice, like a piece of\\nuncurrent gold, be not cracked within the ring.--Masters, you are\\nall welcome. We'll e'en to't like French falconers, fly at\\nanything we see: we'll have a speech straight: come, give us a\\ntaste of your quality: come, a passionate speech.\\n\\nI Play.\\nWhat speech, my lord?\\n\\nHam.\\nI heard thee speak me a speech once,--but it was never acted;\\nor if it was, not above once; for the play, I remember, pleased\\nnot the million, 'twas caviare to the general; but it was,--as I\\nreceived it, and others, whose judgments in such matters cried in\\nthe top of mine,--an excellent play, well digested in the scenes,\\nset down with as much modesty as cunning. I remember, one said\\nthere were no sallets in the lines to make the matter savoury,\\nnor no matter in the phrase that might indite the author of\\naffectation; but called it an honest method, as wholesome as\\nsweet, and by very much more handsome than fine. One speech in it\\nI chiefly loved: 'twas AEneas' tale to Dido, and thereabout of it\\nespecially where he speaks of Priam's slaughter: if it live in\\nyour memory, begin at this line;--let me see, let me see:--\\n\\nThe rugged Pyrrhus, like th' Hyrcanian beast,--\\n\\nit is not so:-- it begins with Pyrrhus:--\\n\\n  'The rugged Pyrrhus,--he whose sable arms,\\n   Black as his purpose, did the night resemble\\n   When he lay couched in the ominous horse,--\\n   Hath now this dread and black complexion smear'd\\n   With heraldry more dismal; head to foot\\n   Now is he total gules; horridly trick'd\\n   With blood of fathers, mothers, daughters, sons,\\n   Bak'd and impasted with the parching streets,\\n   That lend a tyrannous and a damned light\\n   To their vile murders: roasted in wrath and fire,\\n   And thus o'ersized with coagulate gore,\\n   With eyes like carbuncles, the hellish Pyrrhus\\n   Old grandsire Priam seeks.'\\n\\nSo, proceed you.\\n\\nPol.\\n'Fore God, my lord, well spoken, with good accent and good\\ndiscretion.\\n\\nI Play.\\n   Anon he finds him,\\n   Striking too short at Greeks: his antique sword,\\n   Rebellious to his arm, lies where it falls,\\n   Repugnant to command: unequal match'd,\\n   Pyrrhus at Priam drives; in rage strikes wide;\\n   But with the whiff and wind of his fell sword\\n   The unnerved father falls. Then senseless Ilium,\\n   Seeming to feel this blow, with flaming top\\n   Stoops to his base; and with a hideous crash\\n   Takes prisoner Pyrrhus' ear: for lo! his sword,\\n   Which was declining on the milky head\\n   Of reverend Priam, seem'd i' the air to stick:\\n   So, as a painted tyrant, Pyrrhus stood;\\n   And, like a neutral to his will and matter,\\n   Did nothing.\\n   But as we often see, against some storm,\\n   A silence in the heavens, the rack stand still,\\n   The bold winds speechless, and the orb below\\n   As hush as death, anon the dreadful thunder\\n   Doth rend the region; so, after Pyrrhus' pause,\\n   A roused vengeance sets him new a-work;\\n   And never did the Cyclops' hammers fall\\n   On Mars's armour, forg'd for proof eterne,\\n   With less remorse than Pyrrhus' bleeding sword\\n   Now falls on Priam.--\\n   Out, out, thou strumpet, Fortune! All you gods,\\n   In general synod, take away her power;\\n   Break all the spokes and fellies from her wheel,\\n   And bowl the round nave down the hill of heaven,\\n   As low as to the fiends!\\n\\nPol.\\nThis is too long.\\n\\nHam.\\nIt shall to the barber's, with your beard.--Pr'ythee say on.--\\nHe's for a jig or a tale of bawdry, or he sleeps:--say on; come\\nto Hecuba.\\n\\nI Play.\\n   But who, O who, had seen the mobled queen,--\\n\\nHam.\\n'The mobled queen'?\\n\\nPol.\\nThat's good! 'Mobled queen' is good.\\n\\nI Play.\\n   Run barefoot up and down, threatening the flames\\n   With bisson rheum; a clout upon that head\\n   Where late the diadem stood, and for a robe,\\n   About her lank and all o'erteemed loins,\\n   A blanket, in the alarm of fear caught up;--\\n   Who this had seen, with tongue in venom steep'd,\\n   'Gainst Fortune's state would treason have pronounc'd:\\n   But if the gods themselves did see her then,\\n   When she saw Pyrrhus make malicious sport\\n   In mincing with his sword her husband's limbs,\\n   The instant burst of clamour that she made,--\\n   Unless things mortal move them not at all,--\\n   Would have made milch the burning eyes of heaven,\\n   And passion in the gods.\\n\\nPol.\\nLook, whether he has not turn'd his colour, and has tears in's\\neyes.--Pray you, no more!\\n\\nHam.\\n'Tis well. I'll have thee speak out the rest of this soon.--\\nGood my lord, will you see the players well bestowed? Do you\\nhear? Let them be well used; for they are the abstracts and brief\\nchronicles of the time; after your death you were better have a\\nbad epitaph than their ill report while you live.\\n\\nPol.\\nMy lord, I will use them according to their desert.\\n\\nHam.\\nOdd's bodikin, man, better: use every man after his\\ndesert, and who should scape whipping? Use them after your own\\nhonour and dignity: the less they deserve, the more merit is in\\nyour bounty. Take them in.\\n\\nPol.\\nCome, sirs.\\n\\nHam.\\nFollow him, friends: we'll hear a play to-morrow.\\n\\n[Exeunt Polonius with all the Players but the First.]\\n\\nDost thou hear me, old friend? Can you play 'The Murder of\\nGonzago'?\\n\\nI Play.\\nAy, my lord.\\n\\nHam.\\nWe'll ha't to-morrow night. You could, for a need, study a\\nspeech of some dozen or sixteen lines which I would set down and\\ninsert in't? could you not?\\n\\nI Play.\\nAy, my lord.\\n\\nHam.\\nVery well.--Follow that lord; and look you mock him not.\\n\\n[Exit First Player.]\\n\\n--My good friends [to Ros. and Guild.], I'll leave you till\\nnight: you are welcome to Elsinore.\\n\\nRos.\\nGood my lord!\\n\\n[Exeunt Rosencrantz and Guildenstern.]\\n\\nHam.\\nAy, so, God b' wi' ye!\\nNow I am alone.\\nO, what a rogue and peasant slave am I!\\nIs it not monstrous that this player here,\\nBut in a fiction, in a dream of passion,\\nCould force his soul so to his own conceit\\nThat from her working all his visage wan'd;\\nTears in his eyes, distraction in's aspect,\\nA broken voice, and his whole function suiting\\nWith forms to his conceit? And all for nothing!\\nFor Hecuba?\\nWhat's Hecuba to him, or he to Hecuba,\\nThat he should weep for her? What would he do,\\nHad he the motive and the cue for passion\\nThat I have? He would drown the stage with tears\\nAnd cleave the general ear with horrid speech;\\nMake mad the guilty, and appal the free;\\nConfound the ignorant, and amaze, indeed,\\nThe very faculties of eyes and ears.\\nYet I,\\nA dull and muddy-mettled rascal, peak,\\nLike John-a-dreams, unpregnant of my cause,\\nAnd can say nothing; no, not for a king\\nUpon whose property and most dear life\\nA damn'd defeat was made. Am I a coward?\\nWho calls me villain? breaks my pate across?\\nPlucks off my beard and blows it in my face?\\nTweaks me by the nose? gives me the lie i' the throat\\nAs deep as to the lungs? who does me this, ha?\\n'Swounds, I should take it: for it cannot be\\nBut I am pigeon-liver'd, and lack gall\\nTo make oppression bitter; or ere this\\nI should have fatted all the region kites\\nWith this slave's offal: bloody, bawdy villain!\\nRemorseless, treacherous, lecherous, kindless villain!\\nO, vengeance!\\nWhy, what an ass am I! This is most brave,\\nThat I, the son of a dear father murder'd,\\nPrompted to my revenge by heaven and hell,\\nMust, like a whore, unpack my heart with words\\nAnd fall a-cursing like a very drab,\\nA scullion!\\nFie upon't! foh!--About, my brain! I have heard\\nThat guilty creatures, sitting at a play,\\nHave by the very cunning of the scene\\nBeen struck so to the soul that presently\\nThey have proclaim'd their malefactions;\\nFor murder, though it have no tongue, will speak\\nWith most miraculous organ, I'll have these players\\nPlay something like the murder of my father\\nBefore mine uncle: I'll observe his looks;\\nI'll tent him to the quick: if he but blench,\\nI know my course. The spirit that I have seen\\nMay be the devil: and the devil hath power\\nTo assume a pleasing shape; yea, and perhaps\\nOut of my weakness and my melancholy,--\\nAs he is very potent with such spirits,--\\nAbuses me to damn me: I'll have grounds\\nMore relative than this.--the play's the thing\\nWherein I'll catch the conscience of the king.\\n\\n[Exit.]\\n\\n\\n\\n\\nACT III.\\n\\nScene I. A room in the Castle.\\n\\n[Enter King, Queen, Polonius, Ophelia, Rosencrantz, and\\nGuildenstern.]\\n\\nKing.\\nAnd can you, by no drift of circumstance,\\nGet from him why he puts on this confusion,\\nGrating so harshly all his days of quiet\\nWith turbulent and dangerous lunacy?\\n\\nRos.\\nHe does confess he feels himself distracted,\\nBut from what cause he will by no means speak.\\n\\nGuil.\\nNor do we find him forward to be sounded,\\nBut, with a crafty madness, keeps aloof\\nWhen we would bring him on to some confession\\nOf his true state.\\n\\nQueen.\\nDid he receive you well?\\n\\nRos.\\nMost like a gentleman.\\n\\nGuil.\\nBut with much forcing of his disposition.\\n\\nRos.\\nNiggard of question; but, of our demands,\\nMost free in his reply.\\n\\nQueen.\\nDid you assay him\\nTo any pastime?\\n\\nRos.\\nMadam, it so fell out that certain players\\nWe o'er-raught on the way: of these we told him,\\nAnd there did seem in him a kind of joy\\nTo hear of it: they are about the court,\\nAnd, as I think, they have already order\\nThis night to play before him.\\n\\nPol.\\n'Tis most true;\\nAnd he beseech'd me to entreat your majesties\\nTo hear and see the matter.\\n\\nKing.\\nWith all my heart; and it doth much content me\\nTo hear him so inclin'd.--\\nGood gentlemen, give him a further edge,\\nAnd drive his purpose on to these delights.\\n\\nRos.\\nWe shall, my lord.\\n\\n[Exeunt Rosencrantz and Guildenstern.]\\n\\nKing.\\nSweet Gertrude, leave us too;\\nFor we have closely sent for Hamlet hither,\\nThat he, as 'twere by accident, may here\\nAffront Ophelia:\\nHer father and myself,--lawful espials,--\\nWill so bestow ourselves that, seeing, unseen,\\nWe may of their encounter frankly judge;\\nAnd gather by him, as he is behav'd,\\nIf't be the affliction of his love or no\\nThat thus he suffers for.\\n\\nQueen.\\nI shall obey you:--\\nAnd for your part, Ophelia, I do wish\\nThat your good beauties be the happy cause\\nOf Hamlet's wildness: so shall I hope your virtues\\nWill bring him to his wonted way again,\\nTo both your honours.\\n\\nOph.\\nMadam, I wish it may.\\n\\n[Exit Queen.]\\n\\nPol.\\nOphelia, walk you here.--Gracious, so please you,\\nWe will bestow ourselves.--[To Ophelia.] Read on this book;\\nThat show of such an exercise may colour\\nYour loneliness.--We are oft to blame in this,--\\n'Tis too much prov'd,--that with devotion's visage\\nAnd pious action we do sugar o'er\\nThe Devil himself.\\n\\nKing.\\n[Aside.] O, 'tis too true!\\nHow smart a lash that speech doth give my conscience!\\nThe harlot's cheek, beautied with plastering art,\\nIs not more ugly to the thing that helps it\\nThan is my deed to my most painted word:\\nO heavy burden!\\n\\nPol.\\nI hear him coming: let's withdraw, my lord.\\n\\n[Exeunt King and Polonius.]\\n\\n[Enter Hamlet.]\\n\\nHam.\\nTo be, or not to be,--that is the question:--\\nWhether 'tis nobler in the mind to suffer\\nThe slings and arrows of outrageous fortune\\nOr to take arms against a sea of troubles,\\nAnd by opposing end them?--To die,--to sleep,--\\nNo more; and by a sleep to say we end\\nThe heartache, and the thousand natural shocks\\nThat flesh is heir to,--'tis a consummation\\nDevoutly to be wish'd. To die,--to sleep;--\\nTo sleep! perchance to dream:--ay, there's the rub;\\nFor in that sleep of death what dreams may come,\\nWhen we have shuffled off this mortal coil,\\nMust give us pause: there's the respect\\nThat makes calamity of so long life;\\nFor who would bear the whips and scorns of time,\\nThe oppressor's wrong, the proud man's contumely,\\nThe pangs of despis'd love, the law's delay,\\nThe insolence of office, and the spurns\\nThat patient merit of the unworthy takes,\\nWhen he himself might his quietus make\\nWith a bare bodkin? who would these fardels bear,\\nTo grunt and sweat under a weary life,\\nBut that the dread of something after death,--\\nThe undiscover'd country, from whose bourn\\nNo traveller returns,--puzzles the will,\\nAnd makes us rather bear those ills we have\\nThan fly to others that we know not of?\\nThus conscience does make cowards of us all;\\nAnd thus the native hue of resolution\\nIs sicklied o'er with the pale cast of thought;\\nAnd enterprises of great pith and moment,\\nWith this regard, their currents turn awry,\\nAnd lose the name of action.--Soft you now!\\nThe fair Ophelia!--Nymph, in thy orisons\\nBe all my sins remember'd.\\n\\nOph.\\nGood my lord,\\nHow does your honour for this many a day?\\n\\nHam.\\nI humbly thank you; well, well, well.\\n\\nOph.\\nMy lord, I have remembrances of yours\\nThat I have longed long to re-deliver.\\nI pray you, now receive them.\\n\\nHam.\\nNo, not I;\\nI never gave you aught.\\n\\nOph.\\nMy honour'd lord, you know right well you did;\\nAnd with them words of so sweet breath compos'd\\nAs made the things more rich; their perfume lost,\\nTake these again; for to the noble mind\\nRich gifts wax poor when givers prove unkind.\\nThere, my lord.\\n\\nHam.\\nHa, ha! are you honest?\\n\\nOph.\\nMy lord?\\n\\nHam.\\nAre you fair?\\n\\nOph.\\nWhat means your lordship?\\n\\nHam.\\nThat if you be honest and fair, your honesty should admit no\\ndiscourse to your beauty.\\n\\nOph.\\nCould beauty, my lord, have better commerce than with honesty?\\n\\nHam.\\nAy, truly; for the power of beauty will sooner transform\\nhonesty from what it is to a bawd than the force of honesty can\\ntranslate beauty into his likeness: this was sometime a paradox,\\nbut now the time gives it proof. I did love you once.\\n\\nOph.\\nIndeed, my lord, you made me believe so.\\n\\nHam.\\nYou should not have believ'd me; for virtue cannot so\\ninoculate our old stock but we shall relish of it: I loved you\\nnot.\\n\\nOph.\\nI was the more deceived.\\n\\nHam.\\nGet thee to a nunnery: why wouldst thou be a breeder of\\nsinners? I am myself indifferent honest; but yet I could accuse\\nme of such things that it were better my mother had not borne me:\\nI am very proud, revengeful, ambitious; with more offences at my\\nbeck than I have thoughts to put them in, imagination to give\\nthem shape, or time to act them in. What should such fellows as I\\ndo crawling between earth and heaven? We are arrant knaves, all;\\nbelieve none of us. Go thy ways to a nunnery. Where's your\\nfather?\\n\\nOph.\\nAt home, my lord.\\n\\nHam.\\nLet the doors be shut upon him, that he may play the fool\\nnowhere but in's own house. Farewell.\\n\\nOph.\\nO, help him, you sweet heavens!\\n\\nHam.\\nIf thou dost marry, I'll give thee this plague for thy dowry,--\\nbe thou as chaste as ice, as pure as snow, thou shalt not escape\\ncalumny. Get thee to a nunnery, go: farewell. Or, if thou wilt\\nneeds marry, marry a fool; for wise men know well enough what\\nmonsters you make of them. To a nunnery, go; and quickly too.\\nFarewell.\\n\\nOph.\\nO heavenly powers, restore him!\\n\\nHam.\\nI have heard of your paintings too, well enough; God hath\\ngiven you one face, and you make yourselves another: you jig, you\\namble, and you lisp, and nickname God's creatures, and make your\\nwantonness your ignorance. Go to, I'll no more on't; it hath made\\nme mad. I say, we will have no more marriages: those that are\\nmarried already, all but one, shall live; the rest shall keep as\\nthey are. To a nunnery, go.\\n\\n[Exit.]\\n\\nOph.\\nO, what a noble mind is here o'erthrown!\\nThe courtier's, scholar's, soldier's, eye, tongue, sword,\\nThe expectancy and rose of the fair state,\\nThe glass of fashion and the mould of form,\\nThe observ'd of all observers,--quite, quite down!\\nAnd I, of ladies most deject and wretched\\nThat suck'd the honey of his music vows,\\nNow see that noble and most sovereign reason,\\nLike sweet bells jangled, out of tune and harsh;\\nThat unmatch'd form and feature of blown youth\\nBlasted with ecstasy: O, woe is me,\\nTo have seen what I have seen, see what I see!\\n\\n[Re-enter King and Polonius.]\\n\\nKing.\\nLove! his affections do not that way tend;\\nNor what he spake, though it lack'd form a little,\\nWas not like madness. There's something in his soul\\nO'er which his melancholy sits on brood;\\nAnd I do doubt the hatch and the disclose\\nWill be some danger: which for to prevent,\\nI have in quick determination\\nThus set it down:--he shall with speed to England\\nFor the demand of our neglected tribute:\\nHaply the seas, and countries different,\\nWith variable objects, shall expel\\nThis something-settled matter in his heart;\\nWhereon his brains still beating puts him thus\\nFrom fashion of himself. What think you on't?\\n\\nPol.\\nIt shall do well: but yet do I believe\\nThe origin and commencement of his grief\\nSprung from neglected love.--How now, Ophelia!\\nYou need not tell us what Lord Hamlet said;\\nWe heard it all.--My lord, do as you please;\\nBut if you hold it fit, after the play,\\nLet his queen mother all alone entreat him\\nTo show his grief: let her be round with him;\\nAnd I'll be plac'd, so please you, in the ear\\nOf all their conference. If she find him not,\\nTo England send him; or confine him where\\nYour wisdom best shall think.\\n\\nKing.\\nIt shall be so:\\nMadness in great ones must not unwatch'd go.\\n\\n[Exeunt.]\\n\\n\\n\\nScene II. A hall in the Castle.\\n\\n[Enter Hamlet and certain Players.]\\n\\nHam.\\nSpeak the speech, I pray you, as I pronounced it to you,\\ntrippingly on the tongue: but if you mouth it, as many of your\\nplayers do, I had as lief the town crier spoke my lines. Nor do\\nnot saw the air too much with your hand, thus, but use all\\ngently: for in the very torrent, tempest, and, as I may say,\\nwhirlwind of passion, you must acquire and beget a\\ntemperance that may give it smoothness. O, it offends me to the\\nsoul, to hear a robustious periwig-pated fellow tear a passion to\\ntatters, to very rags, to split the ears of the groundlings, who,\\nfor the most part, are capable of nothing but inexplicable dumb\\nshows and noise: I would have such a fellow whipped for o'erdoing\\nTermagant; it out-herods Herod: pray you avoid it.\\n\\nI Player.\\nI warrant your honour.\\n\\nHam.\\nBe not too tame neither; but let your own discretion be your\\ntutor: suit the action to the word, the word to the action; with\\nthis special observance, that you o'erstep not the modesty of\\nnature: for anything so overdone is from the purpose of playing,\\nwhose end, both at the first and now, was and is, to hold, as\\n'twere, the mirror up to nature; to show virtue her own image,\\nscorn her own image, and the very age and body of the time his\\nform and pressure. Now, this overdone, or come tardy off, though\\nit make the unskilful laugh, cannot but make the judicious\\ngrieve; the censure of the which one must in your allowance,\\no'erweigh a whole theatre of others. O, there be players that I\\nhave seen play,--and heard others praise, and that highly,--not\\nto speak it profanely, that, neither having the accent of\\nChristians, nor the gait of Christian, pagan, nor man, have so\\nstrutted and bellowed that I have thought some of nature's\\njourneymen had made men, and not made them well, they imitated\\nhumanity so abominably.\\n\\nI Player.\\nI hope we have reform'd that indifferently with us, sir.\\n\\nHam.\\nO, reform it altogether. And let those that play your clowns\\nspeak no more than is set down for them: for there be of them\\nthat will themselves laugh, to set on some quantity of barren\\nspectators to laugh too, though in the meantime some necessary\\nquestion of the play be then to be considered: that's villanous\\nand shows a most pitiful ambition in the fool that uses it. Go\\nmake you ready.\\n\\n[Exeunt Players.]\\n\\n[Enter Polonius, Rosencrantz, and Guildenstern.]\\n\\nHow now, my lord! will the king hear this piece of work?\\n\\nPol.\\nAnd the queen too, and that presently.\\n\\nHam.\\nBid the players make haste.\\n\\n[Exit Polonius.]\\n\\nWill you two help to hasten them?\\n\\nRos. and Guil.\\nWe will, my lord.\\n\\n[Exeunt Ros. and Guil.]\\n\\nHam.\\nWhat, ho, Horatio!\\n\\n[Enter Horatio.]\\n\\nHor.\\nHere, sweet lord, at your service.\\n\\nHam.\\nHoratio, thou art e'en as just a man\\nAs e'er my conversation cop'd withal.\\n\\nHor.\\nO, my dear lord,--\\n\\nHam.\\nNay, do not think I flatter;\\nFor what advancement may I hope from thee,\\nThat no revenue hast, but thy good spirits,\\nTo feed and clothe thee? Why should the poor be flatter'd?\\nNo, let the candied tongue lick absurd pomp;\\nAnd crook the pregnant hinges of the knee\\nWhere thrift may follow fawning. Dost thou hear?\\nSince my dear soul was mistress of her choice,\\nAnd could of men distinguish, her election\\nHath seal'd thee for herself: for thou hast been\\nAs one, in suffering all, that suffers nothing;\\nA man that Fortune's buffets and rewards\\nHast ta'en with equal thanks: and bles'd are those\\nWhose blood and judgment are so well commingled\\nThat they are not a pipe for Fortune's finger\\nTo sound what stop she please. Give me that man\\nThat is not passion's slave, and I will wear him\\nIn my heart's core, ay, in my heart of heart,\\nAs I do thee.--Something too much of this.--\\nThere is a play to-night before the king;\\nOne scene of it comes near the circumstance,\\nWhich I have told thee, of my father's death:\\nI pr'ythee, when thou see'st that act a-foot,\\nEven with the very comment of thy soul\\nObserve mine uncle: if his occulted guilt\\nDo not itself unkennel in one speech,\\nIt is a damned ghost that we have seen;\\nAnd my imaginations are as foul\\nAs Vulcan's stithy. Give him heedful note;\\nFor I mine eyes will rivet to his face;\\nAnd, after, we will both our judgments join\\nIn censure of his seeming.\\n\\nHor.\\nWell, my lord:\\nIf he steal aught the whilst this play is playing,\\nAnd scape detecting, I will pay the theft.\\n\\nHam.\\nThey are coming to the play. I must be idle:\\nGet you a place.\\n\\n[Danish march. A flourish. Enter King, Queen, Polonius, Ophelia,\\nRosencrantz, Guildenstern, and others.]\\n\\nKing.\\nHow fares our cousin Hamlet?\\n\\nHam.\\nExcellent, i' faith; of the chameleon's dish: I eat the air,\\npromise-crammed: you cannot feed capons so.\\n\\nKing.\\nI have nothing with this answer, Hamlet; these words are not\\nmine.\\n\\nHam.\\nNo, nor mine now. My lord, you play'd once i' the university, you\\nsay? [To Polonius.]\\n\\nPol.\\nThat did I, my lord, and was accounted a good actor.\\n\\nHam.\\nWhat did you enact?\\n\\nPol.\\nI did enact Julius Caesar; I was kill'd i' the Capitol; Brutus\\nkilled me.\\n\\nHam.\\nIt was a brute part of him to kill so capital a calf there.--Be\\nthe players ready?\\n\\nRos.\\nAy, my lord; they stay upon your patience.\\n\\nQueen.\\nCome hither, my dear Hamlet, sit by me.\\n\\nHam.\\nNo, good mother, here's metal more attractive.\\n\\nPol.\\nO, ho! do you mark that? [To the King.]\\n\\nHam.\\nLady, shall I lie in your lap?\\n[Lying down at Ophelia's feet.]\\n\\nOph.\\nNo, my lord.\\n\\nHam.\\nI mean, my head upon your lap?\\n\\nOph.\\nAy, my lord.\\n\\nHam.\\nDo you think I meant country matters?\\n\\nOph.\\nI think nothing, my lord.\\n\\nHam.\\nThat's a fair thought to lie between maids' legs.\\n\\nOph.\\nWhat is, my lord?\\n\\nHam.\\nNothing.\\n\\nOph.\\nYou are merry, my lord.\\n\\nHam.\\nWho, I?\\n\\nOph.\\nAy, my lord.\\n\\nHam.\\nO, your only jig-maker! What should a man do but be merry?\\nfor look you how cheerfully my mother looks, and my father died\\nwithin 's two hours.\\n\\nOph.\\nNay, 'tis twice two months, my lord.\\n\\nHam.\\nSo long? Nay then, let the devil wear black, for I'll have a\\nsuit of sables. O heavens! die two months ago, and not forgotten\\nyet? Then there's hope a great man's memory may outlive his life\\nhalf a year: but, by'r lady, he must build churches then; or else\\nshall he suffer not thinking on, with the hobby-horse, whose\\nepitaph is 'For, O, for, O, the hobby-horse is forgot!'\\n\\n[Trumpets sound. The dumb show enters.]\\n\\n[Enter a King and a Queen very lovingly; the Queen embracing\\nhim and he her. She kneels, and makes show of protestation\\nunto him. He takes her up, and declines his head upon her\\nneck: lays him down upon a bank of flowers: she, seeing\\nhim asleep, leaves him. Anon comes in a fellow, takes off his\\ncrown, kisses it, pours poison in the king's ears, and exit. The\\nQueen returns, finds the King dead, and makes passionate action.\\nThe Poisoner with some three or four Mutes, comes in again,\\nseeming to lament with her. The dead body is carried away. The\\nPoisoner wooes the Queen with gifts; she seems loth and unwilling\\nawhile, but in the end accepts his love.]\\n\\n[Exeunt.]\\n\\nOph.\\nWhat means this, my lord?\\n\\nHam.\\nMarry, this is miching mallecho; it means mischief.\\n\\nOph.\\nBelike this show imports the argument of the play.\\n\\n[Enter Prologue.]\\n\\nHam.\\nWe shall know by this fellow: the players cannot keep counsel;\\nthey'll tell all.\\n\\nOph.\\nWill he tell us what this show meant?\\n\\nHam.\\nAy, or any show that you'll show him: be not you ashamed to\\nshow, he'll not shame to tell you what it means.\\n\\nOph.\\nYou are naught, you are naught: I'll mark the play.\\n\\nPro.\\n   For us, and for our tragedy,\\n   Here stooping to your clemency,\\n   We beg your hearing patiently.\\n\\nHam.\\nIs this a prologue, or the posy of a ring?\\n\\nOph.\\n'Tis brief, my lord.\\n\\nHam.\\nAs woman's love.\\n\\n[Enter a King and a Queen.]\\n\\nP. King.\\nFull thirty times hath Phoebus' cart gone round\\nNeptune's salt wash and Tellus' orbed ground,\\nAnd thirty dozen moons with borrow'd sheen\\nAbout the world have times twelve thirties been,\\nSince love our hearts, and Hymen did our hands,\\nUnite commutual in most sacred bands.\\n\\nP. Queen.\\nSo many journeys may the sun and moon\\nMake us again count o'er ere love be done!\\nBut, woe is me, you are so sick of late,\\nSo far from cheer and from your former state.\\nThat I distrust you. Yet, though I distrust,\\nDiscomfort you, my lord, it nothing must:\\nFor women's fear and love holds quantity;\\nIn neither aught, or in extremity.\\nNow, what my love is, proof hath made you know;\\nAnd as my love is siz'd, my fear is so:\\nWhere love is great, the littlest doubts are fear;\\nWhere little fears grow great, great love grows there.\\n\\nP. King.\\nFaith, I must leave thee, love, and shortly too;\\nMy operant powers their functions leave to do:\\nAnd thou shalt live in this fair world behind,\\nHonour'd, belov'd, and haply one as kind\\nFor husband shalt thou,--\\n\\nP. Queen.\\nO, confound the rest!\\nSuch love must needs be treason in my breast:\\nIn second husband let me be accurst!\\nNone wed the second but who kill'd the first.\\n\\nHam.\\n[Aside.] Wormwood, wormwood!\\n\\nP. Queen.\\nThe instances that second marriage move\\nAre base respects of thrift, but none of love.\\nA second time I kill my husband dead\\nWhen second husband kisses me in bed.\\n\\nP. King.\\nI do believe you think what now you speak;\\nBut what we do determine oft we break.\\nPurpose is but the slave to memory;\\nOf violent birth, but poor validity:\\nWhich now, like fruit unripe, sticks on the tree;\\nBut fall unshaken when they mellow be.\\nMost necessary 'tis that we forget\\nTo pay ourselves what to ourselves is debt:\\nWhat to ourselves in passion we propose,\\nThe passion ending, doth the purpose lose.\\nThe violence of either grief or joy\\nTheir own enactures with themselves destroy:\\nWhere joy most revels, grief doth most lament;\\nGrief joys, joy grieves, on slender accident.\\nThis world is not for aye; nor 'tis not strange\\nThat even our loves should with our fortunes change;\\nFor 'tis a question left us yet to prove,\\nWhether love lead fortune, or else fortune love.\\nThe great man down, you mark his favourite flies,\\nThe poor advanc'd makes friends of enemies;\\nAnd hitherto doth love on fortune tend:\\nFor who not needs shall never lack a friend;\\nAnd who in want a hollow friend doth try,\\nDirectly seasons him his enemy.\\nBut, orderly to end where I begun,--\\nOur wills and fates do so contrary run\\nThat our devices still are overthrown;\\nOur thoughts are ours, their ends none of our own:\\nSo think thou wilt no second husband wed;\\nBut die thy thoughts when thy first lord is dead.\\n\\nP. Queen.\\nNor earth to me give food, nor heaven light!\\nSport and repose lock from me day and night!\\nTo desperation turn my trust and hope!\\nAn anchor's cheer in prison be my scope!\\nEach opposite that blanks the face of joy\\nMeet what I would have well, and it destroy!\\nBoth here and hence pursue me lasting strife,\\nIf, once a widow, ever I be wife!\\n\\nHam.\\nIf she should break it now! [To Ophelia.]\\n\\nP. King.\\n'Tis deeply sworn. Sweet, leave me here awhile;\\nMy spirits grow dull, and fain I would beguile\\nThe tedious day with sleep.\\n[Sleeps.]\\n\\nP. Queen.\\nSleep rock thy brain,\\nAnd never come mischance between us twain!\\n\\n[Exit.]\\n\\nHam.\\nMadam, how like you this play?\\n\\nQueen.\\nThe lady protests too much, methinks.\\n\\nHam.\\nO, but she'll keep her word.\\n\\nKing.\\nHave you heard the argument? Is there no offence in't?\\n\\nHam.\\nNo, no! They do but jest, poison in jest; no offence i' the\\nworld.\\n\\nKing.\\nWhat do you call the play?\\n\\nHam.\\nThe Mouse-trap. Marry, how? Tropically. This play is the\\nimage of a murder done in Vienna: Gonzago is the duke's name;\\nhis wife, Baptista: you shall see anon; 'tis a knavish piece of\\nwork: but what o' that? your majesty, and we that have free\\nsouls, it touches us not: let the gall'd jade wince; our withers\\nare unwrung.\\n\\n[Enter Lucianus.]\\n\\nThis is one Lucianus, nephew to the King.\\n\\nOph.\\nYou are a good chorus, my lord.\\n\\nHam.\\nI could interpret between you and your love, if I could see\\nthe puppets dallying.\\n\\nOph.\\nYou are keen, my lord, you are keen.\\n\\nHam.\\nIt would cost you a groaning to take off my edge.\\n\\nOph.\\nStill better, and worse.\\n\\nHam.\\nSo you must take your husbands.--Begin, murderer; pox, leave\\nthy damnable faces, and begin. Come:--'The croaking raven doth\\nbellow for revenge.'\\n\\nLuc.\\nThoughts black, hands apt, drugs fit, and time agreeing;\\nConfederate season, else no creature seeing;\\nThou mixture rank, of midnight weeds collected,\\nWith Hecate's ban thrice blasted, thrice infected,\\nThy natural magic and dire property\\nOn wholesome life usurp immediately.\\n\\n[Pours the poison into the sleeper's ears.]\\n\\nHam.\\nHe poisons him i' the garden for's estate. His name's Gonzago:\\nThe story is extant, and written in very choice Italian; you\\nshall see anon how the murderer gets the love of Gonzago's wife.\\n\\nOph.\\nThe King rises.\\n\\nHam.\\nWhat, frighted with false fire!\\n\\nQueen.\\nHow fares my lord?\\n\\nPol.\\nGive o'er the play.\\n\\nKing.\\nGive me some light:--away!\\n\\nAll.\\nLights, lights, lights!\\n\\n[Exeunt all but Hamlet and Horatio.]\\n\\nHam.\\n   Why, let the strucken deer go weep,\\n     The hart ungalled play;\\n   For some must watch, while some must sleep:\\n     So runs the world away.--\\nWould not this, sir, and a forest of feathers--if the rest of my\\nfortunes turn Turk with me,--with two Provincial roses on my\\nrazed shoes, get me a fellowship in a cry of players, sir?\\n\\nHor.\\nHalf a share.\\n\\nHam.\\n     A whole one, I.\\n   For thou dost know, O Damon dear,\\n     This realm dismantled was\\n   Of Jove himself; and now reigns here\\n     A very, very--pajock.\\n\\nHor.\\nYou might have rhymed.\\n\\nHam.\\nO good Horatio, I'll take the ghost's word for a thousand\\npound! Didst perceive?\\n\\nHor.\\nVery well, my lord.\\n\\nHam.\\nUpon the talk of the poisoning?--\\n\\nHor.\\nI did very well note him.\\n\\nHam.\\nAh, ha!--Come, some music! Come, the recorders!--\\n   For if the king like not the comedy,\\n   Why then, belike he likes it not, perdy.\\nCome, some music!\\n\\n[Enter Rosencrantz and Guildenstern.]\\n\\nGuil.\\nGood my lord, vouchsafe me a word with you.\\n\\nHam.\\nSir, a whole history.\\n\\nGuil.\\nThe king, sir--\\n\\nHam.\\nAy, sir, what of him?\\n\\nGuil.\\nIs, in his retirement, marvellous distempered.\\n\\nHam.\\nWith drink, sir?\\n\\nGuil.\\nNo, my lord; rather with choler.\\n\\nHam.\\nYour wisdom should show itself more richer to signify this to\\nthe doctor; for me to put him to his purgation would perhaps\\nplunge him into far more choler.\\n\\nGuil.\\nGood my lord, put your discourse into some frame, and start\\nnot so wildly from my affair.\\n\\nHam.\\nI am tame, sir:--pronounce.\\n\\nGuil.\\nThe queen, your mother, in most great affliction of spirit,\\nhath sent me to you.\\n\\nHam.\\nYou are welcome.\\n\\nGuil.\\nNay, good my lord, this courtesy is not of the right breed.\\nIf it shall please you to make me a wholesome answer, I will do\\nyour mother's commandment: if not, your pardon and my return\\nshall be the end of my business.\\n\\nHam.\\nSir, I cannot.\\n\\nGuil.\\nWhat, my lord?\\n\\nHam.\\nMake you a wholesome answer; my wit's diseased: but, sir, such\\nanswer as I can make, you shall command; or rather, as you say,\\nmy mother: therefore no more, but to the matter: my mother, you\\nsay,--\\n\\nRos.\\nThen thus she says: your behaviour hath struck her into\\namazement and admiration.\\n\\nHam.\\nO wonderful son, that can so stonish a mother!--But is there no\\nsequel at the heels of this mother's admiration?\\n\\nRos.\\nShe desires to speak with you in her closet ere you go to bed.\\n\\nHam.\\nWe shall obey, were she ten times our mother. Have you any\\nfurther trade with us?\\n\\nRos.\\nMy lord, you once did love me.\\n\\nHam.\\nAnd so I do still, by these pickers and stealers.\\n\\nRos.\\nGood my lord, what is your cause of distemper? you do, surely,\\nbar the door upon your own liberty if you deny your griefs to\\nyour friend.\\n\\nHam.\\nSir, I lack advancement.\\n\\nRos.\\nHow can that be, when you have the voice of the king himself\\nfor your succession in Denmark?\\n\\nHam.\\nAy, sir, but 'While the grass grows'--the proverb is something\\nmusty.\\n\\n[Re-enter the Players, with recorders.]\\n\\nO, the recorders:--let me see one.--To withdraw with you:--why do\\nyou go about to recover the wind of me, as if you would drive me\\ninto a toil?\\n\\nGuil.\\nO my lord, if my duty be too bold, my love is too unmannerly.\\n\\nHam.\\nI do not well understand that. Will you play upon this pipe?\\n\\nGuil.\\nMy lord, I cannot.\\n\\nHam.\\nI pray you.\\n\\nGuil.\\nBelieve me, I cannot.\\n\\nHam.\\nI do beseech you.\\n\\nGuil.\\nI know, no touch of it, my lord.\\n\\nHam.\\n'Tis as easy as lying: govern these ventages with your\\nfinger and thumb, give it breath with your mouth, and it will\\ndiscourse most eloquent music. Look you, these are the stops.\\n\\nGuil.\\nBut these cannot I command to any utterance of harmony; I\\nhave not the skill.\\n\\nHam.\\nWhy, look you now, how unworthy a thing you make of me! You\\nwould play upon me; you would seem to know my stops; you would\\npluck out the heart of my mystery; you would sound me from my\\nlowest note to the top of my compass; and there is much music,\\nexcellent voice, in this little organ, yet cannot you make it\\nspeak. 'Sblood, do you think I am easier to be played on than a\\npipe? Call me what instrument you will, though you can fret me,\\nyou cannot play upon me.\\n\\n[Enter Polonius.]\\n\\nGod bless you, sir!\\n\\nPol.\\nMy lord, the queen would speak with you, and presently.\\n\\nHam.\\nDo you see yonder cloud that's almost in shape of a camel?\\n\\nPol.\\nBy the mass, and 'tis like a camel indeed.\\n\\nHam.\\nMethinks it is like a weasel.\\n\\nPol.\\nIt is backed like a weasel.\\n\\nHam.\\nOr like a whale.\\n\\nPol.\\nVery like a whale.\\n\\nHam.\\nThen will I come to my mother by and by.--They fool me to the\\ntop of my bent.--I will come by and by.\\n\\nPol.\\nI will say so.\\n\\n[Exit.]\\n\\nHam.\\nBy-and-by is easily said.\\n\\n[Exit Polonius.]\\n\\n--Leave me, friends.\\n\\n[Exeunt Ros, Guil., Hor., and Players.]\\n\\n'Tis now the very witching time of night,\\nWhen churchyards yawn, and hell itself breathes out\\nContagion to this world: now could I drink hot blood,\\nAnd do such bitter business as the day\\nWould quake to look on. Soft! now to my mother.--\\nO heart, lose not thy nature; let not ever\\nThe soul of Nero enter this firm bosom:\\nLet me be cruel, not unnatural;\\nI will speak daggers to her, but use none;\\nMy tongue and soul in this be hypocrites,--\\nHow in my words somever she be shent,\\nTo give them seals never, my soul, consent!\\n\\n[Exit.]\\n\\n\\n\\nScene III. A room in the Castle.\\n\\n[Enter King, Rosencrantz, and Guildenstern.]\\n\\nKing.\\nI like him not; nor stands it safe with us\\nTo let his madness range. Therefore prepare you;\\nI your commission will forthwith dispatch,\\nAnd he to England shall along with you:\\nThe terms of our estate may not endure\\nHazard so near us as doth hourly grow\\nOut of his lunacies.\\n\\nGuil.\\nWe will ourselves provide:\\nMost holy and religious fear it is\\nTo keep those many many bodies safe\\nThat live and feed upon your majesty.\\n\\nRos.\\nThe single and peculiar life is bound,\\nWith all the strength and armour of the mind,\\nTo keep itself from 'noyance; but much more\\nThat spirit upon whose weal depend and rest\\nThe lives of many. The cease of majesty\\nDies not alone; but like a gulf doth draw\\nWhat's near it with it: it is a massy wheel,\\nFix'd on the summit of the highest mount,\\nTo whose huge spokes ten thousand lesser things\\nAre mortis'd and adjoin'd; which, when it falls,\\nEach small annexment, petty consequence,\\nAttends the boisterous ruin. Never alone\\nDid the king sigh, but with a general groan.\\n\\nKing.\\nArm you, I pray you, to this speedy voyage;\\nFor we will fetters put upon this fear,\\nWhich now goes too free-footed.\\n\\nRos and Guil.\\nWe will haste us.\\n\\n[Exeunt Ros. and Guil.]\\n\\n[Enter Polonius.]\\n\\nPol.\\nMy lord, he's going to his mother's closet:\\nBehind the arras I'll convey myself\\nTo hear the process; I'll warrant she'll tax him home:\\nAnd, as you said, and wisely was it said,\\n'Tis meet that some more audience than a mother,\\nSince nature makes them partial, should o'erhear\\nThe speech, of vantage. Fare you well, my liege:\\nI'll call upon you ere you go to bed,\\nAnd tell you what I know.\\n\\nKing.\\nThanks, dear my lord.\\n\\n[Exit Polonius.]\\n\\nO, my offence is rank, it smells to heaven;\\nIt hath the primal eldest curse upon't,--\\nA brother's murder!--Pray can I not,\\nThough inclination be as sharp as will:\\nMy stronger guilt defeats my strong intent;\\nAnd, like a man to double business bound,\\nI stand in pause where I shall first begin,\\nAnd both neglect. What if this cursed hand\\nWere thicker than itself with brother's blood,--\\nIs there not rain enough in the sweet heavens\\nTo wash it white as snow? Whereto serves mercy\\nBut to confront the visage of offence?\\nAnd what's in prayer but this twofold force,--\\nTo be forestalled ere we come to fall,\\nOr pardon'd being down? Then I'll look up;\\nMy fault is past. But, O, what form of prayer\\nCan serve my turn? Forgive me my foul murder!--\\nThat cannot be; since I am still possess'd\\nOf those effects for which I did the murder,--\\nMy crown, mine own ambition, and my queen.\\nMay one be pardon'd and retain the offence?\\nIn the corrupted currents of this world\\nOffence's gilded hand may shove by justice;\\nAnd oft 'tis seen the wicked prize itself\\nBuys out the law; but 'tis not so above;\\nThere is no shuffling;--there the action lies\\nIn his true nature; and we ourselves compell'd,\\nEven to the teeth and forehead of our faults,\\nTo give in evidence. What then? what rests?\\nTry what repentance can: what can it not?\\nYet what can it when one cannot repent?\\nO wretched state! O bosom black as death!\\nO limed soul, that, struggling to be free,\\nArt more engag'd! Help, angels! Make assay:\\nBow, stubborn knees; and, heart, with strings of steel,\\nBe soft as sinews of the new-born babe!\\nAll may be well.\\n\\n[Retires and kneels.]\\n\\n[Enter Hamlet.]\\n\\nHam.\\nNow might I do it pat, now he is praying;\\nAnd now I'll do't;--and so he goes to heaven;\\nAnd so am I reveng'd.--that would be scann'd:\\nA villain kills my father; and for that,\\nI, his sole son, do this same villain send\\nTo heaven.\\nO, this is hire and salary, not revenge.\\nHe took my father grossly, full of bread;\\nWith all his crimes broad blown, as flush as May;\\nAnd how his audit stands, who knows save heaven?\\nBut in our circumstance and course of thought,\\n'Tis heavy with him: and am I, then, reveng'd,\\nTo take him in the purging of his soul,\\nWhen he is fit and season'd for his passage?\\nNo.\\nUp, sword, and know thou a more horrid hent:\\nWhen he is drunk asleep; or in his rage;\\nOr in the incestuous pleasure of his bed;\\nAt gaming, swearing; or about some act\\nThat has no relish of salvation in't;--\\nThen trip him, that his heels may kick at heaven;\\nAnd that his soul may be as damn'd and black\\nAs hell, whereto it goes. My mother stays:\\nThis physic but prolongs thy sickly days.\\n\\n[Exit.]\\n\\n[The King rises and advances.]\\n\\nKing.\\nMy words fly up, my thoughts remain below:\\nWords without thoughts never to heaven go.\\n\\n[Exit.]\\n\\n\\n\\nScene IV. Another room in the castle.\\n\\n[Enter Queen and Polonius.]\\n\\nPol.\\nHe will come straight. Look you lay home to him:\\nTell him his pranks have been too broad to bear with,\\nAnd that your grace hath screen'd and stood between\\nMuch heat and him. I'll silence me e'en here.\\nPray you, be round with him.\\n\\nHam.\\n[Within.] Mother, mother, mother!\\n\\nQueen.\\nI'll warrant you:\\nFear me not:--withdraw; I hear him coming.\\n\\n[Polonius goes behind the arras.]\\n\\n[Enter Hamlet.]\\n\\nHam.\\nNow, mother, what's the matter?\\n\\nQueen.\\nHamlet, thou hast thy father much offended.\\n\\nHam.\\nMother, you have my father much offended.\\n\\nQueen.\\nCome, come, you answer with an idle tongue.\\n\\nHam.\\nGo, go, you question with a wicked tongue.\\n\\nQueen.\\nWhy, how now, Hamlet!\\n\\nHam.\\nWhat's the matter now?\\n\\nQueen.\\nHave you forgot me?\\n\\nHam.\\nNo, by the rood, not so:\\nYou are the Queen, your husband's brother's wife,\\nAnd,--would it were not so!--you are my mother.\\n\\nQueen.\\nNay, then, I'll set those to you that can speak.\\n\\nHam.\\nCome, come, and sit you down; you shall not budge;\\nYou go not till I set you up a glass\\nWhere you may see the inmost part of you.\\n\\nQueen.\\nWhat wilt thou do? thou wilt not murder me?--\\nHelp, help, ho!\\n\\nPol.\\n[Behind.] What, ho! help, help, help!\\n\\nHam.\\nHow now? a rat? [Draws.]\\nDead for a ducat, dead!\\n\\n[Makes a pass through the arras.]\\n\\nPol.\\n[Behind.] O, I am slain!\\n\\n[Falls and dies.]\\n\\nQueen.\\nO me, what hast thou done?\\n\\nHam.\\nNay, I know not: is it the king?\\n\\n[Draws forth Polonius.]\\n\\nQueen.\\nO, what a rash and bloody deed is this!\\n\\nHam.\\nA bloody deed!--almost as bad, good mother,\\nAs kill a king and marry with his brother.\\n\\nQueen.\\nAs kill a king!\\n\\nHam.\\nAy, lady, 'twas my word.--\\nThou wretched, rash, intruding fool, farewell!\\n[To Polonius.]\\nI took thee for thy better: take thy fortune;\\nThou find'st to be too busy is some danger.--\\nLeave wringing of your hands: peace! sit you down,\\nAnd let me wring your heart: for so I shall,\\nIf it be made of penetrable stuff;\\nIf damned custom have not braz'd it so\\nThat it is proof and bulwark against sense.\\n\\nQueen.\\nWhat have I done, that thou dar'st wag thy tongue\\nIn noise so rude against me?\\n\\nHam.\\nSuch an act\\nThat blurs the grace and blush of modesty;\\nCalls virtue hypocrite; takes off the rose\\nFrom the fair forehead of an innocent love,\\nAnd sets a blister there; makes marriage-vows\\nAs false as dicers' oaths: O, such a deed\\nAs from the body of contraction plucks\\nThe very soul, and sweet religion makes\\nA rhapsody of words: heaven's face doth glow;\\nYea, this solidity and compound mass,\\nWith tristful visage, as against the doom,\\nIs thought-sick at the act.\\n\\nQueen.\\nAh me, what act,\\nThat roars so loud, and thunders in the index?\\n\\nHam.\\nLook here upon this picture, and on this,--\\nThe counterfeit presentment of two brothers.\\nSee what a grace was seated on this brow;\\nHyperion's curls; the front of Jove himself;\\nAn eye like Mars, to threaten and command;\\nA station like the herald Mercury\\nNew lighted on a heaven-kissing hill:\\nA combination and a form, indeed,\\nWhere every god did seem to set his seal,\\nTo give the world assurance of a man;\\nThis was your husband.--Look you now what follows:\\nHere is your husband, like a milldew'd ear\\nBlasting his wholesome brother. Have you eyes?\\nCould you on this fair mountain leave to feed,\\nAnd batten on this moor? Ha! have you eyes?\\nYou cannot call it love; for at your age\\nThe hey-day in the blood is tame, it's humble,\\nAnd waits upon the judgment: and what judgment\\nWould step from this to this? Sense, sure, you have,\\nElse could you not have motion: but sure that sense\\nIs apoplex'd; for madness would not err;\\nNor sense to ecstacy was ne'er so thrall'd\\nBut it reserv'd some quantity of choice\\nTo serve in such a difference. What devil was't\\nThat thus hath cozen'd you at hoodman-blind?\\nEyes without feeling, feeling without sight,\\nEars without hands or eyes, smelling sans all,\\nOr but a sickly part of one true sense\\nCould not so mope.\\nO shame! where is thy blush? Rebellious hell,\\nIf thou canst mutine in a matron's bones,\\nTo flaming youth let virtue be as wax,\\nAnd melt in her own fire: proclaim no shame\\nWhen the compulsive ardour gives the charge,\\nSince frost itself as actively doth burn,\\nAnd reason panders will.\\n\\nQueen.\\nO Hamlet, speak no more:\\nThou turn'st mine eyes into my very soul;\\nAnd there I see such black and grained spots\\nAs will not leave their tinct.\\n\\nHam.\\nNay, but to live\\nIn the rank sweat of an enseamed bed,\\nStew'd in corruption, honeying and making love\\nOver the nasty sty,--\\n\\nQueen.\\nO, speak to me no more;\\nThese words like daggers enter in mine ears;\\nNo more, sweet Hamlet.\\n\\nHam.\\nA murderer and a villain;\\nA slave that is not twentieth part the tithe\\nOf your precedent lord; a vice of kings;\\nA cutpurse of the empire and the rule,\\nThat from a shelf the precious diadem stole\\nAnd put it in his pocket!\\n\\nQueen.\\nNo more.\\n\\nHam.\\nA king of shreds and patches!--\\n\\n[Enter Ghost.]\\n\\nSave me and hover o'er me with your wings,\\nYou heavenly guards!--What would your gracious figure?\\n\\nQueen.\\nAlas, he's mad!\\n\\nHam.\\nDo you not come your tardy son to chide,\\nThat, laps'd in time and passion, lets go by\\nThe important acting of your dread command?\\nO, say!\\n\\nGhost.\\nDo not forget. This visitation\\nIs but to whet thy almost blunted purpose.\\nBut, look, amazement on thy mother sits:\\nO, step between her and her fighting soul,--\\nConceit in weakest bodies strongest works,--\\nSpeak to her, Hamlet.\\n\\nHam.\\nHow is it with you, lady?\\n\\nQueen.\\nAlas, how is't with you,\\nThat you do bend your eye on vacancy,\\nAnd with the incorporal air do hold discourse?\\nForth at your eyes your spirits wildly peep;\\nAnd, as the sleeping soldiers in the alarm,\\nYour bedded hairs, like life in excrements,\\nStart up and stand an end. O gentle son,\\nUpon the heat and flame of thy distemper\\nSprinkle cool patience! Whereon do you look?\\n\\nHam.\\nOn him, on him! Look you how pale he glares!\\nHis form and cause conjoin'd, preaching to stones,\\nWould make them capable.--Do not look upon me;\\nLest with this piteous action you convert\\nMy stern effects: then what I have to do\\nWill want true colour; tears perchance for blood.\\n\\nQueen.\\nTo whom do you speak this?\\n\\nHam.\\nDo you see nothing there?\\n\\nQueen.\\nNothing at all; yet all that is I see.\\n\\nHam.\\nNor did you nothing hear?\\n\\nQueen.\\nNo, nothing but ourselves.\\n\\nHam.\\nWhy, look you there! look how it steals away!\\nMy father, in his habit as he liv'd!\\nLook, where he goes, even now out at the portal!\\n\\n[Exit Ghost.]\\n\\nQueen.\\nThis is the very coinage of your brain:\\nThis bodiless creation ecstasy\\nIs very cunning in.\\n\\nHam.\\nEcstasy!\\nMy pulse, as yours, doth temperately keep time,\\nAnd makes as healthful music: it is not madness\\nThat I have utter'd: bring me to the test,\\nAnd I the matter will re-word; which madness\\nWould gambol from. Mother, for love of grace,\\nLay not that flattering unction to your soul\\nThat not your trespass, but my madness speaks:\\nIt will but skin and film the ulcerous place,\\nWhilst rank corruption, mining all within,\\nInfects unseen. Confess yourself to heaven;\\nRepent what's past; avoid what is to come;\\nAnd do not spread the compost on the weeds,\\nTo make them ranker. Forgive me this my virtue;\\nFor in the fatness of these pursy times\\nVirtue itself of vice must pardon beg,\\nYea, curb and woo for leave to do him good.\\n\\nQueen.\\nO Hamlet, thou hast cleft my heart in twain.\\n\\nHam.\\nO, throw away the worser part of it,\\nAnd live the purer with the other half.\\nGood night: but go not to mine uncle's bed;\\nAssume a virtue, if you have it not.\\nThat monster custom, who all sense doth eat,\\nOf habits evil, is angel yet in this,--\\nThat to the use of actions fair and good\\nHe likewise gives a frock or livery\\nThat aptly is put on. Refrain to-night;\\nAnd that shall lend a kind of easiness\\nTo the next abstinence: the next more easy;\\nFor use almost can change the stamp of nature,\\nAnd either curb the devil, or throw him out\\nWith wondrous potency. Once more, good-night:\\nAnd when you are desirous to be bles'd,\\nI'll blessing beg of you.--For this same lord\\n[Pointing to Polonius.]\\nI do repent; but heaven hath pleas'd it so,\\nTo punish me with this, and this with me,\\nThat I must be their scourge and minister.\\nI will bestow him, and will answer well\\nThe death I gave him. So again, good-night.--\\nI must be cruel, only to be kind:\\nThus bad begins, and worse remains behind.--\\nOne word more, good lady.\\n\\nQueen.\\nWhat shall I do?\\n\\nHam.\\nNot this, by no means, that I bid you do:\\nLet the bloat king tempt you again to bed;\\nPinch wanton on your cheek; call you his mouse;\\nAnd let him, for a pair of reechy kisses,\\nOr paddling in your neck with his damn'd fingers,\\nMake you to ravel all this matter out,\\nThat I essentially am not in madness,\\nBut mad in craft. 'Twere good you let him know;\\nFor who that's but a queen, fair, sober, wise,\\nWould from a paddock, from a bat, a gib,\\nSuch dear concernings hide? who would do so?\\nNo, in despite of sense and secrecy,\\nUnpeg the basket on the house's top,\\nLet the birds fly, and, like the famous ape,\\nTo try conclusions, in the basket creep\\nAnd break your own neck down.\\n\\nQueen.\\nBe thou assur'd, if words be made of breath,\\nAnd breath of life, I have no life to breathe\\nWhat thou hast said to me.\\n\\nHam.\\nI must to England; you know that?\\n\\nQueen.\\nAlack,\\nI had forgot: 'tis so concluded on.\\n\\nHam.\\nThere's letters seal'd: and my two schoolfellows,--\\nWhom I will trust as I will adders fang'd,--\\nThey bear the mandate; they must sweep my way\\nAnd marshal me to knavery. Let it work;\\nFor 'tis the sport to have the enginer\\nHoist with his own petard: and 't shall go hard\\nBut I will delve one yard below their mines\\nAnd blow them at the moon: O, 'tis most sweet,\\nWhen in one line two crafts directly meet.--\\nThis man shall set me packing:\\nI'll lug the guts into the neighbour room.--\\nMother, good-night.--Indeed, this counsellor\\nIs now most still, most secret, and most grave,\\nWho was in life a foolish peating knave.\\nCome, sir, to draw toward an end with you:--\\nGood night, mother.\\n\\n[Exeunt severally; Hamlet, dragging out Polonius.]\\n\\n\\n\\nACT IV.\\n\\nScene I. A room in the Castle.\\n\\n[Enter King, Queen, Rosencrantz and Guildenstern.]\\n\\nKing.\\nThere's matter in these sighs. These profound heaves\\nYou must translate: 'tis fit we understand them.\\nWhere is your son?\\n\\nQueen.\\nBestow this place on us a little while.\\n\\n[To Rosencrantz and Guildenstern, who go out.]\\n\\nAh, my good lord, what have I seen to-night!\\n\\nKing.\\nWhat, Gertrude? How does Hamlet?\\n\\nQueen.\\nMad as the sea and wind, when both contend\\nWhich is the mightier: in his lawless fit\\nBehind the arras hearing something stir,\\nWhips out his rapier, cries 'A rat, a rat!'\\nAnd in this brainish apprehension, kills\\nThe unseen good old man.\\n\\nKing.\\nO heavy deed!\\nIt had been so with us, had we been there:\\nHis liberty is full of threats to all;\\nTo you yourself, to us, to every one.\\nAlas, how shall this bloody deed be answer'd?\\nIt will be laid to us, whose providence\\nShould have kept short, restrain'd, and out of haunt\\nThis mad young man. But so much was our love\\nWe would not understand what was most fit;\\nBut, like the owner of a foul disease,\\nTo keep it from divulging, let it feed\\nEven on the pith of life. Where is he gone?\\n\\nQueen.\\nTo draw apart the body he hath kill'd:\\nO'er whom his very madness, like some ore\\nAmong a mineral of metals base,\\nShows itself pure: he weeps for what is done.\\n\\nKing.\\nO Gertrude, come away!\\nThe sun no sooner shall the mountains touch\\nBut we will ship him hence: and this vile deed\\nWe must with all our majesty and skill\\nBoth countenance and excuse.--Ho, Guildenstern!\\n\\n[Re-enter Rosencrantz and Guildenstern.]\\n\\nFriends both, go join you with some further aid:\\nHamlet in madness hath Polonius slain,\\nAnd from his mother's closet hath he dragg'd him:\\nGo seek him out; speak fair, and bring the body\\nInto the chapel. I pray you, haste in this.\\n\\n[Exeunt Rosencrantz and Guildenstern.]\\n\\nCome, Gertrude, we'll call up our wisest friends;\\nAnd let them know both what we mean to do\\nAnd what's untimely done: so haply slander,--\\nWhose whisper o'er the world's diameter,\\nAs level as the cannon to his blank,\\nTransports his poison'd shot,--may miss our name,\\nAnd hit the woundless air.--O, come away!\\nMy soul is full of discord and dismay.\\n\\n[Exeunt.]\\n\\nScene II. Another room in the Castle.\\n\\n[Enter Hamlet.]\\n\\nHam.\\nSafely stowed.\\n\\nRos. and Guil.\\n[Within.] Hamlet! Lord Hamlet!\\n\\nHam.\\nWhat noise? who calls on Hamlet? O, here they come.\\n\\n[Enter Rosencrantz and Guildenstern.]\\n\\nRos.\\nWhat have you done, my lord, with the dead body?\\n\\nHam.\\nCompounded it with dust, whereto 'tis kin.\\n\\nRos.\\nTell us where 'tis, that we may take it thence,\\nAnd bear it to the chapel.\\n\\nHam.\\nDo not believe it.\\n\\nRos.\\nBelieve what?\\n\\nHam.\\nThat I can keep your counsel, and not mine own. Besides, to be\\ndemanded of a sponge!--what replication should be made by the son\\nof a king?\\n\\nRos.\\nTake you me for a sponge, my lord?\\n\\nHam.\\nAy, sir; that soaks up the King's countenance, his rewards,\\nhis authorities. But such officers do the king best service in\\nthe end: he keeps them, like an ape, in the corner of his jaw;\\nfirst mouthed, to be last swallowed: when he needs what you have\\ngleaned, it is but squeezing you, and, sponge, you shall be dry\\nagain.\\n\\nRos.\\nI understand you not, my lord.\\n\\nHam.\\nI am glad of it: a knavish speech sleeps in a foolish ear.\\n\\nRos.\\nMy lord, you must tell us where the body is and go with us to\\nthe king.\\n\\nHam.\\nThe body is with the king, but the king is not with the body.\\nThe king is a thing,--\\n\\nGuil.\\nA thing, my lord!\\n\\nHam.\\nOf nothing: bring me to him. Hide fox, and all after.\\n\\n[Exeunt.]\\n\\n\\n\\nScene III. Another room in the Castle.\\n\\n[Enter King,attended.]\\n\\nKing.\\nI have sent to seek him and to find the body.\\nHow dangerous is it that this man goes loose!\\nYet must not we put the strong law on him:\\nHe's lov'd of the distracted multitude,\\nWho like not in their judgment, but their eyes;\\nAnd where 'tis so, the offender's scourge is weigh'd,\\nBut never the offence. To bear all smooth and even,\\nThis sudden sending him away must seem\\nDeliberate pause: diseases desperate grown\\nBy desperate appliance are reliev'd,\\nOr not at all.\\n\\n[Enter Rosencrantz.]\\n\\nHow now! what hath befall'n?\\n\\nRos.\\nWhere the dead body is bestow'd, my lord,\\nWe cannot get from him.\\n\\nKing.\\nBut where is he?\\n\\nRos.\\nWithout, my lord; guarded, to know your pleasure.\\n\\nKing.\\nBring him before us.\\n\\nRos.\\nHo, Guildenstern! bring in my lord.\\n\\n[Enter Hamlet and Guildenstern.]\\n\\nKing.\\nNow, Hamlet, where's Polonius?\\n\\nHam.\\nAt supper.\\n\\nKing.\\nAt supper! where?\\n\\nHam.\\nNot where he eats, but where he is eaten: a certain\\nconvocation of politic worms are e'en at him. Your worm is your\\nonly emperor for diet: we fat all creatures else to fat us, and\\nwe fat ourselves for maggots: your fat king and your lean beggar\\nis but variable service,--two dishes, but to one table: that's\\nthe end.\\n\\nKing.\\nAlas, alas!\\n\\nHam.\\nA man may fish with the worm that hath eat of a king, and eat\\nof the fish that hath fed of that worm.\\n\\nKing.\\nWhat dost thou mean by this?\\n\\nHam.\\nNothing but to show you how a king may go a progress through\\nthe guts of a beggar.\\n\\nKing.\\nWhere is Polonius?\\n\\nHam.\\nIn heaven: send thither to see: if your messenger find him not\\nthere, seek him i' the other place yourself. But, indeed, if you\\nfind him not within this month, you shall nose him as you go up\\nthe stairs into the lobby.\\n\\nKing.\\nGo seek him there. [To some Attendants.]\\n\\nHam.\\nHe will stay till you come.\\n\\n[Exeunt Attendants.]\\n\\nKing.\\nHamlet, this deed, for thine especial safety,--\\nWhich we do tender, as we dearly grieve\\nFor that which thou hast done,--must send thee hence\\nWith fiery quickness: therefore prepare thyself;\\nThe bark is ready, and the wind at help,\\nThe associates tend, and everything is bent\\nFor England.\\n\\nHam.\\nFor England!\\n\\nKing.\\nAy, Hamlet.\\n\\nHam.\\nGood.\\n\\nKing.\\nSo is it, if thou knew'st our purposes.\\n\\nHam.\\nI see a cherub that sees them.--But, come; for England!--\\nFarewell, dear mother.\\n\\nKing.\\nThy loving father, Hamlet.\\n\\nHam.\\nMy mother: father and mother is man and wife; man and wife is\\none flesh; and so, my mother.--Come, for England!\\n\\n[Exit.]\\n\\nKing.\\nFollow him at foot; tempt him with speed aboard;\\nDelay it not; I'll have him hence to-night:\\nAway! for everything is seal'd and done\\nThat else leans on the affair: pray you, make haste.\\n\\n[Exeunt Rosencrantz and Guildenstern.]\\n\\nAnd, England, if my love thou hold'st at aught,--\\nAs my great power thereof may give thee sense,\\nSince yet thy cicatrice looks raw and red\\nAfter the Danish sword, and thy free awe\\nPays homage to us,--thou mayst not coldly set\\nOur sovereign process; which imports at full,\\nBy letters conjuring to that effect,\\nThe present death of Hamlet. Do it, England;\\nFor like the hectic in my blood he rages,\\nAnd thou must cure me: till I know 'tis done,\\nHowe'er my haps, my joys were ne'er begun.\\n\\n[Exit.]\\n\\n\\n\\nScene IV. A plain in Denmark.\\n\\n[Enter Fortinbras, and Forces marching.]\\n\\nFor.\\nGo, Captain, from me greet the Danish king:\\nTell him that, by his license, Fortinbras\\nCraves the conveyance of a promis'd march\\nOver his kingdom. You know the rendezvous.\\nIf that his majesty would aught with us,\\nWe shall express our duty in his eye;\\nAnd let him know so.\\n\\nCapt.\\nI will do't, my lord.\\n\\nFor.\\nGo softly on.\\n\\n[Exeunt all For. and Forces.]\\n\\n[Enter Hamlet, Rosencrantz, Guildenstern, &c.]\\n\\nHam.\\nGood sir, whose powers are these?\\n\\nCapt.\\nThey are of Norway, sir.\\n\\nHam.\\nHow purpos'd, sir, I pray you?\\n\\nCapt.\\nAgainst some part of Poland.\\n\\nHam.\\nWho commands them, sir?\\n\\nCapt.\\nThe nephew to old Norway, Fortinbras.\\n\\nHam.\\nGoes it against the main of Poland, sir,\\nOr for some frontier?\\n\\nCapt.\\nTruly to speak, and with no addition,\\nWe go to gain a little patch of ground\\nThat hath in it no profit but the name.\\nTo pay five ducats, five, I would not farm it;\\nNor will it yield to Norway or the Pole\\nA ranker rate, should it be sold in fee.\\n\\nHam.\\nWhy, then the Polack never will defend it.\\n\\nCapt.\\nYes, it is already garrison'd.\\n\\nHam.\\nTwo thousand souls and twenty thousand ducats\\nWill not debate the question of this straw:\\nThis is the imposthume of much wealth and peace,\\nThat inward breaks, and shows no cause without\\nWhy the man dies.--I humbly thank you, sir.\\n\\nCapt.\\nGod b' wi' you, sir.\\n\\n[Exit.]\\n\\nRos.\\nWill't please you go, my lord?\\n\\nHam.\\nI'll be with you straight. Go a little before.\\n\\n[Exeunt all but Hamlet.]\\n\\nHow all occasions do inform against me\\nAnd spur my dull revenge! What is a man,\\nIf his chief good and market of his time\\nBe but to sleep and feed? a beast, no more.\\nSure he that made us with such large discourse,\\nLooking before and after, gave us not\\nThat capability and godlike reason\\nTo fust in us unus'd. Now, whether it be\\nBestial oblivion, or some craven scruple\\nOf thinking too precisely on the event,--\\nA thought which, quarter'd, hath but one part wisdom\\nAnd ever three parts coward,--I do not know\\nWhy yet I live to say 'This thing's to do;'\\nSith I have cause, and will, and strength, and means\\nTo do't. Examples, gross as earth, exhort me:\\nWitness this army, of such mass and charge,\\nLed by a delicate and tender prince;\\nWhose spirit, with divine ambition puff'd,\\nMakes mouths at the invisible event;\\nExposing what is mortal and unsure\\nTo all that fortune, death, and danger dare,\\nEven for an egg-shell. Rightly to be great\\nIs not to stir without great argument,\\nBut greatly to find quarrel in a straw\\nWhen honour's at the stake. How stand I, then,\\nThat have a father kill'd, a mother stain'd,\\nExcitements of my reason and my blood,\\nAnd let all sleep? while, to my shame, I see\\nThe imminent death of twenty thousand men\\nThat, for a fantasy and trick of fame,\\nGo to their graves like beds; fight for a plot\\nWhereon the numbers cannot try the cause,\\nWhich is not tomb enough and continent\\nTo hide the slain?--O, from this time forth,\\nMy thoughts be bloody, or be nothing worth!\\n\\n[Exit.]\\n\\n\\n\\nScene V. Elsinore. A room in the Castle.\\n\\n[Enter Queen and Horatio.]\\n\\nQueen.\\nI will not speak with her.\\n\\nGent.\\nShe is importunate; indeed distract:\\nHer mood will needs be pitied.\\n\\nQueen.\\nWhat would she have?\\n\\nGent.\\nShe speaks much of her father; says she hears\\nThere's tricks i' the world, and hems, and beats her heart;\\nSpurns enviously at straws; speaks things in doubt,\\nThat carry but half sense: her speech is nothing,\\nYet the unshaped use of it doth move\\nThe hearers to collection; they aim at it,\\nAnd botch the words up fit to their own thoughts;\\nWhich, as her winks, and nods, and gestures yield them,\\nIndeed would make one think there might be thought,\\nThough nothing sure, yet much unhappily.\\n'Twere good she were spoken with; for she may strew\\nDangerous conjectures in ill-breeding minds.\\n\\nQueen.\\nLet her come in.\\n\\n[Exit Horatio.]\\n\\nTo my sick soul, as sin's true nature is,\\nEach toy seems Prologue to some great amiss:\\nSo full of artless jealousy is guilt,\\nIt spills itself in fearing to be spilt.\\n\\n[Re-enter Horatio with Ophelia.]\\n\\nOph.\\nWhere is the beauteous majesty of Denmark?\\n\\nQueen.\\nHow now, Ophelia?\\n\\nOph. [Sings.]\\n   How should I your true love know\\n     From another one?\\n   By his cockle bat and' staff\\n     And his sandal shoon.\\n\\nQueen.\\nAlas, sweet lady, what imports this song?\\n\\nOph.\\nSay you? nay, pray you, mark.\\n[Sings.]\\n   He is dead and gone, lady,\\n     He is dead and gone;\\n   At his head a grass green turf,\\n     At his heels a stone.\\n\\nQueen.\\nNay, but Ophelia--\\n\\nOph.\\nPray you, mark.\\n[Sings.]\\n   White his shroud as the mountain snow,\\n\\n[Enter King.]\\n\\nQueen.\\nAlas, look here, my lord!\\n\\nOph.\\n[Sings.]\\n     Larded all with sweet flowers;\\n   Which bewept to the grave did go\\n     With true-love showers.\\n\\nKing.\\nHow do you, pretty lady?\\n\\nOph.\\nWell, God dild you! They say the owl was a baker's daughter.\\nLord, we know what we are, but know not what we may be. God be at\\nyour table!\\n\\nKing.\\nConceit upon her father.\\n\\nOph.\\nPray you, let's have no words of this; but when they ask you what\\nit means, say you this:\\n[Sings.]\\n   To-morrow is Saint Valentine's day\\n     All in the morning bedtime,\\n   And I a maid at your window,\\n     To be your Valentine.\\n\\n   Then up he rose and donn'd his clothes,\\n     And dupp'd the chamber door,\\n   Let in the maid, that out a maid\\n     Never departed more.\\n\\nKing.\\nPretty Ophelia!\\n\\nOph.\\nIndeed, la, without an oath, I'll make an end on't:\\n[Sings.]\\n   By Gis and by Saint Charity,\\n     Alack, and fie for shame!\\n   Young men will do't if they come to't;\\n     By cock, they are to blame.\\n\\n   Quoth she, before you tumbled me,\\n     You promis'd me to wed.\\n   So would I ha' done, by yonder sun,\\n     An thou hadst not come to my bed.\\n\\nKing.\\nHow long hath she been thus?\\n\\nOph.\\nI hope all will be well. We must be patient: but I cannot\\nchoose but weep, to think they would lay him i' the cold ground.\\nMy brother shall know of it: and so I thank you for your good\\ncounsel.--Come, my coach!--Good night, ladies; good night, sweet\\nladies; good night, good night.\\n\\n[Exit.]\\n\\nKing.\\nFollow her close; give her good watch, I pray you.\\n\\n[Exit Horatio.]\\n\\nO, this is the poison of deep grief; it springs\\nAll from her father's death. O Gertrude, Gertrude,\\nWhen sorrows come, they come not single spies,\\nBut in battalions! First, her father slain:\\nNext, your son gone; and he most violent author\\nOf his own just remove: the people muddied,\\nThick and and unwholesome in their thoughts and whispers\\nFor good Polonius' death; and we have done but greenly\\nIn hugger-mugger to inter him: poor Ophelia\\nDivided from herself and her fair judgment,\\nWithout the which we are pictures or mere beasts:\\nLast, and as much containing as all these,\\nHer brother is in secret come from France;\\nFeeds on his wonder, keeps himself in clouds,\\nAnd wants not buzzers to infect his ear\\nWith pestilent speeches of his father's death;\\nWherein necessity, of matter beggar'd,\\nWill nothing stick our person to arraign\\nIn ear and ear. O my dear Gertrude, this,\\nLike to a murdering piece, in many places\\nGive, me superfluous death.\\n\\n[A noise within.]\\n\\nQueen.\\nAlack, what noise is this?\\n\\nKing.\\nWhere are my Switzers? let them guard the door.\\n\\n[Enter a Gentleman.]\\n\\nWhat is the matter?\\n\\nGent.\\nSave yourself, my lord:\\nThe ocean, overpeering of his list,\\nEats not the flats with more impetuous haste\\nThan young Laertes, in a riotous head,\\nO'erbears your offices. The rabble call him lord;\\nAnd, as the world were now but to begin,\\nAntiquity forgot, custom not known,\\nThe ratifiers and props of every word,\\nThey cry 'Choose we! Laertes shall be king!'\\nCaps, hands, and tongues applaud it to the clouds,\\n'Laertes shall be king! Laertes king!'\\n\\nQueen.\\nHow cheerfully on the false trail they cry!\\nO, this is counter, you false Danish dogs!\\n\\n[A noise within.]\\n\\nKing.\\nThe doors are broke.\\n\\n[Enter Laertes, armed; Danes following.]\\n\\nLaer.\\nWhere is this king?--Sirs, stand you all without.\\n\\nDanes.\\nNo, let's come in.\\n\\nLaer.\\nI pray you, give me leave.\\n\\nDanes.\\nWe will, we will.\\n\\n[They retire without the door.]\\n\\nLaer.\\nI thank you:--keep the door.--O thou vile king,\\nGive me my father!\\n\\nQueen.\\nCalmly, good Laertes.\\n\\nLaer.\\nThat drop of blood that's calm proclaims me bastard;\\nCries cuckold to my father; brands the harlot\\nEven here, between the chaste unsmirched brow\\nOf my true mother.\\n\\nKing.\\nWhat is the cause, Laertes,\\nThat thy rebellion looks so giant-like?--\\nLet him go, Gertrude; do not fear our person:\\nThere's such divinity doth hedge a king,\\nThat treason can but peep to what it would,\\nActs little of his will.--Tell me, Laertes,\\nWhy thou art thus incens'd.--Let him go, Gertrude:--\\nSpeak, man.\\n\\nLaer.\\nWhere is my father?\\n\\nKing.\\nDead.\\n\\nQueen.\\nBut not by him.\\n\\nKing.\\nLet him demand his fill.\\n\\nLaer.\\nHow came he dead? I'll not be juggled with:\\nTo hell, allegiance! vows, to the blackest devil!\\nConscience and grace, to the profoundest pit!\\nI dare damnation:--to this point I stand,--\\nThat both the worlds, I give to negligence,\\nLet come what comes; only I'll be reveng'd\\nMost throughly for my father.\\n\\nKing.\\nWho shall stay you?\\n\\nLaer.\\nMy will, not all the world:\\nAnd for my means, I'll husband them so well,\\nThey shall go far with little.\\n\\nKing.\\nGood Laertes,\\nIf you desire to know the certainty\\nOf your dear father's death, is't writ in your revenge\\nThat, sweepstake, you will draw both friend and foe,\\nWinner and loser?\\n\\nLaer.\\nNone but his enemies.\\n\\nKing.\\nWill you know them then?\\n\\nLaer.\\nTo his good friends thus wide I'll ope my arms;\\nAnd, like the kind life-rendering pelican,\\nRepast them with my blood.\\n\\nKing.\\nWhy, now you speak\\nLike a good child and a true gentleman.\\nThat I am guiltless of your father's death,\\nAnd am most sensibly in grief for it,\\nIt shall as level to your judgment pierce\\nAs day does to your eye.\\n\\nDanes.\\n[Within] Let her come in.\\n\\nLaer.\\nHow now! What noise is that?\\n\\n[Re-enter Ophelia, fantastically dressed with straws and\\nflowers.]\\n\\nO heat, dry up my brains! tears seven times salt,\\nBurn out the sense and virtue of mine eye!--\\nBy heaven, thy madness shall be paid by weight,\\nTill our scale turn the beam. O rose of May!\\nDear maid, kind sister, sweet Ophelia!--\\nO heavens! is't possible a young maid's wits\\nShould be as mortal as an old man's life?\\nNature is fine in love; and where 'tis fine,\\nIt sends some precious instance of itself\\nAfter the thing it loves.\\n\\nOph.\\n[Sings.]\\n   They bore him barefac'd on the bier\\n   Hey no nonny, nonny, hey nonny\\n   And on his grave rain'd many a tear.--\\n\\nFare you well, my dove!\\n\\nLaer.\\nHadst thou thy wits, and didst persuade revenge,\\nIt could not move thus.\\n\\nOph.\\nYou must sing 'Down a-down, an you call him a-down-a.' O,\\nhow the wheel becomes it! It is the false steward, that stole his\\nmaster's daughter.\\n\\nLaer.\\nThis nothing's more than matter.\\n\\nOph.\\nThere's rosemary, that's for remembrance; pray, love,\\nremember: and there is pansies, that's for thoughts.\\n\\nLaer.\\nA document in madness,--thoughts and remembrance fitted.\\n\\nOph.\\nThere's fennel for you, and columbines:--there's rue for you;\\nand here's some for me:--we may call it herb of grace o'\\nSundays:--O, you must wear your rue with a difference.--There's a\\ndaisy:--I would give you some violets, but they wither'd all when\\nmy father died:--they say he made a good end,--\\n[Sings.]\\n   For bonny sweet Robin is all my joy,--\\n\\nLaer.\\nThought and affliction, passion, hell itself,\\nShe turns to favour and to prettiness.\\n\\nOph.\\n[Sings.]\\n   And will he not come again?\\n   And will he not come again?\\n     No, no, he is dead,\\n     Go to thy death-bed,\\n   He never will come again.\\n\\n   His beard was as white as snow,\\n   All flaxen was his poll:\\n     He is gone, he is gone,\\n     And we cast away moan:\\n   God ha' mercy on his soul!\\n\\nAnd of all Christian souls, I pray God.--God b' wi' ye.\\n\\n[Exit.]\\n\\nLaer.\\nDo you see this, O God?\\n\\nKing.\\nLaertes, I must commune with your grief,\\nOr you deny me right. Go but apart,\\nMake choice of whom your wisest friends you will,\\nAnd they shall hear and judge 'twixt you and me.\\nIf by direct or by collateral hand\\nThey find us touch'd, we will our kingdom give,\\nOur crown, our life, and all that we call ours,\\nTo you in satisfaction; but if not,\\nBe you content to lend your patience to us,\\nAnd we shall jointly labour with your soul\\nTo give it due content.\\n\\nLaer.\\nLet this be so;\\nHis means of death, his obscure burial,--\\nNo trophy, sword, nor hatchment o'er his bones,\\nNo noble rite nor formal ostentation,--\\nCry to be heard, as 'twere from heaven to earth,\\nThat I must call't in question.\\n\\nKing.\\nSo you shall;\\nAnd where the offence is let the great axe fall.\\nI pray you go with me.\\n\\n[Exeunt.]\\n\\n\\n\\nScene VI. Another room in the Castle.\\n\\n[Enter Horatio and a Servant.]\\n\\nHor.\\nWhat are they that would speak with me?\\n\\nServant.\\nSailors, sir: they say they have letters for you.\\n\\nHor.\\nLet them come in.\\n\\n[Exit Servant.]\\n\\nI do not know from what part of the world\\nI should be greeted, if not from Lord Hamlet.\\n\\n[Enter Sailors.]\\n\\nI Sailor.\\nGod bless you, sir.\\n\\nHor.\\nLet him bless thee too.\\n\\nSailor.\\nHe shall, sir, an't please him. There's a letter for you,\\nsir,--it comes from the ambassador that was bound for England; if\\nyour name be Horatio, as I am let to know it is.\\n\\nHor.\\n[Reads.] 'Horatio, when thou shalt have overlooked\\nthis, give these fellows some means to the king: they have\\nletters for him. Ere we were two days old at sea, a pirate of\\nvery warlike appointment gave us chase. Finding ourselves too\\nslow of sail, we put on a compelled valour, and in the grapple I\\nboarded them: on the instant they got clear of our ship; so I\\nalone became their prisoner. They have dealt with me like thieves\\nof mercy: but they knew what they did; I am to do a good turn for\\nthem. Let the king have the letters I have sent; and repair thou\\nto me with as much haste as thou wouldst fly death. I have words\\nto speak in thine ear will make thee dumb; yet are they much too\\nlight for the bore of the matter. These good fellows will bring\\nthee where I am. Rosencrantz and Guildenstern hold their course\\nfor England: of them I have much to tell thee. Farewell.\\nHe that thou knowest thine,       HAMLET.'\\n\\nCome, I will give you way for these your letters;\\nAnd do't the speedier, that you may direct me\\nTo him from whom you brought them.\\n\\n[Exeunt.]\\n\\n\\n\\nScene VII. Another room in the Castle.\\n\\n[Enter King and Laertes.]\\n\\nKing.\\nNow must your conscience my acquittance seal,\\nAnd you must put me in your heart for friend,\\nSith you have heard, and with a knowing ear,\\nThat he which hath your noble father slain\\nPursu'd my life.\\n\\nLaer.\\nIt well appears:--but tell me\\nWhy you proceeded not against these feats,\\nSo crimeful and so capital in nature,\\nAs by your safety, wisdom, all things else,\\nYou mainly were stirr'd up.\\n\\nKing.\\nO, for two special reasons;\\nWhich may to you, perhaps, seem much unsinew'd,\\nBut yet to me they are strong. The queen his mother\\nLives almost by his looks; and for myself,--\\nMy virtue or my plague, be it either which,--\\nShe's so conjunctive to my life and soul,\\nThat, as the star moves not but in his sphere,\\nI could not but by her. The other motive,\\nWhy to a public count I might not go,\\nIs the great love the general gender bear him;\\nWho, dipping all his faults in their affection,\\nWould, like the spring that turneth wood to stone,\\nConvert his gyves to graces; so that my arrows,\\nToo slightly timber'd for so loud a wind,\\nWould have reverted to my bow again,\\nAnd not where I had aim'd them.\\n\\nLaer.\\nAnd so have I a noble father lost;\\nA sister driven into desperate terms,--\\nWhose worth, if praises may go back again,\\nStood challenger on mount of all the age\\nFor her perfections:--but my revenge will come.\\n\\nKing.\\nBreak not your sleeps for that:--you must not think\\nThat we are made of stuff so flat and dull\\nThat we can let our beard be shook with danger,\\nAnd think it pastime. You shortly shall hear more:\\nI lov'd your father, and we love ourself;\\nAnd that, I hope, will teach you to imagine,--\\n\\n[Enter a Messenger.]\\n\\nHow now! What news?\\n\\nMess.\\nLetters, my lord, from Hamlet:\\nThis to your majesty; this to the queen.\\n\\nKing.\\nFrom Hamlet! Who brought them?\\n\\nMess.\\nSailors, my lord, they say; I saw them not:\\nThey were given me by Claudio:--he receiv'd them\\nOf him that brought them.\\n\\nKing.\\nLaertes, you shall hear them.\\nLeave us.\\n\\n[Exit Messenger.]\\n\\n[Reads]'High and mighty,--You shall know I am set naked on your\\nkingdom. To-morrow shall I beg leave to see your kingly eyes:\\nwhen I shall, first asking your pardon thereunto, recount the\\noccasions of my sudden and more strange return.       HAMLET.'\\n\\nWhat should this mean? Are all the rest come back?\\nOr is it some abuse, and no such thing?\\n\\nLaer.\\nKnow you the hand?\\n\\nKing.\\n'Tis Hamlet's character:--'Naked!'--\\nAnd in a postscript here, he says 'alone.'\\nCan you advise me?\\n\\nLaer.\\nI am lost in it, my lord. But let him come;\\nIt warms the very sickness in my heart\\nThat I shall live and tell him to his teeth,\\n'Thus didest thou.'\\n\\nKing.\\nIf it be so, Laertes,--\\nAs how should it be so? how otherwise?--\\nWill you be rul'd by me?\\n\\nLaer.\\nAy, my lord;\\nSo you will not o'errule me to a peace.\\n\\nKing.\\nTo thine own peace. If he be now return'd--\\nAs checking at his voyage, and that he means\\nNo more to undertake it,--I will work him\\nTo exploit, now ripe in my device,\\nUnder the which he shall not choose but fall:\\nAnd for his death no wind shall breathe;\\nBut even his mother shall uncharge the practice\\nAnd call it accident.\\n\\nLaer.\\nMy lord, I will be rul'd;\\nThe rather if you could devise it so\\nThat I might be the organ.\\n\\nKing.\\nIt falls right.\\nYou have been talk'd of since your travel much,\\nAnd that in Hamlet's hearing, for a quality\\nWherein they say you shine: your sum of parts\\nDid not together pluck such envy from him\\nAs did that one; and that, in my regard,\\nOf the unworthiest siege.\\n\\nLaer.\\nWhat part is that, my lord?\\n\\nKing.\\nA very riband in the cap of youth,\\nYet needful too; for youth no less becomes\\nThe light and careless livery that it wears\\nThan settled age his sables and his weeds,\\nImporting health and graveness.--Two months since,\\nHere was a gentleman of Normandy,--\\nI've seen myself, and serv'd against, the French,\\nAnd they can well on horseback: but this gallant\\nHad witchcraft in't: he grew unto his seat;\\nAnd to such wondrous doing brought his horse,\\nAs had he been incorps'd and demi-natur'd\\nWith the brave beast: so far he topp'd my thought\\nThat I, in forgery of shapes and tricks,\\nCome short of what he did.\\n\\nLaer.\\nA Norman was't?\\n\\nKing.\\nA Norman.\\n\\nLaer.\\nUpon my life, Lamond.\\n\\nKing.\\nThe very same.\\n\\nLaer.\\nI know him well: he is the brooch indeed\\nAnd gem of all the nation.\\n\\nKing.\\nHe made confession of you;\\nAnd gave you such a masterly report\\nFor art and exercise in your defence,\\nAnd for your rapier most especially,\\nThat he cried out, 'twould be a sight indeed\\nIf one could match you: the scrimers of their nation\\nHe swore, had neither motion, guard, nor eye,\\nIf you oppos'd them. Sir, this report of his\\nDid Hamlet so envenom with his envy\\nThat he could nothing do but wish and beg\\nYour sudden coming o'er, to play with him.\\nNow, out of this,--\\n\\nLaer.\\nWhat out of this, my lord?\\n\\nKing.\\nLaertes, was your father dear to you?\\nOr are you like the painting of a sorrow,\\nA face without a heart?\\n\\nLaer.\\nWhy ask you this?\\n\\nKing.\\nNot that I think you did not love your father;\\nBut that I know love is begun by time,\\nAnd that I see, in passages of proof,\\nTime qualifies the spark and fire of it.\\nThere lives within the very flame of love\\nA kind of wick or snuff that will abate it;\\nAnd nothing is at a like goodness still;\\nFor goodness, growing to a plurisy,\\nDies in his own too much: that we would do,\\nWe should do when we would; for this 'would' changes,\\nAnd hath abatements and delays as many\\nAs there are tongues, are hands, are accidents;\\nAnd then this 'should' is like a spendthrift sigh,\\nThat hurts by easing. But to the quick o' the ulcer:--\\nHamlet comes back: what would you undertake\\nTo show yourself your father's son in deed\\nMore than in words?\\n\\nLaer.\\nTo cut his throat i' the church.\\n\\nKing.\\nNo place, indeed, should murder sanctuarize;\\nRevenge should have no bounds. But, good Laertes,\\nWill you do this, keep close within your chamber.\\nHamlet return'd shall know you are come home:\\nWe'll put on those shall praise your excellence\\nAnd set a double varnish on the fame\\nThe Frenchman gave you; bring you in fine together\\nAnd wager on your heads: he, being remiss,\\nMost generous, and free from all contriving,\\nWill not peruse the foils; so that with ease,\\nOr with a little shuffling, you may choose\\nA sword unbated, and, in a pass of practice,\\nRequite him for your father.\\n\\nLaer.\\nI will do't:\\nAnd for that purpose I'll anoint my sword.\\nI bought an unction of a mountebank,\\nSo mortal that, but dip a knife in it,\\nWhere it draws blood no cataplasm so rare,\\nCollected from all simples that have virtue\\nUnder the moon, can save the thing from death\\nThis is but scratch'd withal: I'll touch my point\\nWith this contagion, that, if I gall him slightly,\\nIt may be death.\\n\\nKing.\\nLet's further think of this;\\nWeigh what convenience both of time and means\\nMay fit us to our shape: if this should fail,\\nAnd that our drift look through our bad performance.\\n'Twere better not assay'd: therefore this project\\nShould have a back or second, that might hold\\nIf this did blast in proof. Soft! let me see:--\\nWe'll make a solemn wager on your cunnings,--\\nI ha't:\\nWhen in your motion you are hot and dry,--\\nAs make your bouts more violent to that end,--\\nAnd that he calls for drink, I'll have prepar'd him\\nA chalice for the nonce; whereon but sipping,\\nIf he by chance escape your venom'd stuck,\\nOur purpose may hold there.\\n\\n[Enter Queen.]\\n\\nHow now, sweet queen!\\n\\nQueen.\\nOne woe doth tread upon another's heel,\\nSo fast they follow:--your sister's drown'd, Laertes.\\n\\nLaer.\\nDrown'd! O, where?\\n\\nQueen.\\nThere is a willow grows aslant a brook,\\nThat shows his hoar leaves in the glassy stream;\\nThere with fantastic garlands did she come\\nOf crowflowers, nettles, daisies, and long purples,\\nThat liberal shepherds give a grosser name,\\nBut our cold maids do dead men's fingers call them.\\nThere, on the pendant boughs her coronet weeds\\nClamb'ring to hang, an envious sliver broke;\\nWhen down her weedy trophies and herself\\nFell in the weeping brook. Her clothes spread wide;\\nAnd, mermaid-like, awhile they bore her up;\\nWhich time she chaunted snatches of old tunes;\\nAs one incapable of her own distress,\\nOr like a creature native and indu'd\\nUnto that element: but long it could not be\\nTill that her garments, heavy with their drink,\\nPull'd the poor wretch from her melodious lay\\nTo muddy death.\\n\\nLaer.\\nAlas, then she is drown'd?\\n\\nQueen.\\nDrown'd, drown'd.\\n\\nLaer.\\nToo much of water hast thou, poor Ophelia,\\nAnd therefore I forbid my tears: but yet\\nIt is our trick; nature her custom holds,\\nLet shame say what it will: when these are gone,\\nThe woman will be out.--Adieu, my lord:\\nI have a speech of fire, that fain would blaze,\\nBut that this folly douts it.\\n\\n[Exit.]\\n\\nKing.\\nLet's follow, Gertrude;\\nHow much I had to do to calm his rage!\\nNow fear I this will give it start again;\\nTherefore let's follow.\\n\\n[Exeunt.]\\n\\n\\n\\nACT V.\\n\\nScene I. A churchyard.\\n\\n[Enter two Clowns, with spades, &c.]\\n\\n1 Clown.\\nIs she to be buried in Christian burial when she wilfully\\nseeks her own salvation?\\n\\n2 Clown.\\nI tell thee she is; and therefore make her grave straight: the\\ncrowner hath sat on her, and finds it Christian burial.\\n\\n1 Clown.\\nHow can that be, unless she drowned herself in her own defence?\\n\\n2 Clown.\\nWhy, 'tis found so.\\n\\n1 Clown.\\nIt must be se offendendo; it cannot be else. For here lies\\nthe point: if I drown myself wittingly, it argues an act: and an\\nact hath three branches; it is to act, to do, and to perform:\\nargal, she drowned herself wittingly.\\n\\n2 Clown.\\nNay, but hear you, goodman delver,--\\n\\n1 Clown.\\nGive me leave. Here lies the water; good: here stands the\\nman; good: if the man go to this water and drown himself, it is,\\nwill he, nill he, he goes,--mark you that: but if the water come\\nto him and drown him, he drowns not himself; argal, he that is\\nnot guilty of his own death shortens not his own life.\\n\\n2 Clown.\\nBut is this law?\\n\\n1 Clown.\\nAy, marry, is't--crowner's quest law.\\n\\n2 Clown.\\nWill you ha' the truth on't? If this had not been a\\ngentlewoman, she should have been buried out o' Christian burial.\\n\\n1 Clown.\\nWhy, there thou say'st: and the more pity that great folk\\nshould have countenance in this world to drown or hang themselves\\nmore than their even Christian.--Come, my spade. There is no\\nancient gentlemen but gardeners, ditchers, and grave-makers: they\\nhold up Adam's profession.\\n\\n2 Clown.\\nWas he a gentleman?\\n\\n1 Clown.\\nHe was the first that ever bore arms.\\n\\n2 Clown.\\nWhy, he had none.\\n\\n1 Clown.\\nWhat, art a heathen? How dost thou understand the Scripture?\\nThe Scripture says Adam digg'd: could he dig without arms? I'll\\nput another question to thee: if thou answerest me not to the\\npurpose, confess thyself,--\\n\\n2 Clown.\\nGo to.\\n\\n1 Clown.\\nWhat is he that builds stronger than either the mason, the\\nshipwright, or the carpenter?\\n\\n2 Clown.\\nThe gallows-maker; for that frame outlives a thousand tenants.\\n\\n1 Clown.\\nI like thy wit well, in good faith: the gallows does well;\\nbut how does it well? it does well to those that do ill: now,\\nthou dost ill to say the gallows is built stronger than the\\nchurch; argal, the gallows may do well to thee. To't again, come.\\n\\n2 Clown.\\nWho builds stronger than a mason, a shipwright, or a carpenter?\\n\\n1 Clown.\\nAy, tell me that, and unyoke.\\n\\n2 Clown.\\nMarry, now I can tell.\\n\\n1 Clown.\\nTo't.\\n\\n2 Clown.\\nMass, I cannot tell.\\n\\n[Enter Hamlet and Horatio, at a distance.]\\n\\n1 Clown.\\nCudgel thy brains no more about it, for your dull ass will\\nnot mend his pace with beating; and when you are asked this\\nquestion next, say 'a grave-maker;' the houses he makes last\\ntill doomsday. Go, get thee to Yaughan; fetch me a stoup of\\nliquor.\\n\\n[Exit Second Clown.]\\n\\n[Digs and sings.]\\n\\n   In youth when I did love, did love,\\n     Methought it was very sweet;\\n   To contract, O, the time for, ah, my behove,\\n     O, methought there was nothing meet.\\n\\nHam.\\nHas this fellow no feeling of his business, that he sings at\\ngrave-making?\\n\\nHor.\\nCustom hath made it in him a property of easiness.\\n\\nHam.\\n'Tis e'en so: the hand of little employment hath the daintier\\nsense.\\n\\n1 Clown.\\n[Sings.]\\n   But age, with his stealing steps,\\n     Hath claw'd me in his clutch,\\n   And hath shipp'd me into the land,\\n     As if I had never been such.\\n\\n[Throws up a skull.]\\n\\nHam.\\nThat skull had a tongue in it, and could sing once: how the\\nknave jowls it to the ground,as if 'twere Cain's jawbone, that\\ndid the first murder! This might be the pate of a politician,\\nwhich this ass now o'erreaches; one that would circumvent God,\\nmight it not?\\n\\nHor.\\nIt might, my lord.\\n\\nHam.\\nOr of a courtier, which could say 'Good morrow, sweet lord!\\nHow dost thou, good lord?' This might be my lord such-a-one, that\\npraised my lord such-a-one's horse when he meant to beg\\nit,--might it not?\\n\\nHor.\\nAy, my lord.\\n\\nHam.\\nWhy, e'en so: and now my Lady Worm's; chapless, and knocked\\nabout the mazard with a sexton's spade: here's fine revolution,\\nan we had the trick to see't. Did these bones cost no more the\\nbreeding but to play at loggets with 'em? mine ache to think\\non't.\\n\\n1 Clown.\\n[Sings.]\\n   A pickaxe and a spade, a spade,\\n     For and a shrouding sheet;\\n   O, a pit of clay for to be made\\n     For such a guest is meet.\\n\\n[Throws up another skull].\\n\\nHam.\\nThere's another: why may not that be the skull of a lawyer?\\nWhere be his quiddits now, his quillets, his cases, his tenures,\\nand his tricks? why does he suffer this rude knave now to knock\\nhim about the sconce with a dirty shovel, and will not tell him\\nof his action of battery? Hum! This fellow might be in's time a\\ngreat buyer of land, with his statutes, his recognizances, his\\nfines, his double vouchers, his recoveries: is this the fine of\\nhis fines, and the recovery of his recoveries, to have his fine\\npate full of fine dirt? will his vouchers vouch him no more of\\nhis purchases, and double ones too, than the length and breadth\\nof a pair of indentures? The very conveyances of his lands will\\nscarcely lie in this box; and must the inheritor himself have no\\nmore, ha?\\n\\nHor.\\nNot a jot more, my lord.\\n\\nHam.\\nIs not parchment made of sheep-skins?\\n\\nHor.\\nAy, my lord, And of calf-skins too.\\n\\nHam.\\nThey are sheep and calves which seek out assurance in that. I\\nwill speak to this fellow.--Whose grave's this, sir?\\n\\n1 Clown.\\nMine, sir.\\n[Sings.]\\n   O, a pit of clay for to be made\\n     For such a guest is meet.\\n\\nHam.\\nI think it be thine indeed, for thou liest in't.\\n\\n1 Clown.\\nYou lie out on't, sir, and therefore 'tis not yours: for my part,\\nI do not lie in't, yet it is mine.\\n\\nHam.\\nThou dost lie in't, to be in't and say it is thine: 'tis for\\nthe dead, not for the quick; therefore thou liest.\\n\\n1 Clown.\\n'Tis a quick lie, sir; 't will away again from me to you.\\n\\nHam.\\nWhat man dost thou dig it for?\\n\\n1 Clown.\\nFor no man, sir.\\n\\nHam.\\nWhat woman then?\\n\\n1 Clown.\\nFor none neither.\\n\\nHam.\\nWho is to be buried in't?\\n\\n1 Clown.\\nOne that was a woman, sir; but, rest her soul, she's dead.\\n\\nHam.\\nHow absolute the knave is! We must speak by the card, or\\nequivocation will undo us. By the Lord, Horatio, these three\\nyears I have taken note of it, the age is grown so picked that\\nthe toe of the peasant comes so near the heel of the courtier he\\ngalls his kibe.--How long hast thou been a grave-maker?\\n\\n1 Clown.\\nOf all the days i' the year, I came to't that day that our\\nlast King Hamlet overcame Fortinbras.\\n\\nHam.\\nHow long is that since?\\n\\n1 Clown.\\nCannot you tell that? every fool can tell that: it was the\\nvery day that young Hamlet was born,--he that is mad, and sent\\ninto England.\\n\\nHam.\\nAy, marry, why was be sent into England?\\n\\n1 Clown.\\nWhy, because he was mad: he shall recover his wits there;\\nor, if he do not, it's no great matter there.\\n\\nHam.\\nWhy?\\n\\n1 Clown.\\n'Twill not he seen in him there; there the men are as mad as he.\\n\\nHam.\\nHow came he mad?\\n\\n1 Clown.\\nVery strangely, they say.\\n\\nHam.\\nHow strangely?\\n\\n1 Clown.\\nFaith, e'en with losing his wits.\\n\\nHam.\\nUpon what ground?\\n\\n1 Clown.\\nWhy, here in Denmark: I have been sexton here, man and boy,\\nthirty years.\\n\\nHam.\\nHow long will a man lie i' the earth ere he rot?\\n\\n1 Clown.\\nFaith, if he be not rotten before he die,--as we have many\\npocky corses now-a-days that will scarce hold the laying in,--he\\nwill last you some eight year or nine year: a tanner will last\\nyou nine year.\\n\\nHam.\\nWhy he more than another?\\n\\n1 Clown.\\nWhy, sir, his hide is so tann'd with his trade that he will\\nkeep out water a great while; and your water is a sore decayer of\\nyour whoreson dead body. Here's a skull now; this skull hath lain\\nin the earth three-and-twenty years.\\n\\nHam.\\nWhose was it?\\n\\n1 Clown.\\nA whoreson, mad fellow's it was: whose do you think it was?\\n\\nHam.\\nNay, I know not.\\n\\n1 Clown.\\nA pestilence on him for a mad rogue! 'a pour'd a flagon of\\nRhenish on my head once. This same skull, sir, was Yorick's\\nskull, the king's jester.\\n\\nHam.\\nThis?\\n\\n1 Clown.\\nE'en that.\\n\\nHam.\\nLet me see. [Takes the skull.] Alas, poor Yorick!--I knew him,\\nHoratio; a fellow of infinite jest, of most excellent fancy: he\\nhath borne me on his back a thousand times; and now, how abhorred\\nin my imagination it is! my gorge rises at it. Here hung those\\nlips that I have kiss'd I know not how oft. Where be your gibes\\nnow? your gambols? your songs? your flashes of merriment, that\\nwere wont to set the table on a roar? Not one now, to mock your\\nown grinning? quite chap-fallen? Now, get you to my lady's\\nchamber, and tell her, let her paint an inch thick, to this\\nfavour she must come; make her laugh at that.--Pr'ythee, Horatio,\\ntell me one thing.\\n\\nHor.\\nWhat's that, my lord?\\n\\nHam.\\nDost thou think Alexander looked o' this fashion i' the earth?\\n\\nHor.\\nE'en so.\\n\\nHam.\\nAnd smelt so? Pah!\\n\\n[Throws down the skull.]\\n\\nHor.\\nE'en so, my lord.\\n\\nHam.\\nTo what base uses we may return, Horatio! Why may not\\nimagination trace the noble dust of Alexander till he find it\\nstopping a bung-hole?\\n\\nHor.\\n'Twere to consider too curiously to consider so.\\n\\nHam.\\nNo, faith, not a jot; but to follow him thither with modesty\\nenough, and likelihood to lead it: as thus: Alexander died,\\nAlexander was buried, Alexander returneth into dust; the dust is\\nearth; of earth we make loam; and why of that loam whereto he\\nwas converted might they not stop a beer-barrel?\\n   Imperious Caesar, dead and turn'd to clay,\\n   Might stop a hole to keep the wind away.\\n   O, that that earth which kept the world in awe\\n   Should patch a wall to expel the winter's flaw!\\nBut soft! but soft! aside!--Here comes the king.\\n\\n[Enter priests, &c, in procession; the corpse of Ophelia,\\nLaertes, and Mourners following; King, Queen, their Trains, &c.]\\n\\nThe queen, the courtiers: who is that they follow?\\nAnd with such maimed rites? This doth betoken\\nThe corse they follow did with desperate hand\\nFordo it own life: 'twas of some estate.\\nCouch we awhile and mark.\\n\\n[Retiring with Horatio.]\\n\\nLaer.\\nWhat ceremony else?\\n\\nHam.\\nThat is Laertes,\\nA very noble youth: mark.\\n\\nLaer.\\nWhat ceremony else?\\n\\n1 Priest.\\nHer obsequies have been as far enlarg'd\\nAs we have warranties: her death was doubtful;\\nAnd, but that great command o'ersways the order,\\nShe should in ground unsanctified have lodg'd\\nTill the last trumpet; for charitable prayers,\\nShards, flints, and pebbles should be thrown on her,\\nYet here she is allowed her virgin rites,\\nHer maiden strewments, and the bringing home\\nOf bell and burial.\\n\\nLaer.\\nMust there no more be done?\\n\\n1 Priest.\\nNo more be done;\\nWe should profane the service of the dead\\nTo sing a requiem and such rest to her\\nAs to peace-parted souls.\\n\\nLaer.\\nLay her i' the earth;--\\nAnd from her fair and unpolluted flesh\\nMay violets spring!--I tell thee, churlish priest,\\nA ministering angel shall my sister be\\nWhen thou liest howling.\\n\\nHam.\\nWhat, the fair Ophelia?\\n\\nQueen.\\nSweets to the sweet: farewell.\\n[Scattering flowers.]\\nI hop'd thou shouldst have been my Hamlet's wife;\\nI thought thy bride-bed to have deck'd, sweet maid,\\nAnd not have strew'd thy grave.\\n\\nLaer.\\nO, treble woe\\nFall ten times treble on that cursed head\\nWhose wicked deed thy most ingenious sense\\nDepriv'd thee of!--Hold off the earth awhile,\\nTill I have caught her once more in mine arms:\\n[Leaps into the grave.]\\nNow pile your dust upon the quick and dead,\\nTill of this flat a mountain you have made,\\nTo o'ertop old Pelion or the skyish head\\nOf blue Olympus.\\n\\nHam.\\n[Advancing.]\\nWhat is he whose grief\\nBears such an emphasis? whose phrase of sorrow\\nConjures the wandering stars, and makes them stand\\nLike wonder-wounded hearers? this is I,\\nHamlet the Dane.\\n[Leaps into the grave.]\\n\\nLaer.\\nThe devil take thy soul!\\n[Grappling with him.]\\n\\nHam.\\nThou pray'st not well.\\nI pr'ythee, take thy fingers from my throat;\\nFor, though I am not splenetive and rash,\\nYet have I in me something dangerous,\\nWhich let thy wiseness fear: away thy hand!\\n\\nKing.\\nPluck them asunder.\\n\\nQueen.\\nHamlet! Hamlet!\\n\\nAll.\\nGentlemen!--\\n\\nHor.\\nGood my lord, be quiet.\\n\\n[The Attendants part them, and they come out of the grave.]\\n\\nHam.\\nWhy, I will fight with him upon this theme\\nUntil my eyelids will no longer wag.\\n\\nQueen.\\nO my son, what theme?\\n\\nHam.\\nI lov'd Ophelia; forty thousand brothers\\nCould not, with all their quantity of love,\\nMake up my sum.--What wilt thou do for her?\\n\\nKing.\\nO, he is mad, Laertes.\\n\\nQueen.\\nFor love of God, forbear him!\\n\\nHam.\\n'Swounds, show me what thou'lt do:\\nWoul't weep? woul't fight? woul't fast? woul't tear thyself?\\nWoul't drink up eisel? eat a crocodile?\\nI'll do't.--Dost thou come here to whine?\\nTo outface me with leaping in her grave?\\nBe buried quick with her, and so will I:\\nAnd, if thou prate of mountains, let them throw\\nMillions of acres on us, till our ground,\\nSingeing his pate against the burning zone,\\nMake Ossa like a wart! Nay, an thou'lt mouth,\\nI'll rant as well as thou.\\n\\nQueen.\\nThis is mere madness:\\nAnd thus a while the fit will work on him;\\nAnon, as patient as the female dove,\\nWhen that her golden couplets are disclos'd,\\nHis silence will sit drooping.\\n\\nHam.\\nHear you, sir;\\nWhat is the reason that you use me thus?\\nI lov'd you ever: but it is no matter;\\nLet Hercules himself do what he may,\\nThe cat will mew, and dog will have his day.\\n\\n[Exit.]\\n\\nKing.\\nI pray thee, good Horatio, wait upon him.--\\n\\n[Exit Horatio.]\\n[To Laertes]\\nStrengthen your patience in our last night's speech;\\nWe'll put the matter to the present push.--\\nGood Gertrude, set some watch over your son.--\\nThis grave shall have a living monument:\\nAn hour of quiet shortly shall we see;\\nTill then in patience our proceeding be.\\n\\n[Exeunt.]\\n\\n\\n\\nScene II. A hall in the Castle.\\n\\n[Enter Hamlet and Horatio.]\\n\\nHam.\\nSo much for this, sir: now let me see the other;\\nYou do remember all the circumstance?\\n\\nHor.\\nRemember it, my lord!\\n\\nHam.\\nSir, in my heart there was a kind of fighting\\nThat would not let me sleep: methought I lay\\nWorse than the mutinies in the bilboes. Rashly,\\nAnd prais'd be rashness for it,--let us know,\\nOur indiscretion sometime serves us well,\\nWhen our deep plots do fail; and that should teach us\\nThere's a divinity that shapes our ends,\\nRough-hew them how we will.\\n\\nHor.\\nThat is most certain.\\n\\nHam.\\nUp from my cabin,\\nMy sea-gown scarf'd about me, in the dark\\nGrop'd I to find out them: had my desire;\\nFinger'd their packet; and, in fine, withdrew\\nTo mine own room again: making so bold,\\nMy fears forgetting manners, to unseal\\nTheir grand commission; where I found, Horatio,\\nO royal knavery! an exact command,--\\nLarded with many several sorts of reasons,\\nImporting Denmark's health, and England's too,\\nWith, ho! such bugs and goblins in my life,--\\nThat, on the supervise, no leisure bated,\\nNo, not to stay the grinding of the axe,\\nMy head should be struck off.\\n\\nHor.\\nIs't possible?\\n\\nHam.\\nHere's the commission: read it at more leisure.\\nBut wilt thou bear me how I did proceed?\\n\\nHor.\\nI beseech you.\\n\\nHam.\\nBeing thus benetted round with villanies,--\\nOr I could make a prologue to my brains,\\nThey had begun the play,--I sat me down;\\nDevis'd a new commission; wrote it fair:\\nI once did hold it, as our statists do,\\nA baseness to write fair, and labour'd much\\nHow to forget that learning; but, sir, now\\nIt did me yeoman's service. Wilt thou know\\nThe effect of what I wrote?\\n\\nHor.\\nAy, good my lord.\\n\\nHam.\\nAn earnest conjuration from the king,--\\nAs England was his faithful tributary;\\nAs love between them like the palm might flourish;\\nAs peace should still her wheaten garland wear\\nAnd stand a comma 'tween their amities;\\nAnd many such-like as's of great charge,--\\nThat, on the view and know of these contents,\\nWithout debatement further, more or less,\\nHe should the bearers put to sudden death,\\nNot shriving-time allow'd.\\n\\nHor.\\nHow was this seal'd?\\n\\nHam.\\nWhy, even in that was heaven ordinant.\\nI had my father's signet in my purse,\\nWhich was the model of that Danish seal:\\nFolded the writ up in the form of the other;\\nSubscrib'd it: gave't the impression; plac'd it safely,\\nThe changeling never known. Now, the next day\\nWas our sea-fight; and what to this was sequent\\nThou know'st already.\\n\\nHor.\\nSo Guildenstern and Rosencrantz go to't.\\n\\nHam.\\nWhy, man, they did make love to this employment;\\nThey are not near my conscience; their defeat\\nDoes by their own insinuation grow:\\n'Tis dangerous when the baser nature comes\\nBetween the pass and fell incensed points\\nOf mighty opposites.\\n\\nHor.\\nWhy, what a king is this!\\n\\nHam.\\nDoes it not, thinks't thee, stand me now upon,--\\nHe that hath kill'd my king, and whor'd my mother;\\nPopp'd in between the election and my hopes;\\nThrown out his angle for my proper life,\\nAnd with such cozenage--is't not perfect conscience\\nTo quit him with this arm? and is't not to be damn'd\\nTo let this canker of our nature come\\nIn further evil?\\n\\nHor.\\nIt must be shortly known to him from England\\nWhat is the issue of the business there.\\n\\nHam.\\nIt will be short: the interim is mine;\\nAnd a man's life is no more than to say One.\\nBut I am very sorry, good Horatio,\\nThat to Laertes I forgot myself;\\nFor by the image of my cause I see\\nThe portraiture of his: I'll court his favours:\\nBut, sure, the bravery of his grief did put me\\nInto a towering passion.\\n\\nHor.\\nPeace; who comes here?\\n\\n[Enter Osric.]\\n\\nOsr.\\nYour lordship is right welcome back to Denmark.\\n\\nHam.\\nI humbly thank you, sir. Dost know this water-fly?\\n\\nHor.\\nNo, my good lord.\\n\\nHam.\\nThy state is the more gracious; for 'tis a vice to know him. He\\nhath much land, and fertile: let a beast be lord of beasts, and\\nhis crib shall stand at the king's mess; 'tis a chough; but, as I\\nsay, spacious in the possession of dirt.\\n\\nOsr.\\nSweet lord, if your lordship were at leisure, I should\\nimpart a thing to you from his majesty.\\n\\nHam.\\nI will receive it with all diligence of spirit. Put your\\nbonnet to his right use; 'tis for the head.\\n\\nOsr.\\nI thank your lordship, t'is very hot.\\n\\nHam.\\nNo, believe me, 'tis very cold; the wind is northerly.\\n\\nOsr.\\nIt is indifferent cold, my lord, indeed.\\n\\nHam.\\nMethinks it is very sultry and hot for my complexion.\\n\\nOsr.\\nExceedingly, my lord; it is very sultry,--as 'twere--I cannot\\ntell how. But, my lord, his majesty bade me signify to you that\\nhe has laid a great wager on your head. Sir, this is the\\nmatter,--\\n\\nHam.\\nI beseech you, remember,--\\n[Hamlet moves him to put on his hat.]\\n\\nOsr.\\nNay, in good faith; for mine ease, in good faith. Sir, here\\nis newly come to court Laertes; believe me, an absolute\\ngentleman, full of most excellent differences, of very soft\\nsociety and great showing: indeed, to speak feelingly of him, he\\nis the card or calendar of gentry; for you shall find in him the\\ncontinent of what part a gentleman would see.\\n\\nHam.\\nSir, his definement suffers no perdition in you;--though, I\\nknow, to divide him inventorially would dizzy the arithmetic of\\nmemory, and yet but yaw neither, in respect of his quick sail.\\nBut, in the verity of extolment, I take him to be a soul of great\\narticle, and his infusion of such dearth and rareness as, to make\\ntrue diction of him, his semblable is his mirror, and who else\\nwould trace him, his umbrage, nothing more.\\n\\nOsr.\\nYour lordship speaks most infallibly of him.\\n\\nHam.\\nThe concernancy, sir? why do we wrap the gentleman in our more\\nrawer breath?\\n\\nOsr.\\nSir?\\n\\nHor.\\nIs't not possible to understand in another tongue? You will do't,\\nsir, really.\\n\\nHam.\\nWhat imports the nomination of this gentleman?\\n\\nOsr.\\nOf Laertes?\\n\\nHor.\\nHis purse is empty already; all's golden words are spent.\\n\\nHam.\\nOf him, sir.\\n\\nOsr.\\nI know, you are not ignorant,--\\n\\nHam.\\nI would you did, sir; yet, in faith, if you did, it would not\\nmuch approve me.--Well, sir.\\n\\nOsr.\\nYou are not ignorant of what excellence Laertes is,--\\n\\nHam.\\nI dare not confess that, lest I should compare with him in\\nexcellence; but to know a man well were to know himself.\\n\\nOsr.\\nI mean, sir, for his weapon; but in the imputation laid on\\nhim by them, in his meed he's unfellowed.\\n\\nHam.\\nWhat's his weapon?\\n\\nOsr.\\nRapier and dagger.\\n\\nHam.\\nThat's two of his weapons:--but well.\\n\\nOsr.\\nThe king, sir, hath wager'd with him six Barbary horses:\\nagainst the which he has imponed, as I take it, six French\\nrapiers and poniards, with their assigns, as girdle, hangers, and\\nso: three of the carriages, in faith, are very dear to fancy,\\nvery responsive to the hilts, most delicate carriages, and of\\nvery liberal conceit.\\n\\nHam.\\nWhat call you the carriages?\\n\\nHor.\\nI knew you must be edified by the margent ere you had done.\\n\\nOsr.\\nThe carriages, sir, are the hangers.\\n\\nHam.\\nThe phrase would be more german to the matter if we could\\ncarry cannon by our sides. I would it might be hangers till then.\\nBut, on: six Barbary horses against six French swords, their\\nassigns, and three liberal conceited carriages: that's the French\\nbet against the Danish: why is this all imponed, as you call it?\\n\\nOsr.\\nThe king, sir, hath laid that, in a dozen passes between\\nyour and him, he shall not exceed you three hits: he hath\\nlaid on twelve for nine; and it would come to immediate trial\\nif your lordship would vouchsafe the answer.\\n\\nHam.\\nHow if I answer no?\\n\\nOsr.\\nI mean, my lord, the opposition of your person in trial.\\n\\nHam.\\nSir, I will walk here in the hall: if it please his majesty,\\nit is the breathing time of day with me: let the foils be\\nbrought, the gentleman willing, and the king hold his purpose,\\nI will win for him if I can; if not, I will gain nothing but my\\nshame and the odd hits.\\n\\nOsr.\\nShall I re-deliver you e'en so?\\n\\nHam.\\nTo this effect, sir; after what flourish your nature will.\\n\\nOsr.\\nI commend my duty to your lordship.\\n\\nHam.\\nYours, yours.\\n\\n[Exit Osric.]\\n\\nHe does well to commend it himself; there are no tongues else\\nfor's turn.\\n\\nHor.\\nThis lapwing runs away with the shell on his head.\\n\\nHam.\\nHe did comply with his dug before he suck'd it. Thus has he,--and\\nmany more of the same bevy that I know the drossy age dotes on,--\\nonly got the tune of the time and outward habit of encounter;\\na kind of yesty collection, which carries them through and\\nthrough the most fanned and winnowed opinions; and do but blow\\nthem to their trial, the bubbles are out,\\n\\n[Enter a Lord.]\\n\\nLord.\\nMy lord, his majesty commended him to you by young Osric,\\nwho brings back to him that you attend him in the hall: he sends\\nto know if your pleasure hold to play with Laertes, or that you\\nwill take longer time.\\n\\nHam.\\nI am constant to my purposes; they follow the king's pleasure:\\nif his fitness speaks, mine is ready; now or whensoever, provided\\nI be so able as now.\\n\\nLord.\\nThe King and Queen and all are coming down.\\n\\nHam.\\nIn happy time.\\n\\nLord.\\nThe queen desires you to use some gentle entertainment to\\nLaertes before you fall to play.\\n\\nHam.\\nShe well instructs me.\\n\\n[Exit Lord.]\\n\\nHor.\\nYou will lose this wager, my lord.\\n\\nHam.\\nI do not think so; since he went into France I have been in\\ncontinual practice: I shall win at the odds. But thou wouldst not\\nthink how ill all's here about my heart: but it is no matter.\\n\\nHor.\\nNay, good my lord,--\\n\\nHam.\\nIt is but foolery; but it is such a kind of gain-giving as\\nwould perhaps trouble a woman.\\n\\nHor.\\nIf your mind dislike anything, obey it: I will forestall their\\nrepair hither, and say you are not fit.\\n\\nHam.\\nNot a whit, we defy augury: there's a special providence in\\nthe fall of a sparrow. If it be now, 'tis not to come; if it be\\nnot to come, it will be now; if it be not now, yet it will come:\\nthe readiness is all: since no man has aught of what he leaves,\\nwhat is't to leave betimes?\\n\\n[Enter King, Queen, Laertes, Lords, Osric, and Attendants with\\nfoils &c.]\\n\\nKing.\\nCome, Hamlet, come, and take this hand from me.\\n\\n[The King puts Laertes' hand into Hamlet's.]\\n\\nHam.\\nGive me your pardon, sir: I have done you wrong:\\nBut pardon't, as you are a gentleman.\\nThis presence knows, and you must needs have heard,\\nHow I am punish'd with sore distraction.\\nWhat I have done\\nThat might your nature, honour, and exception\\nRoughly awake, I here proclaim was madness.\\nWas't Hamlet wrong'd Laertes? Never Hamlet:\\nIf Hamlet from himself be ta'en away,\\nAnd when he's not himself does wrong Laertes,\\nThen Hamlet does it not, Hamlet denies it.\\nWho does it, then? His madness: if't be so,\\nHamlet is of the faction that is wrong'd;\\nHis madness is poor Hamlet's enemy.\\nSir, in this audience,\\nLet my disclaiming from a purpos'd evil\\nFree me so far in your most generous thoughts\\nThat I have shot my arrow o'er the house\\nAnd hurt my brother.\\n\\nLaer.\\nI am satisfied in nature,\\nWhose motive, in this case, should stir me most\\nTo my revenge. But in my terms of honour\\nI stand aloof; and will no reconcilement\\nTill by some elder masters of known honour\\nI have a voice and precedent of peace\\nTo keep my name ungor'd. But till that time\\nI do receive your offer'd love like love,\\nAnd will not wrong it.\\n\\nHam.\\nI embrace it freely;\\nAnd will this brother's wager frankly play.--\\nGive us the foils; come on.\\n\\nLaer.\\nCome, one for me.\\n\\nHam.\\nI'll be your foil, Laertes; in mine ignorance\\nYour skill shall, like a star in the darkest night,\\nStick fiery off indeed.\\n\\nLaer.\\nYou mock me, sir.\\n\\nHam.\\nNo, by this hand.\\n\\nKing.\\nGive them the foils, young Osric. Cousin Hamlet,\\nYou know the wager?\\n\\nHam.\\nVery well, my lord;\\nYour grace has laid the odds o' the weaker side.\\n\\nKing.\\nI do not fear it; I have seen you both;\\nBut since he's better'd, we have therefore odds.\\n\\nLaer.\\nThis is too heavy, let me see another.\\n\\nHam.\\nThis likes me well. These foils have all a length?\\n\\n[They prepare to play.]\\n\\nOsr.\\nAy, my good lord.\\n\\nKing.\\nSet me the stoups of wine upon that table,--\\nIf Hamlet give the first or second hit,\\nOr quit in answer of the third exchange,\\nLet all the battlements their ordnance fire;\\nThe king shall drink to Hamlet's better breath;\\nAnd in the cup an union shall he throw,\\nRicher than that which four successive kings\\nIn Denmark's crown have worn. Give me the cups;\\nAnd let the kettle to the trumpet speak,\\nThe trumpet to the cannoneer without,\\nThe cannons to the heavens, the heavens to earth,\\n'Now the king drinks to Hamlet.'--Come, begin:--\\nAnd you, the judges, bear a wary eye.\\n\\nHam.\\nCome on, sir.\\n\\nLaer.\\nCome, my lord.\\n\\n[They play.]\\n\\nHam.\\nOne.\\n\\nLaer.\\nNo.\\n\\nHam.\\nJudgment!\\n\\nOsr.\\nA hit, a very palpable hit.\\n\\nLaer.\\nWell;--again.\\n\\nKing.\\nStay, give me drink.--Hamlet, this pearl is thine;\\nHere's to thy health.--\\n\\n[Trumpets sound, and cannon shot off within.]\\n\\nGive him the cup.\\n\\nHam.\\nI'll play this bout first; set it by awhile.--\\nCome.--Another hit; what say you?\\n\\n[They play.]\\n\\nLaer.\\nA touch, a touch, I do confess.\\n\\nKing.\\nOur son shall win.\\n\\nQueen.\\nHe's fat, and scant of breath.--\\nHere, Hamlet, take my napkin, rub thy brows:\\nThe queen carouses to thy fortune, Hamlet.\\n\\nHam.\\nGood madam!\\n\\nKing.\\nGertrude, do not drink.\\n\\nQueen.\\nI will, my lord; I pray you pardon me.\\n\\nKing.\\n[Aside.] It is the poison'd cup; it is too late.\\n\\nHam.\\nI dare not drink yet, madam; by-and-by.\\n\\nQueen.\\nCome, let me wipe thy face.\\n\\nLaer.\\nMy lord, I'll hit him now.\\n\\nKing.\\nI do not think't.\\n\\nLaer.\\n[Aside.] And yet 'tis almost 'gainst my conscience.\\n\\nHam.\\nCome, for the third, Laertes: you but dally;\\nI pray you pass with your best violence:\\nI am afeard you make a wanton of me.\\n\\nLaer.\\nSay you so? come on.\\n\\n[They play.]\\n\\nOsr.\\nNothing, neither way.\\n\\nLaer.\\nHave at you now!\\n\\n[Laertes wounds Hamlet; then, in scuffling, they\\nchange rapiers, and Hamlet wounds Laertes.]\\n\\nKing.\\nPart them; they are incens'd.\\n\\nHam.\\nNay, come again!\\n\\n[The Queen falls.]\\n\\nOsr.\\nLook to the queen there, ho!\\n\\nHor.\\nThey bleed on both sides.--How is it, my lord?\\n\\nOsr.\\nHow is't, Laertes?\\n\\nLaer.\\nWhy, as a woodcock to my own springe, Osric;\\nI am justly kill'd with mine own treachery.\\n\\nHam.\\nHow does the Queen?\\n\\nKing.\\nShe swoons to see them bleed.\\n\\nQueen.\\nNo, no! the drink, the drink!--O my dear Hamlet!--\\nThe drink, the drink!--I am poison'd.\\n\\n[Dies.]\\n\\nHam.\\nO villany!--Ho! let the door be lock'd:\\nTreachery! seek it out.\\n\\n[Laertes falls.]\\n\\nLaer.\\nIt is here, Hamlet: Hamlet, thou art slain;\\nNo medicine in the world can do thee good;\\nIn thee there is not half an hour of life;\\nThe treacherous instrument is in thy hand,\\nUnbated and envenom'd: the foul practice\\nHath turn'd itself on me; lo, here I lie,\\nNever to rise again: thy mother's poison'd:\\nI can no more:--the king, the king's to blame.\\n\\nHam.\\nThe point envenom'd too!--\\nThen, venom, to thy work.\\n\\n[Stabs the King.]\\n\\nOsric and Lords.\\nTreason! treason!\\n\\nKing.\\nO, yet defend me, friends! I am but hurt.\\n\\nHam.\\nHere, thou incestuous, murderous, damned Dane,\\nDrink off this potion.--Is thy union here?\\nFollow my mother.\\n\\n[King dies.]\\n\\nLaer.\\nHe is justly serv'd;\\nIt is a poison temper'd by himself.--\\nExchange forgiveness with me, noble Hamlet:\\nMine and my father's death come not upon thee,\\nNor thine on me!\\n\\n[Dies.]\\n\\nHam.\\nHeaven make thee free of it! I follow thee.--\\nI am dead, Horatio.--Wretched queen, adieu!--\\nYou that look pale and tremble at this chance,\\nThat are but mutes or audience to this act,\\nHad I but time,--as this fell sergeant, death,\\nIs strict in his arrest,--O, I could tell you,--\\nBut let it be.--Horatio, I am dead;\\nThou liv'st; report me and my cause aright\\nTo the unsatisfied.\\n\\nHor.\\nNever believe it:\\nI am more an antique Roman than a Dane.--\\nHere's yet some liquor left.\\n\\nHam.\\nAs thou'rt a man,\\nGive me the cup; let go; by heaven, I'll have't.--\\nO good Horatio, what a wounded name,\\nThings standing thus unknown, shall live behind me!\\nIf thou didst ever hold me in thy heart,\\nAbsent thee from felicity awhile,\\nAnd in this harsh world draw thy breath in pain,\\nTo tell my story.--\\n\\n[March afar off, and shot within.]\\n\\nWhat warlike noise is this?\\n\\nOsr.\\nYoung Fortinbras, with conquest come from Poland,\\nTo the ambassadors of England gives\\nThis warlike volley.\\n\\nHam.\\nO, I die, Horatio;\\nThe potent poison quite o'er-crows my spirit:\\nI cannot live to hear the news from England;\\nBut I do prophesy the election lights\\nOn Fortinbras: he has my dying voice;\\nSo tell him, with the occurrents, more and less,\\nWhich have solicited.--the rest is silence.\\n\\n[Dies.]\\n\\nHor.\\nNow cracks a noble heart.--Good night, sweet prince,\\nAnd flights of angels sing thee to thy rest!\\nWhy does the drum come hither?\\n\\n[March within.]\\n\\n[Enter Fortinbras, the English Ambassadors, and others.]\\n\\nFort.\\nWhere is this sight?\\n\\nHor.\\nWhat is it you will see?\\nIf aught of woe or wonder, cease your search.\\n\\nFort.\\nThis quarry cries on havoc.--O proud death,\\nWhat feast is toward in thine eternal cell,\\nThat thou so many princes at a shot\\nSo bloodily hast struck?\\n\\n1 Ambassador.\\nThe sight is dismal;\\nAnd our affairs from England come too late:\\nThe ears are senseless that should give us hearing,\\nTo tell him his commandment is fulfill'd\\nThat Rosencrantz and Guildenstern are dead:\\nWhere should we have our thanks?\\n\\nHor.\\nNot from his mouth,\\nHad it the ability of life to thank you:\\nHe never gave commandment for their death.\\nBut since, so jump upon this bloody question,\\nYou from the Polack wars, and you from England,\\nAre here arriv'd, give order that these bodies\\nHigh on a stage be placed to the view;\\nAnd let me speak to the yet unknowing world\\nHow these things came about: so shall you hear\\nOf carnal, bloody and unnatural acts;\\nOf accidental judgments, casual slaughters;\\nOf deaths put on by cunning and forc'd cause;\\nAnd, in this upshot, purposes mistook\\nFall'n on the inventors' heads: all this can I\\nTruly deliver.\\n\\nFort.\\nLet us haste to hear it,\\nAnd call the noblest to the audience.\\nFor me, with sorrow I embrace my fortune:\\nI have some rights of memory in this kingdom,\\nWhich now, to claim my vantage doth invite me.\\n\\nHor.\\nOf that I shall have also cause to speak,\\nAnd from his mouth whose voice will draw on more:\\nBut let this same be presently perform'd,\\nEven while men's minds are wild: lest more mischance\\nOn plots and errors happen.\\n\\nFort.\\nLet four captains\\nBear Hamlet like a soldier to the stage;\\nFor he was likely, had he been put on,\\nTo have prov'd most royally: and, for his passage,\\nThe soldiers' music and the rites of war\\nSpeak loudly for him.--\\nTake up the bodies.--Such a sight as this\\nBecomes the field, but here shows much amiss.\\nGo, bid the soldiers shoot.\\n\\n[A dead march.]\\n\\n[Exeunt, bearing off the dead bodies; after the which a peal of\\nordnance is shot off.]\\n\""
      ]
     },
     "execution_count": 17,
     "metadata": {},
     "output_type": "execute_result"
    }
   ],
   "source": [
    "# your code here\n",
    "ham_read = open(\"data/hamlet.txt\", 'r')\n",
    "hamlettext = \"\"\n",
    "\n",
    "for line in ham_read:\n",
    "    hamlettext += line\n",
    "\n",
    "ham_read.close()\n",
    "\n",
    "hamlettext"
   ]
  },
  {
   "cell_type": "markdown",
   "metadata": {},
   "source": [
    ">**EXERCISE**:  Before moving on, let's make sure `hamlettext` actually contains the text of *Hamlet*.  First, what is the type of `hamlettext`?  What is its length?  Print the first 500 items of `hamlettext`."
   ]
  },
  {
   "cell_type": "code",
   "execution_count": 18,
   "metadata": {},
   "outputs": [
    {
     "name": "stdout",
     "output_type": "stream",
     "text": [
      "Type:  <class 'str'>\n",
      "Length:  173948\n",
      "ï»¿XXXX\n",
      "HAMLET, PRINCE OF DENMARK\n",
      "\n",
      "by William Shakespeare\n",
      "\n",
      "\n",
      "\n",
      "\n",
      "PERSONS REPRESENTED.\n",
      "\n",
      "Claudius, King of Denmark.\n",
      "Hamlet, Son to the former, and Nephew to the present King.\n",
      "Polonius, Lord Chamberlain.\n",
      "Horatio, Friend to Hamlet.\n",
      "Laertes, Son to Polonius.\n",
      "Voltimand, Courtier.\n",
      "Cornelius, Courtier.\n",
      "Rosencrantz, Courtier.\n",
      "Guildenstern, Courtier.\n",
      "Osric, Courtier.\n",
      "A Gentleman, Courtier.\n",
      "A Priest.\n",
      "Marcellus, Officer.\n",
      "Bernardo, Officer.\n",
      "Francisco, a Soldier\n",
      "Reynaldo, Servant to Polonius.\n",
      "Players.\n",
      "Two Clowns\n"
     ]
    }
   ],
   "source": [
    "# your code here\n",
    "print(\"Type: \", type(hamlettext))\n",
    "print(\"Length: \", len(hamlettext))\n",
    "print(hamlettext[0:500])\n"
   ]
  },
  {
   "cell_type": "markdown",
   "metadata": {},
   "source": [
    "Each item in `hamlettext` is a text character.  Let's see what we can learn about the distribution of words in the play.  To do this, you'll need to split the string `hamlettext` into a list of strings, where each element of the list is a word in the play.  Search the documentation, or refer back to the summary of string operations in the Strings section of this lab.\n",
    "\n",
    ">**EXERCISE**:  Create a list called `hamletwords` where the items of the `hamletwords` are the words of the play.  Confirm that `hamletwords` is a list, that each element of `hamletwords` is a string, and print the first 10 items in `hamletwords`.  Print \"There are $N$ total words in Hamlet,\" where $N$ is the total number of words in Hamlet.\n"
   ]
  },
  {
   "cell_type": "code",
   "execution_count": 19,
   "metadata": {},
   "outputs": [
    {
     "name": "stdout",
     "output_type": "stream",
     "text": [
      "Type:  <class 'list'>\n",
      "Any weirdness?\n",
      "Status?  All is well.\n",
      "['ï»¿XXXX', 'HAMLET,', 'PRINCE', 'OF', 'DENMARK', 'by', 'William', 'Shakespeare', 'PERSONS', 'REPRESENTED.']\n",
      "There are  31659  total words in Hamlet\n"
     ]
    }
   ],
   "source": [
    "# your code here\n",
    "hamletwords = hamlettext.split()\n",
    "print(\"Type: \", type(hamletwords))\n",
    "print(\"Any weirdness?\")\n",
    "\n",
    "def checkForNonStrings(word_list):\n",
    "    for word in word_list:\n",
    "        if not isinstance(word, str):\n",
    "            return \"Something fucky is going on.\"\n",
    "    \n",
    "    return \"All is well.\"\n",
    "\n",
    "print(\"Status? \", checkForNonStrings(hamletwords))\n",
    "\n",
    "print(hamletwords[0:10])\n",
    "\n",
    "print(\"There are \", len(hamletwords), \" total words in Hamlet\")\n",
    "        \n"
   ]
  },
  {
   "cell_type": "markdown",
   "metadata": {},
   "source": [
    "The total number of words above considers \"The\" and \"the\" as two different words.  So if we're going to find the distribution of the words in the play, we need to first make all the words lower-case.  From the lower-case list of words, we then find the set of unique words.\n",
    "\n",
    ">**EXERCISE**: Using a *list comprehension*, create a `hamletwords_lc` which converts the items in `hamletwords` to lower-case.  You will likely want to search the documentation for the string method `lower`.  Then count the number of occurences of \"thou\", making use of the string method `count`. "
   ]
  },
  {
   "cell_type": "code",
   "execution_count": 20,
   "metadata": {},
   "outputs": [
    {
     "name": "stdout",
     "output_type": "stream",
     "text": [
      "Number of words in Hamlet now:  31659\n",
      "Number of thou's:  95\n"
     ]
    }
   ],
   "source": [
    "# your code here\n",
    "hamletwords_lc = [w.lower() for w in hamletwords]\n",
    "\n",
    "print(\"Number of words in Hamlet now: \", len(hamletwords_lc))\n",
    "thou_c = hamletwords_lc.count(\"thou\")\n",
    "print(\"Number of thou's: \", thou_c)\n",
    "\n"
   ]
  },
  {
   "cell_type": "markdown",
   "metadata": {},
   "source": [
    "We need to find the unique set of words in `hamletwords_lc`.  \n",
    "\n",
    ">**EXERCISE**:  Use `set` to determine the set of unique words in `hamletwords_lc`. Then print \"There are $M$ unique words in Hamlet,\" where $M$ is the number of unique words.  As a sanity check, verify that $M < N$."
   ]
  },
  {
   "cell_type": "code",
   "execution_count": 21,
   "metadata": {},
   "outputs": [
    {
     "name": "stdout",
     "output_type": "stream",
     "text": [
      "There are  7456  unique words in Hamlet\n",
      "Sanity check:  True\n"
     ]
    }
   ],
   "source": [
    "# your code here\n",
    "set_hamlet_lc = list(set(hamletwords_lc))\n",
    "print(\"There are \", len(set_hamlet_lc), \" unique words in Hamlet\")\n",
    "print(\"Sanity check: \", str((len(hamletwords_lc) >= len(set_hamlet_lc))))\n"
   ]
  },
  {
   "cell_type": "markdown",
   "metadata": {},
   "source": [
    "Next we want a dictionary with the number of occurrences of each unique word, with the unique words as dictionary keys.\n",
    "\n",
    ">**EXERCISE**:  Create this dictionary.  To do it you will use either a loop or a dictionary comprehension and the `count` method."
   ]
  },
  {
   "cell_type": "code",
   "execution_count": 23,
   "metadata": {},
   "outputs": [
    {
     "name": "stdout",
     "output_type": "stream",
     "text": [
      "{'character.': 1, 'promontory;': 1, 'supper!': 1, 'madam!': 2, 'bray': 1, 'distemper': 1, 'deliver.': 1, 'kindless': 1, 'soon.--': 1, \"unanel'd;\": 1, 'now!': 6, 'animals!': 1, 'forget': 3, 'appurtenance': 1, 'days': 5, 'eternity.': 1, 'escoted?': 1, 'bedded': 1, 'spirit,': 3, 'he': 202, 'and,': 28, 'of:': 1, 'so,--as': 1, 'shoot.': 1, 'together;': 1, 'infants': 1, \"quarter'd,\": 1, 'down,': 7, 'monday': 1, 'ill-breeding': 1, 'trifle,': 1, 'pomp;': 1, 'alone': 6, 'honour,': 1, 'surely,': 1, 'ever-preserved': 1, 'opinions': 1, 'see;': 1, 'assistant': 1, 'message,': 1, 'wrap': 1, 'sconce': 1, \"bark'd\": 1, 'be': 201, 'brief,': 2, 'help': 4, 'cold,': 2, 'compass;': 1, 'tribute:': 1, 'marriage;': 1, 'length': 2, 'eterne,': 1, 'fly': 4, 'this': 250, 'wife,': 2, 'hell?': 1, 'likeness:': 1, 'patience!': 1, 'sheep': 1, 'air.--o,': 1, 'noise:': 1, 'jest,': 2, \"lion's\": 1, 'varnish': 1, 're-deliver': 1, 'enemy.': 2, 'vain': 1, 'falsehood': 1, 'slave,': 1, 'termagant;': 1, 'men.': 1, 'going': 2, 'how': 84, 'be,': 9, 'now-a-days': 1, 'bade': 1, 'heroes': 1, 'speak.': 4, 'smelt': 1, '[flourish': 1, 'where': 49, 'farewell,': 3, 'pro.': 1, 'smile,': 2, 'wonderful': 1, 'sans': 1, 'him:': 9, 'door.--o': 1, 'hope': 5, 'mine,--': 1, 'attendants.': 1, 'moon': 1, 'gather,': 2, 'ore': 1, 'hasty': 1, 'arms,': 1, 'vial,': 1, 'melt': 1, \"drown'd!\": 1, 'throw,': 1, 'cracked': 1, 'dumb': 3, 'delivered': 1, 'players.]': 4, 'boys': 1, 'being': 11, 'was:': 1, 'past,': 1, 'violence,': 1, 'faction': 1, \"dar'd\": 1, 'extorted': 1, 'graces': 1, 'shall,': 7, 'meant': 3, 'honest;': 1, 'pit': 2, 'hoist': 1, 'drift;': 1, 'conjures': 1, 'creatures': 1, 'fire;': 2, 'word': 6, 'passing': 3, 'that:': 2, 'dane.': 2, 'necessary': 2, 'lying:': 1, 'by.--they': 1, 'defect,': 2, \"pardon'd\": 2, \"know';\": 1, 'pierce': 1, 'city?': 1, 'noise': 6, 'conceit': 3, 'truant': 1, 'ancient': 1, 'else,': 1, 'to,': 2, 'bet': 1, \"for't.\": 1, 'goes,': 2, \"behav'd,\": 1, 'son,': 5, 'madness': 11, 'circumstance?': 1, 'pregnant': 2, 'mightier:': 1, 'blood,': 4, 'circumvent': 1, 'grave,': 1, \"offer'd\": 1, 'falls.': 1, 'conception': 1, 'to-day,': 1, 'it,--let': 1, 'answer;': 1, 'fares': 2, 'never': 24, 'exactly,': 1, 'fear-surprised': 1, \"cop'd\": 1, 'lips,': 1, 'another': 10, 'mad,': 3, 'groans:': 1, 'loose!': 1, 'incorrect': 1, 'send': 4, 'bow': 2, 'giving': 3, 'voltimand,': 4, 'desire,': 1, \"poison'd:\": 1, 'news': 6, 'awry,': 1, \"say'st\": 1, 'dull,': 1, 'retire': 1, 'together:': 1, \"gave't\": 1, 'burden!': 1, 'know': 57, 'transformation;': 1, 'heart': 10, 'begin.': 1, 'appliance': 1, 'cold.': 1, 'essentially': 1, 'dipping': 1, 'mutine': 1, 'choose': 4, 'comes!': 1, 'delicate': 2, 'ominous': 1, 'horatio,': 16, \"king's\": 8, 'heart.': 2, 'laertes!': 1, 'place.': 2, 'aboard;': 1, 'resolve': 1, 'raves,': 1, 'heart,': 6, 'us.': 5, 'means': 13, 'unto': 8, 'eye.': 3, 'dangerous': 4, \"o'erdoing\": 1, 'customary': 1, 'yesty': 1, 'primy': 1, 'ophelia;': 2, 'jester.': 1, 'wretch': 3, 'visage': 3, 'only': 6, 'mischance': 2, \"on't:\": 1, 'arms.': 1, '[draws': 1, 'arrow': 1, 'end,': 2, 'agreeing;': 1, 'proof,': 1, 'shoulder': 2, 'enters.]': 1, 'regard,': 2, 'boisterous': 1, 'acres': 1, 'art,': 1, 'infects': 1, 'whine?': 1, 'though': 22, 'requiem': 1, 'statists': 1, 'consequence;': 1, 'wash': 2, 'punish': 1, 'guild.],': 1, 'chance,': 1, 'opposite': 1, 'ashamed': 1, 'shadows.': 1, \"o'erstep\": 1, 'artery': 1, 'affair': 2, 'strings': 1, 'earth;': 1, 'collected': 1, \"incens'd.\": 1, 'whilst,': 1, 'flood,': 1, 'makes': 17, 'that?': 6, 'main,--': 1, 'begins': 1, 'fate': 1, 'easier': 1, 'away?': 1, 'allegiance!': 1, 'purpose,--to': 1, 'herself:': 1, \"unmatch'd\": 1, 'target;': 1, 'enquire': 1, 'maid': 3, 'globe.': 1, 'sting': 2, 'thirty': 3, 'length;': 1, 'offends': 1, \"arm'd,\": 2, \"t'is\": 1, 'wrath': 1, 'addition': 1, 'motion:': 1, 'sense': 7, 'royally:': 1, 'throw': 4, 'reply.': 1, 'eldest': 1, 'by-and-by': 1, \"'thus\": 1, 'year,': 1, 'rivet': 1, 'groan.': 1, 'trick': 2, 'day:': 1, 'nunnery:': 1, 'history.': 1, 'england': 7, 'toward': 5, 'uncle': 4, 'exit.': 1, 'brother.': 4, 'murder!--': 1, 'harmony;': 1, 'oaths:': 1, 'subject': 2, 'quaintly': 1, 'court,': 1, 'why': 29, 'on,--': 3, 'skin': 1, 'sorrow,': 1, 'ill:': 1, 'sword': 4, 'impartment': 1, \"turn'st\": 1, \"compos'd\": 1, \"courtier's,\": 1, 'ghost!': 1, 'bought': 1, 'behind,': 1, 'springs': 1, 'adam': 1, 'way;': 1, 'stick:': 1, 'continual': 1, 'likely,': 1, 'for': 231, 'go': 48, 'yet,': 5, 'flush': 1, 'gives': 6, \"he's\": 11, 'weigh': 2, 'got': 2, 'fellow,': 1, 'quickness:': 1, 'counsel.--come,': 1, 'hangers': 1, 'shoes': 1, 'employment;': 1, 'desperation': 1, 'at': 86, 'queen.': 76, '[they': 5, 'rich,': 1, 'earth?': 1, 'length?': 1, 'call': 22, 'infusion': 1, 'unfortified,': 1, 'pyrrhus,': 1, 'dreadful': 3, 'pay': 3, \"in't.\": 1, 'all,': 7, 'savageness': 1, 'beam.': 1, 'tell.': 2, 'heart:': 3, 'smart': 1, 'fortinbras': 2, '[exit.]': 19, 'hearer:': 1, 'few': 2, 'tempt': 3, 'plucks': 2, 'fortune:': 1, 'relative': 1, 'vouch': 1, 'rear': 1, 'affection!': 1, 'lines.': 1, 'adieu.': 1, 'conveyances': 1, \"conjoin'd,\": 1, 'hit,': 2, '[sleeps.]': 1, 'a': 527, 'eats': 1, 'coted': 1, '[lying': 1, 'apart': 1, 'done': 6, 'half.': 1, 'fill.': 1, 'readiness': 1, 'dead!--nay,': 1, 'married': 1, 'letter': 1, \"'t\": 2, 'door,': 1, 'cry!': 1, 'harsh;': 1, 'done:': 1, 'stung': 1, 'tender,': 1, 'unreclaimed': 1, 'marriages:': 1, 'lives': 4, 'herein;': 1, \"embark'd:\": 1, \"e'en\": 12, 'insinuation': 1, 'death:': 1, 'flat,': 1, 'captain,': 1, 'divide': 2, 'preaching': 1, 'except': 2, 'moor?': 1, \"thinks't\": 1, 'old': 19, 'cheer': 3, 'rest,': 2, 'emperor': 1, 'lender': 1, 'cause,': 4, 'freely': 2, 'rascal,': 1, 'reason': 8, 'other': 11, 'clothes,': 1, 'turn.': 1, 'sickness': 1, 'potent': 2, 'conjectures': 1, 'dire': 1, 'under': 4, 'she,--': 1, 'marriage.': 1, 'hasten': 1, 'husband.--look': 1, 'these?': 1, 'our': 119, \"heart's\": 1, 'them?': 3, 'fashion;': 1, \"on't;\": 1, 'ambiguous': 1, \"'tween\": 1, 'tatters,': 1, 'inward': 3, 'indifferently': 1, 'soul:': 1, \"barefac'd\": 1, 'father.': 7, 'friends:': 1, 'sight.': 1, \"purg'd\": 1, '[exit': 19, 'unprofitable': 1, 'save': 5, \"on't,\": 1, 'decayer': 1, 'proper': 2, 'wed.': 1, 'dog,': 1, 'elsinore?': 2, 'bellowed': 1, \"'sblood,\": 2, \"'adieu,\": 1, 'fair?': 1, 'device,': 1, 'father,--methinks': 1, 'murderer': 2, 'mean?': 1, 'memory;': 1, \"worm's;\": 1, 'increase': 1, 'part,': 5, 'burning': 2, 'horatio,--or': 1, 'violence:': 1, 'law,': 1, \"to,--'tis\": 1, 'play,--and': 1, 'origin,--': 1, 'while.': 1, \"'it\": 1, 'spheres;': 1, 'slaughter:': 1, 'unripe,': 1, 'slightly,': 1, 'caps,': 1, 'foil': 1, 'end:': 1, 'particular': 7, 'brothers.': 1, 'privates': 1, \"'o\": 1, 'win': 2, 'quarrel': 1, 'yours:': 1, 'intent': 1, 'gonzago:': 1, 'yet?': 1, 'level': 2, 'distrust': 1, \"tellus'\": 1, 'england.': 2, 'coach!--good': 1, 'marcellus.]': 3, 'bitter': 2, 'dead!': 1, 'state;': 1, 'amber': 1, 'queen?': 1, 'beguile.': 1, 'withdraw,': 1, 'ordinant.': 1, 'luc.': 1, 'ignorant': 1, 'follows:': 1, 'barren': 1, 'objects,': 1, 'arms;': 1, 'leperous': 1, 'loathsome': 1, 'pays': 1, 'garlands': 1, 'gallows-maker;': 1, 'person:': 1, 'songs,': 1, 'fellies': 1, 'best': 9, 'evermore,': 1, 'godlike': 1, 'plastering': 1, 'encounter:': 1, 'safely,': 1, 'souls,': 2, 'service,--two': 1, 'start': 4, 'england?': 1, 'ophelia.]': 5, \"'while\": 1, 'blessing': 4, 'collected,': 1, 'confront': 1, 'vile': 6, 'certainty': 1, 'once.': 2, 'shadow': 1, 'mount,': 1, 'maimed': 1, 'hail': 1, 'forcing': 1, 'good-night.--': 1, 'bells': 1, 'complexion,': 1, 'unequal': 1, 'lament': 1, 'danskers': 1, 'moment,': 1, \"ungor'd.\": 1, 'night.': 3, 'twofold': 1, 'not,': 18, 'it!': 4, 'run': 2, 'galls': 2, 'favour': 3, 'other;': 3, \"is't\": 10, 'cuckold': 1, 'sleep?': 1, 'swearing,': 1, 'honest': 6, 'wittingly,': 1, 'cruel,': 2, 'live': 12, \"beseech'd\": 1, 'comrade.': 1, 'organ,': 2, 'distemper.': 1, 'villain!': 3, 'out:': 1, 'be;': 1, 'maintains': 1, 'acquittance': 1, 'books,': 1, 'grief;': 2, 'slain': 1, 'gone;': 2, 'begin:--': 1, 'fearing': 1, 'sent': 12, 'hatch': 1, 'joy,': 1, 'word:': 1, 'labour': 1, 'bear': 14, 'betoken': 1, 'hither,': 5, \"demi-natur'd\": 1, 'hobby-horse,': 1, 'license,': 1, 'clamour': 1, 'mars,': 1, \"hyperion's\": 1, 'queen,--': 1, 'lethe': 1, 'guildenstern!': 3, 'individable,': 1, 'reckoning': 1, 'muddied,': 1, 'brazen': 1, \"do't\": 2, 'hear.': 6, 'can': 32, 'both,': 2, 'awake': 1, 'may,': 1, 'sword.': 4, 'methinks.': 1, 'purposes.': 1, 'thyself:': 1, 'inform': 2, 'patiently.': 1, 'alas!': 1, 'warrant:': 1, 'middle': 2, 'friends.': 2, 'tongue,': 3, 'glass': 2, 'die': 2, 'wax': 1, 'beds;': 1, 'thank': 9, 'unholy': 1, 'fierce': 1, 'nay': 1, 'harping': 1, 'persevere': 1, 'him.--': 2, 'heavy-headed': 1, 'tweaks': 1, 'hark': 1, 'cockle': 1, 'commandment': 3, 'fancy;': 1, 'hectic': 1, 'lady?': 2, 'dido,': 1, 'credent': 1, 'norway,': 7, 'sponge!--what': 1, 'gallant': 1, 'daughter:--yet': 1, 'stern': 1, 'affectation;': 1, 'et': 1, 'feelingly': 1, 'goblin': 1, \"such-a-one's\": 1, 'devoutly': 1, 'cicatrice': 1, \"name's\": 1, 'god?': 2, 'this.': 5, 'dislike': 1, 'reasons,': 1, 'body?': 1, 'folly': 1, 'feast': 2, 'hic': 1, 'whom': 6, 'sent;': 1, 'bulwark': 1, 'porches': 1, 'liar;': 1, \"shark'd\": 1, 'why--': 2, 'worthy': 1, 'moons': 1, 'rapier': 2, 'extravagant': 1, \"columbines:--there's\": 1, 'absurd;': 1, 'caught': 2, 'fates,': 1, 'towering': 1, 'with,': 2, 'behaviour': 1, 'fellowship,': 1, 'permanent,': 1, 'bodes': 1, 'more': 76, 'married:--': 1, 'smote': 1, 'countries': 1, 'dreams,': 1, 'air': 4, 'mettle': 1, 'doom,': 1, 'swear.': 6, \"adam's\": 1, 'myself': 4, 'pangs': 1, 'speech,': 5, 'second': 10, 'immediate': 2, 'carries': 1, 'dull': 5, 'youth,': 3, 'purgation': 1, 'advice,': 2, 'money': 2, 'carriage': 1, 'utterance': 1, 'murderous,': 1, 'promise,': 1, 'husbands.--begin,': 1, 'humbly': 5, 'bodies': 3, 'remember?': 1, 'hundred.': 1, 'mar.': 35, 'mother': 13, 'up:': 1, 'folk': 1, 'bird,': 1, 'brevity': 1, 'sings': 1, 'trumpets': 1, 'stealing': 1, 'lodge,': 1, 'fit,': 2, 'obsequies': 1, 'fear?': 1, 'touch,': 2, 'conceit?': 1, 'skull.]': 3, 'arras.]': 2, 'meaning:': 1, 'cerements;': 1, 'forget.': 1, 'cliff': 1, 'forward': 1, 'write': 1, \"on't.\": 1, 'happiness': 1, 'teeth': 1, 'windy': 1, 'comes:': 1, 'king': 40, 'definement': 1, 'dragging': 1, 'there': 50, 'before,': 3, 'turn?': 1, 'stale,': 1, 'grass': 2, 'companions': 1, 'very,': 1, 'shroud': 1, 'stranger': 1, 'proceeded': 1, \"kiss'd\": 1, 'madam.': 1, 'fret': 1, 'deed!': 1, 'oblivion,': 1, 'journeymen': 1, 'i,': 17, 'spring!--i': 1, 'happily,': 1, 'hamlet.': 12, 'deeds': 1, \"perform'd\": 1, 'son?': 1, 'lights': 1, 'offal:': 1, 'hall': 2, 'clowns,': 2, 'how?': 1, 'more;': 3, 'breath?': 1, 'firmament,': 1, \"truncheon's\": 1, 'death,': 11, 'lands,': 1, 'exhort': 1, 'share.': 1, 'pleasant': 1, 'embrace': 2, 'sometimes': 3, 'something:--where': 1, 'trust': 2, 'slow': 3, 'mincing': 1, 'guest': 2, 'down.': 3, 'belief': 1, 'ye.': 1, 'sundays:--o,': 1, 'hamlet!': 6, 'own:': 1, 'adoption': 1, 'sport': 3, 'overpeering': 1, 'too;--at': 1, 'hecuba.': 1, 'graveness.--two': 1, 'dispatch': 1, 'kind!': 1, 'gaming,': 2, 'arrant': 2, 'end': 10, 'bier': 1, 'madam;': 1, \"beard.--pr'ythee\": 1, 'richer': 2, \"that.--pr'ythee,\": 1, 'key': 1, 'sweep': 2, 'fawning.': 1, 'blastments': 1, 'are,': 1, 'gracious': 4, 'stop': 3, 'jointly': 1, 'not:': 4, \"in't?\": 3, \"say'st:\": 1, 'aright': 1, 'parching': 1, 'scape': 2, 'pooh!': 1, 'heat': 2, 'cheek,': 1, 'demand': 2, 'afterwards,': 1, 'a-piece': 1, 'why,': 26, 'innovation.': 1, '[exeunt,': 1, 'brains': 2, 'peace-parted': 1, 'sweet,': 4, 'shove': 1, 'wail': 1, 'heedful': 1, 'bow,': 1, \"anchor's\": 1, 'easy;': 1, 'nobler': 1, 'part:': 1, 'command,': 1, 'poison': 6, 'dying': 1, 'threatening': 1, 'french,': 1, \"house's\": 1, 'kettle-drum': 1, 'moves': 2, 'pair': 2, 'chapless,': 1, 'struggling': 1, 'drowned': 2, 'roasted': 1, 'hey-day': 1, 'child.': 1, \"unsinew'd,\": 1, 'purse,': 1, 'denmark?--what,': 1, \"on't,--frailty,\": 1, 'excellence;': 1, 'begun.': 1, 'guil.]': 2, 'priest,': 1, 'in,--the': 1, \"assur'd,\": 1, 'sides.': 1, 'hor.': 110, 'dust:': 1, 'amiss:': 1, 'grows': 4, 'lost': 4, 'charity,': 1, 'debatement': 1, 'marvel': 1, 'hit;': 1, 'unyoke.': 1, 'laugh': 4, 'tyrant,': 1, 'conscience.': 1, 'us,': 14, 'sing': 4, 'fail;': 1, 'whole': 7, 'bed.': 3, 'sinews': 1, \"mother's\": 6, 'did': 59, 'benetted': 1, \"advanc'd\": 1, 'merit': 2, 'pure:': 1, 'marry,': 13, \"woman's\": 1, 'welcome:': 1, \"appear'd\": 3, 'wick': 1, 'ambassador.': 1, 'beggar': 2, 'document': 1, 'acted;': 1, 'without,': 2, 'grave.': 1, 'blasting': 1, 'image': 3, 'there!': 2, 'death': 15, 'eight': 1, 'bosom': 2, 'complexion': 1, 'funeral,': 1, \"encounter'd.\": 1, 'ambition;': 1, 'blood;': 2, 'budge;': 1, 'honoured': 1, 'obscure': 1, 'heavy': 5, 'needs': 7, 'wisdom': 5, 'idol,': 1, 'perfect': 1, \"'in\": 1, 'every': 8, 'careless': 1, 'armour': 2, 'spilt.': 1, 'remains,': 1, 'chamber.': 1, 'upshot,': 1, 'seal:': 1, 'to': 720, 'prevent,': 1, 'periwig-pated': 1, 'birds': 1, 'truth': 4, 'rites?': 1, 'door': 2, 'heels': 3, 'truth.': 1, 'everlasting': 1, 'guilt,': 1, 'danes.': 3, 'dwelling': 1, \"neighbour'd\": 1, 'chances': 2, \"'friend,'\": 1, 'word,': 2, 'last;': 1, 'pocket!': 1, 'rouse;': 1, 'stir,': 1, 'friends;': 1, 'seasons': 1, 'absolute': 2, 'heat,': 1, \"seal'd?\": 1, \"and'\": 1, 'ways.': 2, 'christian.--come,': 1, 'jig': 1, 'liege,': 2, \"'a\": 3, 'duty.': 2, 'seen': 17, 'lines': 2, 'select': 1, 'stronger': 4, 'judgments,': 1, 'ears,': 2, \"be:'\": 1, 'stuff': 2, \"drown'd.\": 1, 'sicklied': 1, 'loud,': 2, 'rome,--': 1, \"o'ergrowth\": 1, 'sadly': 1, 'wrinkled;': 1, 'gates': 1, \"oppressor's\": 1, 'father!': 2, 'forthwith': 1, 'patience.': 1, 'brook,': 1, 'six': 4, 'aloof;': 1, 'health,': 1, 'dead?': 1, 'welcome,': 5, 'earth.': 1, 'thus,': 4, 'needful': 2, 'playing,': 2, 'already': 2, 'stockings': 1, 'you.--if': 1, 'bosom:': 1, 'dowry,--': 1, \"walk'd\": 1, 'stick': 2, 'mother.': 6, 'on!--you': 1, 'dip': 1, \"'there\": 1, \"rul'd\": 1, 'son.': 2, 'breath;': 1, 'bawdy': 1, 'ophelia': 1, 'own;': 1, 'turk': 1, 'visitation': 2, 'forms,': 2, 'yourselves': 1, 'swords,': 1, 'scent': 1, 'drossy': 1, 'arm?': 1, 'which,': 8, \"know'st\": 2, 'water': 5, 'known;': 1, 'person': 2, 'sphere,': 1, 'pyrrhus:--': 1, 'this?': 11, 'breath,': 2, 'stirring.': 1, 'guilty,': 3, 'depends': 1, 'possible?': 2, 'madness.': 2, 'none;': 1, 'work:': 1, 'property': 4, 'almost': 9, 'erring': 1, 'repent?': 1, 'first.': 1, 'wheaten': 1, 'contumely,': 1, 'poet': 1, 'audience,': 1, 'actors': 2, 'heart?': 2, 'remote': 1, 'supposal': 1, 'troubles': 1, 'once;': 2, 'knotted': 1, 'sustain': 1, 'present': 4, 'bare': 1, 'ducats': 2, 'willingly': 2, 'sanctuarize;': 1, 'fire,--why,': 1, 'follow.': 1, 'wind,': 2, 'repugnant': 1, 'gone,': 6, 'cousin': 3, 'three': 8, 'chief': 3, 'mote': 1, 'exploit,': 1, 'drooping.': 1, 'fellows': 3, \"open'd,\": 1, 'gem': 1, 'servant.]': 2, 'highness;': 1, 'knowest': 1, 'home:': 2, 'smooth': 2, 'wastein': 1, 'again.--what': 1, 'know.': 2, 'chiefest': 1, 'estimation': 1, 'herod:': 1, 'has': 14, 'entreated': 1, 'striking': 1, 'calf': 1, 'time:': 1, 'horatio!--': 1, 'accepts': 1, 'counsel;': 1, 'encompassment': 1, 'glowworm': 1, 'down?': 1, 'constantly.': 1, 'robin': 1, 'gifts,--': 1, 'fashion': 5, \"offence's\": 1, \"aim'd\": 1, 'awhile;': 2, 'consider': 2, 'nothing': 19, 'mouse;': 1, 'ready;': 1, 'shouldst': 2, 'grief,': 3, 'region': 1, 'these,': 3, 'third': 2, 'him;': 6, 'this,': 17, 'recount': 1, 'ere': 12, 'bounds.': 1, 'chamberlain.': 1, 'else.': 1, 'friends!': 3, 'distrust,': 1, 'devise': 1, \"'doubt\": 1, 'lordship,': 1, 'yesternight.': 1, 'works,--': 1, \"drown'd?\": 1, 'salvation?': 1, 'smells': 1, 'bestial': 1, 'spirit:': 1, 'thus': 29, 'guarded,': 1, 'heavens!': 3, \"do't:\": 1, 'relief': 1, 'born': 1, 'rises': 2, 'prophesy': 2, 'hair': 1, 'held': 2, 'pastors': 1, 'wretched': 2, 'first': 13, 'dog': 1, 'peak,': 1, 'dropping': 1, 'further?': 1, 'offend': 1, 'endeavour': 1, 'object': 1, 'little.': 2, 'mistook': 1, 'is:--we': 1, 'swinish': 1, 'front': 1, 'capable.--do': 1, 'bound': 2, 'examples,': 1, 'away!': 5, 'once:': 1, 'woundless': 1, 'confess,': 1, 'custom': 7, \"is't--crowner's\": 1, 'imputation': 1, 'bestow': 4, 'unskilful': 1, 'indeed?': 1, 'places': 1, 'denmark,': 3, 'aught,--': 1, 'figure,': 1, 'feet,': 1, 'days.': 1, \"gonzago'?\": 1, \"cyclops'\": 1, 'supper.': 1, 'distilment;': 1, 'heaven': 20, 'gilded': 1, 'romage': 1, 'died:--they': 1, 'waves': 3, 'gertrude,': 9, 'come': 54, 'dig': 2, 'voltimand': 3, 'brought,': 1, 'hire': 1, 'borrower': 1, 'treason!': 2, 'corrupted': 1, 'enviously': 1, 'hard': 4, 'spite,': 1, 'soldiers,': 3, 'lover': 1, 'revengeful,': 1, 'unkennel': 1, 'sty,--': 1, 'without.': 1, 'lust': 1, 'passion,': 4, 'consequence,': 1, 'statutes,': 1, 'common': 5, 'littlest': 1, \"o'erthrown!\": 1, \"'laertes\": 1, 'cornelius.]': 3, 'whips': 2, 'such,': 1, 'fair,': 4, 'driven': 1, 'miss': 1, 'purse': 2, 'dishes,': 1, 'desert,': 1, 'capons': 1, 'precurse': 1, 'cease': 2, 'fire': 2, 'rashly,': 1, 'accurst!': 1, 'beast,--': 1, 'kingdom.': 2, 'grace;': 1, 'pagan,': 1, 'beguile': 1, 'grizzled,--no?': 1, 'hat': 1, \"wrong'd\": 1, 'is.': 3, 'gertrude;': 2, 'metal': 1, 'dild': 1, 'like,': 2, 'swearing;': 1, 'judgment': 4, 'posy': 1, 'nonny': 1, 'i?': 1, 'destroy!': 1, \"o'erteemed\": 1, '[a': 4, 'see.': 3, 'here,--': 1, 'hither': 1, 'yours.': 2, 'minutes': 1, 'in': 420, \"damn'd,\": 1, 'day': 12, 'motion': 1, 'you;': 9, \"o'\": 11, 'changes,': 1, '[advancing.]': 1, 'safely': 1, 'longer,--married': 1, 'speechless,': 1, 'cry': 4, '[king': 1, 'break': 7, 'respect': 2, \"vanish'd\": 1, 'mouthed,': 1, 'occasions': 2, \"'now\": 1, \"mind's\": 2, 'request.': 1, 'sheen': 1, 'say?--': 1, 'unmannerly.': 1, 'whipping?': 1, 'goodness': 1, 'herself': 5, 'ear,': 3, 'let': 92, 'reverend': 1, 'vacancy,': 1, 'soldier;': 1, 'her.': 5, 'wax,': 1, 'rashness': 1, 'forward,': 1, 'fear,': 3, \"him;--but,'\": 1, \"unvalu'd\": 1, 'ourself;': 1, 'bleeding': 1, 'attendants': 2, 'come:': 2, 'pours': 1, \"dar'st\": 1, \"reveng'd,\": 1, 'weary': 1, 'mercy': 3, 'hope,': 2, 'brutus': 1, 'therefore,': 1, 'done.': 2, 'sprinkle': 1, 'wronging': 1, \"'lord\": 1, 'obligation,': 1, 'methought': 4, 'spade:': 1, \"nothing's\": 1, 'yaughan;': 1, 'sending.': 1, 'seat': 1, 'bated,': 1, 'commingled': 1, 'healthful': 1, 'hand?': 1, 'minds.': 1, 'roman': 2, 'clothes': 1, 'gentleman,': 2, 'patient:': 1, 'couch': 2, 'them;': 2, 'brokers,--': 1, 'you;--though,': 1, 'come?': 1, 'moment': 1, 'vapours.': 1, 'minds': 1, 'builds': 2, 'horatio:--welcome,': 1, 'loser?': 1, \"winter's\": 1, 'birth': 1, 'will,': 9, 'after.--to': 1, 'heard': 9, 'rot?': 1, 'consent!': 1, 'matter': 12, 'commutual': 1, 'down;': 3, 'offices.': 1, 'bones,': 3, 'twain.': 1, 'strewments,': 1, 'praised': 1, 'brute': 1, '[laying': 1, 'this,--': 4, 'strumpet.': 1, 'battlements': 1, 'labour:': 1, 'visitation?': 1, 'infected,': 1, \"uncle's\": 1, 'dole,--': 1, \"laertes's\": 1, 'indirections': 1, 'odds.': 2, \"'gainst\": 5, 'retrograde': 1, 'birth,--wherein': 1, 'hope!': 1, 'soldier': 2, \"for't:\": 1, 'hamlet,--': 2, 'poland.': 1, 'slightly': 1, 'row': 1, 'uncle-father': 1, \"play'd\": 2, 'may!': 1, 'circumstances': 1, 'finger': 2, 'unfold.': 1, 'seals': 1, 'vailed': 1, 'pleasure': 2, 'hyrcanian': 1, 'million,': 1, 'appears:--but': 1, 'bounded': 1, 'church.': 1, \"reform'd\": 1, 'heart,--for': 1, 'drink,': 5, 'off': 13, 'pray': 23, 'why?': 1, 'quietus': 1, \"saviour's\": 1, 'offendendo;': 1, 'time,': 5, \"rat!'\": 1, \"puff'd,\": 1, 'horse,': 1, 'guard,': 1, 'journeys': 1, 'hey': 2, 'ground': 2, \"belov'd,\": 1, 'armed': 2, 'cock.': 1, 'slanders,': 1, 'near.': 1, 'about:': 1, 'stithy.': 1, 'oath,': 2, 'enemies.': 1, 'forgeries': 1, 'hobby-horse': 1, 'variable': 2, \"is't,\": 5, 'tell;': 1, \"lack'd\": 1, 'hath': 62, 'canopy,': 1, 'seneca': 1, 'shelf': 1, 'cudgel': 1, 'illume': 1, 'employment': 1, 'melodious': 1, 'swore,': 1, 'was?': 1, 'several': 1, 'fortune,': 4, 'flattering': 1, 'ripe': 1, 'shipwrights,': 1, 'pictures': 1, 'come;': 7, 'infect': 1, 'precepts': 2, 'reveal': 1, 'repair': 2, 'straws': 1, 'juggled': 1, 'iii.': 4, 'blanket,': 1, 'therein': 1, 'charitable,': 1, 'admiration?': 1, 'sickly': 2, 'temperately': 1, 'exact': 1, 'rebellious': 2, 'politician,': 1, 'diameter,': 1, 'star,': 1, 'affection,': 2, 'yon': 1, 'vow': 2, 'well.--welcome,': 1, 'want': 2, 'station': 2, 'sending': 1, \"consequence'--ay,\": 1, 'foreign': 1, 'petard:': 1, 'potency.': 1, 'scorns': 1, 'naught,': 1, 'name.': 1, 'answer,': 3, 'guil.': 32, 'intruding': 1, 'foils': 3, 'conjuration': 1, 'speaks:': 1, 'lug': 1, 'god.--god': 1, 'myself;': 1, 'thereof': 1, 'sorrow': 4, 'ha,': 2, 'craven': 1, 'glow;': 1, 'unhappily.': 1, 'both?': 1, 'first.]': 1, 'flowers.]': 2, 'foresaid': 1, 'wittingly.': 1, 'evil,': 1, 'this,--he': 1, 'pardon.': 1, 'moreover': 1, 'plain': 2, \"to't;\": 1, \"foul'd,\": 1, 'love': 41, 'fish': 2, 'truster': 1, 'up,': 3, 'majesty,': 2, 'sharp': 1, 'fortinbras.': 2, 'secret,': 1, 'name,': 3, 'bed,': 3, 'stand.': 1, '[to': 10, 'liquor': 1, 'theft.': 1, \"return'd\": 2, 'treble': 2, 'lasting': 1, 'worst.': 1, 'cried,': 1, 'outface': 1, 'fools': 1, 'those': 21, 'levies;': 1, 'thaw,': 1, 'goes.': 1, 'gone!': 1, 'ruin.': 1, 'stand,': 1, 'life?': 1, 'extremity': 1, 'faded': 1, 'repent': 1, \"follow'd\": 1, 'allowed': 1, 'duty': 9, 'desperate': 6, 'wittenberg?': 1, 'gentleman.]': 1, 'them.--stand,': 1, 'lecherous,': 1, \"maids'\": 1, 'ranker': 1, 'within': 13, 'clowns': 1, 'ah,': 4, 'transports': 1, 'rareness': 1, 'sea': 4, 'shame': 4, 'trumpets,': 1, 'hand': 12, 'flame': 2, 'remembrances': 1, 'porcupine:': 1, 'blurs': 1, 'damon': 1, \"seeks.'\": 1, 'honours.': 1, 'strike': 1, 'doomsday.': 1, 'petition;': 1, 'season,': 1, 'shovel,': 1, 'both;': 1, \"man's\": 5, \"soldier's,\": 1, 'ache': 1, 'wounds': 2, 'dews': 1, 'shows': 9, 'sun.': 1, 'crab,': 1, \"ungart'red,\": 1, 'to-day': 1, 'thumb,': 1, 'seem': 9, \"sulph'uous\": 1, \"'twould\": 1, 'israel,': 1, 'is,': 10, 'glad': 4, 'die,--to': 2, 'unwrung.': 1, 'adieu,': 1, 'perfume': 2, 'proverb': 1, 'escape': 2, 'until': 1, 'straw': 1, 'fancy:': 1, 'thus:': 2, 'vii.': 1, 'you:--': 2, 'farm': 2, 'parchment': 1, \"wi'\": 4, \"'em?\": 2, 'ground?': 1, 'having': 2, 'once!': 1, 'obligation': 1, 'treachery.': 1, 'funeral.': 1, 'villain;': 2, 'tomb': 1, 'past.': 1, 'sixteen': 1, 'common.': 1, 'carnal,': 1, 'art': 14, 'was': 73, 'becomes': 3, 'within,': 1, 'charge,--': 1, 'wittenberg.': 1, 'conscience!': 1, 'thither.': 1, 'command,--': 1, 'claudius,': 1, 'gallows': 3, 'mood': 1, 'apparel': 1, 'performance.': 1, 'naught:': 1, 'say,--': 1, 'advancement': 1, 'you.--good': 1, 'mad!': 1, \"serv'd\": 1, 'ignorance': 1, 'base;': 1, 'story.--': 1, 'dogs!': 1, 'thin': 1, 'modesties': 1, 'place,': 3, 'ilium,': 1, 'mouth': 2, 'milch': 1, 'can;': 1, 'easiness': 1, 'diligence': 1, 'bosom,': 1, 'loam;': 1, 'reigns': 1, 'womb': 1, 'husband,': 1, 'people': 1, 'subject:--and': 1, '[makes': 1, 'seeming-virtuous': 1, \"poison'd.\": 1, 'sleep.': 1, 'compost': 1, 'strew': 1, 'rugged': 2, \"do't.\": 1, 'gone?': 1, 'me,--with': 1, 'thence,': 1, 'achievements,': 1, 'vast': 1, 'opinion,': 1, 'bodkin?': 1, \"cozenage--is't\": 1, 'perchance': 3, 'king,attended.]': 1, 'fashion,': 1, 'springes': 1, 'deep': 4, 'countrymen.--': 1, 'distinguish,': 1, 'wind': 9, 'postscript': 1, 'would;': 1, 'woman.': 1, 'instances': 1, 'trial,': 1, 'blench,': 1, 'denied': 1, 'enough,': 1, \"engag'd!\": 1, 'leave?': 2, 'vows;': 1, 'corruption,': 2, 'monster': 1, 'beautified': 1, 'true;': 4, 'govern': 1, 'adders': 1, 'action.': 1, 'bound,': 3, 'have.': 1, 'fears': 2, 'command?': 1, 'volley.': 1, 'celebrated,': 1, 'fire:': 2, 'rotten': 2, \"vulcan's\": 1, 'acts;': 1, 'beats': 1, 'pipe?': 2, 'safety,--': 1, 'wisdoms,': 1, 'deny': 2, 'trophies': 1, 'thee,': 9, 'impasted': 1, 'killed': 1, 'well-took': 1, 'head,': 2, 'action;': 1, 'grant': 1, 'decline': 1, 'duller': 1, 'bilboes.': 1, 'religion': 1, 'expel': 2, 'hear': 23, 'backward.': 1, 'denmark:': 2, 'for.': 7, \"would';--\": 1, 'demanded': 1, 'honourable': 2, 'neutral': 1, 'skill.': 1, 'sitting': 1, 'duties': 1, 'countenance': 4, 'assay:': 1, \"'the\": 3, 'do?': 3, 'well?': 2, 'unknowing': 1, 'beast:': 1, \"forgot!'\": 1, 'dear': 27, 'lordship!': 1, 'flames': 2, 'return,': 1, 'fort.': 4, 'outward': 2, 'bad,': 1, 'cautel': 1, 'lights!': 1, 'prompted': 1, 'fortinbras,': 7, 'niobe,': 1, \"'and\": 1, 'unworthiest': 1, 'replication': 1, 'groundlings,': 1, 'eclipse:': 1, 'begin': 1, 'queen,': 15, 'roscius': 1, 'valentine.': 1, 'indite': 1, 'aslant': 1, 'determine': 1, \"queen'?\": 1, 'quest': 1, 'looks': 4, 'mining': 1, \"amaz'd\": 1, 'metals': 1, 'fine.': 1, 'compact,': 1, 'lose.': 1, 'twentieth': 1, 'study': 1, 'ankle;': 1, 'gertrude:--': 1, 'grieve;': 1, 'thieves': 1, 'shall': 106, 'sheet;': 1, 'destroy:': 1, 'finds': 3, 'jove': 2, 'led': 1, 'containing': 1, 'spirit;': 1, 'lucianus,': 1, 'marcellus?': 1, 'weep': 1, 'to-night:': 1, 'clouts.': 1, 'forth.--': 1, 'fruits': 1, 'sense,': 3, 'princes': 1, 'dream.': 1, 'returneth': 1, 'struck.': 1, 'consent:': 1, 'grieves,': 1, \"you're\": 1, 'dumb,': 1, 'lack': 5, 'murder': 6, \"watch'd.\": 1, 'liquor.': 1, 'business.': 2, \"'fore\": 1, 'you:--keep': 1, 'sailors.]': 1, 'dane.--': 1, 'lighted': 1, \"smear'd\": 1, 'rend': 1, 'possess': 1, 'rest!': 2, 'oph.': 58, 'caesar;': 1, 'well': 30, 'way.': 1, 'confine': 1, \"seal'd:\": 1, 'fantastic': 1, 'breathes': 1, 'precious': 2, 'envenom': 1, 'scene': 23, 'william': 1, 'kingdom': 2, 'supervise,': 1, 'use;': 1, 'breaks,': 1, 'recks': 1, 'unfold': 2, 'between': 15, 'far.': 1, 'hercules:': 1, 'shameful': 1, 'tells': 1, 'hast': 14, 'o': 46, 'waits': 1, 'slain:': 1, 'lord,--': 5, 'gender': 1, 'entreaty,': 1, 'back:': 1, 'danger.--': 1, '--leave': 1, 'posset': 1, 'piteous': 3, \"consequence,'\": 1, 'flourishes,': 1, 'woodcocks.': 1, 'expense;': 1, 'slain?--o,': 1, \"pull'd\": 1, 'both.': 2, 'is,--': 1, 'honesty?': 1, 'free;': 1, 'breach': 1, 'england!': 2, 'few,': 1, 'ladyship': 1, 'desire:': 1, 'close,': 1, 'lisp,': 1, 'affections': 1, 'terms,--': 1, 'imaginations': 1, 'march': 2, 'sense:': 1, 'shuffling;--there': 1, 'daughter': 7, 'fanned': 1, 'matter,': 3, 'matin': 1, 'gentlemen': 2, 'detecting,': 1, 'sworn,': 1, 'spend': 1, 'messenger.]': 2, 'black,': 3, 'determination': 1, 'gets': 1, 'list!--': 1, 'seal,': 2, 'from': 95, 'dungeons,': 1, 'bell': 2, 'trade': 2, 'resembles': 1, 'drum': 1, 'ladies,': 1, 'lesser': 1, \"tennis':\": 1, 'tread': 1, 'return': 3, 'fingers,': 1, 'sober,': 1, 'full': 9, 'ambitious': 2, 'you:--why': 1, 'sound,': 3, \"fail'd\": 1, 'jephthah?': 1, 'sequent': 1, 'no;': 2, 'state.': 3, 'enough': 5, 'battalions!': 1, 'craves': 1, 'blown': 1, \"envenom'd:\": 1, 'broken': 1, \"bear't\": 1, 'dallying.': 1, 'wondrous': 3, 'ravel': 1, 'speak!--stop': 1, 'spoken': 1, \"they'll\": 1, 'canker': 2, 'numbers': 1, 'shakespeare': 1, 'serve': 2, 'satyr;': 1, \"hop'd\": 1, 'merely': 1, 'light:--away!': 1, 'himself': 10, 'garments,': 1, 'blow,': 1, 'passionate': 2, 'congregation': 1, 'figure?': 1, 'judgments': 2, 'trip': 1, 'tune': 2, 'stole,': 1, 'book;': 1, \"kill'd,\": 1, 'yourself': 7, \"weigh'd,\": 2, 'son.--go,': 1, 'daughter.': 3, 'perhaps': 4, 'born,--it': 1, 'eager': 2, 'saint': 3, 'ophelia--': 1, 'seated': 1, 'borrowing': 1, 'gleaned,': 1, 'peruse': 1, 'man;': 3, 'prologue,': 1, 'fame': 1, 'silence': 4, 'haps,': 1, 'hellish': 1, 'upon.': 1, 'dignity:': 1, 'beautied': 1, 'friends,': 5, \"where's\": 2, 'staff': 1, 'contagious': 1, 'portraiture': 1, 'fatted': 1, 'move;': 1, \"soul's\": 1, 'sorrow:': 1, 'mass,': 4, 'if,': 2, 'called': 1, 'bernardo!': 1, 'altogether.': 1, 'audit': 1, 'heaven!': 1, 'crafty': 1, 'ghost': 5, \"cain's\": 1, \"wit's\": 1, 'cap': 2, 'neglect.': 1, 'polack': 2, \"siz'd,\": 1, 'new-born': 1, 'feet.]': 1, 'cause;': 1, 'war': 1, 'axe,': 1, 'clemency,': 1, 'lie,': 2, 'loved': 2, 'mayst': 1, 'eyes;': 2, 'fires,': 1, 'plurisy,': 1, 'rosencrantz,': 8, 'last,--a': 1, 'lofty': 1, 'note;': 1, 'world.': 1, 'they,': 1, 'be.': 3, 'temple': 1, 'content': 2, 'lesson': 1, 'fools!': 1, 'heaven!--': 1, 'into': 31, 'mixture': 1, 'knows,': 2, 'ambition,': 1, 'grapple': 2, 'stage': 2, 'out-herods': 1, 'disclose': 1, 'camel?': 1, 'authorities.': 1, 'sweets': 1, 'straight:': 2, 'recognizances,': 1, \"honour'd,\": 1, 'speed,': 1, 'trumpet': 4, 'poisoner': 2, 'courtier,': 2, 'valour,': 1, 'flesh': 4, 'combat;': 1, 'friends.--o,': 1, 'sum': 1, 'blows': 2, 'thing,': 2, 'true.': 1, 'me': 142, 'messengers,': 2, 'prisoner': 1, 'split': 1, 'marrow': 1, 'gonzago': 1, 'laboursome': 1, 'blunted': 1, 'eaten:': 1, 'sadness;': 1, 'breath': 4, 'flaming': 2, 'sunday': 1, 'ambassadors': 2, \"dupp'd\": 1, 'nine': 2, 'turf,': 1, 'so': 143, 'watch.': 1, 'so.': 10, 'me?--': 1, 'carp': 1, 'gentlewoman,': 1, 'paradox,': 1, 'lecture': 1, 'suffer': 3, 'appetite': 1, 'wishes': 1, 'poll:': 1, 'unimproved': 1, '[within]': 1, 'natural,': 1, 'never,': 2, 'friend,': 1, 'tarre': 1, 'wrong': 3, \"'tis\": 70, 'ease': 1, 'danger': 2, 'bubbles': 1, 'mouse-trap.': 1, 'asking': 1, 'francisco.': 1, \"kill'd:\": 1, 'succession': 1, 'capability': 1, 'a-making,--': 1, 'away': 10, \"is't;\": 1, 'glimpses': 1, 'fair:': 1, 'say': 32, 'strange.': 2, 'upon': 53, '[beneath.]': 4, 'occasion': 2, 'hypocrites,--': 1, 'bernardo?': 1, 'dishonour': 2, 'drink.': 1, 'count': 3, 'moiety': 1, 'assigns,': 2, 'we': 132, 'tinct.': 1, 'chaunted': 1, 'canst': 3, 'wonder.': 1, 'cataplasm': 1, 'thanks:': 2, 'pastoral-comical,': 1, 'officers': 1, 'horatio.': 4, 'touch': 4, 'arms?': 1, 'breathing': 2, 'crier': 1, 'powerfully': 1, 'rat,': 1, 'ass,--': 1, 'freely;': 1, 'stood,': 1, 'prithee': 1, 'cell,': 1, 'stake.': 1, 'dearly;': 1, 'collateral': 1, 'deserve,': 1, 'falconers,': 1, 'know,': 12, 'meed': 1, 'vows,': 2, 'rash,': 2, 'ended.--': 1, 'wantonness': 1, 'will.': 7, 'eleven': 1, 'hamlet:': 5, 'voyage;': 1, 'shapes': 2, 'else?': 3, 'ring?': 1, 'none.': 1, \"envenom'd\": 1, 'chance': 1, 'eat,': 1, 'fear': 13, 'dare': 5, 'exchange,': 1, 'bait': 1, 'limbs,': 1, 'seeks': 1, 'merely.': 1, 're-word;': 1, 'maid,': 3, 'horse': 1, 'fennel': 1, 'foot.': 1, 'incontinency;': 1, 'light.': 1, 'bold': 1, 'eats,': 1, 'villain': 3, 'jangled,': 1, 'osric,': 3, 'water;': 1, 'primrose': 1, 'quantity': 3, 'drown': 5, 'moving,': 1, 'debate': 1, 'next': 3, 'breadth': 1, 'off.': 2, 'adventurous': 1, 'night': 11, 'speak': 42, 'wandering': 1, 'lasting;': 1, 'disappointed,': 1, 'blame': 1, 'sold': 1, 'sheets!': 1, 'struck': 4, 'nor': 37, 'path': 1, 'ease,': 3, 'charitable': 1, 'feel': 1, 'gentlemen;--': 1, 'overthrown;': 1, 'stars,': 2, 'courtiers:': 1, 'forty': 1, 'lord;': 14, 'rosemary,': 1, 'outrageous': 1, 'rapiers': 2, 'need': 3, 'reach,': 1, 'ten': 4, 'conference.': 1, 'lady.': 1, 'true:': 2, \"warr'nt\": 1, 'hams:': 1, 'seeming.': 1, 'deprive': 1, 'twelve.': 2, 'task': 1, \"o'er\": 13, 'blasted': 1, 'all:': 1, 'about,': 1, 'many': 17, 'leave.': 4, 'mind,--though': 1, 'i:': 1, 'zone,': 1, 'jointress': 1, 'buried,': 1, \"bles'd\": 1, \"he'll\": 1, 'sir.--': 1, \"possess'd\": 1, 'marcellus.': 1, 'work;': 1, 'avoid': 2, 'favours:': 1, 'age': 7, 'to-night': 3, 'lacks': 1, 'sides;': 1, 'motive,': 3, 'counsellor': 1, 'crown,': 4, 'delver,--': 1, 'ass': 3, 'oft.': 1, 'seeing': 2, 'tongue?': 1, 'itself,': 2, 'bloody': 5, \"lock'd,\": 1, 'discretion': 2, 'contents,': 1, \"seal'd\": 4, 'spoke': 2, 'minute;': 1, 'ulcer:--': 1, 'one': 34, 'daily': 1, 'traitorous': 1, 'leaping': 1, 'fear:': 2, 'breeder': 1, 'this.--': 1, 'appears': 2, 'words:': 1, 'range.': 1, 'marcellus!': 1, 'fitting': 1, 'questionable': 1, 'purposes': 1, 'ardour': 1, 'disposition,': 1, 'throat;': 1, \"scarf'd\": 1, 'dane;': 1, 'be.--sleeping': 1, 'music!': 2, 'stir': 4, 'errors': 1, 'gentleman;': 1, 'stands': 2, 'lands': 3, 'recoveries:': 1, 'foreknowing': 1, 'hamlet.]': 9, 'frankly': 2, 'rightly': 1, 'woe': 5, '1': 36, 'eyes,': 5, 'roof': 1, 'foot;': 1, 'march?': 1, 'revel': 1, 'white': 4, 'quoted': 1, 'declension,': 1, 'stays:': 1, 'wars,': 1, 'partial,': 1, 'tempest,': 1, 'tongues,': 1, 'earth!': 2, 'remember': 6, \"me:'\": 1, 'mark,': 1, 'could': 30, 'gestures': 1, 'pale.': 1, '[the': 5, 'welcome': 5, 'estate.': 2, \"wan'd;\": 1, 'say?': 1, 'still;': 2, 'shoon.': 1, \"pronounc'd:\": 1, \"o'ertook\": 1, 'awake,': 1, 'figure;': 1, 'affliction,': 1, 'provide:': 1, 'didest': 1, \"to't\": 3, 'attends': 1, 'flaw!': 1, 'speech': 8, 'roused': 1, 'enact?': 1, \"me'?\": 1, 'fitted.': 1, 'too.': 5, 'songs?': 1, 'gods': 1, 'suit;': 1, 'breed.': 1, 'absent': 1, 'ourself': 2, 'sweepstake,': 1, 'tame,': 2, 'praise': 1, 'forbid': 2, 'grace,': 3, 'visit': 5, 'taints': 1, 'found,': 1, 'loggets': 1, 'corses': 1, 'lunacy.': 1, 'motion,': 2, 'scope': 2, \"'closes\": 1, 'all;': 4, 'memory,': 2, \"'beautified'\": 1, 'springe,': 1, 'coinage': 1, 'finding': 1, 'jaws': 1, 'shaking': 1, 'opposites.': 1, \"bles'd,\": 1, 'drunkards,': 1, \"reliev'd,\": 1, 'burns,': 2, 'whereto': 4, 'heaven;': 7, 'so!--you': 1, 'trail': 2, 'melancholy,--': 1, 'undo': 1, \"distill'd\": 1, 'all,--': 2, \"touch'd,\": 1, 'bernardo': 2, 'fame,': 1, 'cause': 11, 'it,': 34, 'powers,': 1, 'rises.': 1, 'hours': 1, 'laertes;': 3, 'ship': 1, 'quiet': 4, 'plausive': 1, 'rendezvous.': 1, 'dignity': 1, 'death;': 2, 'suffered': 1, \"th'\": 5, 'ladies;': 2, 'boy,': 1, \"knew'st\": 1, 'quick;': 1, 'orchard,': 2, 'month;': 2, 'earth': 12, 'thereunto,': 1, 'associates': 1, 'sends': 3, 'confess.': 1, 'feeling': 2, 'dismay.': 1, 'pace:': 1, 'fifty,': 1, 'debt:': 1, 'royal': 3, 'ingenious': 1, 'argal,': 3, 'deer': 1, \"neptune's\": 2, 'churches': 1, 'either': 6, 'excellent,': 1, 'murderer;': 1, 'spades,': 1, 'fearful': 1, 'singeth': 1, 'wittenberg,': 2, 'hid,': 1, \"pour'd\": 1, 'droppings': 1, 'here.': 1, 'be:': 1, 'visage,': 2, '[draws.]': 1, 'losing': 1, 'wild;': 1, 'eyes': 10, 'hap': 1, \"you'll\": 3, 'country.': 1, 'shot': 7, 'sepulchre,': 1, 'before.': 1, 'known': 5, 'pursy': 1, 'eye;': 1, 'joys,': 1, 'again': 9, 'ears.]': 1, 'abroad;': 1, 'secret': 2, 'allowance': 1, 'cheek;': 1, 'phrase': 5, 'we!': 1, 'brow': 2, \"devotion's\": 1, 'yonder': 2, 'knave': 3, 'usual': 1, 'prepare': 3, 'opposition': 1, 'bands.': 1, 'ever:': 1, 'nay,': 24, 'said.': 2, 'proceed': 1, 'it?--': 1, 'distress,': 1, 'sort,': 1, 'once,--but': 1, 'brain!': 1, 'earth,': 6, 'suspiration': 1, 'we,': 2, 'virgin': 1, 'ber.': 21, 'long:--but': 1, 'life': 13, 'combination': 1, 'strife,': 1, 'weedy': 1, 'sound': 3, \"yeoman's\": 1, 'paper.]': 1, 'wooes': 1, 'thinking': 4, 'show;': 1, 'brook.': 1, 'clouds,': 2, \"i'm\": 1, 'wring': 1, 'so,': 16, 'remove,': 1, \"assay'd:\": 1, 'son': 11, 'none:': 1, 'beaver': 1, 'girl,': 1, 'ungalled': 1, 'imagine,--': 1, 'been': 27, 'peace': 2, 'this!': 3, 'caution,--i': 1, 'lapwing': 1, 'undertake': 2, 'at--closes': 1, 'hamlet;': 4, 'week;': 1, 'forbear': 1, 'judgment!': 1, 'reechy': 1, 'grey': 1, 'deed!--almost': 1, \"tax'd\": 1, 'please': 9, 'paddock,': 1, 'priests,': 1, 'mountains,': 1, \"sir,'\": 1, 'cold;': 1, 'tediousness': 1, 'grace': 9, 'the': 1136, 'moods,': 1, 'mine!': 1, 'bark': 1, 'horatio!': 4, \"design'd,\": 1, 'ye!': 1, 'forces': 1, 'souls.': 1, 'slay': 1, \"'friend\": 1, 'worse': 2, 'loss': 1, 'address': 1, 'see!': 1, 'twelve': 2, 'encounter;': 1, 'prince,': 2, 'coil,': 1, 'confusion,': 1, 'hoodman-blind?': 1, \"she's\": 2, 'diseases': 1, 'accidents;': 1, 'dane,': 2, 'givers': 1, 'whereof,': 1, 'responsive': 1, 'draughts': 1, 'trouble': 2, 'despite': 1, 'else': 12, 'drink.--hamlet,': 1, 'arm,': 2, 'satisfaction;': 1, 'widow,': 1, 'thick,': 1, \"b'\": 4, 'penetrable': 1, 'myself,': 2, \"op'd\": 1, 'tend,': 1, 'further,': 1, \"nature's\": 2, 'naked': 1, 'incorporal': 1, \"lodg'd\": 1, '[gives': 1, 'ha!': 2, 'fiction,': 1, \"o'erbears\": 1, 'hearing,': 2, 'abuses': 1, 'fee;': 2, 'same': 10, 'day;': 1, 'hit.': 1, 'farewell;': 1, 'cursed': 4, 'speak;': 3, 'familiar,': 1, 'intent;': 1, 'come.': 5, 'excellent': 9, 'silence.': 1, 'ways': 1, 'wears': 2, 'ourselves.--[to': 1, 'pendant': 1, 'water-fly?': 1, 'illo,': 1, 'seduce!--won': 1, 'organ.': 1, 'together.': 1, \"disclos'd,\": 1, \"wager'd\": 1, \"thou'rt\": 1, 'mine;': 2, 'stairs': 1, 'cor.': 1, 'milk,': 1, 'looks,': 2, 'curd,': 1, 'to-morrow': 3, 'anon': 4, 'dew': 2, 'wife': 1, 'pursue': 2, 'shocks': 1, 'hurt': 1, 'fell,': 1, 'impatient;': 1, 'quickly': 1, 'fashion.': 1, \"braz'd\": 1, 'hard;': 1, 'prosperously': 1, 'candied': 1, \"unmaster'd\": 1, 'eisel?': 1, 'thee!': 4, 'thyself?': 1, 'combined': 1, 'hate': 1, 'months,': 1, 'conceit.': 1, 'estate': 1, 'according': 2, 'us!--': 1, 'scandal': 1, 'madam,--to': 1, 'unknown,': 2, 'man.': 5, 'favours?': 1, 'claudio:--he': 1, 'attractive.': 1, 'mine,--an': 1, 'withal,--except': 1, 'fust': 1, 'toward,': 1, 'great': 24, 'chiefly': 1, 'snuff': 1, 'friendship,': 1, \"donn'd\": 1, 'receive': 7, 'sick': 4, 'perform:': 1, 'behove,': 1, 'leaves,': 1, 'ubique?': 1, 'rat?': 1, 'ear.': 3, 'mole': 1, 'better:': 2, 'dead.': 4, 'owner': 1, 'delve': 1, 'patch': 2, 'kisses': 2, \"mortis'd\": 1, 'matter?': 3, 'others.]': 2, 'synod,': 1, 'marriage,': 1, 'sandal': 1, 'one;': 3, 'heel,': 1, 'dram': 1, 'shook': 1, 'bodies;': 1, 'ministers': 1, \"dicers'\": 1, 'queen!': 1, 'mourners': 1, 'home': 2, 'gentleman': 4, 'ground,as': 1, 'greeted,': 1, 'rites,': 1, 'space,': 1, 'rheum;': 1, 'gape': 1, 'suppress': 2, 'they?': 1, 'invites': 1, 'berattle': 1, 'wife!': 1, 'stage;': 1, 'spade.': 1, 'lord?': 27, 'hourly': 1, 'flat': 2, 'razed': 1, 'sponge,': 2, 'serpent': 2, 'proof': 3, 'puppets': 1, \"dragg'd\": 1, 'rule,': 1, 'shell': 1, 'lord,': 81, 'custom,': 1, \"answer'd?\": 1, 'extant,': 1, 'effect;': 1, 'brother,': 1, 'impetuous': 1, 'fast': 1, 'violence': 1, 'reading.]': 1, 'servant.': 1, 'such': 51, 'easy': 1, 'your': 241, 'affair:': 1, 'hid': 1, 'sliver': 1, 'alleys': 1, '[ghost': 2, 'lief': 1, 'mother:': 2, 'yawn,': 1, 'former,': 1, 'fetch': 2, 'aught,': 2, 'illusion!': 1, 'wormwood,': 1, \"maid's\": 1, 'river': 1, 'fortunes': 2, 'bears': 2, 'witchcraft': 2, 'plautus': 1, 'pale:': 1, 'brain': 2, 'arrows,': 1, 'sugar': 1, 'pay,': 1, 'scene.': 1, 'case,': 1, 'rank,': 2, 'concluded': 1, 'wake': 1, 'love;': 4, 'time.': 5, 'fine': 6, 'rites': 1, 'stand': 12, 'distracted': 2, '--my': 1, 'heavens': 3, 'affair.': 1, 'incest.': 1, 'collection,': 1, 'hamlet': 28, 'skull].': 1, 'remember,': 2, 'face,': 1, 'shoes,': 1, 'to-night.': 1, 'unsifted': 1, 'excrements,': 1, 'invite': 1, 'throne': 1, 'greeting': 1, 'anoint': 1, 'past;': 1, 'parts': 3, \"all's\": 2, \"gonzago's\": 1, \"inclin'd.--\": 1, 'thanks;': 1, 'mock': 4, 'edge': 1, 'near;': 1, 'pickaxe': 1, 'said;': 2, 'mockery.': 1, 'work,': 1, 'guts': 2, 'say;': 1, 'lords.': 1, 'it?': 4, 'dally;': 1, 'choice,': 1, 'brain:': 1, 'cool': 1, 'true-love': 1, 'casual': 1, 'ago,': 1, 'shreds': 1, 'waxes': 1, 'so;': 5, 'assays': 1, 'this:': 2, 'limbs': 1, 'it': 324, 'protestation': 1, 'apparition': 2, 'ros': 1, 'wills': 1, 'madness,--thoughts': 1, 'grave-diggers.': 1, 'ha': 1, 'manners,': 1, 'soul': 17, 'phrase;': 1, 'roar?': 1, \"enlarg'd\": 1, 'reason,': 3, 'manner': 1, 'shoulder.]': 1, 'hammers': 1, 'nose': 1, 'hall:': 2, 'fool;': 1, 'heavily': 1, 'even,': 2, 'tongues': 2, 'gaudy:': 1, 'tristful': 1, 'alarm,': 1, 'carry': 3, 'fly,': 1, \"here's\": 8, 'soaks': 1, 'well:': 5, 'caviare': 1, 'necessaries': 1, 'nettles,': 1, 'propose': 1, 'power;': 1, 'mark': 9, 'business,': 1, 'say,': 14, 'late,--but': 1, 'in,': 2, 'begun,--': 1, 'stood': 4, 'osric;': 1, 'night:': 2, 'beer-barrel?': 1, 'trace': 2, \"flatter'd?\": 1, 'bloody,': 2, 'doctor;': 1, 'evil': 1, 'night!': 1, 'not.': 8, 'blush': 1, 'takes,': 2, 'infinite': 4, 'norman': 1, 'unsanctified': 1, 'lays': 1, 'show,': 2, 'ourselves,': 1, 'mad.': 2, 'bonnet': 1, 'tenures,': 1, 'throne;': 1, 'prodigal': 2, 'ground.': 2, 'robustious': 1, \"undiscover'd\": 1, 'compare': 1, 'question;': 1, 'golden': 3, 'unite': 1, 'men,--': 1, 'thou,': 5, 'used;': 1, 'tongue': 6, 'remember,--': 1, 'vulgar': 1, 'sleep!': 1, '[hamlet': 1, 'after': 10, 'made,': 2, 'loud': 1, 'well;': 4, 'make,': 1, 'barbary': 2, 'reply:': 1, \"'s\": 1, 'last,': 2, 'drinking,': 1, 'buzzers': 1, 'norway.': 1, 'ears.': 1, 'peace.': 3, 'scopes': 1, \"woul't\": 5, 'distance.]': 1, 'recorders.]': 1, 'tenantless,': 1, 'air;': 1, 'extremity.': 1, 'wart!': 1, 'longed': 1, 'affrighted!': 1, 'dream:--ay,': 1, 'providence': 2, 'roar': 1, 'next,': 2, 'bat': 1, \"deck'd,\": 1, 'southerly': 1, 'phrase:': 1, 'cap-a-pe,': 1, 'packet;': 1, 'day.': 1, 'forehead': 2, 'violence;': 1, 'axe': 1, 'outbreak': 1, 'thus.': 2, 'breathe': 3, 'am': 52, 'sparrow.': 1, 'stay!': 1, 'horrid': 2, 'words.': 1, 'consummation': 1, 'uncharge': 1, \"'would'\": 1, 'buzz,': 1, 'rankly': 1, 'repulsed,--a': 1, 'day,': 5, 'burial.': 3, 'lungs?': 1, 'knaves,': 1, 'thine:': 1, 'will.--tell': 1, 'happily': 1, 'king.]': 3, 'rain': 1, 'cut': 2, 'actor': 2, 'process': 1, 'broke.': 1, 'weary,': 1, 'lunacy?': 1, 'melancholy': 1, 'profane': 1, 'jawbone,': 1, 'otherwise?': 1, 'gis': 1, 'steps,': 1, 'sterling.': 1, 'observation': 1, 'high': 3, 'answer': 8, 'thirties': 1, 'apt;': 1, 'land;': 1, \"''tis\": 1, 'lights,': 2, 'wherefore?': 1, 'nunnery,': 3, 'flats': 1, 'keeps': 5, 'cup;': 2, 'body.': 4, 'brought': 5, 'drive': 2, 'sate': 1, 'prison.': 2, 'farewell!': 2, \"seem'd\": 2, \"we'll\": 13, 'window,': 1, 'business': 8, 'ranker.': 1, 'loins,': 1, 'ordnance': 3, 'tedious': 2, 'equivocation': 1, \"upon't,--\": 1, 'lord.]': 2, 'free-footed.': 1, 'wicked': 6, 'revels,': 1, 'blame.': 2, '[leaps': 2, 'hies': 1, 'brother;': 1, '[retiring': 1, 'fighting': 2, 'acting': 1, 'fit': 8, 'hands': 6, 'sides.--how': 1, 'thou.': 1, 'wanton,': 1, 'oft': 11, 'dove,': 1, 'tumbled': 1, \"lock'd:\": 1, 'manners;--that': 1, 'reaches': 1, 'closes': 2, 'armed.]': 1, 'deliberate': 1, 'fie': 3, 'article': 1, 'them': 44, 'do,--that': 1, 'breeding': 1, 'dies.]': 2, 'where,': 2, 'stealers.': 1, 'wherefore': 2, 'court?': 1, 'up;--': 1, 'nations:': 1, 'morrow,': 1, 'tear': 2, 'chough;': 1, \"unhous'led,\": 1, 'uncle,': 2, 'convoy': 1, 'spark': 1, 'dead;': 1, 'successive': 1, 'light': 6, 'elder': 1, 'fay,': 1, 'war;': 1, 'how,': 1, 'withal:': 1, 'substance': 2, 'queen:': 1, 'daughter.--my': 1, '2': 12, 'bethought:': 1, 'duty,': 1, 'russet': 1, 'answer.': 2, 'i;': 2, 'beg': 5, 'first;': 2, 'emulate': 1, 'man': 33, 'image,': 2, 'dealt': 1, 'reputation': 1, \"lov'd\": 4, 'across?': 1, 'curls;': 1, 'holds,': 1, 'warning,': 1, 'thou': 95, \"pray'st\": 1, 'benefit': 1, 'lawless': 2, 'liberty;': 1, 'willow': 1, 'seek': 9, 'audience': 3, 'petty': 2, 'double': 6, 'terms': 3, 'defend': 3, 'word;': 1, 'confess': 4, 'lament;': 1, \"'twere--i\": 1, 'heads:': 2, 'feeds': 1, 'else,--be': 1, 'jump': 2, 'judge': 2, 'him,--': 2, '[enter': 61, 'thing.': 1, 'breath.--': 1, 'act,': 4, 'scripture': 1, 'fox,': 1, 'mole!': 1, 'i.': 8, 'enter': 5, 'again!': 4, 'pastime?': 1, 'records,': 1, 'why;': 1, 'top': 6, 'bawds,': 1, 'finding,': 1, 'unlimited:': 1, 'ability': 1, 'currents': 2, 'pray;': 1, 'venom,': 1, 'attribute.': 1, 'curse': 1, 'chorus,': 1, 'words': 14, 'cannoneer': 1, 'gentry': 1, 'picked': 2, 'willing,': 2, 'guards!--what': 1, 'events,--': 1, 'prettiness.': 1, 'king?--sirs,': 1, 'taint': 1, 'advancement.': 1, 'rages,': 1, 'too': 35, 'stops;': 1, 'things': 11, 'remedy.': 1, 'unseen,': 1, 'clutch,': 1, 'howling.': 1, 'madness?': 1, 'east': 1, 'incestuous,': 2, 'death,--': 1, 'tributary;': 1, 'over-happy;': 1, 'little': 15, 'rood,': 1, 'changeling': 1, 'normandy,--': 1, 'whereof': 1, 'woman': 3, 'scullion!': 1, '[writing.]': 1, 'magic': 1, 'gore,': 1, 'age,': 2, 'work': 5, 'uphoarded': 1, 'trippingly': 1, 'radiant': 1, \"beggar'd,\": 1, 'what': 183, 'goose-quills': 1, 'sensible': 1, 'bravery': 1, 'straw:': 1, 'i!': 2, 'her': 76, \"rain'd\": 1, 'grounds': 1, 'cannon': 4, 'joyfully': 1, 'invulnerable,': 1, 'hide': 4, 'lank': 1, 'ambassadors.': 1, 'working,': 1, 'rage': 1, 'capt.': 7, 'dirt?': 1, \"harlot's\": 1, 'nothing:': 2, 'bearing': 1, 'flints,': 1, \"adjoin'd;\": 1, 'interpret': 1, 'wildness:': 1, 'fishmonger.': 1, 'person,': 1, 'unwholesome': 1, \"baker's\": 1, 'damnation:--to': 1, 'discovery,': 1, 'contagion,': 1, 'more:--the': 1, \"will't\": 1, 'pity': 3, 'grave.]': 3, 'inventorially': 1, 'discourse': 4, 'pluck': 3, 'eyes?': 2, 'order,': 1, 'me.--stay,': 1, 'calamity': 1, \"perceiv'd\": 1, 'while': 7, 'when': 54, 'newly': 1, 'reason;': 1, 'search.': 1, 'am.': 1, 'apprehension,': 2, 'truly': 5, 'choler.': 2, 'ask': 2, 'soul;': 2, 'crimeful': 1, 'ever.': 1, 'tyrannically': 1, \"despis'd\": 1, 'may': 65, 'colour;': 1, 'rub;': 1, 'inexplicable': 1, 'knows': 1, 'jig-maker!': 1, \"ne'er\": 3, 'weep,': 2, \"'twas\": 5, 'whale.': 2, 'spots': 1, 'them:': 4, 'endure': 1, 'busy': 1, 'cellarage,--': 1, 'flourish;': 1, 'garden,': 1, 'wager?': 1, 'creep': 1, 'moult': 1, 'bodies,': 1, 'us,--thou': 1, 'cannot.': 3, 'profound': 2, 'pat,': 1, 'refrain': 1, 'palpable': 1, 'ground.--': 1, 'total': 1, 'stands,': 2, 'conjure': 1, 'gently:': 1, 'desirous': 1, 'us': 46, 'whereat': 1, 'heart.--good': 1, 'king!': 3, 'obey': 4, 'danes': 1, 'heaven.': 3, 'madness:': 2, 'thing': 13, 'out': 43, \"again;--i'll\": 1, 'it:--stay,': 1, 'horseback:': 1, 'below:': 1, 'certain': 4, \"thus:--'i\": 1, 'hatchment': 1, 'seeming': 2, \"ta'en\": 3, 'true,': 1, 'youth': 12, 'ocean,': 1, 'alone.': 2, \"unschool'd;\": 1, \"so;'\": 1, '[pours': 1, 'semblable': 1, 'brothel,--or': 1, 'friend;': 3, 'sterile': 1, 'queen.]': 3, \"offender's\": 1, 'make': 53, 'england;': 4, 'strumpet,': 1, 'husbandry.': 1, 'shrunk': 1, 'wall': 1, 'true!': 1, 'appear': 2, 'honesty': 4, 'kibe.--how': 1, \"depriv'd\": 1, 'mad': 11, 'once': 11, 'play.': 11, 'aim': 1, 'ignorant,': 1, 'deaths': 1, 'rebuke': 1, 'dark': 1, 'doublet': 1, 'thereon': 1, 'purchases,': 1, 'prison-house,': 1, 'humble,': 1, 'tenders,': 1, 'desert.': 1, 'beggar.': 1, \"remember'd.\": 1, 'sight': 3, 'gentle': 5, 'sergeant,': 1, 'sleep,': 1, 'himself.--': 1, 'indentures?': 1, 'chronicles': 1, 'brooch': 1, 'baby;': 1, 'hearts,': 1, 'nose?': 1, 'a-foot,': 1, 'soul,': 10, 'private': 1, 'good-will': 1, \"incens'd.--let\": 1, 'showing:': 1, 'knee': 1, 'away.--': 1, 'on': 109, 'afflict': 1, \"do't,\": 3, 'fretful': 1, 'surmise.': 1, 'death.': 6, 'speak!': 5, 'disposition': 3, 'incensed': 1, 'inclining?': 1, \"men's\": 3, '[sings.]': 12, 'overlooked': 1, 'sun': 4, 'reels;': 1, 'thou!': 1, 'pity;': 1, 'belike': 2, 'effect,': 2, \"unfledg'd\": 1, 'height,': 1, 'whisper': 2, 'head:': 1, 'thunders': 1, 'quills': 1, 'cunnings,--': 1, 'inch': 1, 'opposing': 1, 'themselves': 5, 'behaviour.': 1, 'goodness,': 1, 'dumb;': 2, 'fancy,': 1, \"husband's\": 2, 'nemean': 1, 'trespass,': 1, 'showers.': 1, 'now?': 4, 'bringing': 1, 'brands': 1, 'peep;': 1, 'elsinore.': 6, 'cloak,': 1, 'remorse': 1, 'articles': 1, 'sleep;--': 1, 'dressed': 1, 'occurrents,': 1, 'pound!': 1, 'recorders!--': 1, 'platform': 2, '[retires': 1, 'celestial': 1, 'night;': 1, 'told': 5, 'withal.': 3, 'still': 13, 'nipping': 1, 'functions': 1, 'profanely,': 1, 'matter,--': 1, 'bless': 3, 'brother': 3, 'polack:': 1, 'yourself:': 1, \"pardon't,\": 1, 'kettle': 1, \"arriv'd,\": 1, 'larded': 2, 'kill': 4, 'command;': 2, 'safety': 3, 'repel': 1, 'sable': 2, 'sickness,': 1, 'drowns': 1, 'done;': 1, 'list,': 2, 'hole': 1, 'leisure.': 1, 'laertes,--': 1, 'such.': 1, 'became': 1, 'wars.': 1, 'numbers;': 1, 'unsure': 1, 'loving': 3, \"'to\": 1, 'countenance,': 1, 'servant': 2, 'truant.': 1, 'join': 2, \"conceal'd\": 1, 'more!': 1, 'pestilent': 2, 'sleeps:--say': 1, 'olympus.': 1, 'clepe': 1, 'hillo,': 1, 'marcellus': 2, 'levied': 1, 'la,': 1, 'beyond': 2, 'threats': 1, 'forgiveness': 1, 'their': 57, 'argues': 1, 'down,--': 1, 'witching': 1, 'player.]': 1, 'volt.': 2, 'presence;': 1, 'name;': 1, 'norway': 2, 'rhenish': 2, 'spirit!--so,': 1, \"do't.--dost\": 1, 'laid': 6, 'cousin,': 1, 'done,': 8, 'pyrrhus,--he': 1, 'argument,': 1, 'ho!': 6, 'by-and-by.': 1, 'blank': 1, 'curb': 2, 'mount': 1, \"o'errule\": 1, 'prick': 1, 'election': 3, 'hence': 3, 'me!--': 1, 'one?': 1, 'friend': 4, 'fear;': 1, 'bed-rid,': 1, 'state!': 1, 'fortinbras:': 1, 'coward?': 1, 'see:': 2, 'reverted': 1, 'voice;': 1, 'earthly': 1, 'dejected': 1, 'fain': 4, 'halfpenny.': 1, 'devil!': 1, 'contraction': 1, 'delight': 3, 'marcellus,': 4, 'bore': 4, 'world,': 2, 'shatter': 1, 'far': 10, 'enseamed': 1, 'heartache,': 1, 'defy': 1, 'shape': 3, 'solicited.--the': 1, 'large': 1, 'or,': 2, 'him?': 1, 'am,': 2, 'on.': 6, 'invisible': 1, 'took': 4, 'queen': 19, 'beshrew': 1, 'lords,': 3, 'murder,--': 1, 'ï»¿xxxx': 1, 'have': 174, 'given': 10, 'dream': 4, 'yond': 1, 'servants;': 1, 'west': 1, 'us;': 1, 'france;': 2, 'seat;': 1, 'dead:': 1, 'can:': 1, 'airs': 1, '[exeunt': 22, 'built': 1, 'orbed': 1, 'thee': 34, 'entreat': 3, 'dearly': 1, 'do': 128, 'lowest': 1, 'represented.': 1, 'player': 2, 'ambitious;': 1, 'aptly': 1, 'article,': 1, 'unnatural': 2, 'cause:': 1, 'exceed': 1, 'knowing': 1, 'heathen?': 1, 'levies,': 1, 'assurance': 2, 'below': 2, 'brave,': 1, 'italian;': 1, \"inventors'\": 1, 'are!': 1, 'deeply': 1, 'muddy-mettled': 1, 'devil': 5, \"believ'd\": 1, 'darkest': 1, 'smiling,': 1, 'loves': 3, 'luxury': 1, 'book': 1, 'likelihood': 1, 'dirty': 1, 'knock': 1, 'lo!': 1, 'presently.': 2, 'fight?': 1, 'best,': 2, 'mighty,--you': 1, 'blasted,': 1, 'index?': 1, 'moon:': 2, \"father's\": 18, 'profit': 2, 'commended': 1, 'rogue': 1, 'sir;': 7, 'proclaim': 2, 'shake': 2, 'annual': 1, 'wide;': 2, 'servants': 1, 'conclusions,': 1, 'importunate;': 1, 'turns': 1, 'all.--my': 1, 'sun;': 1, \"swear't.\": 1, 'midnight': 1, 'party': 1, 'rosencrantz:': 1, 'bodiless': 1, 'stooping': 1, 'brave': 2, 'portentous': 1, 'really.': 1, 'lot,': 1, 'blaze,': 1, 'whose': 31, 'douts': 1, \"cozen'd\": 1, 'show': 20, 'twice': 4, 'native': 4, 'joint:--o': 1, 'yours': 1, 'head.]': 1, 'mad?': 2, 'flies,': 1, 'otherwise:': 1, 'no,': 27, 'right;': 2, 'who,': 9, 'unseen': 1, 'that.': 5, 'mess;': 1, 'catch': 2, 'a-down,': 1, 'didst': 4, 'resemble': 1, 'foolish': 3, 'rant': 1, 'procession;': 1, 'come!': 1, 'love!': 1, 'card': 1, 'avouch': 1, 'him;--do': 1, \"matron's\": 1, 'tutor:': 1, 'sun,': 1, 'clear': 1, 'palmy': 1, 'niggard': 1, 'creature': 2, 'spirit': 7, 'lord': 16, 'cross': 1, 'knew': 5, 'nonce;': 1, 'daughters,': 1, 'advances.]': 1, 'alarm': 1, 'expostulate': 1, 'auspicious': 1, '[exeunt.]': 13, 'painting': 1, 'overcame': 1, 'laertes': 6, 'summit': 2, 'conscience;': 1, 'fat,': 1, 'horatio?--': 1, 'murder!--pray': 1, 'rapier,': 1, 'match': 1, 'masters': 1, 'bias,': 1, 'fruit': 2, 'fetters': 1, 'crescent,': 1, 'gorge': 1, 'dismal;': 2, 'retirement,': 1, \"to't.\": 3, 'beseech': 7, 'mutes,': 1, 'virtue,': 2, 'who': 32, \"importun'd\": 1, 'walk.': 1, 'solemn': 3, 'consonancy': 1, 'you,--': 2, 'does--what': 1, 'adheres.': 1, 'stomach': 1, 'too;': 3, \"'well,\": 1, 'twenty,': 1, 'wilt': 8, 'nickname': 1, 'horatio.--wretched': 1, 'mothers,': 1, 'hangers,': 1, 'contracted': 1, 'brood;': 1, 'soul!': 3, 'remain': 2, 'couple': 1, 'pickers': 1, 'enemies;': 1, 'thought-sick': 1, 'talk': 2, 'fall': 6, 'top,': 1, 'salary,': 1, 'one.': 4, 'is!': 2, 'holding': 1, 'and,--would': 1, \"forg'd\": 1, 'presentment': 1, \"country's\": 1, \"prais'd\": 1, 'unfellowed.': 1, 'here': 33, 'hue': 1, 'forms': 1, 'flagon': 1, 'withers': 1, 'mines': 1, 'charm;': 1, \"passion's\": 1, 'being:': 1, 'loved:': 1, 'polack;': 1, 'writers': 1, 'upon,--': 1, 'passage?': 1, 'yours,': 2, 'fantastically': 1, 'woo': 1, 'perusal': 1, 'voyage,': 1, 'sudden': 5, 'hang': 3, 'valiant': 2, 'honour,--': 1, 'fairy': 1, 'mother.--': 1, 'convenience': 1, 'fruitful': 1, 'thither': 2, 'liberty.': 1, 'buried': 5, 'larger': 1, 'favour,': 1, 'month,': 1, 'hunts': 1, 'father': 26, 'honest?': 1, 'here.--gracious,': 1, 'these': 44, 'command': 4, 'comma': 1, 'or': 109, 'jot': 1, 'counter,': 1, 'affliction': 2, 'aery': 1, '[within.]': 6, 'craft.': 1, 'both': 22, 'ecstasy': 2, 'foolery;': 1, 'return.': 1, 'scrimers': 1, 'heavy,': 1, 'repose': 1, 'repent;': 1, 'denmark': 9, 'knees': 1, 'off.]': 1, 'months': 3, 'souls': 1, 'coagulate': 1, 'delights': 2, 'villany!--ho!': 1, 'mother;': 1, 'filial': 1, 'honourable.': 1, 'sequel': 1, 'squeezing': 1, 'mirror,': 1, 'capitol;': 1, 'grained': 1, 'bout': 1, 'wrote': 1, 'reading.': 1, 'heel': 1, 'beware': 2, 'ay,': 35, 'occasion.': 1, 'gall': 2, 'lust,': 1, 'corner': 1, 'disasters': 1, 'ratified': 1, 'wharf,': 1, 'poisons': 1, 'clouds': 2, 'homage': 1, 'maids': 1, 'had': 44, 'kin.': 1, 'asked': 1, 'grow:': 1, 'sweet': 20, \"befall'n?\": 1, 'monsters': 1, 'admittance': 1, 'hoar': 1, 'nothing.': 3, 'it.': 24, 'liest.': 1, 'awhile': 3, 'brains.': 1, 'potently': 1, \"aeneas'\": 1, 'him!': 5, 'humour,': 1, 'grave-maker?': 1, 'immediately.': 1, 'twelve,': 1, 'alas,': 10, 'corruption': 1, \"phoebus'\": 1, 'swift': 2, 'dead,': 6, 'skill': 2, 'danish': 4, 'impression;': 1, 'faculties!': 1, \"honour's\": 1, 'strike,': 1, 'quoth': 1, 'will': 149, 'time;': 1, 'whipped': 1, 'still.--': 1, 'foh!--about,': 1, 'pocky': 1, 'more:': 4, 'praying;': 1, 'now,': 32, 'quillets,': 1, 'scholars,': 1, 'look,': 5, 'happy': 3, 'patrick,': 1, 'weapon?': 1, 'sweet;': 1, 'convey': 1, 'pause:': 2, 'sin,': 1, 'prenominate': 1, 'wrong,': 2, 'wide': 2, 'marry!': 1, 'read': 2, 'on.--': 1, 'danger,': 1, \"queen'\": 1, 'damned': 6, \"o'ertop\": 1, 'dare,': 1, 'paid': 1, 'scorn': 1, 'simple': 1, 'door.': 1, 'offended.': 3, 'imponed,': 2, 'faithful.': 1, 'saying': 1, 'be.--horatio,': 1, 'gambol': 1, 'cries': 4, 'wedding.': 1, \"grave's\": 1, 'qualifies': 1, 'edified': 1, 'note': 5, \"grows'--the\": 1, 'word.': 1, 'receives': 1, 'declines': 1, 'play.]': 4, 'o,': 57, 'insert': 1, 'unbated,': 1, 'play,': 4, 'stars': 2, 'blood.--list,': 1, 'gaming;': 1, 'unshaken': 1, 'mine,': 1, 'free': 9, 'time': 30, 'expectancy': 1, 'gifts': 2, 'residence,': 1, 'unprevailing': 1, 'gardeners,': 1, 'weasel.': 2, \"so.'\": 1, 'excuse.--ho,': 1, 'beteem': 1, 'egg-shell.': 1, 'brow,': 1, 'drab,': 1, 'clown.': 45, \"assur'd\": 1, 'mischief.': 1, 'desire;': 1, 'maggots:': 1, 'wisdom,': 1, 'hill:': 2, 'falling-off': 1, 'pith': 3, 'strange;': 1, 'arraign': 1, 'down!': 1, \"lady's\": 1, 'god-kissing': 1, 'to-night!': 1, 'worm': 2, 'yorick!--i': 1, 'forgone': 1, 'slips': 1, 'met': 1, 'fortified': 1, 'mass': 1, 'anon;': 1, 'wed;': 1, \"god's\": 2, 'draw': 9, 'must,': 1, 'dry,--': 1, 'cheerfully': 2, 'lovingly;': 1, 'sorry,--': 1, 'pinch': 1, 'whether': 7, 'would,': 2, 'dagger.': 1, 'wrist,': 1, 'off;': 1, 'lies': 6, 'attendants].': 1, 'young': 16, 'ungracious': 1, 'see,': 4, 'burn,': 1, 'did.': 1, 'on,': 4, 'foe': 1, 'so?': 7, \"season'd\": 1, 'ship;': 1, 'perturbed': 1, 'waving': 1, 'music.': 2, 're-deliver.': 1, \"she'll\": 2, 'worth!': 1, 'enmity': 1, 'spills': 1, \"time,--i'd\": 1, 'love?': 2, 'guilt': 2, 'amen!': 1, 'warrant': 3, 'hath,': 2, 'better,--their': 1, 'hand!': 1, 'did;': 4, 'strangely?': 1, 'honour': 5, 'wore': 1, 'gain-giving': 1, 'afeard': 1, \"laertes'\": 1, 'fie!': 2, 'nature,': 8, 'crust': 1, 'sins': 1, 'eat': 4, 'plots': 2, 'comply': 2, 'done!': 1, 'relish': 2, 'violent': 4, \"receiv'd\": 2, 'thanks.': 1, 'rivals': 1, 'could,': 2, 'comfort': 1, 'near,': 1, 'jest;': 1, \"scratch'd\": 1, 'roughly.': 1, 'proof.': 2, 'rage;': 1, 'provincial': 1, 'spirits,': 1, 'since,': 2, 'sweet:': 1, 'jig,': 1, 'trophy,': 1, \"rais'd\": 1, 'captains': 1, 'letters,': 1, 'likes': 3, 'frame,': 3, 'father:': 1, 'cunning.': 1, 'keen.': 1, 'amaze,': 1, 'see?': 1, 'brothers': 1, 'thought,': 2, 'gain': 2, 'bent,': 1, 'think,': 4, 'now': 48, 'question': 9, 'understand': 7, 'paint': 1, 'safe': 2, \"thrall'd\": 1, 'news?': 2, 'vantage': 1, 'it,--might': 1, 'comest': 1, 'forgetting': 1, 'desire.': 1, 'forth': 5, 'worm.': 1, 'forgot,': 1, 'purpose': 6, 'croaking': 1, 'prince;': 1, 'keep,': 1, 'played': 1, 'anticipation': 1, \"&c.'\": 1, \"hamlet.'\": 3, 'toy': 2, 'gertrude?': 1, 'greet': 1, 'pit!': 1, 'jealousy!': 1, 'passages': 1, 'joint-labourer': 1, 'paragon': 1, 'service.': 3, 'admirable!': 1, '[pointing': 1, 'harrows': 1, 'advise': 1, 'heartily': 1, 'suit': 2, 'think,--or': 1, 'angels': 2, 'angel!': 1, 'woman,': 1, 'instantly': 1, 'combated;': 1, 'hypocrite;': 1, 'raw': 1, 'above,': 1, 'hover': 1, 'anything': 3, 'kings': 1, 'afar': 1, 'ones': 2, 'five': 2, 'may;': 1, 'brains,': 1, 'come.--another': 1, 'short,': 1, 'sings.]': 1, 'turn': 5, 'arras': 3, 'morn': 1, 'noble': 17, 'corse': 2, 'late?': 1, 'cannon,': 1, 'food': 1, 'along': 2, 'whore,': 1, 'besmirch': 1, 'compound': 1, 'wildly': 2, 'gone': 3, 'savoury,': 1, 'clown.]': 1, 'applaud': 1, 'may.': 2, 'sinners?': 1, 'house': 2, '[trumpets': 2, 'indeed,': 18, 'hadst': 3, 'incapable': 1, 'grieve': 1, \"call't\": 1, 'blasts': 1, 'buyer': 1, 'often': 3, 'ha?': 2, 'wag.': 1, 'man,': 9, \"murder'd,\": 1, 'fellow': 6, 'me?': 8, 'weighing': 1, 'up-spring': 1, 'frowningly?': 1, 'english': 2, 'imagination': 3, 'tragedy,': 2, 'parle,': 1, 'majestical,': 1, 'mind': 7, 'antic': 1, 'osric.': 1, 'too!--': 1, 'doing': 1, 'fortinbras,--': 1, 'dexterity': 1, 'yea,': 4, 'panders': 1, 'pitiful': 1, 'death-bed,': 1, \"sworn't.\": 1, 'gibber': 1, 'palm': 2, 'dust': 3, 'believe,': 1, 'king.': 113, 'mine': 25, 'due': 1, 'north-north-west:': 1, 'lifted': 1, 'exterior': 1, 'by.': 1, 'phrase,': 3, 'ill': 5, 'fate,': 1, 'aught.': 1, 'attendant.]': 1, 'understanding,': 1, \"speak';\": 1, 'knave.': 2, 'rhymed.': 1, \"o'ersways\": 1, 'trumpet;': 1, 'pardon': 4, 'bellow': 1, 'diet,': 1, 'another:': 2, 'angels!': 1, 'restore': 1, 'flatter;': 1, 'pearl': 1, 'laertes]': 1, 'complete': 1, \"reliev'd\": 1, 'rosencrantz': 15, 'buffets': 1, 'weal': 1, 'guildenstern;--and': 1, 'rey.': 13, 'mainly': 1, '[digs': 1, 'followed': 1, \"nephew's\": 2, 'here!': 2, 'gentleman?': 2, 'another.': 1, 'players;': 1, 'mirror': 1, 'ignorant,--': 1, 'weep?': 1, 'garden': 1, 'embracing': 1, 'comes': 19, 'nation.': 1, 'pledge.': 1, 'fitness': 1, 'thee?': 2, 'made,--': 1, 'accounted': 1, 'umbrage,': 1, \"beggars'\": 1, 'king,': 21, 'closely': 1, 'pace': 1, 'music:': 1, 'constant': 1, 'unpeg': 1, 'utter': 1, 'grinning?': 1, 'play:': 1, 'stand,--': 1, 'siege.': 1, 'fortune!': 1, 'fortune;': 1, 'rise': 1, 'consent': 2, 'marriage': 2, 'small': 1, 'osric.]': 2, 'table!': 1, 'pleased': 1, 'villain?': 1, 'tame': 1, 'star,--': 1, \"garrison'd.\": 1, 'mope.': 1, 'fairly': 1, 'philosophy': 1, 'then:': 1, 'pass,': 1, 'hamlet?': 4, 'investments': 1, 'practice,': 1, \"revisit'st\": 1, 'lived,': 1, 'standing': 1, 'lazar-like,': 1, 'settled': 1, 'ossa': 1, 'indifferent': 3, 'treason': 3, 'stonish': 1, 'rash': 1, 'greenly': 1, 'trains,': 1, 'speak,': 6, 'pressures': 1, 'fire,': 3, 'carve': 1, 'weapons:--but': 1, 'beard': 5, 'slain!': 1, 'work.': 1, 'mess.': 2, 'airy': 1, 'bleed.': 1, 'smiles': 1, 'resort,': 1, 'question.': 2, 'abstracts': 1, 'blast': 2, 'competent': 1, 'use': 15, 'faculties': 1, 'censure': 3, 'sons,': 1, 'hecuba,': 1, 'hour,': 2, 'bowl': 1, 'piece,': 1, 'same,': 1, 'hearts': 1, 'enactures': 1, 'arrests': 1, 'gambols?': 1, 'orisons': 1, 'long?': 2, 'where?': 2, 'whirlwind': 1, \"gall'd\": 1, 'cracks': 1, 'profoundest': 1, 'of': 667, 'assail': 1, 'knife': 1, 'comedy,': 2, 'again.': 4, 'withal,': 1, 'dreadfully': 1, 'polonius?': 3, 'herald': 1, 'own': 35, 'king,--': 1, \"might';--\": 1, 'narrow': 1, 'know;': 3, 'meditation': 1, 'die,--as': 1, 'shrouding': 1, 'arms!': 1, 'stages,--so': 1, \"it's\": 2, 'knowledge': 1, 'fight': 2, 'done?': 2, 'knight': 1, 'modesty;': 1, 'beasts:': 1, 'author': 2, 'passes': 1, 'win.': 1, 'ears': 5, 'heart;': 4, 'world': 17, 'lo,': 2, 'bird': 1, 'blossoms': 1, 'plum-tree': 1, 'galled': 1, 'black': 5, \"express'd\": 1, 'mercy,': 1, 'recover': 3, 'spread': 2, 'unnerved': 1, 'thick': 2, 'contend': 1, 'perilous': 1, \"proclaim'd\": 1, 'others,': 1, 'bended': 1, 'spring': 2, 'bedtime,': 1, 'way:': 1, \"pleas'd\": 1, \"utter'd:\": 1, 'courses': 1, 'norway?': 1, 'inheritor': 1, 'thicker': 1, 'actor.': 1, 'rests?': 1, 'preparation': 1, \"a-down-a.'\": 1, 'wager,': 1, 'meant?': 1, 'enemy': 1, 'kingdom,': 1, \"soil'd\": 1, 'wormwood!': 1, '[grappling': 1, \"frown'd\": 1, 'direct': 4, 'while,': 1, 'honest.': 1, 'beards;': 1, 'remember:': 1, 'sorry': 2, 'drink!--o': 1, 'knees;': 1, \"in't;--\": 1, 'addition,': 1, 'mark.': 4, 'impotence': 1, 'mountebank,': 1, 'lips': 1, 'sing?': 1, 'squeak': 1, 'especially,': 1, 'sanctified': 1, 'distraction': 1, 'loam': 1, \"hallow'd\": 1, 'milky': 1, 'sleep,--': 1, 'prove': 2, 'rome,': 1, 'crimes': 3, 'come;--': 1, 'poland,': 2, \"canoniz'd\": 1, 'discourse,': 1, 'extolment,': 1, 'stoups': 1, 'behind.--': 1, \"claw'd\": 1, 'strict': 2, 'ear': 10, 'point:': 1, \"see't.\": 1, 'honey': 1, 'dirt.': 1, 'ban': 1, 'cock': 3, 'go;': 2, 'effect': 4, 'spacious': 1, 'children,': 1, 'colour:': 1, 'passage,': 1, 'peace,': 2, 'madness,': 5, \"wish'd.\": 1, 'lungs': 1, 'out,': 7, 'beck': 1, 'to.': 3, 'lend': 4, 'verity': 1, 'of?': 1, 'offence.': 1, 'knavery!': 1, 'folded': 1, 'instant': 4, 'oppression': 1, 'bed': 2, 'looked': 1, 'sore': 3, 'antique': 2, 'couched': 1, 'fordo': 1, 'nightly': 1, 'denote': 1, 'puts': 4, 'confine:': 1, 'haunt': 1, 'law.': 1, 'progress': 1, 'lord.': 60, 'close;': 1, \"sale,'--\": 1, 'assistant,': 1, 'music': 2, 'musty.': 1, 'diseased:': 1, 'gentlemen!': 1, 'thews': 1, 'mortal': 5, 'christian,': 1, 'farewell.': 8, 'to-night?': 2, 'awe': 2, 'sir,--it': 1, 'known.': 1, 'calumny.': 1, 'better,': 1, 'of!--hold': 1, 'recoveries,': 1, \"in't\": 1, 'others': 2, 'me:': 10, 'anon,': 1, 'no': 107, 'change': 3, 'promise-crammed:': 1, 'years': 1, 'rouse,': 1, 'primal': 1, 'working': 1, 'melt,': 1, 'sin': 1, 'turneth': 1, 'lie': 8, \"consider'd\": 1, 'children?': 1, 'behold!': 1, 'camel': 1, 'lock': 2, 'allowance,': 1, 'priam': 2, 'ophelia?': 2, 'napkin,': 1, 'looks;': 2, \"in't,\": 2, 'received': 1, 'on:': 2, 'policy': 1, 'friend.': 1, 'perdy.': 1, 'riotous': 1, 'life-rendering': 1, 'crew.': 1, 'treachery!': 1, 'sun:': 1, 'gifts;': 1, 'boy!': 2, 'sets': 2, 'bent': 1, 'holds': 4, 'change;': 1, 'thy': 86, 'prolongs': 1, 'overdone': 1, 'all': 95, 'beaten': 1, 'long.': 1, 'define': 1, 'quantity;': 1, 'uncurrent': 1, 'hercules': 2, 'lids': 1, 'foils;': 2, 'of.': 1, \"let's\": 10, 'blanks': 1, 'passion': 6, 'calumnious': 1, 'wounded': 1, 'plague,': 1, 'you?': 13, \"women's\": 1, 'twenty': 2, 'sword,': 7, 'shalt': 5, 'likely.': 1, \"wot,'\": 1, 'signet': 1, 'cup.': 1, 'friend!': 1, 'indeed.': 6, \"lord?'\": 1, 'tears': 6, 'liest': 2, 'branches;': 1, 'reynaldo,': 2, 'mirth': 1, 'enough;': 1, \"trick'd\": 1, 'coronet': 1, 'rest;': 1, 'ears;': 1, 'nothing!': 1, 'harsh': 1, 'ambassador': 1, 'does': 25, 'sat': 2, 'short': 3, 'just': 2, 'osr.': 25, \"confin'd\": 1, 'profession.': 1, 'neither': 5, 'you.': 22, 'ceremony:': 1, 'cock,': 2, 'much,': 3, 'laertes?': 5, 'tokens.': 1, 'probation.': 1, 'brain,': 2, 'baser': 2, 'scholar;': 1, 'daggers': 2, \"thou'lt\": 2, 'make,--': 1, 'overdone,': 1, 'charge': 4, 'up;': 2, 'instructs': 1, \"o'erhasty\": 1, \"do't;--and\": 1, 'see:--': 2, \"dispatch'd:\": 1, 'cannons': 1, 'commerce': 1, 'slight': 1, 'like': 75, 'influence': 1, \"pigeon-liver'd,\": 1, 'them.]': 1, \"mars's\": 1, 'to-night;': 2, \"doom'd\": 1, 'ecstasy:': 1, 'very': 64, 'thing,--': 1, 'himself,': 2, 'ours,': 2, 'least,': 2, 'already;': 1, \"[reads]'high\": 1, 'proclaims': 2, 'guil.,': 1, 'tricks': 1, 'gone:': 1, 'straight.': 2, 'poisoning?--': 1, 'truly,': 1, 'law?': 1, 'hurt.': 1, 'drains': 1, 'blackest': 1, '[reads.]': 4, 'love.--how': 1, '[takes': 1, \"law's\": 1, 'room.--': 1, 'survivor': 1, 'not': 270, 'bisson': 1, 'opinions;': 1, 'hems,': 1, 'itself': 21, 'violet': 1, 'brief': 2, 'still,': 4, 'confines,': 1, 'fond': 1, 'me.--well,': 1, 'noted': 1, 'what,': 15, \"'not\": 1, 'breaks': 1, 'adulterate': 1, 'steal': 1, 'scandal.': 1, 'armed;': 1, 'first,': 2, 'pranks': 1, 'worth,': 2, 'crocodile?': 1, 'gulf': 1, \"priam's\": 1, 'harrow': 1, 'drop': 1, 'carrying,': 1, 'passion.': 1, 'priam.--': 1, 'throughly': 1, 'conveyance': 1, 'peal': 1, 'wild': 1, 'merry,': 1, 'coward,--i': 1, 'hamlet,--with': 1, 'bawd': 1, 'what?': 2, 'dalliance': 1, 'prologue': 3, 'orderly': 1, 'gentleman.': 3, 'strokes:': 1, \"know't,\": 1, 'altitude': 1, 'hands,': 4, 'yaw': 1, 'gules;': 1, 'step': 2, 'addition;': 1, 'lewdness': 1, 'mute': 1, 'shadow.': 2, 'wants': 2, 'quintessence': 1, '[march': 2, 'asleep,': 1, 'conquest': 1, 'directions': 1, 'vice': 3, 'news,': 1, 'nature:': 1, 'physic': 1, 'meeting:': 1, 'appear.': 1, 'strutted': 1, 'self-slaughter!': 1, 'gaged': 1, \"chameleon's\": 1, 'multitude,': 1, 'salt,': 1, 'said,': 3, 'now.': 3, 'mazard': 1, 'carriages?': 1, 'thunder.': 1, 'pour': 1, 'law;': 1, 'wings,': 1, 'eyes.': 2, 'pelican,': 1, 'bevy': 1, 'possible': 2, 'carrion,--have': 1, 'me:--this': 1, 'gods.': 1, 'suffers': 3, 'help!': 1, 'mart': 1, 'ignorance.': 1, 'couplets': 1, 'ends,': 1, 'unnatural.': 1, 'mighty': 1, 'please.': 1, 'method': 1, 'then.': 1, \"odd's\": 1, 'proceeding': 1, 'impious': 1, 'breathe;': 1, \"reserv'd\": 1, 'sight;--': 1, \"o'er-raught\": 1, 'divinity': 2, \"was--'\": 1, 'worms': 1, 'threaten': 1, 'mercury': 1, \"steep'd,\": 1, \"pin's\": 1, 'others.': 1, 'younger': 1, 'common,--all': 1, 'bonny': 1, 'juice': 1, 'very--pajock.': 1, 'danish:': 1, 'recovery': 1, 'charge,': 2, 'union': 2, 'stoops': 1, 'prophetic': 1, 'red?': 1, 'father;': 7, 'red': 1, 'patience': 3, 'fee.': 1, 'bewept': 1, 'nasty': 1, 'seem;': 1, 'hearsed': 1, \"'alone.'\": 1, 'slain,': 1, 'land,': 3, 'masters;': 1, 'young;': 1, 'kills': 2, 'evidence.': 1, 'distract:': 1, 'back': 6, 'falling': 1, 'law': 3, 'find': 17, 'france,': 1, 'born,--he': 1, 'ghost,': 4, 'grave?': 2, 'prevent': 1, 'rawer': 1, 'base': 3, 'be,--that': 1, 'act': 12, 'rewards,': 1, 'pleasures': 1, 'strengthen': 1, 'peasant': 2, 'safety,': 1, 'livery': 2, 'recorders:--let': 1, 'god': 15, 'air.': 2, 'main': 3, \"an't\": 1, 'jowls': 1, 'film': 1, 'ghost.': 14, 'play.--': 1, 'yourself.': 3, 'fadoms': 1, 'hum!': 1, 'lists,': 1, 'lobby.': 2, 'tongue:': 2, 'wood': 1, 'withdraw': 1, 'story,': 1, 'courtier.': 6, 'service': 4, 'beating;': 1, 'falsely': 1, 'not:--withdraw;': 1, 'pleasing': 1, 'reason!': 1, 'must:': 1, 'highest': 1, 'skyish': 1, 'fortune?': 1, 'diet:': 1, 'howsoever': 1, 'gather': 1, 'perpend.': 1, 'wisely,': 1, 'murder,': 1, 'digested': 1, 'importunity.': 1, 'strange': 4, 'ros,': 1, \"unmix'd\": 1, 'reckless': 1, 'cast': 6, 'thoughts': 13, '[falls': 1, 'schoolfellows,--': 1, 'whispers': 1, 'longer': 3, 'express': 3, 'tenable': 1, 'then?': 4, 'strange!': 1, 'followed?': 1, 'jot;': 1, 'fishmonger:': 1, 'earth;--': 1, 'pause,': 1, 'legs.': 1, 'forces.]': 1, 'times;': 1, 'rate,': 1, 'bones': 1, 'nephew': 3, 'beetles': 1, 'meet': 4, \"call'd;--unhand\": 1, 'sovereign': 3, 'baby': 1, '[points': 1, 'stole': 2, 'hears': 3, 'open': 2, 'signify': 2, 'pyrrhus': 4, 'birth,': 1, 'feats,': 1, 'tender': 3, 'diction': 1, 'lick': 1, \"prov'd,--that\": 1, 'brainish': 1, 'jealousy': 1, 'defeat': 2, 'rather,': 1, 'famous': 1, 'gentry;': 1, 'chapel.': 2, 'peep': 1, 'thee.--': 1, 'wild,': 1, 'simples': 1, 'see': 31, 'deceived.': 2, 'imposthume': 1, 'love.]': 1, 'toe?': 1, 'accuse': 1, 'captain.': 1, 'aspect,': 1, 'march.': 1, \"o'er-crows\": 1, 'se': 1, 'sits:': 1, 'burial': 1, 'would': 74, 'succession?': 1, 'dies.--i': 1, 'mine.': 2, 'tetter': 1, 'beget': 1, 'pause': 1, 'body': 11, 'sit': 8, 'try': 5, 'presently': 2, 'observe': 3, 'plunge': 1, 'dotes': 1, 'grown': 4, 'forth,': 1, 'loudly': 1, 'begin,': 2, 'abominably.': 1, 'augury:': 1, 'shape,': 1, 'when,': 1, 'flaxen': 1, 'daisies,': 1, 'made.': 1, 'myself,--lawful': 1, 'such-a-one,': 1, 'exclaim': 1, 'lads,': 1, 'there.--be': 1, 'follow?': 1, 'purging': 2, 'doubts': 1, 'swaddling': 1, 'drink': 6, 'sense.': 2, 'satisfied': 1, '[re-enter': 6, 'miching': 1, 'clay': 2, 'tyrannous': 1, 'ply': 1, 'gibes': 1, 'arms:': 1, 'into,': 1, \"bestow'd,\": 1, 'emphasis?': 1, 'mutes': 1, 'dug': 1, 'region;': 1, 'me;': 8, \"master's\": 1, 'obey,': 3, 'dirge': 1, 'again,': 7, 'follow:--your': 1, 'grew': 1, 'son.--': 1, 'wards,': 1, 'many.': 1, 'heaven-kissing': 1, \"griev'd,--\": 1, 'daughter,--have': 1, 'made': 26, 'poem': 1, 'aboard,': 2, 'daughter,': 2, 'attended.': 1, 'paddling': 1, 'but': 228, 'feed': 4, \"pursu'd\": 1, 'sheep-skins?': 1, 'say.': 2, 'wiseness': 1, 'leads': 1, 'frighted': 1, 'earnest': 1, 'pah!': 1, 'abstinence:': 1, 'table:': 1, 'appointment': 1, 'against,': 1, 'neither.': 1, \"poison'd\": 2, 'martial': 1, 'mother!--but': 1, 'jade': 1, 'reynaldo?': 1, 'tunes;': 1, 'state,': 3, 'line': 1, 'cloud': 1, 'faith;': 2, 'anything--but': 1, 'country': 1, 'botch': 1, 'craft': 1, 'wholesome': 6, 'bearers': 2, 'fall.': 1, \"purpos'd,\": 1, 'woman!--': 1, 'gave': 8, 'outward,': 1, \"usurp'st\": 1, 'sexton': 1, 'doubtful;': 1, 'cup': 1, 'while;': 1, 'horatio.]': 8, 'profit,': 1, 'offer,': 1, 'her?': 3, 'lain': 1, 'conqueror:': 1, 'discord': 1, 'truth:': 1, 'passeth': 1, 'wings': 1, 'presence': 2, 'cold': 2, 'knavish': 2, 'action.--soft': 1, 'stream;': 1, 'sweaty': 1, \"rul'd;\": 2, 'horrors,--he': 1, 'touching': 3, 'good-night:': 1, 'sees': 1, 'neighbour': 1, 'desk': 1, 'courteous': 1, 'years.': 2, 'spirits': 3, 'times': 7, 'julius': 2, 'shoe?': 1, 'nothing,': 3, 'rue': 2, \"o'er,\": 1, 'faithful': 2, 'orb': 1, 'gold,': 1, 'sea,': 2, 'wringing': 1, 'exercises;': 1, 'beauties': 1, \"'swounds,\": 2, '[danish': 1, 'affection': 1, 'form': 11, 'walks': 2, 'model': 1, 'commands': 1, 'judgment:': 1, 'repast': 1, '[behind.]': 2, 'act.': 2, \"match'd,\": 1, 'more.': 5, 'like:--it': 1, 'much': 44, 'comes.': 2, 'heaven?': 2, \"grop'd\": 1, 'nill': 1, 'medicine': 1, 'take': 36, 'waxes,': 1, 'slings': 1, 'dry': 2, 'disposition.': 1, '[stabs': 1, 'vows': 1, 'hedge': 1, 'props': 1, 'sir.': 12, 'matter:': 3, 'spade,': 2, 'course': 4, 'nutshell,': 1, 'broke;': 1, 'must': 58, 'toys': 1, \"upon't!\": 1, 'videlicet,': 1, 'garbage.': 1, 'suiting': 1, \"o'erweigh\": 1, 'disclaiming': 1, 'positively': 1, 'machine': 1, 'carefully': 1, 'assay': 2, 'holy': 2, 'ghost.]': 6, 'persons': 2, \"there's\": 16, 'play': 17, 'admiration': 1, \"play's\": 1, 'vengeance': 1, 'knocked': 1, 'obeys;': 1, 'of,': 1, \"o'erreaches;\": 1, 'blood:': 1, 'tried,': 1, 'inquiry': 1, 'quietly': 1, 'pleasures,': 1, 'you:': 12, 'certain.': 1, 'westward': 1, 'stops.': 1, 'gib,': 1, 'singeing': 1, 'abate': 1, 'treasure': 4, 'grow': 7, 'sword:': 1, 'respects': 1, 'frock': 1, 'above;': 1, 'precisely': 1, 'burial,--': 1, 'ugly': 1, 'politic': 1, 'undertakings,': 1, 'distraction.': 1, 'effects:': 1, \"milldew'd\": 1, 'been,': 1, 'understanding': 2, \"brother's\": 7, 'lends': 1, 'interim': 1, 'preceding': 1, 'god!': 5, 'supply': 1, 'end.': 2, 'lap?': 2, 'spurns': 2, 'wretched,': 1, 'devil,': 1, 'fran.': 8, 'players,--as': 1, 'on;': 3, 'defective': 1, 'fretted': 1, \"suck'd\": 2, 'vision': 1, 'conjunctive': 1, 'bites': 1, \"hamlet's.]\": 1, \"look'd\": 3, 'general': 6, 'hand,--sends': 1, \"'man\": 1, 'fair': 15, 'order': 2, 'daisy:--i': 1, 'asking?': 1, 'counterfeit': 1, 'ambassadors,': 1, 'chide,': 1, 'trappings': 1, 'spokes': 2, 'horrible!': 3, \"revenge.'\": 1, 'shards,': 1, 'spoken,': 1, 'vulgar.': 1, \"forc'd\": 2, 'skull,': 2, 'proud': 2, 'after,': 2, 'excitements': 1, 'planets': 1, 'whirling': 1, 'perfections:--but': 1, 'instance': 1, 'sir!': 2, 'forty,': 1, 'trifling': 1, 'forgotten': 1, 'warranties:': 1, 'idle:': 1, 'gracious;': 1, 'give,': 2, 'diadem': 2, 'music,': 1, 'element:': 1, 'light!': 1, 'act:': 1, 'shortly': 4, 'kind': 10, 'himself.': 3, 'his:': 1, \"'should'\": 1, \"shipp'd\": 1, 'begun': 2, 'go.': 6, 'churlish': 1, 'fiery': 3, 'hand.': 1, 'shame,': 1, \"screen'd\": 1, 'life.': 4, 'shown,': 1, 'them.--but,': 1, 'mother.--come,': 1, 'frame': 1, 'demonstrated': 1, 'tend.': 1, \"hecate's\": 1, 'majesties': 2, 'watch;': 2, 'pray.': 2, 'stuff;': 1, \"temper'd\": 1, 'impart': 4, 'revenge': 5, 'skull': 4, 'desperation,': 1, 'provided': 1, 'besides,': 1, 'seven': 1, 'habit,': 1, 'table': 2, 'whereon': 5, 'face.': 1, 'him': 122, 'believe': 18, 'him,': 25, 'known,': 1, 'arrows': 1, 'fast;': 1, 'end,--': 2, 'natural': 4, 'close': 1, 'commencement': 1, \"'we\": 1, 'cure': 1, 'secrets': 1, 'innocent': 1, 'read,': 3, \"o'ermaster't\": 1, 'harbingers': 1, 'fines,': 2, 'conceive:--friend,': 1, 'mirth,': 1, 'my': 512, 'denmark.': 5, 'please;': 2, 'public': 1, 'then;': 5, 'persuade': 1, 'officer.': 2, 'marvellous': 2, 'smelling': 1, 'creatures,': 2, 'importing': 3, 'jocund': 1, 'guilty': 3, 'quiet.': 1, 'bloat': 1, 'anything,': 1, 'thyself': 1, 'doors': 3, 'hot': 5, 'sullies': 1, '[francisco': 1, 'load': 1, 'two': 19, 'mutinies': 1, '&c.]': 4, 'accidental': 1, 'sister;': 1, 'imagination.': 1, 'avoid,': 1, 'hush': 1, 'practice:': 1, 'green,': 1, 'general;': 1, 'helps': 1, 'bitter;': 1, 'falls.]': 2, 'liquid': 1, 'one,': 3, 'purples,': 1, 'annexment,': 1, 'wits': 2, 'shrewdly;': 1, 'force': 2, 'sinews,': 1, 'ready,': 1, 'his;': 1, 'polonius.': 3, 'render': 1, 'horrible': 1, 'land.': 1, 'look?': 1, 'much:': 1, \"sin's\": 1, 'courtesy': 1, 'takes': 7, 'desire': 3, \"drown'd,\": 2, 'joy,--': 2, 'corse,': 1, 'all,--to': 1, 'revenge,': 2, 'door.]': 1, 'delay': 1, 'speech;': 2, 'it,--i': 1, 'compelled': 1, 'chalice': 1, 'live,': 1, 'among': 1, 'fell': 8, 'aye;': 1, \"digg'd:\": 1, 'merriment,': 1, \"e'er\": 1, 'doubt': 9, 'extent': 1, 'adieu!--': 1, 'winner': 1, 'says:': 1, 'speed': 2, 'lead': 4, 'alexander': 5, 'teach': 5, 'ground:': 1, 'murdering': 1, 'depend': 1, 'preparations,': 1, 'grave': 5, 'cowards': 1, 'means,': 5, 'hundred': 1, 'streets,': 1, 'counsel,': 1, 'broad': 2, \"ghost's\": 1, \"have't.--\": 1, 'enterprise,': 1, \"so,'\": 2, \"well.'\": 1, 'hast,': 2, 'reserve': 1, 'patches!--': 1, 'removed': 1, 'admit': 2, 'pronounced': 1, 'deed;': 1, 'declining': 1, 'ice,': 1, 'neck:': 1, 'shot,--may': 1, 'perchance,': 2, 'voice,': 4, \"in't.--\": 1, \"restrain'd,\": 1, 'sum.--what': 1, 'confederate': 1, 'steel,': 2, 'eastward': 1, \"'twere\": 9, 'natures.': 1, 'late.': 1, 'flourish.': 1, 'will:': 3, \"tann'd\": 1, 'soldiers': 2, \"perform'd,\": 1, 'unbated': 1, 'fall,': 1, 'army,': 1, 'circumstance.': 1, \"promis'd\": 2, 'tax': 1, 'strength,': 1, 'beast': 2, 'ceremony': 2, 'france': 2, 'foul,': 2, 'hugger-mugger': 1, 'beast,': 2, 'sir:': 5, 'delays': 1, 'sith': 2, 'welcome.': 3, 'fardels': 1, 'discomfort': 1, 'might,': 2, 'move': 5, 'view': 1, 'companies': 1, 'lost,': 2, 'rabble': 1, 'entertainment': 4, 'wise': 1, 'himself;': 5, 'grief': 8, 'ham.': 358, 'stoup': 1, 'discretion.': 2, 'crowns': 1, \"'for,\": 1, \"england's\": 1, 'truly;': 1, 'moon,': 2, 'draws': 2, 'stalks': 1, 'prey': 1, 'event;': 1, 'instrument': 2, 'boarded': 1, 'get': 9, 'right': 4, 'hearers': 1, 'that?--[aside.]': 1, 'seen,': 3, 'christians,': 1, 'necessity,': 1, 'weeping': 1, \"fall'n\": 2, 'whilst': 5, 'aunt-mother': 1, 'exception': 1, 'piece': 5, 'this.--the': 1, 'forgery': 1, 'wealth': 1, 'death!': 1, 'play,--i': 1, 'troubles,': 1, 'thousand': 10, 'that:--you': 1, 'name': 6, 'softly': 1, 'judgment.': 1, \"'twill\": 3, 'collection;': 1, 'loneliness.--we': 1, 'judge;': 1, 'partisan?': 1, 'burn': 1, 'view;': 1, 'beauteous': 1, 'tithe': 1, 'mew,': 1, 'equal': 2, 'winds': 3, \"return'd.\": 1, 'lay': 9, 'feast.': 1, 'form,': 2, 'city.': 1, 'affairs': 1, 'winking,': 1, 'life,--': 1, 'table-book,': 1, 'presently:--o,': 1, 'god-a-mercy.': 1, 'quarry': 1, 'mere': 3, 'falls': 3, 'too,': 5, 'serves': 2, 'moan:': 1, 'foils,': 1, 'herb': 1, 'prayers,': 2, 'all.': 6, 'house.': 3, \"see'st\": 1, 'judgment,': 2, 'abuse,': 1, \"hamlet's\": 9, 'honest,': 2, 'mightiest': 1, 'sanity': 1, 'brow;': 1, 'ah': 1, 'kick': 1, 'kisses,': 1, 'denmark?': 2, 'asunder.': 1, 'greetings': 1, 'behind': 5, \"fulfill'd\": 1, 'delights.': 1, 'sleep:': 2, 'dust;': 1, 'girdle,': 1, 'gratis;': 1, 'basket': 2, 'mind;': 1, 'air,': 5, 'fool': 4, \"i've\": 1, \"do;'\": 1, 'kin,': 1, 'griefs': 1, 'religious': 1, 'coming:': 1, 'children': 1, 'jaw;': 1, 'down-gyved': 1, 'ambassadors;': 1, 'eloquent': 1, 'us:': 1, 'lordship.': 1, 'aught:': 1, 'drunk': 1, \"ophelia,'--\": 1, 'heaven,': 8, 'die,': 2, 'transform': 1, 'afternoon,': 1, 'assure': 1, 'monstrous': 1, 'imitated': 1, \"'twixt\": 2, 'obedience,': 2, 'empire': 2, 'fought': 1, 'longer,': 1, \"another's\": 1, 'translate': 1, 'look': 30, 'seen.': 1, 'long;': 1, 'it:': 12, 'remainder': 1, 'that;': 2, 'befitted': 1, 'outlive': 1, 'vantage.': 1, 'goblins': 1, 'aid:': 1, 'venom': 1, '&c,': 1, \"stirr'd\": 1, 'ostentation,--': 1, 'giant-like?--': 1, 'greeks:': 1, 'converse,': 1, 'unwilling': 1, 'envy': 2, 'memory': 7, 'begins,': 1, 'closet': 2, 'norway;': 2, 'trains': 1, 'alack,': 3, 'wits,': 1, 'i': 510, 'grossly,': 1, 'me,': 33, 'hecuba': 1, 'heaves': 1, 'armour,': 1, 'foe,': 1, 'sir,': 38, 'mean,': 7, 'news.': 1, 'chase.': 1, 'fail,': 1, 'mineral': 1, 'there;': 4, 'canon': 1, 'watch,': 4, 'barefoot': 1, 'assault.': 1, 'impotent': 1, 'rate': 1, 'majestical': 1, 'mother,': 13, 'letters;': 1, 'senseless': 2, 'spirits,--': 1, 'project': 1, 'england!--': 1, 'tree;': 1, 'meet.--': 1, 'frenchman': 1, 'beg,': 2, 'issue': 2, 'foil,': 1, 'how.': 1, 'loosed': 1, 'argument?': 1, 'shrill-sounding': 1, 'warms': 1, 'head-shake,': 1, 'rich': 1, 'wipe': 2, 'drinks': 2, 'base,': 1, 'crack': 1, 'fates': 1, 'abridgment': 1, 'account': 1, 'rest': 10, 'defeats': 1, 'lost:': 1, 'tricks?': 1, 'owl': 1, 'inter': 1, 'comes;': 1, 'loan': 1, 'denmark.--madam,': 1, 'push.--': 1, 'sledded': 1, 'weakness;': 1, 'uneffectual': 1, 'special': 3, 'curiously': 1, 'and': 943, 'plot': 1, 'state,--': 1, 'leans': 1, 'packing:': 1, 'because': 1, 'clearly': 1, 'overcome': 1, 'bespeak:': 1, 'immortal': 1, 'his': 295, 'then': 36, 'obstinate': 1, 'is;--and': 1, 'crown.': 1, 'pretty': 2, 'otherwise?--': 1, 'good': 88, 'sleep': 4, 'beckons': 2, \"king!'\": 2, 'hits.': 1, 'choice': 5, 'justly': 3, 'build': 1, 'beasts,': 1, 'health.--': 1, 'calls': 4, 'delay,': 1, 'whet': 1, 'flesh;': 1, 'written': 1, 'post.': 1, 'bulk;': 1, 'kingly': 1, 'thine,': 2, 'thee;': 1, 'minister.': 1, 'hurts': 1, 'unseen.': 1, 'leisure': 2, 'pastoral,': 1, 'dominions': 1, 'greatly': 1, 'sere;': 1, 'spendthrift': 1, 'now;': 4, 'crook': 1, 'cat': 1, 'swear': 3, 'side': 1, 'mean': 2, \"'i\": 2, 'burst': 3, 'five,': 1, 'dismantled': 1, 'morn,': 2, 'seas,': 1, 'not;': 4, \"'thine\": 1, 'world:': 2, 'accident.': 2, 'players,': 3, 'imports': 4, 'attendants.]': 4, 'crawling': 1, 'wife;': 3, \"return'd--\": 1, 'blush?': 1, 'considered:': 1, 'vienna:': 1, 'margent': 1, 'lest': 4, 'even': 21, 'bloodily': 1, 'points': 1, 'have?': 2, 'sensibly': 1, 'he.': 2, 'undergo,--': 1, 'murder!': 2, \"outstretch'd\": 1, 'abatements': 1, 'shine:': 1, 'pebbles': 1, 'keep': 16, 'noise?': 1, 'glassy': 1, 'right!--': 1, 'guildenstern.': 1, 'insolence': 1, 'host': 1, 'obsequious': 1, 'state': 6, 'circumstance': 2, 'unseal': 1, \"labour'd\": 1, 'dread': 5, 'sovereignty': 1, \"prick'd\": 1, 'growing': 1, 'plague': 1, 'hitherto': 2, 'great,': 2, \"night's\": 1, 'not?': 5, 'caesar,': 1, 'directly': 2, 'solicitings,': 1, 'food,': 1, 'no.': 3, 'command:': 1, 'with': 264, 'uncle:': 2, 'slave': 4, 'deject': 1, \"thou.'\": 1, 'purposes;': 1, 'down:--he': 1, 'thrift,': 3, 'reynaldo.': 1, 'weeds,': 2, 'nature': 15, 'bonds': 1, 'stiffly': 1, '[dies.]': 3, 'question,': 3, 'follow,': 2, 'grief:': 1, 'excellence': 2, 'this;': 2, 'report': 5, 'further.': 1, \"oppos'd\": 1, \"in's\": 5, 'blow': 2, 'stay,': 1, 'crafts': 1, 'sight?': 1, 'true': 14, 'err;': 1, 'twain!': 1, 'good:': 2, 'honour.': 3, 'with;': 1, 'former': 2, 'wits.': 1, 'hide?': 1, \"to't,\": 1, 'faces': 1, 'dilated': 1, 'cornelius,': 3, 'carpenter?': 2, 'sheeted': 1, 'following.]': 1, \"deliver'd,\": 1, 'particular:': 1, 'face;': 1, 'laertes.': 3, 'duty?': 1, 'tragical-comical-historical-pastoral,': 1, 'again;': 2, 'reasons;': 1, 'thee.': 5, 'prologue.]': 1, 'found': 4, 'heavens,': 2, 'near': 7, 'feature': 1, 'sewing': 1, 'osric': 1, 'scale': 2, 'bid': 6, 'portal!': 1, 'thrift': 1, \"wrong'd;\": 1, 'player.': 2, 'action': 7, 'rite': 1, 'entreatments': 1, 'wing,--': 1, 'dear,': 1, 'stone,': 1, 'wary': 2, 'fed': 2, 'sole': 1, \"'gins\": 1, 'ophelia,': 12, 'tear.--': 1, 'purpose,': 3, 'pride,': 1, 'soft': 2, 'prate': 1, 'eye!--': 1, 'mercy:': 1, 'gross': 3, 'put': 24, 'antiquity': 1, 'weeds': 2, 'yielding': 1, 'ends': 1, 'reynaldo.]': 2, 'revenge.': 3, 'allow.': 1, 'thee.--something': 1, 'virtues': 2, 'ulcerous': 1, 'retain': 1, 'carriages:': 1, 'bestowed?': 1, 'volume': 1, \"that's\": 16, 'stones,': 1, 'merry?': 1, 'sooner': 2, 'above': 2, 'short:': 1, 'devil:': 1, 'says': 7, \"son's\": 1, \"world's\": 2, 'hart': 1, 'she': 43, 'ear:': 1, 'march.]': 1, 'story': 1, 'imperious': 1, 'that--': 1, 'grand': 1, 'taken': 2, 'guildenstern?': 1, 'mouth,': 4, 'came': 9, 'guiltless': 1, 'tanner': 1, 'pleasure:': 1, 'tent': 1, 'live.': 1, 'highly,--not': 1, 'myself.': 2, 'apart,': 1, 'withdrew': 1, 'pleasure.': 1, 'he,--and': 1, 'quarrelling,': 1, 'prisoner.': 1, 'ho,': 6, 'most': 82, 'plentiful': 1, 'feels': 1, 'good-night.--indeed,': 1, 'gifts,': 1, 'holla!': 1, 'bed;': 3, 'compulsatory,': 1, 'operant': 1, 'toe': 1, 'creation': 1, 'since': 15, 'you!': 1, 'buzz!': 1, 'myself,--': 2, 'paris;': 1, 'coming.': 1, 'think?': 1, 'proposer': 1, 'desires.': 1, 'ros.': 51, 'nowhere': 1, \"scann'd:\": 1, 'sultry': 1, 'assume': 4, 'meantime': 2, 'opposed': 1, 'bouts': 1, \"fang'd,--\": 1, 'him.]': 1, 'give': 58, 'voice:': 2, 'artless': 1, 'marble': 1, 'purer': 1, 'love,': 11, 'them?--to': 1, 'accent': 2, 'occulted': 1, 'behooves': 1, 'calves': 1, 'arm;': 1, 'houses': 1, 'time,--as': 1, 'buys': 1, 'unrighteous': 1, 'fordoes': 1, 'marriage-vows': 1, 'theatre': 1, \"kill'd\": 4, 'marry': 2, 'steals': 1, 'faces,': 1, 'four': 4, 'tickle': 1, 'likewise': 1, 'hence:': 1, 'way': 8, 'quality': 3, 'fault:': 1, 'farewell': 1, 'deal': 1, 'ha!--come,': 1, 'sigh,': 2, 'pious': 3, 'soft,': 1, \"mourn'd\": 1, 'observance.': 1, 'patient': 2, 'appal': 1, 'function': 1, 'exercise': 2, 'traveller': 1, 'post-haste': 1, 'out;': 1, 'distant': 1, 'done,--must': 1, 'rights': 2, 'rebellion': 1, 'come,': 28, 'seen;': 1, 'enterprise': 1, 'advantage,': 1, 'afraid': 1, 'dozen': 3, 'malefactions;': 1, 'crew': 1, 'gentlemen!--': 1, 'furnish': 1, \"o'erhanging\": 1, 'firm': 1, \"shadow's\": 1, 'everything': 2, 'gentlemen,': 7, 'monarchs': 1, \"valanc'd\": 1, 'flowers;': 1, 'hearers?': 1, 'capital': 2, 'whence': 1, 'remove:': 1, 'day?': 1, \"honour'd\": 3, \"'gentleman'--\": 1, 'guildenstern': 4, 'fire.': 1, 'throwing': 1, 'scruple': 1, 'two:': 1, 'revenge!': 1, \"punish'd\": 1, 'speak:': 1, 'looking': 1, 'horatio;': 2, 'need,': 1, 'died': 2, 'good!': 1, 'churchyard.': 1, 'mother!': 1, 'surrender': 1, 'scarce': 2, 'infallibly': 1, 'friending': 1, 'pole': 2, 'carters.': 1, 'will!--': 1, 'handsaw.': 1, 'brings': 1, 'confound': 2, 'forestall': 1, '[throws': 3, \"in't;\": 1, 'hell,': 5, 'saw': 12, 'coming': 5, 'fellow.--whose': 1, 'helpful': 1, 'challenger': 1, 'should': 55, 'hopes;': 1, 'sables.': 1, 'coldly': 2, 'dead': 18, 'follows,': 2, 'maiden': 2, \"serv'd;\": 1, 'poor': 20, 'idle': 2, 'thoughts;': 1, \"bak'd\": 2, 'good.': 3, 'actions': 2, 'keen,': 1, 'noblest': 1, 'drabbing:--you': 1, \"gentleman.'\": 1, 'or,--not': 1, 'chopine.': 1, 'point': 5, 'more,': 7, 'bourn': 1, 'acquaint': 1, 'vows:': 1, 'heard,': 5, \"liv'd!\": 1, \"reveng'd\": 1, 'faults': 2, 'dish:': 1, 'bent.--i': 1, 'walk': 8, 'worlds,': 1, 'bear,': 1, 'night,': 13, 'travel?': 1, 'event,--': 1, 'divine': 1, 'speech.': 1, 'hang,': 1, 'grating': 1, 'brains!': 1, \"stew'd\": 1, 'conceited': 1, 'deserved': 1, 'right.': 2, 'wisest': 3, \"esteem'd\": 1, 'iv.': 4, 'adieu!': 2, 'vicious': 1, 'tribute': 1, \"ha't:\": 1, 'soles': 1, 'sultry,--as': 1, 'easiness.': 1, 'trial': 1, 'yet': 35, 'baptista:': 1, 'king:': 4, 'bank': 1, 'conscience': 5, 'charge.': 1, 'till': 20, 'nature;': 3, 'mallecho;': 1, 'offence': 5, \"timber'd\": 1, \"'noyance;\": 1, 'mouths': 2, 'truly:': 1, 'rouse': 1, 'baseness': 1, 'reconcilement': 1, 'head': 17, 'wait': 2, 'matters': 1, 'straws;': 1, 'hilts,': 1, 'there,': 6, 'about': 15, 'thine;': 1, 'ground,': 2, 'too-much-changed': 1, 'greatness': 1, 'try,': 1, 'tropically.': 1, \"'this\": 2, 'shent,': 1, 'violets,': 1, 'rise,': 1, 'shame!': 3, 'carbuncles,': 1, 'fantasy?': 1, \"t'other\": 1, 'grave-making?': 1, 'evil?': 1, 'is': 320, 'office,': 1, 'slander,--': 1, 'priest.': 3, 'again?': 2, \"if't\": 3, 'loth': 1, \"on't?\": 3, \"allow'd.\": 1, 'hill': 1, 'impress': 1, 'sirs,': 1, 'judicious': 1, 'wearing': 1, 'entrance': 1, 'speaks,': 1, 'own.': 1, 'audience.': 1, 'bat,': 1, 'each': 11, 'work?': 1, 'swallowed:': 1, 'lord!': 12, 'tears;--why': 1, 'powers': 2, 'up.--remember': 1, 'dizzy': 1, 'court': 4, \"'tis,\": 1, 'pester': 1, 'thrice': 4, 'there,--my': 1, 'strongest': 1, 'neglected': 2, 'before': 17, 'generous': 2, 'therefore': 14, 'woodcock': 1, 'forgot:': 1, 'chamber': 1, 'conjuring': 1, 'praises': 1, 'raven': 1, 'ministering': 1, 'calf-skins': 1, 'fortinbras;': 2, 'year.': 1, 'massy': 1, \"character:--'naked!'--\": 1, 'seems.': 1, 'nation': 2, 'content.': 1, 'sorrows': 1, 'through': 9, 'pale': 6, 'heir': 1, 'garland': 1, 'shift': 1, 'weapon;': 1, 'away!--go': 1, \"difference.--there's\": 1, 'it;': 5, 'imminent.': 1, \"howe'er\": 1, 'muddy': 1, \"who's\": 1, 'for?': 2, 'fathers,': 2, 'hyperion': 1, 'swaggering': 1, 'enginer': 1, 'harlot': 1, 'vouchsafe': 3, 'opposition,': 1, 'dew!': 1, 'who?': 2, 'sorts': 1, 'commandment:': 1, \"sleeper's\": 1, 'compounded': 1, 'wrong:': 1, 'fellowship': 1, 'grave-makers:': 1, 'matters?': 1, \"in-urn'd,\": 1, 'dreaded': 1, 'free,': 1, 'up': 27, 'bread;': 1, 'wonted': 2, 'glares!': 1, 'itself?': 1, 'untimely': 1, 'pioner!--once': 1, 'good;': 2, 'trivial': 1, 'hits:': 1, 'sphere;': 1, 'arithmetic': 1, 'difference.': 1, 'box;': 1, \"observ'd\": 1, 'stowed.': 1, 'battery?': 1, 'tend;': 1, 'with:': 1, 'slender': 1, 'epitaph': 2, \"encumber'd\": 1, 'important': 1, 'virtue;': 1, 'laertes.]': 2, 'whoreson,': 1, 'intend': 1, 'peculiar': 1, 'society': 1, 'picture,': 1, 'livery,': 1, \"'as\": 1, 'strucken': 1, 'sure': 4, 'lawyer?': 1, 'daughter?': 1, \"fear'd\": 1, 'feather.': 1, 'weakness': 1, 'happen.': 1, 'cleave': 1, 'well,': 21, 'rock': 1, 'inky': 1, \"silver'd.\": 1, 'hinges': 1, 'year:': 2, 'matter.': 4, 'lash': 1, 'bernardo.]': 3, 'instrumental': 1, 'think.': 2, 'secrecy,': 1, 'thou,--': 1, 'bruit': 1, 'good,': 2, 'ever': 11, 'fall:': 1, 'bung-hole?': 1, 'little,': 1, 'liberty,': 1, '[aside.]': 9, 'torrent,': 1, 'clay,': 1, 'late:': 1, 'dost': 13, 'aught': 5, 'lamond.': 1, 'ignorance;': 1, \"thing's\": 1, 'steward,': 1, 'convert': 2, 'letters': 6, 'snow?': 1, 'again:': 2, 'afflicts': 1, 'touches': 1, \"valentine's\": 1, \"us'd\": 1, 'offences': 1, 'whoreson': 1, 'stock': 1, \"by'r\": 2, 'them.': 10, 'foot': 1, 'tables,--meet': 1, 'none,': 1, 'defeated': 1, \"slave's\": 1, 'following;': 1, 'tragedians': 1, 'joy': 5, 'indiscretion': 1, 'ready.': 1, 'month,--': 1, 'deed,': 1, 'especial': 1, 'pate': 4, 'living': 2, 'wanton': 2, 'hour': 5, 'affront': 1, 'frontier?': 1, 'sift': 1, 'grunt': 1, 'fool,': 1, 'justice;': 1, 'life;': 2, 'morning': 4, 'sea-gown': 1, 'flowers:': 1, 'shepherds': 1, 'thought': 8, 'edge.': 1, 'fare': 6, 'hold,': 1, 'not,--lost': 1, 'winks,': 1, 'quake': 1, 'negligence,': 1, 'steel;': 1, 'lost;': 1, 'ecstacy': 1, 'mason,': 2, 'grandsire': 1, 'cue': 1, 'old,': 1, 'wreck': 1, 'farewell:': 2, 'follows': 1, 'painted': 2, 'thorny': 1, 'acts': 1, 'unpolluted': 1, 'means.': 2, 'blood,--': 1, 'halt': 1, 'him.': 22, 'rots': 1, \"liv'st;\": 1, 'costly': 1, 'soil': 2, 'second,': 1, 'fit;': 1, 'breed': 1, 'humanity': 1, 'carouses': 1, 'hat.]': 1, 'wheel': 1, 'proceed?': 1, 'left': 2, 'doubtful': 1, 'aloof': 1, 'continent': 2, 'prison': 2, 'eale': 1, 'horridly': 2, 'uses': 3, 'tears:': 1, 'whit,': 1, 'espials,--': 1, 'peace!': 1, 'stalk': 1, 'ecstasy!': 1, 'doth': 27, 'solidity': 1, 'inoculate': 1, 'woe.': 1, 'same.': 1, 'climature': 1, \"o'erhear\": 1, 'stately': 1, 'dulls': 1, 'might': 28, 'employ': 1, 'buy,': 1, 'heartily.': 1, 'thoughts.': 2, 'song?': 1, 'fingers': 3, 'toils': 1, 'betimes?': 1, 'blood.': 2, 'backed': 1, 'cases,': 1, 'voice': 5, 'nighted': 1, 'majesty;': 1, 'grosser': 1, \"was't?\": 1, 'speaks': 4, 'slaughters;': 1, \"pursu'st\": 1, 'rhapsody': 1, 'haste': 10, 'stubbornness;': 1, 'sight,': 3, 'hoops': 1, 'fat': 5, 'unweeded': 1, 'placed': 1, 'aside!--here': 1, 'cost': 2, 'faith:': 1, 'without': 17, 'sables': 1, 'garb;': 1, 'hits': 1, 'skirts': 1, 'horses:': 1, 'pray,': 1, 'boughs': 1, 'repentance': 1, 'knavery.': 1, 'thing?': 1, 'borne': 3, 'are.': 2, 'actively': 1, 'third,': 1, 'was.': 1, 'exchange': 1, 'treads': 1, 'unction': 2, 'late': 5, 'perhaps,': 1, 'swoons': 1, 'serious': 1, \"'one\": 1, 'sticks': 1, \"subscrib'd\": 1, 'buttons': 1, \"unus'd.\": 1, 'yesterday,': 1, 'able': 1, 'storm,': 1, 'tell': 39, 'sighs.': 1, 'lightness;': 1, 'follow;': 1, 'breast:': 1, \"'if\": 1, 'millions': 1, \"hold'st\": 1, 'for;': 1, 'one,--': 1, 'seems,': 1, \"find'st\": 1, 'bring': 12, 'sound.': 1, 'there.': 6, 'flash': 1, 'tongue.': 2, 'you': 412, \"reveng'd.--that\": 1, 'go:': 2, 'trial.': 1, 'fatness': 1, 'friends': 7, 'one.--to': 1, 'roughly': 1, 'all:--i': 1, 'nave': 1, 'crash': 1, 'fellow:': 1, 'steep': 1, 'implorators': 1, 'prayer': 2, 'already,': 1, 'follow': 14, 'addicted': 1, 'mad:': 2, 'dreams': 1, 'divulging,': 1, 'observers,--quite,': 1, 'disease,': 1, 'wear': 4, 'splenetive': 1, 'bend': 3, 'awhile,': 6, 'crowflowers,': 1, \"plac'd,\": 1, 'unkind.': 1, 'personal': 1, 'shape:': 1, \"cov'nant,\": 1, 'francisco,': 1, 'masterly': 1, 'loves.': 2, \"fortune's\": 5, \"devis'd\": 1, 'stuck,': 1, 'term': 2, 'inclination': 2, 'leave': 20, 'also': 1, 'leave,': 1, 'sounded,': 1, 'sworn.': 1, 'he,': 7, 'tush,': 2, 'england,': 2, 'lordship?': 1, 'for,': 6, 'thorns': 1, \"scholar's,\": 1, 'secure': 2, 'poniards,': 1, 'malicious': 2, 'laying': 2, 'than': 51, 'complexion.': 1, 'sipping,': 1, \"o'ersized\": 1, 'history,': 1, 'pox,': 1, 'blazes,': 1, 'deliver,': 1, 'seeing;': 1, \"fix'd\": 3, 'spake,': 1, 'making': 3, 'loses': 1, 'pestilence': 1, 'bulk': 1, 'another?': 1, 'sister,': 3, 'men': 8, 'wise,': 1, 'crib': 1, 'horses': 1, 'contrary': 1, 'commune': 1, 'thanks': 2, 'husband': 6, 'soft!': 5, 'low': 1, 'fool.': 1, 'break.': 1, 'villanous': 1, 'chap-fallen?': 1, 'possession': 1, 'me!': 4, 'quick': 6, 'tend:': 1, \"talk'd\": 2, 'out.': 2, 'roars': 1, \"circumscrib'd\": 1, 'blazon': 1, 'graves': 2, 'to-morrow.': 1, 'sleeps': 2, 'hideous': 1, 'list': 3, 'shape;': 1, 'trick;': 1, 'help,': 7, 'coronation;': 1, 'goes,--mark': 1, \"i'\": 22, 'courtier': 1, 'resolutes,': 1, \"borrow'd\": 1, 'arrest,--o,': 1, 'yes,': 5, 'attent': 1, 'closet:': 1, 'purpose.': 2, 'watch:': 1, 'reckon': 1, 'school': 1, 'strikes': 1, 'thus?': 2, 'less': 6, 'in,--he': 1, 'christian': 4, 'havoc.--o': 1, 'an': 55, 'paintings': 1, 'potion.--is': 1, \"plac'd\": 1, 'forest': 1, 'outlives': 1, 'pain,': 1, 'you.--for': 1, \"come:--'the\": 1, 'question:--': 1, 'any': 12, 'frost': 1, 'witness': 2, 'tongue!': 1, 'said': 8, 'liege:': 1, 'approve': 2, 'company,': 1, 'rosencrantz!': 1, 'round': 6, 'chanson': 1, 'shriving-time': 1, 'colleagued': 1, 'converted': 1, 'source': 2, 'windlaces,': 1, 'word.--': 1, 'strange,': 1, 'lucianus.]': 1, 'we.': 1, 'amazement': 2, 'hollow': 1, 'ophelia:': 1, 'motive': 2, 'child': 1, \"in't:\": 1, 'enact': 1, 'abhorred': 1, 'locks': 1, 'sort': 2, 'sweat': 2, 'remorseless,': 1, 'yourself,': 3, 'mould': 1, 'cannot': 25, 'sailor.': 2, 'process;': 2, 'truepenny?--': 1, 'lordship': 4, 'rags,': 1, 'commendable': 1, 'yield': 2, \"what's\": 12, 'university,': 1, 'seeing,': 1, 'sometime': 3, 'which,--': 1, 'majesty': 10, 'love--': 1, 'claim': 1, \"com'st\": 1, 'ventages': 1, 'officers,': 1, 'button.': 1, 'lenten': 1, 'thrown': 2, 'out.--adieu,': 1, 'good-night.': 2, \"mov'd,\": 1, 'bernardo,': 2, 'hamlet,': 26, 'hour.': 1, 'in.': 8, 'beneath.': 1, 'drift': 3, \"heaven's\": 1, 'king;': 3, 'returns,--puzzles': 1, 'did,': 2, 'head;': 1, 'remembrance': 2, 'female': 1, 'herein': 3, \"pr'ythee,\": 2, 'freely,': 1, 'worse.': 1, 'roses': 1, 'writ': 5, 'centre.': 1, 'doomsday': 2, 'toil?': 1, 'ope': 1, 'riband': 1, 'head.': 4, 'blood': 8, 'table,--': 1, 'parley.': 1, 'comment': 1, 'woe;': 2, 'plays': 1, 'face': 6, 'other,--': 1, 'together': 9, 'sigh': 2, 'offence,': 1, 'speedy': 1, 'fantasy,': 1, 'castle.': 15, 'cuffs': 1, 'habit': 3, 'falls,': 2, 'smiling': 2, 'wild:': 1, 'rather': 4, 'matter;': 1, 'omen': 1, \"hamlet.'--come,\": 1, 'scarcely': 2, 'hearing': 3, 'play;': 2, 'mountain': 3, 'theme': 2, 'last': 11, 'salt': 2, 'leisure,': 1, 'guard': 1, 'cart': 1, 'different,': 1, 'jephthah,': 2, 'rank': 5, 'circumstance,': 2, 'beckons.]': 1, 'figure': 2, \"was't\": 2, 'encounter': 1, 'worn.': 1, 'awhile.--': 1, 'such;': 1, 'shut': 1, 'wilfully': 1, 'suppliance': 1, 'ye': 2, 'vouchers': 1, 'art.': 2, 'amiss.': 1, 'goodly': 3, 'taste': 1, 'forts': 1, 'wonderful!': 1, \"denmark's\": 3, 'mind,': 2, 'ourselves.': 2, 'flights': 1, 'fertile:': 1, 'fellow-student.': 1, 'strong': 3, 'gait': 2, 'mind.': 1, 'green': 2, 'rich;': 1, 'prove,': 1, 'defence,': 1, 'core,': 1, 'salvation': 1, 'yard': 1, 'heartily;': 1, 'if': 109, 'blessing,': 1, \"incorps'd\": 1, \"polonius'\": 1, 'it.--you': 1, 'quiddits': 1, 'colour': 2, 'hours.': 1, 'generous,': 1, 'thine': 9, 'thunder': 1, 'vi.': 1, 'spies,': 1, 'god,': 6, 'liberal': 3, 'life:': 1, 'shuffling,': 1, 'waste': 1, 'observance,': 1, 'odd': 2, 'streets;': 1, 'wince;': 1, 'pulse,': 1, 'heed': 2, 'guild.': 1, 'northerly.': 1, 'ratifiers': 1, 'but,': 30, 'ape,': 2, \"o'erwhelm\": 1, 'guildenstern.]': 14, \"ophelia's\": 1, 'churchyards': 1, 'clad,': 1, 'incestuous': 2, 'right,': 2, 'libertine,': 1, \"'choose\": 1, 'eyes.--pray': 1, 'king?': 4, 'felicity': 1, 'sail.': 1, 'well.': 9, \"clamb'ring\": 1, 'she,': 3, 'forged': 1, 'wit,': 3, 'freeze': 1, 'home!': 1, 'weaker': 1, 'breaking': 1, 'judges,': 1, 'pipe': 1, 'hands.': 1, 'dye': 1, 'disjoint': 1, 'unshaped': 1, \"unproportion'd\": 1, \"new-hatch'd,\": 1, 'left.': 1, 'to-night,': 1, 'unworthy': 2, 'live;': 1, 'whatsoever': 1, 'controversy:': 1, 'bad': 5, 'three-and-twenty': 1, 'rack': 1, 'bugs': 1, \"show'd\": 1, 'out.]': 1, 'hell': 4, 'inhibition': 1, 'sallets': 1, 'suits': 2, 'resolution': 1, 'clown': 1, 'crows.]': 1, 'which': 55, 'dove!': 1, 'guard?': 1, \"pyrrhus'\": 3, 'kites': 1, \"duke's\": 1, 'distempered.': 1, 'year': 1, 'cleft': 1, 'ii.': 6, 'distracted,': 1, 'commission:': 1, 'dispatch,': 1, 'pansies,': 1, 'picture': 1, 'eruption': 1, 'waist,': 1, 'sits': 3, 'go,': 11, 'rough-hew': 1, 'england:': 1, 'especially': 1, 'inmost': 1, 'dust,': 1, 'place': 4, 'thanks?': 1, 'access': 1, 'thereto': 1, 'shall;': 1, 'uncle!': 1, 'wheel,': 2, 'pure': 2, 'majesty.': 3, 'stopping': 1, 'easing.': 1, 'wish': 3, 'unmanly': 1, 'seed;': 1, 'faith,': 12, \"unwatch'd\": 1, 'friend?': 1, 'fine,': 3, 'warlike': 5, 'confession': 3, 'runs': 2, 'heat,--extinct': 1, 'strong.': 1, \"turn'd\": 4, 'fortune': 3, 'indeed': 5, 'within.]': 7, 'off,': 3, 'absurd': 1, 'goes': 10, 'her,': 7, 'meet.': 3, \"thus,--you'll\": 1, 'card,': 1, 'peevish': 1, 'babe!': 1, 'depart.': 1, 'arm': 1, 'gods,': 1, 'remembrance.': 1, 'carriages,': 3, 'dawning': 1, 'ring.--masters,': 1, 'accident,': 1, 'blank,': 1, 'answerest': 1, \"'mobled\": 1, 'self': 1, 'meeting': 1, 'town': 1, \"compell'd,\": 1, 'demands,': 1, 'away,': 3, 'damnable': 1, 'sure,': 5, 'distemper?': 1, 'soul,--': 1, 'admiration.': 1, \"prov'd\": 2, 'test,': 1, 'force,--': 1, 'mandate;': 1, 'moist': 1, 'after.': 1, 'favourite': 1, 'them,': 8, 'wonder,': 2, 'solid': 1, 'marching.]': 1, 'beauty.': 1, 'devices': 1, 'ambition': 4, 'inheritance': 1, 'higher': 1, 'chaste': 3, 'wonder-wounded': 1, 'contract,': 1, 'travel': 1, 'father?': 2, 'privy': 1, 'souls?': 1, 'brows:': 1, 'commend': 4, 'hold': 24, 'dearth': 1, 'me.': 21, 'bleed': 1, 'eye,': 6, 'exceedingly,': 1, 'flashes': 1, \"o'er-leavens\": 1, 'shipwright,': 2, \"ha't\": 1, 'hideous,': 1, 'thee:': 2, 'wisely': 1, '[breaking': 1, 'body;': 1, 'a-cursing': 1, 'pol.': 86, 'nero': 1, 'apt,': 1, 'seems': 5, 'implements': 1, 'thence': 3, 'wag': 1, 'away.': 4, 'home,': 1, 'concernancy,': 1, 'french': 4, \"soe'er\": 1, 'started,': 1, \"finger'd\": 1, 'market': 1, 'son--': 1, 'priam,': 1, 'woman!': 1, 'spectators': 1, 'verse': 1, 'weeps': 1, 'clothe': 1, 'they': 93, 'do:': 3, 'lack.': 1, 'arms': 3, 'vouchers,': 1, 'calmly,': 1, 'post': 1, 'carried': 1, 'wed': 1, 'acquire': 1, 'handsome': 1, 'heaven:': 1, 'part': 19, 'pastime.': 1, 'feathers--if': 1, 'polonius,': 6, 'weight,': 1, 'field,': 1, 'suffering': 1, 'contrive': 2, 'doubt,': 1, 'perceive?': 1, 'miraculous': 1, 'denies': 1, 'cups;': 1, 'robe,': 1, 'mellow': 1, \"popp'd\": 1, 'revolution,': 1, 'bold,': 2, 'humorous': 1, 'expend': 1, 'learning;': 1, 'rage!': 1, 'over': 4, 'blown,': 1, 'stubborn': 1, 'calendar': 1, 'concernings': 1, 'quality:': 1, 'bounteous;': 1, 'dearest': 2, 'vigour': 1, 'wont': 3, 'angry': 1, 'polonius.]': 19, 'imperfections': 1, 'wife.': 1, 'formal': 1, 'full,': 2, \"venom'd\": 1, 'tale': 4, 'there:': 1, 'wassail,': 1, 'hangers.': 1, 'throat': 3, 'cutpurse': 1, 'no?': 1, 'unpregnant': 1, \"'down\": 1, 'lunacies.': 1, 'proportions': 1, \"polonius's\": 2, 'entreaty.': 1, 'thereabout': 1, \"seiz'd\": 1, 'whiff': 1, 'dreamt': 1, 'laertes:': 1, 'nine;': 1, 'revenue': 1, 'sirs.': 1, \"'horatio,\": 1, \"purpos'd\": 1, 'world!': 2, 'mend': 1, 'scuffling,': 1, 'hear?': 3, 'weed': 1, 'lord:': 4, 'rosencrantz.]': 1, 'feeling,': 1, 'graces;': 1, 'as': 216, 'late,': 1, \"strew'd\": 1, \"barber's,\": 1, 'pressure.': 1, 'polacks': 1, 'season': 5, 'limed': 1, 'heraldry,': 1, 'life,': 11, 'prince': 2, 'beating': 2, 'fiends!': 1, 'vanquisher;': 1, 'envious': 1, 'commanded.': 1, 'mantle': 1, 'secrecy': 2, 'them,--that': 1, 'modesty': 3, 'wine': 1, 'unnatural;': 1, 'kept': 4, 'neither,': 3, 'nonny,': 2, \"on't!\": 1, 'fire!': 1, 'thyself;': 1, 'no!': 2, 'sail,': 2, 'watchman': 1, 'weak': 2, 'unless': 3, 'scripture?': 1, 'wouldst': 6, 'leaves': 2, 'deed': 7, 'faults,': 1, 'mouse': 1, 'scenes,': 1, \"disclos'd:\": 1, \"oppress'd\": 1, \"better'd,\": 1, 'back?': 1, 'spirit.': 1, 'me:--we': 1, 'habits': 1, 'practices': 1, 'shuffled': 1, 'fie!--hold,': 1, 'eyelids': 1, 'rewards': 1, 'from.': 1, 'wrung': 1, \"for's\": 2, 'switzers?': 1, 'set': 22, 'ponderous': 1, 'fast?': 2, 'whither': 1, 'haste.': 3, \"abus'd;\": 1, 'laugh,': 2, 'tormenting': 1, 'chamber,': 2, 'neither;': 1, 'polonius': 3, 'propose,': 1, 'scourge': 2, 'speedier,': 1, 'bastard;': 1, 'nods,': 1, 'course.': 1, 'rose': 4, 'imperial': 1, 'effects': 1, 'funeral': 1, 'strength': 1, \"yorick's\": 1, 'copied': 1, 'winnowed': 1, 'odds': 1, 'man!': 1, 'realm': 1, 'celestial,': 1, 'rebels,': 1, 'lose': 6, 'nobility': 1, 'tenants.': 1, 'us?': 1, 'prize': 1, 'returns,': 1, 'line;--let': 1, 'ducat,': 1, 'cannot,': 1, 'dust?': 1, 'thought;': 1, \"think't.\": 1, 'anger.': 1, 'gum;': 1, 'was,--as': 1, 'messenger': 1, 'dreams.': 1, 'foul': 9, 'pitied.': 1, 'intents': 1, 'kind:': 1, 'country,': 1, 'joys': 1, 'ophelia!--nymph,': 1, 'divided': 1, 'remiss,': 1, 'calm': 2, 'so:': 8, 'heraldry': 1, 'new': 3, 'weakest': 1, 'watch': 7, 'stone.': 1, 'differences,': 1, 'methinks': 3, \"'good\": 2, 'danger:': 1, 'feed?': 1, 'hairs,': 1, 'hawk': 1, 'defence?': 1, 'church;': 1, 'since?': 1, 'have,': 3, 'feed,': 1, 'satirical': 1, 'cherub': 1, 'capable': 1, 'protests': 1, 'so:--': 1, 'fit.': 1, 'shirt;': 1, 'v.': 3, 'suits,': 1, 'prison,': 1, 'huge': 1, 'bawdry,': 1, 'validity:': 1, 'such-like': 1, 'sir:--pronounce.': 1, 'convocation': 1, 'here,': 13, 'beauty': 4, 'died,': 1, 'snatches': 1, 'quite': 3, 'colour,': 1, 'slain;': 1, \"fellow's\": 1, 'eternal': 2, 'saws': 1, 'star': 3, 'nearer': 2, 'hebenon': 1, 'unpack': 1, 'mermaid-like,': 1, 'fits': 2, 'birth:': 1, \"i'll\": 56, 'usurp': 1, 'hazard': 1, 'peace;': 2, 'offer': 2, 'wager': 4, 'less,': 2, 'vengeance!': 1, \"sister's\": 1, 'pronouncing': 1, 'are': 126, \"stay'd\": 3, 'offence?': 2, 'alone;': 1, 'tables.': 1, 'quarrel;': 1, 'hot.': 1, 'demands': 1, \"apoplex'd;\": 1, 'heavenly': 2, 'thyself,--': 1, 'father,': 6, 'monument:': 1, \"damn'd\": 4, 'commission;': 2, 'laertes,': 18, 'a-work;': 1, 'scanter': 1, 'players': 11, 'mystery;': 1, 'wholesome;': 1, \"puff'd\": 1, 'power': 7, 'remains': 2, 'drives;': 1, 'tremble': 2, 'bounty.': 1, 'already.': 2, \"wither'd\": 1, 'tardy': 2, 'departed': 1, 'requite': 2, 'horatio': 7, 'love.': 5, 'long': 12, 'angel': 3, 'play?': 2, 'hymen': 1, 'hands:': 1, 'nothing;': 2, 'ditchers,': 1, 'beggars': 1, 'wrote?': 1, 'further': 9, 'worser': 1, 'lean': 1, 'lightest': 1, 'something-settled': 1, 'hor.,': 1, 'practice': 2, 'like.': 2, 'health': 4, 'went': 5, 'mountains': 1, 'sprung': 1, 'condolement': 1, 'youth:': 1, 'precedent': 2, 'ophelia!--': 1, 'enterprises': 1, 'peating': 1, 'forfeit,': 1, 'false': 6, 'snow,': 3, 'speeches': 1, 'fantasy': 1, 'gent.': 3, \"unforc'd\": 1, 'lets': 3, 'chariest': 1, 'nerve.--': 1, 'side.': 1, 'reason.': 1, 'wit': 2, 'somever': 1, 'commission': 2, 'moderate': 1, 'violets': 1, 'treacherous': 1, 'welcome,--his': 1, \"as's\": 1, \"traduc'd\": 1, \"'havior\": 1, 'philosophy.': 1, 'tenders': 2, 'scope!': 1, 'sleeping,': 1, 'perdition': 1, \"ha'\": 3, 'hither?': 2, 'something': 12, 'thousand.': 1, 'tragical-historical,': 1, 'marshal': 1, 'crown': 1, 'me,--': 1, 'loose': 1, 'slander': 1, 'burnt': 1, 'conversation': 1, 'tether': 1, 'gyves': 1, 'suddenly': 1, 'mistress!': 1, 'sir--': 1, 'drink!--i': 1, 'smoothness.': 1, 'quick:': 1, 'eye': 4, 'haply': 3, 'crowner': 1, 'pile': 1, 'against': 22, 'board': 1, 'bride-bed': 1, 'honeying': 1, 'you,': 66, 'hereafter': 1, 'neck': 2, 'rare,': 1, 'that,': 28, 'replies': 1, 'that': 337, 'read.': 1, 'cried': 2, \"prepar'd\": 1, 'contriving,': 1, 'easily': 1, 'fault': 4, 'method,': 1, 'checking': 1, 'regards': 1, 'jelly': 1, 'kings;': 1, 'fencing,': 1, 'ophelia!': 3, 'temperance': 1, 'drugs': 1, \"stain'd,\": 1, 'remembrance;': 1, 'race': 1, 'quicksilver,': 1, 'ducats,': 1, 'stamp': 2, 'hecuba?': 1, 'dangerous,': 1, 'here?': 2, 'groaning': 1, 'ice.': 1, 'ending,': 1, 'desires': 3, 'lady': 4, 'argument': 2, 'observant': 1, 'mistress': 2, 'turbulent': 1, 'terms,': 1, 'some': 54, 'severally;': 1, 'sacred': 1, 'is;': 3, 'well;--again.': 1, 'unmask': 1, 'there?': 4, 'he?': 2, 'murders:': 1, 'imminent': 1, \"sexton's\": 1, 'knocking': 1, 'cabin,': 1, 'platform.': 1, 'nomination': 1, 'kneels,': 1, 'pelion': 1, 'crowing': 1, 'cunning': 3, 'villain,': 2, 'words?': 1, 'harshly': 1, 'witch': 1, 'sailors,': 3, 'hamlet!--': 1, 'guildenstern,': 6, 'stay': 7, 'accord': 1, \"laps'd\": 1, 'by': 111, 'nunnery.': 1, 'do,': 13, 'eyes:': 1, 'loves,': 2, 'praise,': 1, 'scant': 1, 'censure,': 1, 'blister': 1, 'pass': 5, 'corpse': 1, 'flushing': 1, 'rusty?': 1, \"topp'd\": 1, 'sorry,': 1, 'laer.': 62, 'asleep;': 1, 'sea-fight;': 1, 'empty': 1, \"saw't.\": 1, 'teeth,': 1, 'faith.': 2, 'rapiers,': 1, 'reform': 1, 'hand,': 4, 'half': 4, 'forgot': 2, 'notes,': 1, 'single': 2, 'spur': 1, 'whensoever,': 1, 'murder.': 1, 'hit': 2, 'norman.': 1, 'exposing': 1, 'angle': 1, 're-speaking': 1, 'provoke': 1, \"'twere,\": 2, 'ladies': 1, 'ills': 1, 'amble,': 1, 'discourse?': 1, 'theme?': 1, 'purport': 1, 'dies': 2, \"barr'd\": 1, 'virtue': 10, 'maggots': 1, 'origin': 1, 'say!': 1, 'face?': 2, \"unbrac'd;\": 1, 'proud,': 1, 'beauty,': 1, 'horse,--': 1, 'hung': 1, 'summons.': 1, 'triumph': 1, 'hent:': 1, 'bodies.--such': 1, 'shortens': 1, 'unsatisfied.': 1, 'spent.': 1, 'strangely,': 1, 'rub': 1, \"link'd,\": 1, 'compulsive': 1, 'stood;': 1, 'eyases,': 1, 'bodikin,': 1, 'grinding': 1, 'room': 14, 'kneels.]': 1, 'better': 11, '[polonius': 1, 'along:--or': 1, 'ourselves': 9, 'morning;': 1, 'ready?': 1, '[scattering': 1, 'rude': 2, 'pales': 1, 'liegemen': 1, 'edge,': 1, 'attend': 1, 'german': 1, 'p.': 9, 'struck?': 1, 'custom?': 1, \"soldiers'\": 1, 'brief:--your': 1, 'daintier': 1, 'sleeping': 2, 'blue': 1, 'well.--follow': 1, 'sir?': 6, 'forestalled': 1, 'think': 39, 'conveniently.': 1, 'clout': 1, 'quit': 2, 'forgive': 2, \"whor'd\": 1, 'pirate': 1, 'batten': 1, 'tricks,': 1, 'bar': 1, 'translate:': 1, 'men,': 1, 'platform,': 1, 'damn': 1, \"indu'd\": 1, 'amities;': 1, \"grave-maker;'\": 1, 'was,': 5, 'players.': 2, 'clapped': 1, 'down': 11, 'mobled': 2, 'superfluous': 1, 'thanks,': 3, '[laertes': 2, 'madam,': 6, 'always': 1, 'then,': 16, 'mourning': 1, 'glean,': 1, 'treacherous,': 1, 'lady,': 7, 'pardon,': 1, 'longer.': 1, 'none': 9, 'liberty': 2, 'historical-pastoral,': 1, 'advice;': 1, 'were': 27, 'rogue!': 1, 'hardy': 1, 'unsmirched': 1, 'up.': 2, 'flourish': 2, 'nights': 3, 'villanies,--': 1, 'as,': 2, 'meats': 1, 'secret?': 1, 'wherein': 7, 'sister': 2, 'words,': 3, 'goodman': 1, 'contagion': 1, 'john-a-dreams,': 1, 'pernicious': 1}\n"
     ]
    }
   ],
   "source": [
    "# your code here\n",
    "word_occurrence = {w:hamletwords_lc.count(w) for w in set_hamlet_lc}\n",
    "print(word_occurrence)"
   ]
  },
  {
   "cell_type": "markdown",
   "metadata": {},
   "source": [
    "Finally, we find the 100 most frequently occurring words using the built-in `sorted` function.\n",
    "\n",
    ">**EXERCISE**: *(Stretch Goal)* Search and read the documentation for the `sorted` function.  The documentation has a link to some examples, \"sorting HOW TO.\"  Check out the example under the heading \"Key Functions.\"  Then create a list called `top100words` with the 100 most frequently occurring words in Hamlet."
   ]
  },
  {
   "cell_type": "code",
   "execution_count": 41,
   "metadata": {},
   "outputs": [
    {
     "name": "stdout",
     "output_type": "stream",
     "text": [
      "Items:  100\n",
      "[('the', 1136), ('and', 943), ('to', 720), ('of', 667), ('a', 527), ('my', 512), ('i', 510), ('in', 420), ('you', 412), ('ham.', 358), ('that', 337), ('it', 324), ('is', 320), ('his', 295), ('not', 270), ('with', 264), ('this', 250), ('your', 241), ('for', 231), ('but', 228), ('as', 216), ('he', 202), ('be', 201), ('what', 183), ('have', 174), ('will', 149), ('so', 143), ('me', 142), ('we', 132), ('do', 128), ('are', 126), ('him', 122), ('our', 119), ('king.', 113), ('by', 111), ('hor.', 110), ('on', 109), ('or', 109), ('if', 109), ('no', 107), ('shall', 106), ('from', 95), ('thou', 95), ('all', 95), ('they', 93), ('let', 92), ('good', 88), ('at', 86), ('thy', 86), ('pol.', 86), ('how', 84), ('most', 82), ('lord,', 81), ('queen.', 76), ('more', 76), ('her', 76), ('like', 75), ('would', 74), ('was', 73), (\"'tis\", 70), ('you,', 66), ('may', 65), ('very', 64), ('hath', 62), ('laer.', 62), ('[enter', 61), ('lord.', 60), ('did', 59), ('oph.', 58), ('must', 58), ('give', 58), ('know', 57), ('their', 57), ('o,', 57), (\"i'll\", 56), ('should', 55), ('an', 55), ('which', 55), ('come', 54), ('when', 54), ('some', 54), ('upon', 53), ('make', 53), ('am', 52), ('such', 51), ('ros.', 51), ('than', 51), ('there', 50), ('where', 49), ('go', 48), ('now', 48), ('o', 46), ('us', 46), ('clown.', 45), ('them', 44), ('these', 44), ('had', 44), ('much', 44), ('out', 43), ('she', 43)]\n"
     ]
    }
   ],
   "source": [
    "# your code here\n",
    "w_list = list(word_occurrence.items())\n",
    "\n",
    "w_sorted = sorted(w_list, key=lambda word: word[1], reverse=True)\n",
    "top100words = w_sorted[0:100]\n",
    "print(\"Items: \", len(w_sorted_100))\n",
    "print(w_sorted_100)\n"
   ]
  },
  {
   "cell_type": "markdown",
   "metadata": {},
   "source": [
    "Now we'll plot the top distribution of the top 10 words on this list.  To do this you'll need to import a plotting library called `matplotlib`.  The `pyplot` module in this library contains a set of functions that are especially useful for generating a wide range of plots.  Go back to the first cell in this notebook and type\n",
    "\n",
    "    ````\n",
    "    import matplotlib\n",
    "    import matplotlib.pyplot as plt\n",
    "    ````\n",
    "In this cell, also type\n",
    "\n",
    "    ````\n",
    "    %matplotlib inline\n",
    "    ````\n",
    "Be sure to evaluate the cell before continuing.  Below is the code to generate the bar chart."
   ]
  },
  {
   "cell_type": "code",
   "execution_count": 42,
   "metadata": {},
   "outputs": [
    {
     "data": {
      "text/plain": [
       "Text(0,0.5,'Frequency')"
      ]
     },
     "execution_count": 42,
     "metadata": {},
     "output_type": "execute_result"
    },
    {
     "data": {
      "image/png": "[encoded data removed]",
      "text/plain": [
       "<Figure size 432x288 with 1 Axes>"
      ]
     },
     "metadata": {},
     "output_type": "display_data"
    }
   ],
   "source": [
    "%matplotlib inline\n",
    "import matplotlib.pyplot as plt\n",
    "topfreq = top100words[:10]\n",
    "pos = range(len(topfreq)) # get positions on graph\n",
    "plt.bar(pos, [e[1] for e in topfreq]); # get second members of tuples, plot against positions\n",
    "plt.xticks([e+0.4 for e in pos], [e[0] for e in topfreq]); # get labels as first members of tuples\n",
    "plt.ylabel('Frequency')"
   ]
  },
  {
   "cell_type": "markdown",
   "metadata": {},
   "source": [
    "This is a somewhat boring result because  we forgot to remove common words like \"the\" from the corpus.  That's a topic for a later date!"
   ]
  },
  {
   "cell_type": "markdown",
   "metadata": {
    "collapsed": true
   },
   "source": [
    "## Part 8:  References\n",
    "\n",
    "Congratulations!  You've completed clinic 0.  You'll likely very comfortable with some parts of the clinic, and less comfortable with other parts. Below are a few tutorials and practice problems if you'd like to do more -- check them out.\n",
    "<ol >\n",
    "<li> Tutorial: https://realpython.com/files/python_cheat_sheet_v1.pdf </li>\n",
    "<li> Short practice problems with solutions: http://www.practicepython.org</li>\n",
    "<li> Jupyter notebooks (0, 1, and 2 are more relevant): https://github.com/jrjohansson/scientific-python-lectures </li>\n",
    "</ol>\n",
    " "
   ]
  }
 ],
 "metadata": {
  "kernelspec": {
   "display_name": "Python 3",
   "language": "python",
   "name": "python3"
  },
  "language_info": {
   "codemirror_mode": {
    "name": "ipython",
    "version": 3
   },
   "file_extension": ".py",
   "mimetype": "text/x-python",
   "name": "python",
   "nbconvert_exporter": "python",
   "pygments_lexer": "ipython3",
   "version": "3.6.5"
  }
 },
 "nbformat": 4,
 "nbformat_minor": 1
}
